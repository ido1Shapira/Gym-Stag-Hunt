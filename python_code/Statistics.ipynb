{
 "cells": [
  {
   "cell_type": "code",
   "execution_count": 1,
   "metadata": {},
   "outputs": [],
   "source": [
    "import json\n",
    "import glob\n",
    "import pandas as pd\n",
    "import matplotlib.pyplot as plt\n",
    "import numpy as np\n",
    "import os\n",
    "import shutil\n",
    "\n",
    "from PIL import Image\n",
    "\n",
    "path = './data/data-of-baselines.json'"
   ]
  },
  {
   "cell_type": "code",
   "execution_count": 2,
   "metadata": {},
   "outputs": [],
   "source": [
    "#load data from the json file\n",
    "with open(path) as train_file:\n",
    "    data = json.load(train_file)"
   ]
  },
  {
   "cell_type": "markdown",
   "metadata": {},
   "source": [
    "# Survay results:"
   ]
  },
  {
   "cell_type": "markdown",
   "metadata": {},
   "source": [
    "upload Id workers and search for duplicate workers"
   ]
  },
  {
   "cell_type": "code",
   "execution_count": 3,
   "metadata": {},
   "outputs": [
    {
     "data": {
      "text/html": [
       "<div>\n",
       "<style scoped>\n",
       "    .dataframe tbody tr th:only-of-type {\n",
       "        vertical-align: middle;\n",
       "    }\n",
       "\n",
       "    .dataframe tbody tr th {\n",
       "        vertical-align: top;\n",
       "    }\n",
       "\n",
       "    .dataframe thead th {\n",
       "        text-align: right;\n",
       "    }\n",
       "</style>\n",
       "<table border=\"1\" class=\"dataframe\">\n",
       "  <thead>\n",
       "    <tr style=\"text-align: right;\">\n",
       "      <th></th>\n",
       "      <th>additional_comments</th>\n",
       "      <th>behavior</th>\n",
       "      <th>birth_year</th>\n",
       "      <th>collaborative_value</th>\n",
       "      <th>computer_score</th>\n",
       "      <th>computer_value</th>\n",
       "      <th>education</th>\n",
       "      <th>gender</th>\n",
       "      <th>human_score</th>\n",
       "      <th>predictable_value</th>\n",
       "      <th>selfishly_value</th>\n",
       "      <th>wisely_value</th>\n",
       "    </tr>\n",
       "  </thead>\n",
       "  <tbody>\n",
       "    <tr>\n",
       "      <th>-N2B0PD-NZyuobgfd0kn</th>\n",
       "      <td></td>\n",
       "      <td>random</td>\n",
       "      <td>1999</td>\n",
       "      <td>6</td>\n",
       "      <td>1.000</td>\n",
       "      <td>3</td>\n",
       "      <td>Master's degree</td>\n",
       "      <td>male</td>\n",
       "      <td>1.000</td>\n",
       "      <td>4</td>\n",
       "      <td>7</td>\n",
       "      <td>5</td>\n",
       "    </tr>\n",
       "    <tr>\n",
       "      <th>-N2B0bssSgDxaYrmg8Mm</th>\n",
       "      <td>NaN</td>\n",
       "      <td>random</td>\n",
       "      <td>NaN</td>\n",
       "      <td>NaN</td>\n",
       "      <td>NaN</td>\n",
       "      <td>NaN</td>\n",
       "      <td>NaN</td>\n",
       "      <td>NaN</td>\n",
       "      <td>NaN</td>\n",
       "      <td>NaN</td>\n",
       "      <td>NaN</td>\n",
       "      <td>NaN</td>\n",
       "    </tr>\n",
       "    <tr>\n",
       "      <th>-N2B0eFKD4fsjiHGCpbR</th>\n",
       "      <td>NaN</td>\n",
       "      <td>random</td>\n",
       "      <td>NaN</td>\n",
       "      <td>NaN</td>\n",
       "      <td>NaN</td>\n",
       "      <td>NaN</td>\n",
       "      <td>NaN</td>\n",
       "      <td>NaN</td>\n",
       "      <td>NaN</td>\n",
       "      <td>NaN</td>\n",
       "      <td>NaN</td>\n",
       "      <td>NaN</td>\n",
       "    </tr>\n",
       "    <tr>\n",
       "      <th>-N2B0kG6vKkPK1acZMGR</th>\n",
       "      <td>NaN</td>\n",
       "      <td>random</td>\n",
       "      <td>NaN</td>\n",
       "      <td>NaN</td>\n",
       "      <td>1.000</td>\n",
       "      <td>NaN</td>\n",
       "      <td>NaN</td>\n",
       "      <td>NaN</td>\n",
       "      <td>-3.000</td>\n",
       "      <td>NaN</td>\n",
       "      <td>NaN</td>\n",
       "      <td>NaN</td>\n",
       "    </tr>\n",
       "  </tbody>\n",
       "</table>\n",
       "</div>"
      ],
      "text/plain": [
       "                     additional_comments behavior birth_year  \\\n",
       "-N2B0PD-NZyuobgfd0kn                       random       1999   \n",
       "-N2B0bssSgDxaYrmg8Mm                 NaN   random        NaN   \n",
       "-N2B0eFKD4fsjiHGCpbR                 NaN   random        NaN   \n",
       "-N2B0kG6vKkPK1acZMGR                 NaN   random        NaN   \n",
       "\n",
       "                     collaborative_value computer_score computer_value  \\\n",
       "-N2B0PD-NZyuobgfd0kn                   6          1.000              3   \n",
       "-N2B0bssSgDxaYrmg8Mm                 NaN            NaN            NaN   \n",
       "-N2B0eFKD4fsjiHGCpbR                 NaN            NaN            NaN   \n",
       "-N2B0kG6vKkPK1acZMGR                 NaN          1.000            NaN   \n",
       "\n",
       "                            education gender human_score predictable_value  \\\n",
       "-N2B0PD-NZyuobgfd0kn  Master's degree   male       1.000                 4   \n",
       "-N2B0bssSgDxaYrmg8Mm              NaN    NaN         NaN               NaN   \n",
       "-N2B0eFKD4fsjiHGCpbR              NaN    NaN         NaN               NaN   \n",
       "-N2B0kG6vKkPK1acZMGR              NaN    NaN      -3.000               NaN   \n",
       "\n",
       "                     selfishly_value wisely_value  \n",
       "-N2B0PD-NZyuobgfd0kn               7            5  \n",
       "-N2B0bssSgDxaYrmg8Mm             NaN          NaN  \n",
       "-N2B0eFKD4fsjiHGCpbR             NaN          NaN  \n",
       "-N2B0kG6vKkPK1acZMGR             NaN          NaN  "
      ]
     },
     "execution_count": 3,
     "metadata": {},
     "output_type": "execute_result"
    }
   ],
   "source": [
    "raw_df_state_to_action = pd.DataFrame.from_dict(data['humanModel'], orient='index')\n",
    "raw_df_state_to_action = raw_df_state_to_action.drop(0, axis=1)\n",
    "\n",
    "participants_df = pd.DataFrame.from_dict(data['all-games'], orient='index')\n",
    "\n",
    "# path = 'data/'+map_dir+'/workers' # use your path\n",
    "# all_files = glob.glob(path + \"/*.csv\")\n",
    "\n",
    "# li = []\n",
    "# for filename in all_files:\n",
    "#     fromOne = pd.read_csv(filename, index_col=None, header=0)\n",
    "#     fromOne['filename'] = filename\n",
    "#     li.append(fromOne)\n",
    "\n",
    "# workers = pd.concat(li, axis=0, ignore_index=True)\n",
    "# workers = workers.set_index('Answer.surveycode')\n",
    "# workers.index = workers.index.map(lambda code: '-' + code[:-3])\n",
    "# # print(workers.index[workers.index.duplicated()])\n",
    "# workers = workers[~workers.index.duplicated(keep='first')]\n",
    "# participants_df['WorkerId'] = workers['WorkerId']\n",
    "# participants_df = participants_df.dropna(subset = ['WorkerId'])\n",
    "participants_df"
   ]
  },
  {
   "cell_type": "code",
   "execution_count": 4,
   "metadata": {},
   "outputs": [
    {
     "data": {
      "text/plain": [
       "Index(['additional_comments', 'behavior', 'birth_year', 'collaborative_value',\n",
       "       'computer_score', 'computer_value', 'education', 'gender',\n",
       "       'human_score', 'predictable_value', 'selfishly_value', 'wisely_value'],\n",
       "      dtype='object')"
      ]
     },
     "execution_count": 4,
     "metadata": {},
     "output_type": "execute_result"
    }
   ],
   "source": [
    "participants_df.columns"
   ]
  },
  {
   "cell_type": "code",
   "execution_count": 5,
   "metadata": {},
   "outputs": [
    {
     "ename": "KeyError",
     "evalue": "Index(['WorkerId'], dtype='object')",
     "output_type": "error",
     "traceback": [
      "\u001b[0;31m---------------------------------------------------------------------------\u001b[0m",
      "\u001b[0;31mKeyError\u001b[0m                                  Traceback (most recent call last)",
      "\u001b[0;32m/tmp/ipykernel_601738/3777283305.py\u001b[0m in \u001b[0;36m<module>\u001b[0;34m\u001b[0m\n\u001b[0;32m----> 1\u001b[0;31m \u001b[0mindex_to_drop\u001b[0m \u001b[0;34m=\u001b[0m \u001b[0mparticipants_df\u001b[0m\u001b[0;34m[\u001b[0m\u001b[0mparticipants_df\u001b[0m\u001b[0;34m.\u001b[0m\u001b[0mduplicated\u001b[0m\u001b[0;34m(\u001b[0m\u001b[0;34m'WorkerId'\u001b[0m\u001b[0;34m,\u001b[0m \u001b[0mkeep\u001b[0m\u001b[0;34m=\u001b[0m\u001b[0;34m'first'\u001b[0m\u001b[0;34m)\u001b[0m\u001b[0;34m]\u001b[0m\u001b[0;34m.\u001b[0m\u001b[0mindex\u001b[0m\u001b[0;34m\u001b[0m\u001b[0;34m\u001b[0m\u001b[0m\n\u001b[0m\u001b[1;32m      2\u001b[0m \u001b[0mprint\u001b[0m\u001b[0;34m(\u001b[0m\u001b[0mlen\u001b[0m\u001b[0;34m(\u001b[0m\u001b[0mindex_to_drop\u001b[0m\u001b[0;34m)\u001b[0m\u001b[0;34m)\u001b[0m\u001b[0;34m\u001b[0m\u001b[0;34m\u001b[0m\u001b[0m\n\u001b[1;32m      3\u001b[0m \u001b[0;34m\u001b[0m\u001b[0m\n\u001b[1;32m      4\u001b[0m \u001b[0;31m# participants_df = participants_df[~participants_df.duplicated('WorkerId', keep='first')]\u001b[0m\u001b[0;34m\u001b[0m\u001b[0;34m\u001b[0m\u001b[0;34m\u001b[0m\u001b[0m\n",
      "\u001b[0;32m~/anaconda3/envs/tf-gpu/lib/python3.7/site-packages/pandas/core/frame.py\u001b[0m in \u001b[0;36mduplicated\u001b[0;34m(self, subset, keep)\u001b[0m\n\u001b[1;32m   6195\u001b[0m         \u001b[0mdiff\u001b[0m \u001b[0;34m=\u001b[0m \u001b[0mIndex\u001b[0m\u001b[0;34m(\u001b[0m\u001b[0msubset\u001b[0m\u001b[0;34m)\u001b[0m\u001b[0;34m.\u001b[0m\u001b[0mdifference\u001b[0m\u001b[0;34m(\u001b[0m\u001b[0mself\u001b[0m\u001b[0;34m.\u001b[0m\u001b[0mcolumns\u001b[0m\u001b[0;34m)\u001b[0m\u001b[0;34m\u001b[0m\u001b[0;34m\u001b[0m\u001b[0m\n\u001b[1;32m   6196\u001b[0m         \u001b[0;32mif\u001b[0m \u001b[0;32mnot\u001b[0m \u001b[0mdiff\u001b[0m\u001b[0;34m.\u001b[0m\u001b[0mempty\u001b[0m\u001b[0;34m:\u001b[0m\u001b[0;34m\u001b[0m\u001b[0;34m\u001b[0m\u001b[0m\n\u001b[0;32m-> 6197\u001b[0;31m             \u001b[0;32mraise\u001b[0m \u001b[0mKeyError\u001b[0m\u001b[0;34m(\u001b[0m\u001b[0mdiff\u001b[0m\u001b[0;34m)\u001b[0m\u001b[0;34m\u001b[0m\u001b[0;34m\u001b[0m\u001b[0m\n\u001b[0m\u001b[1;32m   6198\u001b[0m \u001b[0;34m\u001b[0m\u001b[0m\n\u001b[1;32m   6199\u001b[0m         \u001b[0mvals\u001b[0m \u001b[0;34m=\u001b[0m \u001b[0;34m(\u001b[0m\u001b[0mcol\u001b[0m\u001b[0;34m.\u001b[0m\u001b[0mvalues\u001b[0m \u001b[0;32mfor\u001b[0m \u001b[0mname\u001b[0m\u001b[0;34m,\u001b[0m \u001b[0mcol\u001b[0m \u001b[0;32min\u001b[0m \u001b[0mself\u001b[0m\u001b[0;34m.\u001b[0m\u001b[0mitems\u001b[0m\u001b[0;34m(\u001b[0m\u001b[0;34m)\u001b[0m \u001b[0;32mif\u001b[0m \u001b[0mname\u001b[0m \u001b[0;32min\u001b[0m \u001b[0msubset\u001b[0m\u001b[0;34m)\u001b[0m\u001b[0;34m\u001b[0m\u001b[0;34m\u001b[0m\u001b[0m\n",
      "\u001b[0;31mKeyError\u001b[0m: Index(['WorkerId'], dtype='object')"
     ]
    }
   ],
   "source": [
    "index_to_drop = participants_df[participants_df.duplicated('WorkerId', keep='first')].index\n",
    "print(len(index_to_drop))\n",
    "\n",
    "# participants_df = participants_df[~participants_df.duplicated('WorkerId', keep='first')]"
   ]
  },
  {
   "cell_type": "markdown",
   "metadata": {},
   "source": [
    "number of people that answer the survay only once:"
   ]
  },
  {
   "cell_type": "code",
   "execution_count": 6,
   "metadata": {},
   "outputs": [
    {
     "data": {
      "text/plain": [
       "4"
      ]
     },
     "execution_count": 6,
     "metadata": {},
     "output_type": "execute_result"
    }
   ],
   "source": [
    "len(participants_df)"
   ]
  },
  {
   "cell_type": "code",
   "execution_count": 7,
   "metadata": {},
   "outputs": [],
   "source": [
    "# participants_df[['computer_score', 'human_score', 'behavior']].to_excel(\"agents_score.xlsx\")"
   ]
  },
  {
   "cell_type": "code",
   "execution_count": 8,
   "metadata": {},
   "outputs": [
    {
     "name": "stderr",
     "output_type": "stream",
     "text": [
      "/home/ido/anaconda3/envs/tf-gpu/lib/python3.7/site-packages/ipykernel_launcher.py:1: UserWarning: Boolean Series key will be reindexed to match DataFrame index.\n",
      "  \"\"\"Entry point for launching an IPython kernel.\n"
     ]
    },
    {
     "data": {
      "text/html": [
       "<div>\n",
       "<style scoped>\n",
       "    .dataframe tbody tr th:only-of-type {\n",
       "        vertical-align: middle;\n",
       "    }\n",
       "\n",
       "    .dataframe tbody tr th {\n",
       "        vertical-align: top;\n",
       "    }\n",
       "\n",
       "    .dataframe thead th {\n",
       "        text-align: right;\n",
       "    }\n",
       "</style>\n",
       "<table border=\"1\" class=\"dataframe\">\n",
       "  <thead>\n",
       "    <tr style=\"text-align: right;\">\n",
       "      <th></th>\n",
       "      <th>additional_comments</th>\n",
       "      <th>behavior</th>\n",
       "    </tr>\n",
       "  </thead>\n",
       "  <tbody>\n",
       "  </tbody>\n",
       "</table>\n",
       "</div>"
      ],
      "text/plain": [
       "Empty DataFrame\n",
       "Columns: [additional_comments, behavior]\n",
       "Index: []"
      ]
     },
     "execution_count": 8,
     "metadata": {},
     "output_type": "execute_result"
    }
   ],
   "source": [
    "participants_df[['additional_comments', 'behavior']][participants_df['additional_comments'].notna()][participants_df['additional_comments'] != \"\"].tail()"
   ]
  },
  {
   "cell_type": "code",
   "execution_count": 9,
   "metadata": {},
   "outputs": [],
   "source": [
    "participants_df.loc[: ,'human_score'] = pd.to_numeric(participants_df['human_score'], errors='coerce')\n",
    "participants_df.loc[: ,'computer_score'] = pd.to_numeric(participants_df['computer_score'], errors='coerce')\n",
    "participants_df.loc[: ,'collaborative_value'] = pd.to_numeric(participants_df['collaborative_value'], errors='coerce')\n",
    "participants_df.loc[: ,'predictable_value'] = pd.to_numeric(participants_df['predictable_value'], errors='coerce')\n",
    "participants_df.loc[: ,'selfishly_value'] = pd.to_numeric(participants_df['selfishly_value'], errors='coerce')\n",
    "participants_df.loc[: ,'wisely_value'] = pd.to_numeric(participants_df['wisely_value'], errors='coerce')\n",
    "participants_df.loc[: ,'computer_value'] = pd.to_numeric(participants_df['computer_value'], errors='coerce')"
   ]
  },
  {
   "cell_type": "code",
   "execution_count": 10,
   "metadata": {},
   "outputs": [
    {
     "data": {
      "text/html": [
       "<div>\n",
       "<style scoped>\n",
       "    .dataframe tbody tr th:only-of-type {\n",
       "        vertical-align: middle;\n",
       "    }\n",
       "\n",
       "    .dataframe tbody tr th {\n",
       "        vertical-align: top;\n",
       "    }\n",
       "\n",
       "    .dataframe thead th {\n",
       "        text-align: right;\n",
       "    }\n",
       "</style>\n",
       "<table border=\"1\" class=\"dataframe\">\n",
       "  <thead>\n",
       "    <tr style=\"text-align: right;\">\n",
       "      <th></th>\n",
       "      <th>computer_score</th>\n",
       "      <th>human_score</th>\n",
       "      <th>collaborative_value</th>\n",
       "      <th>predictable_value</th>\n",
       "      <th>selfishly_value</th>\n",
       "      <th>wisely_value</th>\n",
       "      <th>computer_value</th>\n",
       "    </tr>\n",
       "    <tr>\n",
       "      <th>behavior</th>\n",
       "      <th></th>\n",
       "      <th></th>\n",
       "      <th></th>\n",
       "      <th></th>\n",
       "      <th></th>\n",
       "      <th></th>\n",
       "      <th></th>\n",
       "    </tr>\n",
       "  </thead>\n",
       "  <tbody>\n",
       "    <tr>\n",
       "      <th>random</th>\n",
       "      <td>1.0</td>\n",
       "      <td>-1.0</td>\n",
       "      <td>6.0</td>\n",
       "      <td>4.0</td>\n",
       "      <td>7.0</td>\n",
       "      <td>5.0</td>\n",
       "      <td>3.0</td>\n",
       "    </tr>\n",
       "  </tbody>\n",
       "</table>\n",
       "</div>"
      ],
      "text/plain": [
       "          computer_score  human_score  collaborative_value  predictable_value  \\\n",
       "behavior                                                                        \n",
       "random               1.0         -1.0                  6.0                4.0   \n",
       "\n",
       "          selfishly_value  wisely_value  computer_value  \n",
       "behavior                                                 \n",
       "random                7.0           5.0             3.0  "
      ]
     },
     "execution_count": 10,
     "metadata": {},
     "output_type": "execute_result"
    }
   ],
   "source": [
    "participants_df.groupby('behavior')[['computer_score', 'human_score', 'collaborative_value', 'predictable_value', 'selfishly_value', 'wisely_value', 'computer_value']].mean()"
   ]
  },
  {
   "cell_type": "code",
   "execution_count": 11,
   "metadata": {},
   "outputs": [
    {
     "data": {
      "text/plain": [
       "random    4\n",
       "Name: behavior, dtype: int64"
      ]
     },
     "execution_count": 11,
     "metadata": {},
     "output_type": "execute_result"
    }
   ],
   "source": [
    "participants_df['behavior'].value_counts()"
   ]
  },
  {
   "cell_type": "code",
   "execution_count": 12,
   "metadata": {},
   "outputs": [
    {
     "data": {
      "text/plain": [
       "male    1\n",
       "Name: gender, dtype: int64"
      ]
     },
     "execution_count": 12,
     "metadata": {},
     "output_type": "execute_result"
    }
   ],
   "source": [
    "participants_df['gender'].value_counts()"
   ]
  },
  {
   "cell_type": "code",
   "execution_count": 13,
   "metadata": {},
   "outputs": [
    {
     "data": {
      "text/plain": [
       "Master's degree    1\n",
       "Name: education, dtype: int64"
      ]
     },
     "execution_count": 13,
     "metadata": {},
     "output_type": "execute_result"
    }
   ],
   "source": [
    "participants_df['education'].value_counts()"
   ]
  },
  {
   "cell_type": "markdown",
   "metadata": {},
   "source": [
    "# View some data"
   ]
  },
  {
   "cell_type": "code",
   "execution_count": 14,
   "metadata": {},
   "outputs": [
    {
     "name": "stdout",
     "output_type": "stream",
     "text": [
      "<class 'pandas.core.frame.DataFrame'>\n",
      "Index: 3 entries, -N2B0PD-NZyuobgfd0kn to -N2B0kG6vKkPK1acZMGR\n",
      "Columns: 11 entries, 1 to 11\n",
      "dtypes: object(11)\n",
      "memory usage: 288.0+ bytes\n"
     ]
    }
   ],
   "source": [
    "# remove from the dataset :\n",
    "# raw_df_state_to_action = raw_df_state_to_action.drop(index_to_drop)\n",
    "raw_df_state_to_action.info(verbose=False)"
   ]
  },
  {
   "cell_type": "code",
   "execution_count": 16,
   "metadata": {},
   "outputs": [],
   "source": [
    "def extractAction(cell):\n",
    "    if cell != None:\n",
    "        return int(cell['action'])\n",
    "    return np.nan\n",
    "\n",
    "def NormalizeData(data):\n",
    "    return (data - np.min(data)) / (np.max(data) - np.min(data))\n",
    "\n",
    "def extractState(cell):\n",
    "    if cell == None:\n",
    "        return cell\n",
    "    board = np.array(cell['state'][0]).astype(float)\n",
    "    human_trace = np.array(cell['state'][1]).astype(float)\n",
    "    computer_trace = np.array(cell['state'][2]).astype(float)\n",
    "    stag_trace = np.array(cell['state'][3]).astype(float)\n",
    "    # human_awards = np.array(cell['state'][3]).astype(float)\n",
    "    # computer_awards = np.array(cell['state'][4]).astype(float)\n",
    "    all_awards = np.array(cell['state'][4]).astype(float)\n",
    "    \n",
    "    r = human_trace + all_awards + stag_trace/2\n",
    "    g = board/3 + all_awards + stag_trace/2\n",
    "    b = computer_trace + all_awards + stag_trace/2\n",
    "    rgb = np.dstack((r,g,b))\n",
    "    return NormalizeData(rgb)\n",
    "    \n",
    "\n",
    "state_df = pd.DataFrame(columns=raw_df_state_to_action.columns)\n",
    "action_df = pd.DataFrame(columns=raw_df_state_to_action.columns)\n",
    "for col in raw_df_state_to_action:\n",
    "    state_df[col] = raw_df_state_to_action[col].apply(extractState)\n",
    "    action_df[col] = raw_df_state_to_action[col].apply(extractAction)"
   ]
  },
  {
   "cell_type": "code",
   "execution_count": 21,
   "metadata": {},
   "outputs": [
    {
     "data": {
      "text/html": [
       "<div>\n",
       "<style scoped>\n",
       "    .dataframe tbody tr th:only-of-type {\n",
       "        vertical-align: middle;\n",
       "    }\n",
       "\n",
       "    .dataframe tbody tr th {\n",
       "        vertical-align: top;\n",
       "    }\n",
       "\n",
       "    .dataframe thead th {\n",
       "        text-align: right;\n",
       "    }\n",
       "</style>\n",
       "<table border=\"1\" class=\"dataframe\">\n",
       "  <thead>\n",
       "    <tr style=\"text-align: right;\">\n",
       "      <th></th>\n",
       "      <th>1</th>\n",
       "      <th>2</th>\n",
       "      <th>3</th>\n",
       "      <th>4</th>\n",
       "      <th>5</th>\n",
       "      <th>6</th>\n",
       "      <th>7</th>\n",
       "      <th>8</th>\n",
       "      <th>9</th>\n",
       "      <th>10</th>\n",
       "      <th>11</th>\n",
       "    </tr>\n",
       "  </thead>\n",
       "  <tbody>\n",
       "    <tr>\n",
       "      <th>-N2B0PD-NZyuobgfd0kn</th>\n",
       "      <td>[[[0.0, 0.0, 0.0], [0.0, 0.0, 0.0], [0.0, 0.0,...</td>\n",
       "      <td>[[[0.0, 0.0, 0.0], [0.0, 0.0, 0.0], [0.0, 0.0,...</td>\n",
       "      <td>[[[0.0, 0.0, 0.0], [0.0, 0.0, 0.0], [0.0, 0.0,...</td>\n",
       "      <td>[[[0.0, 0.0, 0.0], [0.0, 0.0, 0.0], [0.0, 0.0,...</td>\n",
       "      <td>[[[0.0, 0.0, 0.0], [0.0, 0.0, 0.0], [0.0, 0.0,...</td>\n",
       "      <td>[[[0.0, 0.0, 0.0], [0.0, 0.0, 0.0], [0.0, 0.0,...</td>\n",
       "      <td>[[[0.0, 0.0, 0.0], [0.0, 0.0, 0.0], [0.0, 0.0,...</td>\n",
       "      <td>[[[0.0, 0.0, 0.0], [0.0, 0.0, 0.0], [0.0, 0.0,...</td>\n",
       "      <td>[[[0.0, 0.0, 0.0], [0.0, 0.0, 0.0], [0.0, 0.0,...</td>\n",
       "      <td>[[[0.0, 0.0, 0.0], [0.0, 0.0, 0.0], [0.0, 0.0,...</td>\n",
       "      <td>[[[0.0, 0.0, 0.0], [0.0, 0.0, 0.0], [0.0, 0.0,...</td>\n",
       "    </tr>\n",
       "    <tr>\n",
       "      <th>-N2B0eFKD4fsjiHGCpbR</th>\n",
       "      <td>[[[0.0, 0.0, 0.0], [0.0, 0.0, 0.0], [0.0, 0.0,...</td>\n",
       "      <td>[[[0.0, 0.0, 0.0], [0.0, 0.0, 0.0], [0.0, 0.0,...</td>\n",
       "      <td>None</td>\n",
       "      <td>None</td>\n",
       "      <td>None</td>\n",
       "      <td>None</td>\n",
       "      <td>None</td>\n",
       "      <td>None</td>\n",
       "      <td>None</td>\n",
       "      <td>None</td>\n",
       "      <td>None</td>\n",
       "    </tr>\n",
       "    <tr>\n",
       "      <th>-N2B0kG6vKkPK1acZMGR</th>\n",
       "      <td>[[[0.0, 0.0, 0.0], [0.0, 0.0, 0.0], [0.0, 0.0,...</td>\n",
       "      <td>[[[0.0, 0.0, 0.0], [0.0, 0.0, 0.0], [0.0, 0.0,...</td>\n",
       "      <td>[[[0.0, 0.0, 0.0], [0.0, 0.0, 0.0], [0.0, 0.0,...</td>\n",
       "      <td>[[[0.0, 0.0, 0.0], [0.0, 0.0, 0.0], [0.0, 0.0,...</td>\n",
       "      <td>[[[0.0, 0.0, 0.0], [0.0, 0.0, 0.0], [0.0, 0.0,...</td>\n",
       "      <td>[[[0.0, 0.0, 0.0], [0.0, 0.0, 0.0], [0.0, 0.0,...</td>\n",
       "      <td>[[[0.0, 0.0, 0.0], [0.0, 0.0, 0.0], [0.0, 0.0,...</td>\n",
       "      <td>[[[0.0, 0.0, 0.0], [0.0, 0.0, 0.0], [0.0, 0.0,...</td>\n",
       "      <td>[[[0.0, 0.0, 0.0], [0.0, 0.0, 0.0], [0.0, 0.0,...</td>\n",
       "      <td>[[[0.0, 0.0, 0.0], [0.0, 0.0, 0.0], [0.0, 0.0,...</td>\n",
       "      <td>[[[0.0, 0.0, 0.0], [0.0, 0.0, 0.0], [0.0, 0.0,...</td>\n",
       "    </tr>\n",
       "  </tbody>\n",
       "</table>\n",
       "</div>"
      ],
      "text/plain": [
       "                                                                     1   \\\n",
       "-N2B0PD-NZyuobgfd0kn  [[[0.0, 0.0, 0.0], [0.0, 0.0, 0.0], [0.0, 0.0,...   \n",
       "-N2B0eFKD4fsjiHGCpbR  [[[0.0, 0.0, 0.0], [0.0, 0.0, 0.0], [0.0, 0.0,...   \n",
       "-N2B0kG6vKkPK1acZMGR  [[[0.0, 0.0, 0.0], [0.0, 0.0, 0.0], [0.0, 0.0,...   \n",
       "\n",
       "                                                                     2   \\\n",
       "-N2B0PD-NZyuobgfd0kn  [[[0.0, 0.0, 0.0], [0.0, 0.0, 0.0], [0.0, 0.0,...   \n",
       "-N2B0eFKD4fsjiHGCpbR  [[[0.0, 0.0, 0.0], [0.0, 0.0, 0.0], [0.0, 0.0,...   \n",
       "-N2B0kG6vKkPK1acZMGR  [[[0.0, 0.0, 0.0], [0.0, 0.0, 0.0], [0.0, 0.0,...   \n",
       "\n",
       "                                                                     3   \\\n",
       "-N2B0PD-NZyuobgfd0kn  [[[0.0, 0.0, 0.0], [0.0, 0.0, 0.0], [0.0, 0.0,...   \n",
       "-N2B0eFKD4fsjiHGCpbR                                               None   \n",
       "-N2B0kG6vKkPK1acZMGR  [[[0.0, 0.0, 0.0], [0.0, 0.0, 0.0], [0.0, 0.0,...   \n",
       "\n",
       "                                                                     4   \\\n",
       "-N2B0PD-NZyuobgfd0kn  [[[0.0, 0.0, 0.0], [0.0, 0.0, 0.0], [0.0, 0.0,...   \n",
       "-N2B0eFKD4fsjiHGCpbR                                               None   \n",
       "-N2B0kG6vKkPK1acZMGR  [[[0.0, 0.0, 0.0], [0.0, 0.0, 0.0], [0.0, 0.0,...   \n",
       "\n",
       "                                                                     5   \\\n",
       "-N2B0PD-NZyuobgfd0kn  [[[0.0, 0.0, 0.0], [0.0, 0.0, 0.0], [0.0, 0.0,...   \n",
       "-N2B0eFKD4fsjiHGCpbR                                               None   \n",
       "-N2B0kG6vKkPK1acZMGR  [[[0.0, 0.0, 0.0], [0.0, 0.0, 0.0], [0.0, 0.0,...   \n",
       "\n",
       "                                                                     6   \\\n",
       "-N2B0PD-NZyuobgfd0kn  [[[0.0, 0.0, 0.0], [0.0, 0.0, 0.0], [0.0, 0.0,...   \n",
       "-N2B0eFKD4fsjiHGCpbR                                               None   \n",
       "-N2B0kG6vKkPK1acZMGR  [[[0.0, 0.0, 0.0], [0.0, 0.0, 0.0], [0.0, 0.0,...   \n",
       "\n",
       "                                                                     7   \\\n",
       "-N2B0PD-NZyuobgfd0kn  [[[0.0, 0.0, 0.0], [0.0, 0.0, 0.0], [0.0, 0.0,...   \n",
       "-N2B0eFKD4fsjiHGCpbR                                               None   \n",
       "-N2B0kG6vKkPK1acZMGR  [[[0.0, 0.0, 0.0], [0.0, 0.0, 0.0], [0.0, 0.0,...   \n",
       "\n",
       "                                                                     8   \\\n",
       "-N2B0PD-NZyuobgfd0kn  [[[0.0, 0.0, 0.0], [0.0, 0.0, 0.0], [0.0, 0.0,...   \n",
       "-N2B0eFKD4fsjiHGCpbR                                               None   \n",
       "-N2B0kG6vKkPK1acZMGR  [[[0.0, 0.0, 0.0], [0.0, 0.0, 0.0], [0.0, 0.0,...   \n",
       "\n",
       "                                                                     9   \\\n",
       "-N2B0PD-NZyuobgfd0kn  [[[0.0, 0.0, 0.0], [0.0, 0.0, 0.0], [0.0, 0.0,...   \n",
       "-N2B0eFKD4fsjiHGCpbR                                               None   \n",
       "-N2B0kG6vKkPK1acZMGR  [[[0.0, 0.0, 0.0], [0.0, 0.0, 0.0], [0.0, 0.0,...   \n",
       "\n",
       "                                                                     10  \\\n",
       "-N2B0PD-NZyuobgfd0kn  [[[0.0, 0.0, 0.0], [0.0, 0.0, 0.0], [0.0, 0.0,...   \n",
       "-N2B0eFKD4fsjiHGCpbR                                               None   \n",
       "-N2B0kG6vKkPK1acZMGR  [[[0.0, 0.0, 0.0], [0.0, 0.0, 0.0], [0.0, 0.0,...   \n",
       "\n",
       "                                                                     11  \n",
       "-N2B0PD-NZyuobgfd0kn  [[[0.0, 0.0, 0.0], [0.0, 0.0, 0.0], [0.0, 0.0,...  \n",
       "-N2B0eFKD4fsjiHGCpbR                                               None  \n",
       "-N2B0kG6vKkPK1acZMGR  [[[0.0, 0.0, 0.0], [0.0, 0.0, 0.0], [0.0, 0.0,...  "
      ]
     },
     "execution_count": 21,
     "metadata": {},
     "output_type": "execute_result"
    }
   ],
   "source": [
    "state_df.head()"
   ]
  },
  {
   "cell_type": "markdown",
   "metadata": {},
   "source": [
    "# view one game"
   ]
  },
  {
   "cell_type": "code",
   "execution_count": 18,
   "metadata": {},
   "outputs": [],
   "source": [
    "def rowToImage(row):\n",
    "    fig = plt.figure(figsize=(40, 20))\n",
    "    row_s = state_df.loc[row, :]\n",
    "    row_a = action_df.loc[row, :]\n",
    "    cols_i = row_a.count()\n",
    "    for i in range(1, cols_i+1):\n",
    "        rows = 1\n",
    "        columns = cols_i\n",
    "        state = row_s.at[i]\n",
    "        fig.add_subplot(rows, columns, i)\n",
    "        plt.imshow(state)\n",
    "        plt.axis('off')\n",
    "        action = row_a.at[i]\n",
    "        plt.title(str(i) + \" action: \" + str(action), fontsize=15)\n",
    "    "
   ]
  },
  {
   "cell_type": "code",
   "execution_count": 22,
   "metadata": {},
   "outputs": [
    {
     "data": {
      "text/html": [
       "<div>\n",
       "<style scoped>\n",
       "    .dataframe tbody tr th:only-of-type {\n",
       "        vertical-align: middle;\n",
       "    }\n",
       "\n",
       "    .dataframe tbody tr th {\n",
       "        vertical-align: top;\n",
       "    }\n",
       "\n",
       "    .dataframe thead th {\n",
       "        text-align: right;\n",
       "    }\n",
       "</style>\n",
       "<table border=\"1\" class=\"dataframe\">\n",
       "  <thead>\n",
       "    <tr style=\"text-align: right;\">\n",
       "      <th></th>\n",
       "      <th>1</th>\n",
       "      <th>2</th>\n",
       "      <th>3</th>\n",
       "      <th>4</th>\n",
       "      <th>5</th>\n",
       "      <th>6</th>\n",
       "      <th>7</th>\n",
       "      <th>8</th>\n",
       "      <th>9</th>\n",
       "      <th>10</th>\n",
       "      <th>11</th>\n",
       "      <th>12</th>\n",
       "    </tr>\n",
       "  </thead>\n",
       "  <tbody>\n",
       "    <tr>\n",
       "      <th>-N2B0PD-NZyuobgfd0kn</th>\n",
       "      <td>37</td>\n",
       "      <td>37</td>\n",
       "      <td>37.0</td>\n",
       "      <td>40.0</td>\n",
       "      <td>40.0</td>\n",
       "      <td>39.0</td>\n",
       "      <td>40.0</td>\n",
       "      <td>40.0</td>\n",
       "      <td>39.0</td>\n",
       "      <td>38.0</td>\n",
       "      <td>38.0</td>\n",
       "      <td>NaN</td>\n",
       "    </tr>\n",
       "    <tr>\n",
       "      <th>-N2B0kG6vKkPK1acZMGR</th>\n",
       "      <td>40</td>\n",
       "      <td>40</td>\n",
       "      <td>37.0</td>\n",
       "      <td>40.0</td>\n",
       "      <td>37.0</td>\n",
       "      <td>37.0</td>\n",
       "      <td>40.0</td>\n",
       "      <td>37.0</td>\n",
       "      <td>38.0</td>\n",
       "      <td>38.0</td>\n",
       "      <td>38.0</td>\n",
       "      <td>NaN</td>\n",
       "    </tr>\n",
       "  </tbody>\n",
       "</table>\n",
       "</div>"
      ],
      "text/plain": [
       "                      1   2     3     4     5     6     7     8     9     10  \\\n",
       "-N2B0PD-NZyuobgfd0kn  37  37  37.0  40.0  40.0  39.0  40.0  40.0  39.0  38.0   \n",
       "-N2B0kG6vKkPK1acZMGR  40  40  37.0  40.0  37.0  37.0  40.0  37.0  38.0  38.0   \n",
       "\n",
       "                        11  12  \n",
       "-N2B0PD-NZyuobgfd0kn  38.0 NaN  \n",
       "-N2B0kG6vKkPK1acZMGR  38.0 NaN  "
      ]
     },
     "execution_count": 22,
     "metadata": {},
     "output_type": "execute_result"
    }
   ],
   "source": [
    "action_df[(action_df.count(axis=1) > 5)]"
   ]
  },
  {
   "cell_type": "code",
   "execution_count": 20,
   "metadata": {},
   "outputs": [
    {
     "data": {
      "text/html": [
       "<div>\n",
       "<style scoped>\n",
       "    .dataframe tbody tr th:only-of-type {\n",
       "        vertical-align: middle;\n",
       "    }\n",
       "\n",
       "    .dataframe tbody tr th {\n",
       "        vertical-align: top;\n",
       "    }\n",
       "\n",
       "    .dataframe thead th {\n",
       "        text-align: right;\n",
       "    }\n",
       "</style>\n",
       "<table border=\"1\" class=\"dataframe\">\n",
       "  <thead>\n",
       "    <tr style=\"text-align: right;\">\n",
       "      <th></th>\n",
       "      <th>1</th>\n",
       "      <th>2</th>\n",
       "      <th>3</th>\n",
       "      <th>4</th>\n",
       "      <th>5</th>\n",
       "      <th>6</th>\n",
       "      <th>7</th>\n",
       "      <th>8</th>\n",
       "      <th>9</th>\n",
       "      <th>10</th>\n",
       "      <th>11</th>\n",
       "      <th>12</th>\n",
       "    </tr>\n",
       "  </thead>\n",
       "  <tbody>\n",
       "    <tr>\n",
       "      <th>-N2B0PD-NZyuobgfd0kn</th>\n",
       "      <td>37</td>\n",
       "      <td>37</td>\n",
       "      <td>37.0</td>\n",
       "      <td>40.0</td>\n",
       "      <td>40.0</td>\n",
       "      <td>39.0</td>\n",
       "      <td>40.0</td>\n",
       "      <td>40.0</td>\n",
       "      <td>39.0</td>\n",
       "      <td>38.0</td>\n",
       "      <td>38.0</td>\n",
       "      <td>NaN</td>\n",
       "    </tr>\n",
       "    <tr>\n",
       "      <th>-N2B0eFKD4fsjiHGCpbR</th>\n",
       "      <td>37</td>\n",
       "      <td>40</td>\n",
       "      <td>NaN</td>\n",
       "      <td>NaN</td>\n",
       "      <td>NaN</td>\n",
       "      <td>NaN</td>\n",
       "      <td>NaN</td>\n",
       "      <td>NaN</td>\n",
       "      <td>NaN</td>\n",
       "      <td>NaN</td>\n",
       "      <td>NaN</td>\n",
       "      <td>NaN</td>\n",
       "    </tr>\n",
       "    <tr>\n",
       "      <th>-N2B0kG6vKkPK1acZMGR</th>\n",
       "      <td>40</td>\n",
       "      <td>40</td>\n",
       "      <td>37.0</td>\n",
       "      <td>40.0</td>\n",
       "      <td>37.0</td>\n",
       "      <td>37.0</td>\n",
       "      <td>40.0</td>\n",
       "      <td>37.0</td>\n",
       "      <td>38.0</td>\n",
       "      <td>38.0</td>\n",
       "      <td>38.0</td>\n",
       "      <td>NaN</td>\n",
       "    </tr>\n",
       "  </tbody>\n",
       "</table>\n",
       "</div>"
      ],
      "text/plain": [
       "                      1   2     3     4     5     6     7     8     9     10  \\\n",
       "-N2B0PD-NZyuobgfd0kn  37  37  37.0  40.0  40.0  39.0  40.0  40.0  39.0  38.0   \n",
       "-N2B0eFKD4fsjiHGCpbR  37  40   NaN   NaN   NaN   NaN   NaN   NaN   NaN   NaN   \n",
       "-N2B0kG6vKkPK1acZMGR  40  40  37.0  40.0  37.0  37.0  40.0  37.0  38.0  38.0   \n",
       "\n",
       "                        11  12  \n",
       "-N2B0PD-NZyuobgfd0kn  38.0 NaN  \n",
       "-N2B0eFKD4fsjiHGCpbR   NaN NaN  \n",
       "-N2B0kG6vKkPK1acZMGR  38.0 NaN  "
      ]
     },
     "execution_count": 20,
     "metadata": {},
     "output_type": "execute_result"
    }
   ],
   "source": [
    "action_df[len(action_df.columns) + 1] = np.NaN\n",
    "action_df.tail()"
   ]
  },
  {
   "cell_type": "markdown",
   "metadata": {},
   "source": [
    "# Make Dataset"
   ]
  },
  {
   "cell_type": "code",
   "execution_count": 23,
   "metadata": {},
   "outputs": [
    {
     "name": "stdout",
     "output_type": "stream",
     "text": [
      "-N2B0PD-NZyuobgfd0kn_1.png saved! at action 37.0\n",
      "21 images have been saved\n"
     ]
    }
   ],
   "source": [
    "dir_path = './data/humanModel_v0_dataset'\n",
    "if os.path.exists(dir_path):\n",
    "    shutil.rmtree(dir_path)\n",
    "os.mkdir(dir_path)\n",
    "for action in ['32','37','38','39','40']:\n",
    "    os.mkdir(dir_path+'/'+action)\n",
    "\n",
    "counter = 0\n",
    "for (idxRow, s1), (_, s2) in zip(state_df.iterrows(), action_df.iterrows()):\n",
    "    for (idxCol, state), (_, action) in zip(s1.iteritems(), s2.iteritems()):\n",
    "        # check if it is not the last state\n",
    "        # the last state not enter our model, since it is an end state that not contains any dirts and not preform an action\n",
    "        if not np.isnan(action_df.loc[idxRow, idxCol+1]):\n",
    "            im = Image.fromarray((state * 255).astype(np.uint8))\n",
    "            path = f'data/humanModel_v0_dataset/{int(action)}/{idxRow}_{idxCol}.png'\n",
    "            if counter % 500 == 0:\n",
    "                # print every 500 saved images\n",
    "                print(f'{idxRow}_{idxCol}.png saved! at action {action}')\n",
    "            counter += 1\n",
    "            im.save(path)\n",
    "        else:\n",
    "            break\n",
    "#         print (state, action, idxCol, idxRow)\n",
    "print(f'{counter} images have been saved')"
   ]
  },
  {
   "cell_type": "code",
   "execution_count": 24,
   "metadata": {},
   "outputs": [
    {
     "data": {
      "image/png": "[encoded data removed]",
      "text/plain": [
       "<Figure size 2880x1440 with 11 Axes>"
      ]
     },
     "metadata": {
      "needs_background": "light"
     },
     "output_type": "display_data"
    }
   ],
   "source": [
    "rowToImage('-N2B0PD-NZyuobgfd0kn')"
   ]
  },
  {
   "cell_type": "code",
   "execution_count": null,
   "metadata": {},
   "outputs": [],
   "source": [
    "# index = \"-MqplpytsnX0zCv_KW9i\"\n",
    "# col = 3\n",
    "# plt.imshow(state_df.loc[index, col])\n",
    "# title = \"id: \" + index + \", col: \" + str(col) + \", action: \" + str(action_df.loc[index, col])\n",
    "# plt.title(title)\n",
    "# plt.show()"
   ]
  }
 ],
 "metadata": {
  "interpreter": {
   "hash": "e48d23369a553edc96f1373b6255b5687d82d68cd08867622b2500e338930542"
  },
  "kernelspec": {
   "display_name": "Python 3.7.4 64-bit ('base': conda)",
   "language": "python",
   "name": "python3"
  },
  "language_info": {
   "codemirror_mode": {
    "name": "ipython",
    "version": 3
   },
   "file_extension": ".py",
   "mimetype": "text/x-python",
   "name": "python",
   "nbconvert_exporter": "python",
   "pygments_lexer": "ipython3",
   "version": "3.7.4"
  },
  "orig_nbformat": 4
 },
 "nbformat": 4,
 "nbformat_minor": 2
}
