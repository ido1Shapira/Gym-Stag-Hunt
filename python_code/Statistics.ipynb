{
 "cells": [
  {
   "cell_type": "code",
   "execution_count": 1,
   "metadata": {},
   "outputs": [],
   "source": [
    "import json\n",
    "import glob\n",
    "import pandas as pd\n",
    "import numpy as np\n",
    "import os\n",
    "import shutil\n",
    "\n",
    "from PIL import Image\n",
    "import matplotlib.pyplot as plt\n",
    "\n",
    "path = './data/data-of-baselines.json'"
   ]
  },
  {
   "cell_type": "code",
   "execution_count": 2,
   "metadata": {},
   "outputs": [],
   "source": [
    "#load data from the json file\n",
    "with open(path) as train_file:\n",
    "    data = json.load(train_file)"
   ]
  },
  {
   "cell_type": "markdown",
   "metadata": {},
   "source": [
    "# Survay results:"
   ]
  },
  {
   "cell_type": "markdown",
   "metadata": {},
   "source": [
    "upload Id workers and search for duplicate workers"
   ]
  },
  {
   "cell_type": "code",
   "execution_count": 3,
   "metadata": {},
   "outputs": [
    {
     "data": {
      "text/html": [
       "<div>\n",
       "<style scoped>\n",
       "    .dataframe tbody tr th:only-of-type {\n",
       "        vertical-align: middle;\n",
       "    }\n",
       "\n",
       "    .dataframe tbody tr th {\n",
       "        vertical-align: top;\n",
       "    }\n",
       "\n",
       "    .dataframe thead th {\n",
       "        text-align: right;\n",
       "    }\n",
       "</style>\n",
       "<table border=\"1\" class=\"dataframe\">\n",
       "  <thead>\n",
       "    <tr style=\"text-align: right;\">\n",
       "      <th></th>\n",
       "      <th>behavior</th>\n",
       "      <th>additional_comments</th>\n",
       "      <th>birth_year</th>\n",
       "      <th>collaborative_value</th>\n",
       "      <th>computer_score</th>\n",
       "      <th>computer_value</th>\n",
       "      <th>education</th>\n",
       "      <th>gender</th>\n",
       "      <th>human_score</th>\n",
       "      <th>predictable_value</th>\n",
       "      <th>selfishly_value</th>\n",
       "      <th>wisely_value</th>\n",
       "      <th>WorkerId</th>\n",
       "    </tr>\n",
       "  </thead>\n",
       "  <tbody>\n",
       "    <tr>\n",
       "      <th>-N2gl9wHXMJoXRg5OyiP</th>\n",
       "      <td>follow_stag</td>\n",
       "      <td></td>\n",
       "      <td>1980</td>\n",
       "      <td>4</td>\n",
       "      <td>31.000</td>\n",
       "      <td>7</td>\n",
       "      <td>BA</td>\n",
       "      <td>male</td>\n",
       "      <td>36.000</td>\n",
       "      <td>6</td>\n",
       "      <td>1</td>\n",
       "      <td>4</td>\n",
       "      <td>A6Y7SZU9L301W</td>\n",
       "    </tr>\n",
       "    <tr>\n",
       "      <th>-N2gnbwu9gs6PgpScg-B</th>\n",
       "      <td>follow_stag</td>\n",
       "      <td></td>\n",
       "      <td>1994</td>\n",
       "      <td>7</td>\n",
       "      <td>19.000</td>\n",
       "      <td>7</td>\n",
       "      <td>BA</td>\n",
       "      <td>female</td>\n",
       "      <td>36.000</td>\n",
       "      <td>4</td>\n",
       "      <td>1</td>\n",
       "      <td>4</td>\n",
       "      <td>A3RHJEMZ4EGY2U</td>\n",
       "    </tr>\n",
       "    <tr>\n",
       "      <th>-N2gpqCiV6iClR2iJfDD</th>\n",
       "      <td>follow_stag</td>\n",
       "      <td>good</td>\n",
       "      <td>1975</td>\n",
       "      <td>5</td>\n",
       "      <td>8.000</td>\n",
       "      <td>4</td>\n",
       "      <td>Master's degree</td>\n",
       "      <td>male</td>\n",
       "      <td>13.000</td>\n",
       "      <td>6</td>\n",
       "      <td>4</td>\n",
       "      <td>5</td>\n",
       "      <td>APIUR4WD44BQ1</td>\n",
       "    </tr>\n",
       "    <tr>\n",
       "      <th>-N2gzRD6MoUAWRj3PaOV</th>\n",
       "      <td>follow_stag</td>\n",
       "      <td>no</td>\n",
       "      <td>1988</td>\n",
       "      <td>5</td>\n",
       "      <td>7.000</td>\n",
       "      <td>1</td>\n",
       "      <td>BA</td>\n",
       "      <td>male</td>\n",
       "      <td>8.000</td>\n",
       "      <td>6</td>\n",
       "      <td>6</td>\n",
       "      <td>5</td>\n",
       "      <td>AJ9IY4IHOGB8</td>\n",
       "    </tr>\n",
       "    <tr>\n",
       "      <th>-N2h6FFFrGGqFAUIRi6W</th>\n",
       "      <td>follow_stag</td>\n",
       "      <td>good</td>\n",
       "      <td>1988</td>\n",
       "      <td>6</td>\n",
       "      <td>0.000</td>\n",
       "      <td>6</td>\n",
       "      <td>BA</td>\n",
       "      <td>female</td>\n",
       "      <td>6.000</td>\n",
       "      <td>6</td>\n",
       "      <td>6</td>\n",
       "      <td>6</td>\n",
       "      <td>A2JPO11US5Q4H4</td>\n",
       "    </tr>\n",
       "  </tbody>\n",
       "</table>\n",
       "</div>"
      ],
      "text/plain": [
       "                         behavior additional_comments birth_year  \\\n",
       "-N2gl9wHXMJoXRg5OyiP  follow_stag                           1980   \n",
       "-N2gnbwu9gs6PgpScg-B  follow_stag                           1994   \n",
       "-N2gpqCiV6iClR2iJfDD  follow_stag                good       1975   \n",
       "-N2gzRD6MoUAWRj3PaOV  follow_stag                  no       1988   \n",
       "-N2h6FFFrGGqFAUIRi6W  follow_stag                good       1988   \n",
       "\n",
       "                     collaborative_value computer_score computer_value  \\\n",
       "-N2gl9wHXMJoXRg5OyiP                   4         31.000              7   \n",
       "-N2gnbwu9gs6PgpScg-B                   7         19.000              7   \n",
       "-N2gpqCiV6iClR2iJfDD                   5          8.000              4   \n",
       "-N2gzRD6MoUAWRj3PaOV                   5          7.000              1   \n",
       "-N2h6FFFrGGqFAUIRi6W                   6          0.000              6   \n",
       "\n",
       "                            education  gender human_score predictable_value  \\\n",
       "-N2gl9wHXMJoXRg5OyiP               BA    male      36.000                 6   \n",
       "-N2gnbwu9gs6PgpScg-B               BA  female      36.000                 4   \n",
       "-N2gpqCiV6iClR2iJfDD  Master's degree    male      13.000                 6   \n",
       "-N2gzRD6MoUAWRj3PaOV               BA    male       8.000                 6   \n",
       "-N2h6FFFrGGqFAUIRi6W               BA  female       6.000                 6   \n",
       "\n",
       "                     selfishly_value wisely_value        WorkerId  \n",
       "-N2gl9wHXMJoXRg5OyiP               1            4   A6Y7SZU9L301W  \n",
       "-N2gnbwu9gs6PgpScg-B               1            4  A3RHJEMZ4EGY2U  \n",
       "-N2gpqCiV6iClR2iJfDD               4            5   APIUR4WD44BQ1  \n",
       "-N2gzRD6MoUAWRj3PaOV               6            5    AJ9IY4IHOGB8  \n",
       "-N2h6FFFrGGqFAUIRi6W               6            6  A2JPO11US5Q4H4  "
      ]
     },
     "execution_count": 3,
     "metadata": {},
     "output_type": "execute_result"
    }
   ],
   "source": [
    "raw_df_state_to_action = pd.DataFrame.from_dict(data['humanModel'], orient='index')\n",
    "raw_df_state_to_action = raw_df_state_to_action.drop(0, axis=1)\n",
    "\n",
    "participants_df = pd.DataFrame.from_dict(data['all-games'], orient='index')\n",
    "\n",
    "path = 'data/workers' # use your path\n",
    "all_files = glob.glob(path + \"/*.csv\")\n",
    "\n",
    "li = []\n",
    "for filename in all_files:\n",
    "    fromOne = pd.read_csv(filename, index_col=None, header=0)\n",
    "    fromOne['filename'] = filename\n",
    "    li.append(fromOne)\n",
    "\n",
    "workers = pd.concat(li, axis=0, ignore_index=True)\n",
    "workers = workers.set_index('Answer.surveycode')\n",
    "workers.index = workers.index.map(lambda code: '-' + code[:-3])\n",
    "# print(workers.index[workers.index.duplicated()])\n",
    "workers = workers[~workers.index.duplicated(keep='first')]\n",
    "participants_df['WorkerId'] = workers['WorkerId']\n",
    "participants_df = participants_df.dropna(subset = ['WorkerId'])\n",
    "participants_df.head()"
   ]
  },
  {
   "cell_type": "code",
   "execution_count": 4,
   "metadata": {},
   "outputs": [
    {
     "data": {
      "text/plain": [
       "Index(['behavior', 'additional_comments', 'birth_year', 'collaborative_value',\n",
       "       'computer_score', 'computer_value', 'education', 'gender',\n",
       "       'human_score', 'predictable_value', 'selfishly_value', 'wisely_value',\n",
       "       'WorkerId'],\n",
       "      dtype='object')"
      ]
     },
     "execution_count": 4,
     "metadata": {},
     "output_type": "execute_result"
    }
   ],
   "source": [
    "participants_df.columns"
   ]
  },
  {
   "cell_type": "code",
   "execution_count": 5,
   "metadata": {},
   "outputs": [
    {
     "name": "stdout",
     "output_type": "stream",
     "text": [
      "1\n"
     ]
    }
   ],
   "source": [
    "index_to_drop = participants_df[participants_df.duplicated('WorkerId', keep='first')].index\n",
    "print(len(index_to_drop))\n",
    "\n",
    "participants_df = participants_df[~participants_df.duplicated('WorkerId', keep='first')]"
   ]
  },
  {
   "cell_type": "markdown",
   "metadata": {},
   "source": [
    "number of people that answer the survay only once:"
   ]
  },
  {
   "cell_type": "code",
   "execution_count": 6,
   "metadata": {},
   "outputs": [
    {
     "data": {
      "text/plain": [
       "100"
      ]
     },
     "execution_count": 6,
     "metadata": {},
     "output_type": "execute_result"
    }
   ],
   "source": [
    "len(participants_df)"
   ]
  },
  {
   "cell_type": "code",
   "execution_count": 7,
   "metadata": {},
   "outputs": [],
   "source": [
    "# participants_df[['computer_score', 'human_score', 'behavior']].to_excel(\"agents_score.xlsx\")"
   ]
  },
  {
   "cell_type": "code",
   "execution_count": 8,
   "metadata": {},
   "outputs": [
    {
     "data": {
      "text/html": [
       "<div>\n",
       "<style scoped>\n",
       "    .dataframe tbody tr th:only-of-type {\n",
       "        vertical-align: middle;\n",
       "    }\n",
       "\n",
       "    .dataframe tbody tr th {\n",
       "        vertical-align: top;\n",
       "    }\n",
       "\n",
       "    .dataframe thead th {\n",
       "        text-align: right;\n",
       "    }\n",
       "</style>\n",
       "<table border=\"1\" class=\"dataframe\">\n",
       "  <thead>\n",
       "    <tr style=\"text-align: right;\">\n",
       "      <th></th>\n",
       "      <th>additional_comments</th>\n",
       "      <th>behavior</th>\n",
       "    </tr>\n",
       "  </thead>\n",
       "  <tbody>\n",
       "    <tr>\n",
       "      <th>-N3uhxvCsCnmNwN-PucK</th>\n",
       "      <td>interesting</td>\n",
       "      <td>follow_stag</td>\n",
       "    </tr>\n",
       "    <tr>\n",
       "      <th>-N3umgI6PwHgE_vrnPx8</th>\n",
       "      <td>Thank you for the game!</td>\n",
       "      <td>follow_stag</td>\n",
       "    </tr>\n",
       "    <tr>\n",
       "      <th>-N3uuFquU_oj8cLxKm9S</th>\n",
       "      <td>n/a</td>\n",
       "      <td>closest</td>\n",
       "    </tr>\n",
       "    <tr>\n",
       "      <th>-N3vEf547tTerzaHQk0o</th>\n",
       "      <td>good</td>\n",
       "      <td>random</td>\n",
       "    </tr>\n",
       "    <tr>\n",
       "      <th>-N3xR5UfHcnRH5BS3meJ</th>\n",
       "      <td>This survey is good.</td>\n",
       "      <td>closest</td>\n",
       "    </tr>\n",
       "  </tbody>\n",
       "</table>\n",
       "</div>"
      ],
      "text/plain": [
       "                          additional_comments     behavior\n",
       "-N3uhxvCsCnmNwN-PucK              interesting  follow_stag\n",
       "-N3umgI6PwHgE_vrnPx8  Thank you for the game!  follow_stag\n",
       "-N3uuFquU_oj8cLxKm9S                      n/a      closest\n",
       "-N3vEf547tTerzaHQk0o                     good       random\n",
       "-N3xR5UfHcnRH5BS3meJ     This survey is good.      closest"
      ]
     },
     "execution_count": 8,
     "metadata": {},
     "output_type": "execute_result"
    }
   ],
   "source": [
    "participants_df[['additional_comments', 'behavior']][participants_df['additional_comments'].notna()][participants_df['additional_comments'] != \"\"].tail()"
   ]
  },
  {
   "cell_type": "code",
   "execution_count": 9,
   "metadata": {},
   "outputs": [],
   "source": [
    "participants_df.loc[: ,'human_score'] = pd.to_numeric(participants_df['human_score'], errors='coerce')\n",
    "participants_df.loc[: ,'computer_score'] = pd.to_numeric(participants_df['computer_score'], errors='coerce')\n",
    "participants_df.loc[: ,'collaborative_value'] = pd.to_numeric(participants_df['collaborative_value'], errors='coerce')\n",
    "participants_df.loc[: ,'predictable_value'] = pd.to_numeric(participants_df['predictable_value'], errors='coerce')\n",
    "participants_df.loc[: ,'selfishly_value'] = pd.to_numeric(participants_df['selfishly_value'], errors='coerce')\n",
    "participants_df.loc[: ,'wisely_value'] = pd.to_numeric(participants_df['wisely_value'], errors='coerce')\n",
    "participants_df.loc[: ,'computer_value'] = pd.to_numeric(participants_df['computer_value'], errors='coerce')"
   ]
  },
  {
   "cell_type": "code",
   "execution_count": 10,
   "metadata": {},
   "outputs": [
    {
     "data": {
      "text/html": [
       "<div>\n",
       "<style scoped>\n",
       "    .dataframe tbody tr th:only-of-type {\n",
       "        vertical-align: middle;\n",
       "    }\n",
       "\n",
       "    .dataframe tbody tr th {\n",
       "        vertical-align: top;\n",
       "    }\n",
       "\n",
       "    .dataframe thead th {\n",
       "        text-align: right;\n",
       "    }\n",
       "</style>\n",
       "<table border=\"1\" class=\"dataframe\">\n",
       "  <thead>\n",
       "    <tr style=\"text-align: right;\">\n",
       "      <th></th>\n",
       "      <th>computer_score</th>\n",
       "      <th>human_score</th>\n",
       "      <th>collaborative_value</th>\n",
       "      <th>predictable_value</th>\n",
       "      <th>selfishly_value</th>\n",
       "      <th>wisely_value</th>\n",
       "      <th>computer_value</th>\n",
       "    </tr>\n",
       "    <tr>\n",
       "      <th>behavior</th>\n",
       "      <th></th>\n",
       "      <th></th>\n",
       "      <th></th>\n",
       "      <th></th>\n",
       "      <th></th>\n",
       "      <th></th>\n",
       "      <th></th>\n",
       "    </tr>\n",
       "  </thead>\n",
       "  <tbody>\n",
       "    <tr>\n",
       "      <th>closest</th>\n",
       "      <td>26.638889</td>\n",
       "      <td>19.722222</td>\n",
       "      <td>3.527778</td>\n",
       "      <td>4.083333</td>\n",
       "      <td>4.750000</td>\n",
       "      <td>4.277778</td>\n",
       "      <td>5.583333</td>\n",
       "    </tr>\n",
       "    <tr>\n",
       "      <th>follow_stag</th>\n",
       "      <td>17.576923</td>\n",
       "      <td>27.807692</td>\n",
       "      <td>5.423077</td>\n",
       "      <td>5.153846</td>\n",
       "      <td>3.000000</td>\n",
       "      <td>4.807692</td>\n",
       "      <td>5.461538</td>\n",
       "    </tr>\n",
       "    <tr>\n",
       "      <th>random</th>\n",
       "      <td>7.000000</td>\n",
       "      <td>20.842105</td>\n",
       "      <td>3.789474</td>\n",
       "      <td>4.026316</td>\n",
       "      <td>4.210526</td>\n",
       "      <td>3.500000</td>\n",
       "      <td>5.868421</td>\n",
       "    </tr>\n",
       "  </tbody>\n",
       "</table>\n",
       "</div>"
      ],
      "text/plain": [
       "             computer_score  human_score  collaborative_value  \\\n",
       "behavior                                                        \n",
       "closest           26.638889    19.722222             3.527778   \n",
       "follow_stag       17.576923    27.807692             5.423077   \n",
       "random             7.000000    20.842105             3.789474   \n",
       "\n",
       "             predictable_value  selfishly_value  wisely_value  computer_value  \n",
       "behavior                                                                       \n",
       "closest               4.083333         4.750000      4.277778        5.583333  \n",
       "follow_stag           5.153846         3.000000      4.807692        5.461538  \n",
       "random                4.026316         4.210526      3.500000        5.868421  "
      ]
     },
     "execution_count": 10,
     "metadata": {},
     "output_type": "execute_result"
    }
   ],
   "source": [
    "participants_df.groupby('behavior')[['computer_score', 'human_score', 'collaborative_value', 'predictable_value', 'selfishly_value', 'wisely_value', 'computer_value']].mean()"
   ]
  },
  {
   "cell_type": "code",
   "execution_count": 11,
   "metadata": {},
   "outputs": [
    {
     "data": {
      "text/plain": [
       "random         38\n",
       "closest        36\n",
       "follow_stag    26\n",
       "Name: behavior, dtype: int64"
      ]
     },
     "execution_count": 11,
     "metadata": {},
     "output_type": "execute_result"
    }
   ],
   "source": [
    "participants_df['behavior'].value_counts()"
   ]
  },
  {
   "cell_type": "code",
   "execution_count": 12,
   "metadata": {},
   "outputs": [
    {
     "data": {
      "text/plain": [
       "male      68\n",
       "female    32\n",
       "Name: gender, dtype: int64"
      ]
     },
     "execution_count": 12,
     "metadata": {},
     "output_type": "execute_result"
    }
   ],
   "source": [
    "participants_df['gender'].value_counts()"
   ]
  },
  {
   "cell_type": "code",
   "execution_count": 13,
   "metadata": {},
   "outputs": [
    {
     "data": {
      "text/plain": [
       "BA                 64\n",
       "High School        20\n",
       "Master's degree    15\n",
       "Ph.D                1\n",
       "Name: education, dtype: int64"
      ]
     },
     "execution_count": 13,
     "metadata": {},
     "output_type": "execute_result"
    }
   ],
   "source": [
    "participants_df['education'].value_counts()"
   ]
  },
  {
   "cell_type": "markdown",
   "metadata": {},
   "source": [
    "# View some data"
   ]
  },
  {
   "cell_type": "code",
   "execution_count": 14,
   "metadata": {},
   "outputs": [],
   "source": [
    "# for row in state_df.iterrows():\n"
   ]
  },
  {
   "cell_type": "code",
   "execution_count": 15,
   "metadata": {},
   "outputs": [
    {
     "name": "stdout",
     "output_type": "stream",
     "text": [
      "<class 'pandas.core.frame.DataFrame'>\n",
      "Index: 103 entries, -N2gl9wHXMJoXRg5OyiP to -N3xR5UfHcnRH5BS3meJ\n",
      "Columns: 168 entries, 1 to 168\n",
      "dtypes: object(168)\n",
      "memory usage: 136.0+ KB\n"
     ]
    }
   ],
   "source": [
    "# remove from the dataset :\n",
    "raw_df_state_to_action = raw_df_state_to_action.drop(index_to_drop)\n",
    "blacklist = ['-N3uwriVafH0_BPfAOAr', '-N3uSY8tzzjOFSSewL0q']\n",
    "raw_df_state_to_action = raw_df_state_to_action.drop(blacklist)\n",
    "raw_df_state_to_action.info(verbose=False)"
   ]
  },
  {
   "cell_type": "code",
   "execution_count": 16,
   "metadata": {},
   "outputs": [],
   "source": [
    "map_size = [5,5]\n",
    "def NormalizeData(data):\n",
    "    return (data - np.min(data)) / (np.max(data) - np.min(data))\n",
    "\n",
    "def extractAction(cell):\n",
    "    if cell != None:\n",
    "        return int(cell['humanAction'])\n",
    "    return np.nan\n",
    "\n",
    "def extractState(cell):\n",
    "    if cell == None:\n",
    "        return cell\n",
    "    \n",
    "    if any(x > 4 for x in cell['stateCoords']):\n",
    "        print('cell is not valid: ', cell)\n",
    "        return\n",
    "    cell = cell['stateCoords']\n",
    "    r = np.zeros(map_size)\n",
    "    g = np.zeros(map_size)\n",
    "    b = np.zeros(map_size)\n",
    "    # computer pos    \n",
    "    b[cell[0], cell[1]] += 1\n",
    "    # human pos\n",
    "    r[cell[2], cell[3]] += 1\n",
    "    # stag pos\n",
    "    r[cell[4], cell[5]] += 0.8039\n",
    "    g[cell[4], cell[5]] += 0.498\n",
    "    b[cell[4], cell[5]] += 0.1961\n",
    "    # plants pos\n",
    "    for i in range(6, 12, 2):\n",
    "        g[cell[i], cell[i+1]] = 1\n",
    "    return NormalizeData(np.dstack((r,g,b)))\n",
    "    \n",
    "state_df = pd.DataFrame(columns=raw_df_state_to_action.columns)\n",
    "action_df = pd.DataFrame(columns=raw_df_state_to_action.columns)\n",
    "for col in raw_df_state_to_action:\n",
    "    state_df[col] = raw_df_state_to_action[col].apply(extractState)\n",
    "    action_df[col] = raw_df_state_to_action[col].apply(extractAction)"
   ]
  },
  {
   "cell_type": "code",
   "execution_count": 17,
   "metadata": {},
   "outputs": [
    {
     "data": {
      "text/html": [
       "<div>\n",
       "<style scoped>\n",
       "    .dataframe tbody tr th:only-of-type {\n",
       "        vertical-align: middle;\n",
       "    }\n",
       "\n",
       "    .dataframe tbody tr th {\n",
       "        vertical-align: top;\n",
       "    }\n",
       "\n",
       "    .dataframe thead th {\n",
       "        text-align: right;\n",
       "    }\n",
       "</style>\n",
       "<table border=\"1\" class=\"dataframe\">\n",
       "  <thead>\n",
       "    <tr style=\"text-align: right;\">\n",
       "      <th></th>\n",
       "      <th>1</th>\n",
       "      <th>2</th>\n",
       "      <th>3</th>\n",
       "      <th>4</th>\n",
       "      <th>5</th>\n",
       "      <th>6</th>\n",
       "      <th>7</th>\n",
       "      <th>8</th>\n",
       "      <th>9</th>\n",
       "      <th>10</th>\n",
       "      <th>...</th>\n",
       "      <th>159</th>\n",
       "      <th>160</th>\n",
       "      <th>161</th>\n",
       "      <th>162</th>\n",
       "      <th>163</th>\n",
       "      <th>164</th>\n",
       "      <th>165</th>\n",
       "      <th>166</th>\n",
       "      <th>167</th>\n",
       "      <th>168</th>\n",
       "    </tr>\n",
       "  </thead>\n",
       "  <tbody>\n",
       "  </tbody>\n",
       "</table>\n",
       "<p>0 rows × 168 columns</p>\n",
       "</div>"
      ],
      "text/plain": [
       "Empty DataFrame\n",
       "Columns: [1, 2, 3, 4, 5, 6, 7, 8, 9, 10, 11, 12, 13, 14, 15, 16, 17, 18, 19, 20, 21, 22, 23, 24, 25, 26, 27, 28, 29, 30, 31, 32, 33, 34, 35, 36, 37, 38, 39, 40, 41, 42, 43, 44, 45, 46, 47, 48, 49, 50, 51, 52, 53, 54, 55, 56, 57, 58, 59, 60, 61, 62, 63, 64, 65, 66, 67, 68, 69, 70, 71, 72, 73, 74, 75, 76, 77, 78, 79, 80, 81, 82, 83, 84, 85, 86, 87, 88, 89, 90, 91, 92, 93, 94, 95, 96, 97, 98, 99, 100, ...]\n",
       "Index: []\n",
       "\n",
       "[0 rows x 168 columns]"
      ]
     },
     "execution_count": 17,
     "metadata": {},
     "output_type": "execute_result"
    }
   ],
   "source": [
    "action_df[(action_df.count(axis=1) > 60)]"
   ]
  },
  {
   "cell_type": "code",
   "execution_count": 18,
   "metadata": {},
   "outputs": [],
   "source": [
    "def NormalizeData(data):\n",
    "    return (data - np.min(data)) / (np.max(data) - np.min(data))\n",
    "\n",
    "def combine_following_states(cell1, cell2):\n",
    "    # # history = 0.9*history + 0.1*cell2\n",
    "    # # cell = 0.9*history + cell2\n",
    "    # # cell = NormalizeData(cell)\n",
    "    # # return cell, history\n",
    "    # r2, g2, b2 = cell2[:, :, 0], cell2[:, :, 1], cell2[:, :, 2]\n",
    "    # human_pos = np.where(r2 == 1)\n",
    "    # computer_pos = np.where(b2 == 1)\n",
    "    # bushes_pos = np.where(g2 == 1)\n",
    "    # stag_pos = np.where(r2 == 0.8039, g2 == 0.498, b2 == 0.1916)\n",
    "    # new_cell = cell1 * 0.9\n",
    "    # new_cell[:, :, 0][human_pos] += 1\n",
    "    # new_cell[:, :, 1][bushes_pos] += 1\n",
    "    # new_cell[:, :, 2][computer_pos] += 1\n",
    "\n",
    "    # new_cell[:, :, 0][stag_pos] += 0.8039\n",
    "    # new_cell[:, :, 1][stag_pos] += 0.498\n",
    "    # new_cell[:, :, 2][stag_pos] += 0.1916\n",
    "    # return NormalizeData(new_cell)\n",
    "    return NormalizeData(cell1 * 0.9 + cell2)\n",
    "\n",
    "new_state_df = state_df.copy()\n",
    "for (idxRow, s1), (_, s2) in zip(state_df.iterrows(), action_df.iterrows()):\n",
    "    for (idxCol, state), (_, action) in zip(s1.iteritems(), s2.iteritems()):\n",
    "        # check if it is not the last state\n",
    "        # the last state not enter our model, since it is an end state that not contains any dirts and not preform an action\n",
    "        if not np.isnan(action_df.loc[idxRow, idxCol]):\n",
    "            if idxCol == 1:\n",
    "                continue\n",
    "            else:\n",
    "            # new_state_df.loc[idxRow, idxCol], history = combine_following_states(history, new_state_df.loc[idxRow, idxCol])\n",
    "                new_state_df.loc[idxRow, idxCol] = combine_following_states(new_state_df.loc[idxRow, idxCol-1], new_state_df.loc[idxRow, idxCol])"
   ]
  },
  {
   "cell_type": "markdown",
   "metadata": {},
   "source": [
    "# view one game"
   ]
  },
  {
   "cell_type": "code",
   "execution_count": 19,
   "metadata": {},
   "outputs": [],
   "source": [
    "def rowToImage(row, col=61):\n",
    "    fig = plt.figure(figsize=(80, 80))\n",
    "    row_s = new_state_df.loc[row, :col]\n",
    "    row_a = action_df.loc[row, :col]\n",
    "    cols_i = row_a.count()\n",
    "    for i in range(1, cols_i+1):\n",
    "        rows = 1\n",
    "        columns = cols_i\n",
    "        state = row_s.at[i]\n",
    "        fig.add_subplot(rows, columns, i)\n",
    "        plt.imshow(state)\n",
    "        plt.axis('off')\n",
    "        action = row_a.at[i]\n",
    "        plt.title(str(i) + \" action: \" + str(action), fontsize=8)"
   ]
  },
  {
   "cell_type": "code",
   "execution_count": 20,
   "metadata": {},
   "outputs": [
    {
     "data": {
      "image/png": "[encoded data removed]",
      "text/plain": [
       "<Figure size 5760x5760 with 60 Axes>"
      ]
     },
     "metadata": {
      "needs_background": "light"
     },
     "output_type": "display_data"
    }
   ],
   "source": [
    "rowToImage('-N2gl9wHXMJoXRg5OyiP')"
   ]
  },
  {
   "cell_type": "code",
   "execution_count": 21,
   "metadata": {},
   "outputs": [
    {
     "data": {
      "text/html": [
       "<div>\n",
       "<style scoped>\n",
       "    .dataframe tbody tr th:only-of-type {\n",
       "        vertical-align: middle;\n",
       "    }\n",
       "\n",
       "    .dataframe tbody tr th {\n",
       "        vertical-align: top;\n",
       "    }\n",
       "\n",
       "    .dataframe thead th {\n",
       "        text-align: right;\n",
       "    }\n",
       "</style>\n",
       "<table border=\"1\" class=\"dataframe\">\n",
       "  <thead>\n",
       "    <tr style=\"text-align: right;\">\n",
       "      <th></th>\n",
       "      <th>1</th>\n",
       "      <th>2</th>\n",
       "      <th>3</th>\n",
       "      <th>4</th>\n",
       "      <th>5</th>\n",
       "      <th>6</th>\n",
       "      <th>7</th>\n",
       "      <th>8</th>\n",
       "      <th>9</th>\n",
       "      <th>10</th>\n",
       "      <th>...</th>\n",
       "      <th>160</th>\n",
       "      <th>161</th>\n",
       "      <th>162</th>\n",
       "      <th>163</th>\n",
       "      <th>164</th>\n",
       "      <th>165</th>\n",
       "      <th>166</th>\n",
       "      <th>167</th>\n",
       "      <th>168</th>\n",
       "      <th>169</th>\n",
       "    </tr>\n",
       "  </thead>\n",
       "  <tbody>\n",
       "    <tr>\n",
       "      <th>-N3v7NW69veDQNJNnpaO</th>\n",
       "      <td>40</td>\n",
       "      <td>40</td>\n",
       "      <td>39</td>\n",
       "      <td>39</td>\n",
       "      <td>38</td>\n",
       "      <td>38</td>\n",
       "      <td>40</td>\n",
       "      <td>40</td>\n",
       "      <td>37</td>\n",
       "      <td>37</td>\n",
       "      <td>...</td>\n",
       "      <td>NaN</td>\n",
       "      <td>NaN</td>\n",
       "      <td>NaN</td>\n",
       "      <td>NaN</td>\n",
       "      <td>NaN</td>\n",
       "      <td>NaN</td>\n",
       "      <td>NaN</td>\n",
       "      <td>NaN</td>\n",
       "      <td>NaN</td>\n",
       "      <td>NaN</td>\n",
       "    </tr>\n",
       "    <tr>\n",
       "      <th>-N3vEf547tTerzaHQk0o</th>\n",
       "      <td>40</td>\n",
       "      <td>39</td>\n",
       "      <td>37</td>\n",
       "      <td>40</td>\n",
       "      <td>39</td>\n",
       "      <td>40</td>\n",
       "      <td>39</td>\n",
       "      <td>39</td>\n",
       "      <td>40</td>\n",
       "      <td>37</td>\n",
       "      <td>...</td>\n",
       "      <td>NaN</td>\n",
       "      <td>NaN</td>\n",
       "      <td>NaN</td>\n",
       "      <td>NaN</td>\n",
       "      <td>NaN</td>\n",
       "      <td>NaN</td>\n",
       "      <td>NaN</td>\n",
       "      <td>NaN</td>\n",
       "      <td>NaN</td>\n",
       "      <td>NaN</td>\n",
       "    </tr>\n",
       "    <tr>\n",
       "      <th>-N3vP08kpF1JCjMg8zi0</th>\n",
       "      <td>40</td>\n",
       "      <td>39</td>\n",
       "      <td>39</td>\n",
       "      <td>40</td>\n",
       "      <td>37</td>\n",
       "      <td>38</td>\n",
       "      <td>37</td>\n",
       "      <td>40</td>\n",
       "      <td>40</td>\n",
       "      <td>39</td>\n",
       "      <td>...</td>\n",
       "      <td>NaN</td>\n",
       "      <td>NaN</td>\n",
       "      <td>NaN</td>\n",
       "      <td>NaN</td>\n",
       "      <td>NaN</td>\n",
       "      <td>NaN</td>\n",
       "      <td>NaN</td>\n",
       "      <td>NaN</td>\n",
       "      <td>NaN</td>\n",
       "      <td>NaN</td>\n",
       "    </tr>\n",
       "    <tr>\n",
       "      <th>-N3vS2etXaI8llgn0qrz</th>\n",
       "      <td>40</td>\n",
       "      <td>39</td>\n",
       "      <td>39</td>\n",
       "      <td>40</td>\n",
       "      <td>40</td>\n",
       "      <td>40</td>\n",
       "      <td>39</td>\n",
       "      <td>38</td>\n",
       "      <td>39</td>\n",
       "      <td>37</td>\n",
       "      <td>...</td>\n",
       "      <td>NaN</td>\n",
       "      <td>NaN</td>\n",
       "      <td>NaN</td>\n",
       "      <td>NaN</td>\n",
       "      <td>NaN</td>\n",
       "      <td>NaN</td>\n",
       "      <td>NaN</td>\n",
       "      <td>NaN</td>\n",
       "      <td>NaN</td>\n",
       "      <td>NaN</td>\n",
       "    </tr>\n",
       "    <tr>\n",
       "      <th>-N3xR5UfHcnRH5BS3meJ</th>\n",
       "      <td>39</td>\n",
       "      <td>37</td>\n",
       "      <td>39</td>\n",
       "      <td>40</td>\n",
       "      <td>38</td>\n",
       "      <td>39</td>\n",
       "      <td>37</td>\n",
       "      <td>37</td>\n",
       "      <td>40</td>\n",
       "      <td>39</td>\n",
       "      <td>...</td>\n",
       "      <td>NaN</td>\n",
       "      <td>NaN</td>\n",
       "      <td>NaN</td>\n",
       "      <td>NaN</td>\n",
       "      <td>NaN</td>\n",
       "      <td>NaN</td>\n",
       "      <td>NaN</td>\n",
       "      <td>NaN</td>\n",
       "      <td>NaN</td>\n",
       "      <td>NaN</td>\n",
       "    </tr>\n",
       "  </tbody>\n",
       "</table>\n",
       "<p>5 rows × 169 columns</p>\n",
       "</div>"
      ],
      "text/plain": [
       "                      1    2    3    4    5    6    7    8    9    10   ...  \\\n",
       "-N3v7NW69veDQNJNnpaO   40   40   39   39   38   38   40   40   37   37  ...   \n",
       "-N3vEf547tTerzaHQk0o   40   39   37   40   39   40   39   39   40   37  ...   \n",
       "-N3vP08kpF1JCjMg8zi0   40   39   39   40   37   38   37   40   40   39  ...   \n",
       "-N3vS2etXaI8llgn0qrz   40   39   39   40   40   40   39   38   39   37  ...   \n",
       "-N3xR5UfHcnRH5BS3meJ   39   37   39   40   38   39   37   37   40   39  ...   \n",
       "\n",
       "                      160  161  162  163  164  165  166  167  168  169  \n",
       "-N3v7NW69veDQNJNnpaO  NaN  NaN  NaN  NaN  NaN  NaN  NaN  NaN  NaN  NaN  \n",
       "-N3vEf547tTerzaHQk0o  NaN  NaN  NaN  NaN  NaN  NaN  NaN  NaN  NaN  NaN  \n",
       "-N3vP08kpF1JCjMg8zi0  NaN  NaN  NaN  NaN  NaN  NaN  NaN  NaN  NaN  NaN  \n",
       "-N3vS2etXaI8llgn0qrz  NaN  NaN  NaN  NaN  NaN  NaN  NaN  NaN  NaN  NaN  \n",
       "-N3xR5UfHcnRH5BS3meJ  NaN  NaN  NaN  NaN  NaN  NaN  NaN  NaN  NaN  NaN  \n",
       "\n",
       "[5 rows x 169 columns]"
      ]
     },
     "execution_count": 21,
     "metadata": {},
     "output_type": "execute_result"
    }
   ],
   "source": [
    "action_df[len(action_df.columns) + 1] = np.NaN\n",
    "action_df.tail()"
   ]
  },
  {
   "cell_type": "markdown",
   "metadata": {},
   "source": [
    "# Make Dataset"
   ]
  },
  {
   "cell_type": "code",
   "execution_count": 22,
   "metadata": {},
   "outputs": [
    {
     "name": "stdout",
     "output_type": "stream",
     "text": [
      "-N2gl9wHXMJoXRg5OyiP_1.png saved! at action 40.0\n",
      "-N2r2GA0RQq64JcONsNv_32.png saved! at action 38.0\n",
      "-N2r6pAEKaMLbxso_Nom_52.png saved! at action 37.0\n",
      "-N2rFArf2KoY-4fAoyac_12.png saved! at action 38.0\n",
      "-N2rKx8TZSF-xCFJ9jsW_32.png saved! at action 40.0\n",
      "-N3uSFmsGH9QoeLMn2Sp_52.png saved! at action 37.0\n",
      "-N3uSv0t5MMoHiSk9mV9_12.png saved! at action 40.0\n",
      "-N3uVZfhztA2fjkrdF8r_32.png saved! at action 37.0\n",
      "-N3uZDn7XlXMi7TiSV6w_20.png saved! at action 40.0\n",
      "-N3ufEGQtV1mLdaLJvG0_20.png saved! at action 38.0\n",
      "-N3uk5j81irIpDQsd5rk_40.png saved! at action 38.0\n",
      "-N3umvTpwkm2rIlM7PG__60.png saved! at action 38.0\n",
      "-N3vS2etXaI8llgn0qrz_20.png saved! at action 38.0\n",
      "6101 images have been saved\n"
     ]
    }
   ],
   "source": [
    "# dir_path = './data/humanModel/dataset_v0.csv'\n",
    "# if os.path.exists(dir_path):\n",
    "#   os.remove(dir_path)\n",
    "\n",
    "# rows = [\n",
    "# [\"code\", \"step\", \"computer_x\", \"computer_y\", \"human_x\", \"human_y\", \"stag_x\", \"stag_y\", \"shrub1_x\", \"shrub1_y\", \"shrub2_x\", \"shrub2_y\", \"shrub3_x\", \"shrub3_y\", \"human_action\"] #, \"computer_action\", \"stag_action\"]\n",
    "# ]\n",
    "# counter = 0\n",
    "# for (idxRow, s1), (_, s2) in zip(state_df.iterrows(), action_df.iterrows()):\n",
    "#     for (idxCol, state), (_, action) in zip(s1.iteritems(), s2.iteritems()):\n",
    "#         # check if it is not the last state\n",
    "#         # the last state not enter our model, since it is an end state that not contains any dirts and not preform an action\n",
    "#         if not np.isnan(action_df.loc[idxRow, idxCol+1]):\n",
    "#             row = flatten([[idxRow, idxCol], flatten(state), [int(action)]])\n",
    "#             if counter % 500 == 0:\n",
    "#                 # print every 500 saved images\n",
    "#                 print(row)\n",
    "#             counter += 1\n",
    "#             rows.append(row)\n",
    "#         else:\n",
    "#             break\n",
    "# print(f'{counter} rows have been saved')\n",
    "# np.savetxt(dir_path, \n",
    "#            rows,\n",
    "#            delimiter =\", \", \n",
    "#            fmt ='% s')\n",
    "dir_path = './data/humanModel/dataset_v0'\n",
    "if os.path.exists(dir_path):\n",
    "    shutil.rmtree(dir_path)\n",
    "os.mkdir(dir_path)\n",
    "for action in ['37','38','39','40']:\n",
    "    os.mkdir(dir_path+'/'+action)\n",
    "\n",
    "counter = 0\n",
    "for (idxRow, s1), (_, s2) in zip(state_df.iterrows(), action_df.iterrows()):\n",
    "    for (idxCol, state), (_, action) in zip(s1.iteritems(), s2.iteritems()):\n",
    "        # check if it is not the last state\n",
    "        if not np.isnan(action_df.loc[idxRow, idxCol]):\n",
    "            im = Image.fromarray((state * 255).astype(np.uint8))\n",
    "            path = f'data/humanModel/dataset_v0/{int(action)}/{idxRow}_{idxCol}.png'\n",
    "            if counter % 500 == 0:\n",
    "                # print every 500 saved images\n",
    "                print(f'{idxRow}_{idxCol}.png saved! at action {action}')\n",
    "            counter += 1\n",
    "            im.save(path)\n",
    "        else:\n",
    "            break\n",
    "#         print (state, action, idxCol, idxRow)\n",
    "print(f'{counter} images have been saved')"
   ]
  }
 ],
 "metadata": {
  "interpreter": {
   "hash": "ad60775ae12af945b53c5c94c294ef05f229143b8585a0d23625a81e181fdccc"
  },
  "kernelspec": {
   "display_name": "Python 3.7.4 ('tf-gpu')",
   "language": "python",
   "name": "python3"
  },
  "language_info": {
   "codemirror_mode": {
    "name": "ipython",
    "version": 3
   },
   "file_extension": ".py",
   "mimetype": "text/x-python",
   "name": "python",
   "nbconvert_exporter": "python",
   "pygments_lexer": "ipython3",
   "version": "3.7.4"
  },
  "orig_nbformat": 4
 },
 "nbformat": 4,
 "nbformat_minor": 2
}
