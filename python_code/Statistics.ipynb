{
 "cells": [
  {
   "cell_type": "code",
   "execution_count": 1,
   "metadata": {},
   "outputs": [],
   "source": [
    "import json\n",
    "import csv\n",
    "import glob\n",
    "import pandas as pd\n",
    "import numpy as np\n",
    "import os\n",
    "import shutil\n",
    "\n",
    "from PIL import Image\n",
    "import matplotlib.pyplot as plt\n",
    "\n",
    "path = './data/stag-hunt-default-rtdb-export (1).json'"
   ]
  },
  {
   "cell_type": "code",
   "execution_count": 2,
   "metadata": {},
   "outputs": [],
   "source": [
    "#load data from the json file\n",
    "with open(path) as train_file:\n",
    "    data = json.load(train_file)"
   ]
  },
  {
   "cell_type": "markdown",
   "metadata": {},
   "source": [
    "# Survay results:"
   ]
  },
  {
   "cell_type": "markdown",
   "metadata": {},
   "source": [
    "upload Id workers and search for duplicate workers"
   ]
  },
  {
   "cell_type": "code",
   "execution_count": 3,
   "metadata": {},
   "outputs": [
    {
     "name": "stdout",
     "output_type": "stream",
     "text": [
      "Index([], dtype='object', name='Answer.surveycode')\n"
     ]
    },
    {
     "data": {
      "text/html": [
       "<div>\n",
       "<style scoped>\n",
       "    .dataframe tbody tr th:only-of-type {\n",
       "        vertical-align: middle;\n",
       "    }\n",
       "\n",
       "    .dataframe tbody tr th {\n",
       "        vertical-align: top;\n",
       "    }\n",
       "\n",
       "    .dataframe thead th {\n",
       "        text-align: right;\n",
       "    }\n",
       "</style>\n",
       "<table border=\"1\" class=\"dataframe\">\n",
       "  <thead>\n",
       "    <tr style=\"text-align: right;\">\n",
       "      <th></th>\n",
       "      <th>WorkerId</th>\n",
       "      <th>additional_comments</th>\n",
       "      <th>behavior</th>\n",
       "      <th>birth_year</th>\n",
       "      <th>collaborative_value</th>\n",
       "      <th>computer_score</th>\n",
       "      <th>computer_value</th>\n",
       "      <th>education</th>\n",
       "      <th>gender</th>\n",
       "      <th>human_score</th>\n",
       "      <th>predictable_value</th>\n",
       "      <th>selfishly_value</th>\n",
       "      <th>wisely_value</th>\n",
       "    </tr>\n",
       "  </thead>\n",
       "  <tbody>\n",
       "    <tr>\n",
       "      <th>-N2gl9wHXMJoXRg5OyiP</th>\n",
       "      <td>A6Y7SZU9L301W</td>\n",
       "      <td></td>\n",
       "      <td>follow_stag</td>\n",
       "      <td>1980</td>\n",
       "      <td>4</td>\n",
       "      <td>51</td>\n",
       "      <td>7</td>\n",
       "      <td>BA</td>\n",
       "      <td>male</td>\n",
       "      <td>56</td>\n",
       "      <td>6</td>\n",
       "      <td>1</td>\n",
       "      <td>4</td>\n",
       "    </tr>\n",
       "    <tr>\n",
       "      <th>-N2gnbwu9gs6PgpScg-B</th>\n",
       "      <td>A3RHJEMZ4EGY2U</td>\n",
       "      <td></td>\n",
       "      <td>follow_stag</td>\n",
       "      <td>1994</td>\n",
       "      <td>7</td>\n",
       "      <td>29</td>\n",
       "      <td>7</td>\n",
       "      <td>BA</td>\n",
       "      <td>female</td>\n",
       "      <td>46</td>\n",
       "      <td>4</td>\n",
       "      <td>1</td>\n",
       "      <td>4</td>\n",
       "    </tr>\n",
       "    <tr>\n",
       "      <th>-N2gpqCiV6iClR2iJfDD</th>\n",
       "      <td>APIUR4WD44BQ1</td>\n",
       "      <td>good</td>\n",
       "      <td>follow_stag</td>\n",
       "      <td>1975</td>\n",
       "      <td>5</td>\n",
       "      <td>10</td>\n",
       "      <td>4</td>\n",
       "      <td>Master's degree</td>\n",
       "      <td>male</td>\n",
       "      <td>15</td>\n",
       "      <td>6</td>\n",
       "      <td>4</td>\n",
       "      <td>5</td>\n",
       "    </tr>\n",
       "    <tr>\n",
       "      <th>-N2gzRD6MoUAWRj3PaOV</th>\n",
       "      <td>AJ9IY4IHOGB8</td>\n",
       "      <td>no</td>\n",
       "      <td>follow_stag</td>\n",
       "      <td>1988</td>\n",
       "      <td>5</td>\n",
       "      <td>9</td>\n",
       "      <td>1</td>\n",
       "      <td>BA</td>\n",
       "      <td>male</td>\n",
       "      <td>10</td>\n",
       "      <td>6</td>\n",
       "      <td>6</td>\n",
       "      <td>5</td>\n",
       "    </tr>\n",
       "    <tr>\n",
       "      <th>-N2h6FFFrGGqFAUIRi6W</th>\n",
       "      <td>A2JPO11US5Q4H4</td>\n",
       "      <td>good</td>\n",
       "      <td>follow_stag</td>\n",
       "      <td>1988</td>\n",
       "      <td>6</td>\n",
       "      <td>0</td>\n",
       "      <td>6</td>\n",
       "      <td>BA</td>\n",
       "      <td>female</td>\n",
       "      <td>6</td>\n",
       "      <td>6</td>\n",
       "      <td>6</td>\n",
       "      <td>6</td>\n",
       "    </tr>\n",
       "  </tbody>\n",
       "</table>\n",
       "</div>"
      ],
      "text/plain": [
       "                            WorkerId additional_comments     behavior  \\\n",
       "-N2gl9wHXMJoXRg5OyiP   A6Y7SZU9L301W                      follow_stag   \n",
       "-N2gnbwu9gs6PgpScg-B  A3RHJEMZ4EGY2U                      follow_stag   \n",
       "-N2gpqCiV6iClR2iJfDD   APIUR4WD44BQ1                good  follow_stag   \n",
       "-N2gzRD6MoUAWRj3PaOV    AJ9IY4IHOGB8                  no  follow_stag   \n",
       "-N2h6FFFrGGqFAUIRi6W  A2JPO11US5Q4H4                good  follow_stag   \n",
       "\n",
       "                     birth_year  collaborative_value  computer_score  \\\n",
       "-N2gl9wHXMJoXRg5OyiP       1980                    4              51   \n",
       "-N2gnbwu9gs6PgpScg-B       1994                    7              29   \n",
       "-N2gpqCiV6iClR2iJfDD       1975                    5              10   \n",
       "-N2gzRD6MoUAWRj3PaOV       1988                    5               9   \n",
       "-N2h6FFFrGGqFAUIRi6W       1988                    6               0   \n",
       "\n",
       "                      computer_value        education  gender  human_score  \\\n",
       "-N2gl9wHXMJoXRg5OyiP               7               BA    male           56   \n",
       "-N2gnbwu9gs6PgpScg-B               7               BA  female           46   \n",
       "-N2gpqCiV6iClR2iJfDD               4  Master's degree    male           15   \n",
       "-N2gzRD6MoUAWRj3PaOV               1               BA    male           10   \n",
       "-N2h6FFFrGGqFAUIRi6W               6               BA  female            6   \n",
       "\n",
       "                      predictable_value  selfishly_value  wisely_value  \n",
       "-N2gl9wHXMJoXRg5OyiP                  6                1             4  \n",
       "-N2gnbwu9gs6PgpScg-B                  4                1             4  \n",
       "-N2gpqCiV6iClR2iJfDD                  6                4             5  \n",
       "-N2gzRD6MoUAWRj3PaOV                  6                6             5  \n",
       "-N2h6FFFrGGqFAUIRi6W                  6                6             6  "
      ]
     },
     "execution_count": 3,
     "metadata": {},
     "output_type": "execute_result"
    }
   ],
   "source": [
    "raw_df_state_to_action = pd.DataFrame.from_dict(data['humanModel'], orient='index')\n",
    "raw_df_state_to_action = raw_df_state_to_action.drop(0, axis=1)\n",
    "\n",
    "participants_df = pd.DataFrame.from_dict(data['all-games'], orient='index')\n",
    "\n",
    "path = 'data/workers' # use your path\n",
    "all_files = glob.glob(path + \"/*.csv\")\n",
    "\n",
    "li = []\n",
    "for filename in all_files:\n",
    "    fromOne = pd.read_csv(filename, index_col=None, header=0)\n",
    "    fromOne['filename'] = filename\n",
    "    li.append(fromOne)\n",
    "\n",
    "workers = pd.concat(li, axis=0, ignore_index=True)\n",
    "workers = workers.set_index('Answer.surveycode')\n",
    "workers.index = workers.index.map(lambda code: '-' + code[:-3])\n",
    "print(workers.index[workers.index.duplicated()])\n",
    "workers = workers[~workers.index.duplicated(keep='first')]\n",
    "participants_df['WorkerId'] = workers['WorkerId']\n",
    "participants_df = participants_df.dropna(subset = ['WorkerId'])\n",
    "participants_df.head()"
   ]
  },
  {
   "cell_type": "code",
   "execution_count": 4,
   "metadata": {},
   "outputs": [
    {
     "data": {
      "text/plain": [
       "Index(['WorkerId', 'additional_comments', 'behavior', 'birth_year',\n",
       "       'collaborative_value', 'computer_score', 'computer_value', 'education',\n",
       "       'gender', 'human_score', 'predictable_value', 'selfishly_value',\n",
       "       'wisely_value'],\n",
       "      dtype='object')"
      ]
     },
     "execution_count": 4,
     "metadata": {},
     "output_type": "execute_result"
    }
   ],
   "source": [
    "participants_df.columns"
   ]
  },
  {
   "cell_type": "code",
   "execution_count": 5,
   "metadata": {},
   "outputs": [
    {
     "data": {
      "text/plain": [
       "(136, 13)"
      ]
     },
     "execution_count": 5,
     "metadata": {},
     "output_type": "execute_result"
    }
   ],
   "source": [
    "participants_df.shape"
   ]
  },
  {
   "cell_type": "code",
   "execution_count": 6,
   "metadata": {},
   "outputs": [
    {
     "data": {
      "text/plain": [
       "(144, 71)"
      ]
     },
     "execution_count": 6,
     "metadata": {},
     "output_type": "execute_result"
    }
   ],
   "source": [
    "raw_df_state_to_action.shape"
   ]
  },
  {
   "cell_type": "code",
   "execution_count": 7,
   "metadata": {},
   "outputs": [
    {
     "name": "stdout",
     "output_type": "stream",
     "text": [
      "0\n"
     ]
    }
   ],
   "source": [
    "index_to_drop = participants_df[participants_df.duplicated('WorkerId', keep='first')].index\n",
    "print(len(index_to_drop))\n",
    "\n",
    "participants_df = participants_df[~participants_df.duplicated('WorkerId', keep='first')]"
   ]
  },
  {
   "cell_type": "markdown",
   "metadata": {},
   "source": [
    "number of people that answer the survay only once:"
   ]
  },
  {
   "cell_type": "code",
   "execution_count": 8,
   "metadata": {},
   "outputs": [
    {
     "data": {
      "text/plain": [
       "136"
      ]
     },
     "execution_count": 8,
     "metadata": {},
     "output_type": "execute_result"
    }
   ],
   "source": [
    "len(participants_df)"
   ]
  },
  {
   "cell_type": "code",
   "execution_count": 9,
   "metadata": {},
   "outputs": [
    {
     "data": {
      "text/html": [
       "<div>\n",
       "<style scoped>\n",
       "    .dataframe tbody tr th:only-of-type {\n",
       "        vertical-align: middle;\n",
       "    }\n",
       "\n",
       "    .dataframe tbody tr th {\n",
       "        vertical-align: top;\n",
       "    }\n",
       "\n",
       "    .dataframe thead th {\n",
       "        text-align: right;\n",
       "    }\n",
       "</style>\n",
       "<table border=\"1\" class=\"dataframe\">\n",
       "  <thead>\n",
       "    <tr style=\"text-align: right;\">\n",
       "      <th></th>\n",
       "      <th>additional_comments</th>\n",
       "      <th>behavior</th>\n",
       "    </tr>\n",
       "  </thead>\n",
       "  <tbody>\n",
       "    <tr>\n",
       "      <th>-N60ETyUPyoTeUbk2ErQ</th>\n",
       "      <td>Impressive</td>\n",
       "      <td>closest</td>\n",
       "    </tr>\n",
       "    <tr>\n",
       "      <th>-N60HPdF56iDJ01ollY0</th>\n",
       "      <td>None</td>\n",
       "      <td>follow_stag</td>\n",
       "    </tr>\n",
       "    <tr>\n",
       "      <th>-N60KUIWwsqc8zGiFzNG</th>\n",
       "      <td>no</td>\n",
       "      <td>random</td>\n",
       "    </tr>\n",
       "    <tr>\n",
       "      <th>-N60Tx4zmO5_1Fgp6JlT</th>\n",
       "      <td>It was hard to decide where the blue player wa...</td>\n",
       "      <td>closest</td>\n",
       "    </tr>\n",
       "    <tr>\n",
       "      <th>-N613eK641CjDIG7Sh5G</th>\n",
       "      <td>none</td>\n",
       "      <td>random</td>\n",
       "    </tr>\n",
       "  </tbody>\n",
       "</table>\n",
       "</div>"
      ],
      "text/plain": [
       "                                                    additional_comments  \\\n",
       "-N60ETyUPyoTeUbk2ErQ                                         Impressive   \n",
       "-N60HPdF56iDJ01ollY0                                               None   \n",
       "-N60KUIWwsqc8zGiFzNG                                                 no   \n",
       "-N60Tx4zmO5_1Fgp6JlT  It was hard to decide where the blue player wa...   \n",
       "-N613eK641CjDIG7Sh5G                                               none   \n",
       "\n",
       "                         behavior  \n",
       "-N60ETyUPyoTeUbk2ErQ      closest  \n",
       "-N60HPdF56iDJ01ollY0  follow_stag  \n",
       "-N60KUIWwsqc8zGiFzNG       random  \n",
       "-N60Tx4zmO5_1Fgp6JlT      closest  \n",
       "-N613eK641CjDIG7Sh5G       random  "
      ]
     },
     "execution_count": 9,
     "metadata": {},
     "output_type": "execute_result"
    }
   ],
   "source": [
    "participants_df[['additional_comments', 'behavior']][participants_df['additional_comments'].notna()][participants_df['additional_comments'] != \"\"].tail()"
   ]
  },
  {
   "cell_type": "code",
   "execution_count": 10,
   "metadata": {},
   "outputs": [],
   "source": [
    "participants_df.loc[: ,'human_score'] = pd.to_numeric(participants_df['human_score'], errors='coerce')\n",
    "participants_df.loc[: ,'computer_score'] = pd.to_numeric(participants_df['computer_score'], errors='coerce')\n",
    "participants_df.loc[: ,'collaborative_value'] = pd.to_numeric(participants_df['collaborative_value'], errors='coerce')\n",
    "participants_df.loc[: ,'predictable_value'] = pd.to_numeric(participants_df['predictable_value'], errors='coerce')\n",
    "participants_df.loc[: ,'selfishly_value'] = pd.to_numeric(participants_df['selfishly_value'], errors='coerce')\n",
    "participants_df.loc[: ,'wisely_value'] = pd.to_numeric(participants_df['wisely_value'], errors='coerce')\n",
    "participants_df.loc[: ,'computer_value'] = pd.to_numeric(participants_df['computer_value'], errors='coerce')"
   ]
  },
  {
   "cell_type": "code",
   "execution_count": 11,
   "metadata": {},
   "outputs": [
    {
     "data": {
      "text/html": [
       "<div>\n",
       "<style scoped>\n",
       "    .dataframe tbody tr th:only-of-type {\n",
       "        vertical-align: middle;\n",
       "    }\n",
       "\n",
       "    .dataframe tbody tr th {\n",
       "        vertical-align: top;\n",
       "    }\n",
       "\n",
       "    .dataframe thead th {\n",
       "        text-align: right;\n",
       "    }\n",
       "</style>\n",
       "<table border=\"1\" class=\"dataframe\">\n",
       "  <thead>\n",
       "    <tr style=\"text-align: right;\">\n",
       "      <th></th>\n",
       "      <th>computer_score</th>\n",
       "      <th>human_score</th>\n",
       "      <th>collaborative_value</th>\n",
       "      <th>predictable_value</th>\n",
       "      <th>selfishly_value</th>\n",
       "      <th>wisely_value</th>\n",
       "      <th>computer_value</th>\n",
       "    </tr>\n",
       "    <tr>\n",
       "      <th>behavior</th>\n",
       "      <th></th>\n",
       "      <th></th>\n",
       "      <th></th>\n",
       "      <th></th>\n",
       "      <th></th>\n",
       "      <th></th>\n",
       "      <th></th>\n",
       "    </tr>\n",
       "  </thead>\n",
       "  <tbody>\n",
       "    <tr>\n",
       "      <th>closest</th>\n",
       "      <td>27.875000</td>\n",
       "      <td>21.708333</td>\n",
       "      <td>3.416667</td>\n",
       "      <td>4.125000</td>\n",
       "      <td>4.625000</td>\n",
       "      <td>4.145833</td>\n",
       "      <td>5.562500</td>\n",
       "    </tr>\n",
       "    <tr>\n",
       "      <th>follow_stag</th>\n",
       "      <td>29.000000</td>\n",
       "      <td>39.111111</td>\n",
       "      <td>5.333333</td>\n",
       "      <td>5.000000</td>\n",
       "      <td>2.861111</td>\n",
       "      <td>4.777778</td>\n",
       "      <td>5.333333</td>\n",
       "    </tr>\n",
       "    <tr>\n",
       "      <th>random</th>\n",
       "      <td>8.269231</td>\n",
       "      <td>21.750000</td>\n",
       "      <td>3.519231</td>\n",
       "      <td>3.788462</td>\n",
       "      <td>4.192308</td>\n",
       "      <td>3.211538</td>\n",
       "      <td>5.923077</td>\n",
       "    </tr>\n",
       "  </tbody>\n",
       "</table>\n",
       "</div>"
      ],
      "text/plain": [
       "             computer_score  human_score  collaborative_value  \\\n",
       "behavior                                                        \n",
       "closest           27.875000    21.708333             3.416667   \n",
       "follow_stag       29.000000    39.111111             5.333333   \n",
       "random             8.269231    21.750000             3.519231   \n",
       "\n",
       "             predictable_value  selfishly_value  wisely_value  computer_value  \n",
       "behavior                                                                       \n",
       "closest               4.125000         4.625000      4.145833        5.562500  \n",
       "follow_stag           5.000000         2.861111      4.777778        5.333333  \n",
       "random                3.788462         4.192308      3.211538        5.923077  "
      ]
     },
     "execution_count": 11,
     "metadata": {},
     "output_type": "execute_result"
    }
   ],
   "source": [
    "participants_df.groupby('behavior')[['computer_score', 'human_score', 'collaborative_value', 'predictable_value', 'selfishly_value', 'wisely_value', 'computer_value']].mean()"
   ]
  },
  {
   "cell_type": "code",
   "execution_count": 12,
   "metadata": {},
   "outputs": [],
   "source": [
    "participants_df[['computer_score', 'human_score', 'behavior']].to_excel(\"data/all_agents_score.xlsx\")"
   ]
  },
  {
   "cell_type": "code",
   "execution_count": 13,
   "metadata": {},
   "outputs": [
    {
     "data": {
      "text/plain": [
       "random         52\n",
       "closest        48\n",
       "follow_stag    36\n",
       "Name: behavior, dtype: int64"
      ]
     },
     "execution_count": 13,
     "metadata": {},
     "output_type": "execute_result"
    }
   ],
   "source": [
    "participants_df['behavior'].value_counts()"
   ]
  },
  {
   "cell_type": "code",
   "execution_count": 14,
   "metadata": {},
   "outputs": [
    {
     "data": {
      "text/plain": [
       "male      93\n",
       "female    43\n",
       "Name: gender, dtype: int64"
      ]
     },
     "execution_count": 14,
     "metadata": {},
     "output_type": "execute_result"
    }
   ],
   "source": [
    "participants_df['gender'].value_counts()"
   ]
  },
  {
   "cell_type": "code",
   "execution_count": 15,
   "metadata": {},
   "outputs": [
    {
     "data": {
      "text/plain": [
       "BA                 86\n",
       "High School        24\n",
       "Master's degree    22\n",
       "Ph.D                4\n",
       "Name: education, dtype: int64"
      ]
     },
     "execution_count": 15,
     "metadata": {},
     "output_type": "execute_result"
    }
   ],
   "source": [
    "participants_df['education'].value_counts()"
   ]
  },
  {
   "cell_type": "code",
   "execution_count": 16,
   "metadata": {},
   "outputs": [],
   "source": [
    "# not_follow_stag_indexes = participants_df[participants_df['behavior'] != \"follow_stag\"].index"
   ]
  },
  {
   "cell_type": "markdown",
   "metadata": {},
   "source": [
    "# View some data"
   ]
  },
  {
   "cell_type": "code",
   "execution_count": 17,
   "metadata": {},
   "outputs": [
    {
     "name": "stdout",
     "output_type": "stream",
     "text": [
      "['-N2go9oI810XlH5aM5rn', '-N3uSY8tzzjOFSSewL0q', '-N3uVri6_hzdQY7CEjxF', '-N3uYLhPbwSpx5ynRJnZ', '-N3uZmM8GV86vUX5TbTO', '-N60AuB8HHGmcjvguDUD', '-N60EmaO4DzgOwGJ1-hX', '-N7RkJlcrmJTE5V8uBG6']\n"
     ]
    }
   ],
   "source": [
    "# remove from the dataset :\n",
    "index_to_drop = [x for x in raw_df_state_to_action.index if x not in participants_df.index]\n",
    "print(index_to_drop)"
   ]
  },
  {
   "cell_type": "code",
   "execution_count": 18,
   "metadata": {},
   "outputs": [
    {
     "name": "stdout",
     "output_type": "stream",
     "text": [
      "<class 'pandas.core.frame.DataFrame'>\n",
      "Index: 136 entries, -N2gl9wHXMJoXRg5OyiP to -N613eK641CjDIG7Sh5G\n",
      "Columns: 71 entries, 1 to 71\n",
      "dtypes: object(71)\n",
      "memory usage: 76.5+ KB\n"
     ]
    }
   ],
   "source": [
    "raw_df_state_to_action = raw_df_state_to_action.drop(index_to_drop)\n",
    "# raw_df_state_to_action = raw_df_state_to_action.drop(not_follow_stag_indexes)\n",
    "raw_df_state_to_action.info(verbose=False)"
   ]
  },
  {
   "cell_type": "code",
   "execution_count": 19,
   "metadata": {},
   "outputs": [],
   "source": [
    "map_size = [5,5]\n",
    "def NormalizeData(data):\n",
    "    return (data - np.min(data)) / (np.max(data) - np.min(data))\n",
    "\n",
    "def extractAction(cell):\n",
    "    if cell != None:\n",
    "        return int(cell['humanAction'])\n",
    "    return np.nan\n",
    "\n",
    "def extractState(cell):\n",
    "    if cell == None:\n",
    "        return cell\n",
    "    \n",
    "    if any(x > 4 for x in cell['stateCoords']):\n",
    "        print('cell is not valid: ', cell)\n",
    "        return\n",
    "    cell = cell['stateCoords']\n",
    "    r = np.zeros(map_size)\n",
    "    g = np.zeros(map_size)\n",
    "    b = np.zeros(map_size)\n",
    "    # computer pos    \n",
    "    b[cell[0], cell[1]] += 1\n",
    "    # human pos\n",
    "    r[cell[2], cell[3]] += 1\n",
    "    # stag pos\n",
    "    r[cell[4], cell[5]] += 0.5\n",
    "    g[cell[4], cell[5]] += 0.5\n",
    "    b[cell[4], cell[5]] += 0.5\n",
    "    # plants pos\n",
    "    for i in range(6, 12, 2):\n",
    "        g[cell[i], cell[i+1]] += 1\n",
    "\n",
    "    return np.dstack((r,g,b))\n",
    "    # return NormalizeData(np.dstack((r,g,b)))\n",
    "    \n",
    "state_df = pd.DataFrame(columns=raw_df_state_to_action.columns)\n",
    "action_df = pd.DataFrame(columns=raw_df_state_to_action.columns)\n",
    "for col in raw_df_state_to_action:\n",
    "    state_df[col] = raw_df_state_to_action[col].apply(extractState)\n",
    "    action_df[col] = raw_df_state_to_action[col].apply(extractAction)"
   ]
  },
  {
   "cell_type": "code",
   "execution_count": 20,
   "metadata": {},
   "outputs": [
    {
     "data": {
      "text/html": [
       "<div>\n",
       "<style scoped>\n",
       "    .dataframe tbody tr th:only-of-type {\n",
       "        vertical-align: middle;\n",
       "    }\n",
       "\n",
       "    .dataframe tbody tr th {\n",
       "        vertical-align: top;\n",
       "    }\n",
       "\n",
       "    .dataframe thead th {\n",
       "        text-align: right;\n",
       "    }\n",
       "</style>\n",
       "<table border=\"1\" class=\"dataframe\">\n",
       "  <thead>\n",
       "    <tr style=\"text-align: right;\">\n",
       "      <th></th>\n",
       "      <th>1</th>\n",
       "      <th>2</th>\n",
       "      <th>3</th>\n",
       "      <th>4</th>\n",
       "      <th>5</th>\n",
       "      <th>6</th>\n",
       "      <th>7</th>\n",
       "      <th>8</th>\n",
       "      <th>9</th>\n",
       "      <th>10</th>\n",
       "      <th>...</th>\n",
       "      <th>62</th>\n",
       "      <th>63</th>\n",
       "      <th>64</th>\n",
       "      <th>65</th>\n",
       "      <th>66</th>\n",
       "      <th>67</th>\n",
       "      <th>68</th>\n",
       "      <th>69</th>\n",
       "      <th>70</th>\n",
       "      <th>71</th>\n",
       "    </tr>\n",
       "  </thead>\n",
       "  <tbody>\n",
       "  </tbody>\n",
       "</table>\n",
       "<p>0 rows × 71 columns</p>\n",
       "</div>"
      ],
      "text/plain": [
       "Empty DataFrame\n",
       "Columns: [1, 2, 3, 4, 5, 6, 7, 8, 9, 10, 11, 12, 13, 14, 15, 16, 17, 18, 19, 20, 21, 22, 23, 24, 25, 26, 27, 28, 29, 30, 31, 32, 33, 34, 35, 36, 37, 38, 39, 40, 41, 42, 43, 44, 45, 46, 47, 48, 49, 50, 51, 52, 53, 54, 55, 56, 57, 58, 59, 60, 61, 62, 63, 64, 65, 66, 67, 68, 69, 70, 71]\n",
       "Index: []\n",
       "\n",
       "[0 rows x 71 columns]"
      ]
     },
     "execution_count": 20,
     "metadata": {},
     "output_type": "execute_result"
    }
   ],
   "source": [
    "action_df[(action_df.count(axis=1) > 60)]"
   ]
  },
  {
   "cell_type": "code",
   "execution_count": 21,
   "metadata": {},
   "outputs": [],
   "source": [
    "def combine_following_states(cell1, cell2):\n",
    "    r2, g2, b2 = cell2[:, :, 0], cell2[:, :, 1], cell2[:, :, 2]\n",
    "    human_pos = np.where((r2 == 1) | (r2 == 1.5))\n",
    "    computer_pos = np.where((b2 == 1) | (b2 == 1.5))\n",
    "    bushes_pos = np.where((g2 == 1) | (g2 == 1.5))\n",
    "    stag_pos = np.where(((r2 == 0.5) & (g2 == 0.5) & (b2 == 0.5)) |\n",
    "                        ((r2 == 1.5) & (g2 == 0.5) & (b2 == 0.5)) |\n",
    "                        ((r2 == 0.5) & (g2 == 1.5) & (b2 == 0.5)) |\n",
    "                        ((r2 == 0.5) & (g2 == 0.5) & (b2 == 1.5)))\n",
    "\n",
    "    new_cell = cell1 * 0.9\n",
    "\n",
    "    new_cell[:, :, 0][human_pos] = 1\n",
    "    new_cell[:, :, 1] = np.zeros(map_size)\n",
    "    new_cell[:, :, 1][bushes_pos] = 1\n",
    "    new_cell[:, :, 2][computer_pos] = 1\n",
    "\n",
    "    new_cell[:, :, 0][stag_pos] += 0.5\n",
    "    new_cell[:, :, 1][stag_pos] += 0.5\n",
    "    new_cell[:, :, 2][stag_pos] += 0.5\n",
    "\n",
    "    return NormalizeData(new_cell)\n",
    "\n",
    "new_state_df = state_df.copy()\n",
    "for (idxRow, s1), (_, s2) in zip(state_df.iterrows(), action_df.iterrows()):\n",
    "    for (idxCol, state), (_, action) in zip(s1.iteritems(), s2.iteritems()):\n",
    "        # check if it is not the last state\n",
    "        # the last state not enter our model, since it is an end state that not contains any dirts and not preform an action\n",
    "        if not np.isnan(action_df.loc[idxRow, idxCol]):\n",
    "            if idxCol == 1:\n",
    "                continue\n",
    "            else:\n",
    "            # new_state_df.loc[idxRow, idxCol], history = combine_following_states(history, new_state_df.loc[idxRow, idxCol])\n",
    "                new_state_df.loc[idxRow, idxCol] = combine_following_states(new_state_df.loc[idxRow, idxCol-1], new_state_df.loc[idxRow, idxCol])"
   ]
  },
  {
   "cell_type": "markdown",
   "metadata": {},
   "source": [
    "# view one game"
   ]
  },
  {
   "cell_type": "code",
   "execution_count": 22,
   "metadata": {},
   "outputs": [],
   "source": [
    "def rowToImage(row, col=61):\n",
    "    fig = plt.figure(figsize=(80, 80))\n",
    "    row_s = new_state_df.loc[row, :col]\n",
    "    row_a = action_df.loc[row, :col]\n",
    "    cols_i = row_a.count()\n",
    "    for i in range(1, cols_i+1):\n",
    "        rows = 1\n",
    "        columns = cols_i\n",
    "        state = row_s.at[i]\n",
    "        fig.add_subplot(rows, columns, i)\n",
    "        plt.imshow(state)\n",
    "        plt.axis('off')\n",
    "        action = row_a.at[i]\n",
    "        plt.title(str(i) + \" action: \" + str(action), fontsize=8)"
   ]
  },
  {
   "cell_type": "code",
   "execution_count": 23,
   "metadata": {},
   "outputs": [
    {
     "data": {
      "image/png": "[encoded data removed]",
      "text/plain": [
       "<Figure size 5760x5760 with 60 Axes>"
      ]
     },
     "metadata": {
      "needs_background": "light"
     },
     "output_type": "display_data"
    }
   ],
   "source": [
    "rowToImage('-N2gl9wHXMJoXRg5OyiP')"
   ]
  },
  {
   "cell_type": "code",
   "execution_count": 24,
   "metadata": {},
   "outputs": [
    {
     "data": {
      "text/html": [
       "<div>\n",
       "<style scoped>\n",
       "    .dataframe tbody tr th:only-of-type {\n",
       "        vertical-align: middle;\n",
       "    }\n",
       "\n",
       "    .dataframe tbody tr th {\n",
       "        vertical-align: top;\n",
       "    }\n",
       "\n",
       "    .dataframe thead th {\n",
       "        text-align: right;\n",
       "    }\n",
       "</style>\n",
       "<table border=\"1\" class=\"dataframe\">\n",
       "  <thead>\n",
       "    <tr style=\"text-align: right;\">\n",
       "      <th></th>\n",
       "      <th>1</th>\n",
       "      <th>2</th>\n",
       "      <th>3</th>\n",
       "      <th>4</th>\n",
       "      <th>5</th>\n",
       "      <th>6</th>\n",
       "      <th>7</th>\n",
       "      <th>8</th>\n",
       "      <th>9</th>\n",
       "      <th>10</th>\n",
       "      <th>...</th>\n",
       "      <th>63</th>\n",
       "      <th>64</th>\n",
       "      <th>65</th>\n",
       "      <th>66</th>\n",
       "      <th>67</th>\n",
       "      <th>68</th>\n",
       "      <th>69</th>\n",
       "      <th>70</th>\n",
       "      <th>71</th>\n",
       "      <th>72</th>\n",
       "    </tr>\n",
       "  </thead>\n",
       "  <tbody>\n",
       "    <tr>\n",
       "      <th>-N60KuKmqPd_41fLQthi</th>\n",
       "      <td>40</td>\n",
       "      <td>40</td>\n",
       "      <td>40</td>\n",
       "      <td>40</td>\n",
       "      <td>39</td>\n",
       "      <td>39</td>\n",
       "      <td>39</td>\n",
       "      <td>39</td>\n",
       "      <td>38</td>\n",
       "      <td>38</td>\n",
       "      <td>...</td>\n",
       "      <td>NaN</td>\n",
       "      <td>NaN</td>\n",
       "      <td>NaN</td>\n",
       "      <td>NaN</td>\n",
       "      <td>NaN</td>\n",
       "      <td>NaN</td>\n",
       "      <td>NaN</td>\n",
       "      <td>NaN</td>\n",
       "      <td>NaN</td>\n",
       "      <td>NaN</td>\n",
       "    </tr>\n",
       "    <tr>\n",
       "      <th>-N60Tx4zmO5_1Fgp6JlT</th>\n",
       "      <td>40</td>\n",
       "      <td>39</td>\n",
       "      <td>39</td>\n",
       "      <td>40</td>\n",
       "      <td>40</td>\n",
       "      <td>40</td>\n",
       "      <td>39</td>\n",
       "      <td>39</td>\n",
       "      <td>37</td>\n",
       "      <td>38</td>\n",
       "      <td>...</td>\n",
       "      <td>NaN</td>\n",
       "      <td>NaN</td>\n",
       "      <td>NaN</td>\n",
       "      <td>NaN</td>\n",
       "      <td>NaN</td>\n",
       "      <td>NaN</td>\n",
       "      <td>NaN</td>\n",
       "      <td>NaN</td>\n",
       "      <td>NaN</td>\n",
       "      <td>NaN</td>\n",
       "    </tr>\n",
       "    <tr>\n",
       "      <th>-N60UdZtsvjhImC1NplA</th>\n",
       "      <td>39</td>\n",
       "      <td>40</td>\n",
       "      <td>39</td>\n",
       "      <td>39</td>\n",
       "      <td>37</td>\n",
       "      <td>39</td>\n",
       "      <td>39</td>\n",
       "      <td>40</td>\n",
       "      <td>37</td>\n",
       "      <td>40</td>\n",
       "      <td>...</td>\n",
       "      <td>NaN</td>\n",
       "      <td>NaN</td>\n",
       "      <td>NaN</td>\n",
       "      <td>NaN</td>\n",
       "      <td>NaN</td>\n",
       "      <td>NaN</td>\n",
       "      <td>NaN</td>\n",
       "      <td>NaN</td>\n",
       "      <td>NaN</td>\n",
       "      <td>NaN</td>\n",
       "    </tr>\n",
       "    <tr>\n",
       "      <th>-N611yMxdy44Ur-GYHEH</th>\n",
       "      <td>40</td>\n",
       "      <td>40</td>\n",
       "      <td>40</td>\n",
       "      <td>39</td>\n",
       "      <td>40</td>\n",
       "      <td>39</td>\n",
       "      <td>39</td>\n",
       "      <td>39</td>\n",
       "      <td>37</td>\n",
       "      <td>37</td>\n",
       "      <td>...</td>\n",
       "      <td>NaN</td>\n",
       "      <td>NaN</td>\n",
       "      <td>NaN</td>\n",
       "      <td>NaN</td>\n",
       "      <td>NaN</td>\n",
       "      <td>NaN</td>\n",
       "      <td>NaN</td>\n",
       "      <td>NaN</td>\n",
       "      <td>NaN</td>\n",
       "      <td>NaN</td>\n",
       "    </tr>\n",
       "    <tr>\n",
       "      <th>-N613eK641CjDIG7Sh5G</th>\n",
       "      <td>40</td>\n",
       "      <td>39</td>\n",
       "      <td>39</td>\n",
       "      <td>39</td>\n",
       "      <td>40</td>\n",
       "      <td>40</td>\n",
       "      <td>40</td>\n",
       "      <td>37</td>\n",
       "      <td>37</td>\n",
       "      <td>38</td>\n",
       "      <td>...</td>\n",
       "      <td>NaN</td>\n",
       "      <td>NaN</td>\n",
       "      <td>NaN</td>\n",
       "      <td>NaN</td>\n",
       "      <td>NaN</td>\n",
       "      <td>NaN</td>\n",
       "      <td>NaN</td>\n",
       "      <td>NaN</td>\n",
       "      <td>NaN</td>\n",
       "      <td>NaN</td>\n",
       "    </tr>\n",
       "  </tbody>\n",
       "</table>\n",
       "<p>5 rows × 72 columns</p>\n",
       "</div>"
      ],
      "text/plain": [
       "                      1   2   3   4   5   6   7   8   9   10  ...  63  64  65  \\\n",
       "-N60KuKmqPd_41fLQthi  40  40  40  40  39  39  39  39  38  38  ... NaN NaN NaN   \n",
       "-N60Tx4zmO5_1Fgp6JlT  40  39  39  40  40  40  39  39  37  38  ... NaN NaN NaN   \n",
       "-N60UdZtsvjhImC1NplA  39  40  39  39  37  39  39  40  37  40  ... NaN NaN NaN   \n",
       "-N611yMxdy44Ur-GYHEH  40  40  40  39  40  39  39  39  37  37  ... NaN NaN NaN   \n",
       "-N613eK641CjDIG7Sh5G  40  39  39  39  40  40  40  37  37  38  ... NaN NaN NaN   \n",
       "\n",
       "                      66  67  68  69  70  71  72  \n",
       "-N60KuKmqPd_41fLQthi NaN NaN NaN NaN NaN NaN NaN  \n",
       "-N60Tx4zmO5_1Fgp6JlT NaN NaN NaN NaN NaN NaN NaN  \n",
       "-N60UdZtsvjhImC1NplA NaN NaN NaN NaN NaN NaN NaN  \n",
       "-N611yMxdy44Ur-GYHEH NaN NaN NaN NaN NaN NaN NaN  \n",
       "-N613eK641CjDIG7Sh5G NaN NaN NaN NaN NaN NaN NaN  \n",
       "\n",
       "[5 rows x 72 columns]"
      ]
     },
     "execution_count": 24,
     "metadata": {},
     "output_type": "execute_result"
    }
   ],
   "source": [
    "action_df[len(action_df.columns) + 1] = np.NaN\n",
    "action_df.tail()"
   ]
  },
  {
   "cell_type": "markdown",
   "metadata": {},
   "source": [
    "# Make Dataset"
   ]
  },
  {
   "cell_type": "markdown",
   "metadata": {},
   "source": [
    "dataset_v1:"
   ]
  },
  {
   "cell_type": "code",
   "execution_count": 25,
   "metadata": {},
   "outputs": [],
   "source": [
    "# # dir_path = './data/humanModel/dataset_v0.csv'\n",
    "# # if os.path.exists(dir_path):\n",
    "# #   os.remove(dir_path)\n",
    "\n",
    "# # rows = [\n",
    "# # [\"code\", \"step\", \"computer_x\", \"computer_y\", \"human_x\", \"human_y\", \"stag_x\", \"stag_y\", \"shrub1_x\", \"shrub1_y\", \"shrub2_x\", \"shrub2_y\", \"shrub3_x\", \"shrub3_y\", \"human_action\"] #, \"computer_action\", \"stag_action\"]\n",
    "# # ]\n",
    "# # counter = 0\n",
    "# # for (idxRow, s1), (_, s2) in zip(state_df.iterrows(), action_df.iterrows()):\n",
    "# #     for (idxCol, state), (_, action) in zip(s1.iteritems(), s2.iteritems()):\n",
    "# #         # check if it is not the last state\n",
    "# #         # the last state not enter our model, since it is an end state that not contains any dirts and not preform an action\n",
    "# #         if not np.isnan(action_df.loc[idxRow, idxCol+1]):\n",
    "# #             row = flatten([[idxRow, idxCol], flatten(state), [int(action)]])\n",
    "# #             if counter % 500 == 0:\n",
    "# #                 # print every 500 saved images\n",
    "# #                 print(row)\n",
    "# #             counter += 1\n",
    "# #             rows.append(row)\n",
    "# #         else:\n",
    "# #             break\n",
    "# # print(f'{counter} rows have been saved')\n",
    "# # np.savetxt(dir_path, \n",
    "# #            rows,\n",
    "# #            delimiter =\", \", \n",
    "# #            fmt ='% s')\n",
    "\n",
    "# dir_path = './data/humanModel/dataset'\n",
    "# if os.path.exists(dir_path):\n",
    "#     shutil.rmtree(dir_path)\n",
    "# os.mkdir(dir_path)\n",
    "# for action in ['37','38','39','40']:\n",
    "#     os.mkdir(dir_path+'/'+action)\n",
    "\n",
    "# # open the file in the write mode\n",
    "# f = open(dir_path+'/participants_rate.csv', 'w')\n",
    "# # create the csv writer\n",
    "# writer = csv.writer(f)\n",
    "\n",
    "# counter = 0\n",
    "# for (idxRow, s1), (_, s2) in zip(new_state_df.iterrows(), action_df.iterrows()):\n",
    "#     for (idxCol, state), (_, action) in zip(s1.iteritems(), s2.iteritems()):\n",
    "#         # check if it is not the last state\n",
    "#         if not np.isnan(action_df.loc[idxRow, idxCol]):\n",
    "#             im = Image.fromarray((state * 255).astype(np.uint8))\n",
    "#             value_vector_rate = participants_df.loc[idxRow, ['collaborative_value', 'computer_value', 'predictable_value', 'selfishly_value', 'wisely_value']]\n",
    "#             path = f'data/humanModel/dataset/{int(action)}/{idxRow}_{idxCol}.png'\n",
    "#             if counter % 500 == 0:\n",
    "#                 # print every 500 saved images\n",
    "#                 print(f'{idxRow}_{idxCol}.png saved! at action {action}')\n",
    "#             counter += 1\n",
    "#             im.save(path)\n",
    "\n",
    "#             # write a vector to the csv file\n",
    "#             writer.writerow(value_vector_rate)\n",
    "#         else:\n",
    "#             break\n",
    "# #         print (state, action, idxCol, idxRow)\n",
    "# print(f'{counter} images have been saved')"
   ]
  },
  {
   "cell_type": "markdown",
   "metadata": {},
   "source": [
    "dataset_v2:"
   ]
  },
  {
   "cell_type": "code",
   "execution_count": 26,
   "metadata": {},
   "outputs": [],
   "source": [
    "def next_position(action, position):\n",
    "    if action == 32:\n",
    "        return position\n",
    "    elif action == 37:\n",
    "      return [position[0], position[1]-1]\n",
    "    elif action == 38:\n",
    "      return [position[0]-1, position[1]]\n",
    "    elif action == 39:\n",
    "      return [position[0], position[1]+1]\n",
    "    elif action == 40:\n",
    "      return [position[0]+1, position[1]]\n",
    "    \n",
    "    raise RuntimeError(\"Unknown action: \" + str(action))"
   ]
  },
  {
   "cell_type": "code",
   "execution_count": 27,
   "metadata": {},
   "outputs": [],
   "source": [
    "def calc_distance(pos1, pos2):\n",
    "    return abs(pos1[0] - pos2[0]) + abs(pos1[1] - pos2[1])\n",
    "\n",
    "def calc_distance_closest_bush(pos1, poses):\n",
    "    min_dis = calc_distance(pos1, poses[0])\n",
    "    for i in range(1, len(poses)):\n",
    "        dis = calc_distance(pos1, poses[i])\n",
    "        if dis < min_dis:\n",
    "            min_dis = dis\n",
    "    return min_dis\n",
    "\n",
    "def calc_distance_bushes(pos1, poses):\n",
    "    return np.array([calc_distance(pos1, pos2) for pos2 in poses])"
   ]
  },
  {
   "cell_type": "code",
   "execution_count": 28,
   "metadata": {},
   "outputs": [],
   "source": [
    "def find_lable(state, action):\n",
    "    r2, g2, b2 = state[:, :, 0], state[:, :, 1], state[:, :, 2]\n",
    "    human_pos = np.where((r2 == 1) | (r2 == 1.5))\n",
    "    human_pos = [human_pos[0][0], human_pos[1][0]]\n",
    "    bushes_pos = np.where((g2 == 1) | (g2 == 1.5))\n",
    "    good_bushes_pos = []\n",
    "    for i in range(3):\n",
    "        good_bushes_pos.append([bushes_pos[0][i], bushes_pos[1][i]])\n",
    "    bushes_pos = np.array(good_bushes_pos)    \n",
    "    stag_pos = np.where(((r2 == 0.5) & (g2 == 0.5) & (b2 == 0.5)) |\n",
    "                        ((r2 == 1.5) & (g2 == 0.5) & (b2 == 0.5)) |\n",
    "                        ((r2 == 0.5) & (g2 == 1.5) & (b2 == 0.5)) |\n",
    "                        ((r2 == 0.5) & (g2 == 0.5) & (b2 == 1.5)))\n",
    "    stag_pos = [stag_pos[0][0], stag_pos[1][0]]\n",
    "\n",
    "\n",
    "    dis_from_stag = calc_distance(human_pos, stag_pos)\n",
    "    dis_from_bushes = calc_distance_bushes(human_pos, bushes_pos)\n",
    "    \n",
    "    next_human_pos = next_position(action, human_pos)\n",
    "    next_dis_from_stag = calc_distance(next_human_pos, stag_pos)\n",
    "    next_dis_from_bushes = calc_distance_bushes(next_human_pos, bushes_pos)\n",
    "\n",
    "    dis = next_dis_from_bushes - dis_from_bushes\n",
    "    if next_dis_from_stag < dis_from_stag and min(dis) < 0:\n",
    "        # return \"both\"\n",
    "        return \"follow_stag\"\n",
    "\n",
    "    if next_dis_from_stag < dis_from_stag:\n",
    "        return \"follow_stag\"\n",
    "        \n",
    "    if min(dis) < 0:\n",
    "        return \"closest_bush\"\n",
    "\n",
    "    # if next_dis_from_stag < dis_from_stag and next_dis_from_closest_bush < dis_from_closest_bush:\n",
    "    #     return \"both\"\n",
    "    # if next_dis_from_stag > dis_from_stag and next_dis_from_closest_bush > dis_from_closest_bush:\n",
    "    #     return \"none\"\n",
    "\n",
    "    # if next_dis_from_stag < dis_from_stag:\n",
    "    #     return \"follow_stag\"\n",
    "    # if next_dis_from_closest_bush < dis_from_closest_bush:\n",
    "    #     return \"closest_bush\"\n"
   ]
  },
  {
   "cell_type": "code",
   "execution_count": 29,
   "metadata": {},
   "outputs": [
    {
     "name": "stdout",
     "output_type": "stream",
     "text": [
      "-N2gl9wHXMJoXRg5OyiP_1.png saved! at action follow_stag\n",
      "-N2r2eHOlWQUjhi6Vwmr_41.png saved! at action follow_stag\n",
      "-N2r88BIcmfxtBsTLr0b_8.png saved! at action follow_stag\n",
      "-N2rFJaUBEW-ogbp31-__37.png saved! at action closest_bush\n",
      "-N2rMt-8Tl-evxUxkjxv_10.png saved! at action closest_bush\n",
      "-N3uSQ6fTBht1y-rRuwO_38.png saved! at action closest_bush\n",
      "-N3uTLILjm_i072CABSD_6.png saved! at action closest_bush\n",
      "-N3uX1XcMKevA5lV4OtI_39.png saved! at action follow_stag\n",
      "-N3u_iicD2_G1Kr28Zak_17.png saved! at action follow_stag\n",
      "-N3uhm198VZ44J_Vh6co_49.png saved! at action follow_stag\n",
      "-N3um7bjC3bKz83A5QmH_21.png saved! at action follow_stag\n",
      "-N3v7NW69veDQNJNnpaO_45.png saved! at action follow_stag\n",
      "-N600-7WYheXOKVgUg4K_10.png saved! at action closest_bush\n",
      "-N600kVz4mhm0haN1UoC_36.png saved! at action closest_bush\n",
      "-N605MFTS2FjoN5Wl4nd_3.png saved! at action closest_bush\n",
      "-N60ErvzvYx_bVSDKugG_29.png saved! at action follow_stag\n",
      "-N613eK641CjDIG7Sh5G_54.png saved! at action closest_bush\n",
      "8007 images have been saved\n"
     ]
    }
   ],
   "source": [
    "dir_path = './data/humanModel/dataset'\n",
    "if os.path.exists(dir_path):\n",
    "    shutil.rmtree(dir_path)\n",
    "os.mkdir(dir_path)\n",
    "for action in ['follow_stag','closest_bush']:\n",
    "    os.mkdir(dir_path+'/'+action)\n",
    "\n",
    "# open the file in the write mode\n",
    "f = open(dir_path+'/participants_rate.csv', 'w')\n",
    "# create the csv writer\n",
    "writer = csv.writer(f)\n",
    "\n",
    "counter = 0\n",
    "for (idxRow, s1), (_, s2) in zip(state_df.iterrows(), action_df.iterrows()):\n",
    "    for (idxCol, state), (_, action) in zip(s1.iteritems(), s2.iteritems()):\n",
    "        # check if it is not the last state\n",
    "        if not np.isnan(action_df.loc[idxRow, idxCol]):\n",
    "            im = Image.fromarray((state * 255).astype(np.uint8))\n",
    "            value_vector_rate = participants_df.loc[idxRow, ['collaborative_value', 'computer_value', 'predictable_value', 'selfishly_value', 'wisely_value']]\n",
    "            lable = find_lable(state, action)\n",
    "            if lable in ['follow_stag','closest_bush']:\n",
    "                path = f'data/humanModel/dataset/{lable}/{idxRow}_{idxCol}.png'\n",
    "                if counter % 500 == 0:\n",
    "                    # print every 500 saved images\n",
    "                    print(f'{idxRow}_{idxCol}.png saved! at action {lable}')\n",
    "                counter += 1\n",
    "                im.save(path)\n",
    "\n",
    "                # write a vector to the csv file\n",
    "                writer.writerow(value_vector_rate)\n",
    "            \n",
    "        else:\n",
    "            break\n",
    "#         print (state, action, idxCol, idxRow)\n",
    "print(f'{counter} images have been saved')"
   ]
  },
  {
   "cell_type": "markdown",
   "metadata": {},
   "source": [
    "# fix scores:"
   ]
  },
  {
   "cell_type": "code",
   "execution_count": null,
   "metadata": {},
   "outputs": [],
   "source": [
    "# # change the reward of cupturing the stag to 4\n",
    "\n",
    "# # count the number of cupturing the stag\n",
    "\n",
    "\n",
    "\n",
    "# def countCupturedStag(row):\n",
    "#     counter = 0\n",
    "#     # prev_computer_pos =\n",
    "#     # prev_human_pos =\n",
    "#     # prev_stag_pos =\n",
    "#     for i in range(1, len(row)+1):\n",
    "#       if row[i] == None: # game not ended\n",
    "#         break\n",
    "\n",
    "#       cell = row[i]\n",
    "\n",
    "#       computer_action = cell['computerAction']\n",
    "#       human_action = cell['humanAction']\n",
    "#       stag_action = cell['stagAction']\n",
    "\n",
    "#       computer_pos = [cell['stateCoords'][0], cell['stateCoords'][1]]\n",
    "#       human_pos = [cell['stateCoords'][2], cell['stateCoords'][3]]\n",
    "#       stag_pos = [cell['stateCoords'][4], cell['stateCoords'][5]]\n",
    "\n",
    "#       next_computer_pos = next_position(computer_action, computer_pos)\n",
    "#       next_human_pos = next_position(human_action, human_pos)\n",
    "#       next_stag_pos = next_position(stag_action, stag_pos)\n",
    "      \n",
    "#       # print(row[i])\n",
    "\n",
    "#       # print(\"next_computer_pos = \", next_computer_pos)\n",
    "#       # print(\"next_human_pos = \", next_human_pos)\n",
    "#       # print(\"next_stag_pos = \", next_stag_pos)\n",
    "\n",
    "#       # print(row[i+1])\n",
    "\n",
    "#       # assert 0 <= next_computer_pos[0] < 5 and 0 <= next_computer_pos[1] < 5, 'next_computer_pos must be between 5 and 0: '+ str(next_computer_pos) + \"\\n\" + str(cell)\n",
    "#       # assert 0 <= next_human_pos[0] < 5 and 0 <= next_human_pos[1] < 5, 'next_human_pos must be between 5 and 0: '+ str(next_human_pos) + \"\\n\" + str(cell)\n",
    "#       # assert 0 <= next_stag_pos[0] < 5 and 0 <= next_stag_pos[1] < 5, 'next_stag_pos must be between 5 and 0: '+ str(next_stag_pos) + \"\\n\" + str(cell)\n",
    "\n",
    "#       if next_human_pos == next_stag_pos == next_computer_pos:\n",
    "#         counter += 1\n",
    "\n",
    "#     # raise Exception\n",
    "#     return counter\n",
    "        \n",
    "            \n",
    "# def fix_scores(df):\n",
    "#     rewards = {\n",
    "#         'Stag': 5 - 3\n",
    "#     }\n",
    "#     c_h_scores = pd.DataFrame(index=df.index, columns=['computer_score', 'human_score'])\n",
    "#     computer_scores = []\n",
    "#     human_scores = []\n",
    "#     for i, row in df.iterrows():\n",
    "#         count_of_cuptured_stag = countCupturedStag(row)\n",
    "\n",
    "#         coputerScore = participants_df.loc[i, 'computer_score'] + count_of_cuptured_stag * rewards['Stag']\n",
    "#         humanScore = participants_df.loc[i, 'human_score'] +  count_of_cuptured_stag * rewards['Stag']\n",
    "#         computer_scores.append(coputerScore)\n",
    "#         human_scores.append(humanScore)\n",
    "\n",
    "#     c_h_scores['computer_score'] = computer_scores\n",
    "#     c_h_scores['human_score'] = human_scores\n",
    "#     c_h_scores['computer_score_real'] = participants_df['computer_score']\n",
    "#     c_h_scores['human_score_real'] = participants_df['human_score']\n",
    "#     c_h_scores['behavior'] = participants_df['behavior']\n",
    "#     return c_h_scores\n",
    "\n",
    "# new_scores_df = fix_scores(raw_df_state_to_action)"
   ]
  },
  {
   "cell_type": "code",
   "execution_count": null,
   "metadata": {},
   "outputs": [],
   "source": [
    "# new_scores_df.groupby('behavior').mean()"
   ]
  },
  {
   "cell_type": "code",
   "execution_count": null,
   "metadata": {},
   "outputs": [],
   "source": [
    "# new_scores_df[['computer_score', 'human_score', 'behavior']].to_excel(\"data/all_agents_score.xlsx\")"
   ]
  },
  {
   "cell_type": "code",
   "execution_count": null,
   "metadata": {},
   "outputs": [],
   "source": [
    "# participants_df['computer_score'] = new_scores_df['computer_score']\n",
    "# participants_df['human_score'] = new_scores_df['human_score']\n",
    "# participants_df.to_json('new_table.json', orient=\"index\")"
   ]
  }
 ],
 "metadata": {
  "kernelspec": {
   "display_name": "Python 3.7.13 ('stag-hant')",
   "language": "python",
   "name": "python3"
  },
  "language_info": {
   "codemirror_mode": {
    "name": "ipython",
    "version": 3
   },
   "file_extension": ".py",
   "mimetype": "text/x-python",
   "name": "python",
   "nbconvert_exporter": "python",
   "pygments_lexer": "ipython3",
   "version": "3.7.13"
  },
  "orig_nbformat": 4,
  "vscode": {
   "interpreter": {
    "hash": "bd73217b333e8d25e6564ab2716c9d91929b650688d0a29ba1a40e12bb983f93"
   }
  }
 },
 "nbformat": 4,
 "nbformat_minor": 2
}
