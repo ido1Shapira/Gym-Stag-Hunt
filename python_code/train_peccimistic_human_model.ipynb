{
 "cells": [
  {
   "cell_type": "code",
   "execution_count": 1,
   "metadata": {},
   "outputs": [],
   "source": [
    "import numpy as np\n",
    "import random\n",
    "import os\n",
    "os.environ['TF_CPP_MIN_LOG_LEVEL'] = '3'\n",
    "# os.environ['CUDA_VISIBLE_DEVICES'] = '-1'\n",
    "\n",
    "import shutil\n",
    "\n",
    "# ! pip install split-folders\n",
    "import splitfolders\n",
    "\n",
    "import tensorflow as tf\n",
    "from tensorflow import keras\n",
    "from tensorflow.keras import regularizers\n",
    "from tensorflow.keras.models import Model\n",
    "from tensorflow.keras.layers import Input, Dense, Conv2D, Flatten, Dropout\n",
    "\n",
    "from tensorflow.keras.preprocessing.image import ImageDataGenerator\n",
    "from tensorflow.keras.preprocessing import image\n",
    "\n",
    "import matplotlib.pyplot as plt\n",
    "\n",
    "rs = 42\n",
    "def reset_random_seeds(rs):\n",
    "   os.environ['PYTHONHASHSEED']=str(rs)\n",
    "   tf.random.set_seed(rs)\n",
    "   np.random.seed(rs)\n",
    "   random.seed(rs)\n",
    "reset_random_seeds(rs)"
   ]
  },
  {
   "cell_type": "markdown",
   "metadata": {},
   "source": [
    "remove prev saved database:"
   ]
  },
  {
   "cell_type": "code",
   "execution_count": 2,
   "metadata": {},
   "outputs": [],
   "source": [
    "dir_path = './data/humanModel/dataset_split'\n",
    "if os.path.exists(dir_path):\n",
    "    shutil.rmtree(dir_path)\n",
    "else:\n",
    "    print(\"File not found in the directory\")"
   ]
  },
  {
   "cell_type": "markdown",
   "metadata": {},
   "source": [
    "# Part 1 - Data Preprocessing"
   ]
  },
  {
   "cell_type": "markdown",
   "metadata": {},
   "source": [
    "## Split into train , test data"
   ]
  },
  {
   "cell_type": "code",
   "execution_count": 3,
   "metadata": {},
   "outputs": [
    {
     "name": "stderr",
     "output_type": "stream",
     "text": [
      "Copying files: 8949 files [00:00, 13156.71 files/s]\n"
     ]
    }
   ],
   "source": [
    "# train, test split\n",
    "splitfolders.ratio('./data/humanModel/dataset/', output=dir_path, ratio=(0.85, 0.15))"
   ]
  },
  {
   "cell_type": "markdown",
   "metadata": {},
   "source": [
    "### Preprocessing the Training set"
   ]
  },
  {
   "cell_type": "code",
   "execution_count": 4,
   "metadata": {},
   "outputs": [
    {
     "name": "stdout",
     "output_type": "stream",
     "text": [
      "Found 7605 images belonging to 2 classes.\n",
      "Found 1344 images belonging to 2 classes.\n"
     ]
    }
   ],
   "source": [
    "batch_size = 128\n",
    "IMG_SIZE = 5\n",
    "\n",
    "datagen = ImageDataGenerator(rescale = 1./255)\n",
    "train = datagen.flow_from_directory((dir_path+'/train'),\n",
    "                                          target_size = (IMG_SIZE,IMG_SIZE), batch_size = batch_size, seed=rs, class_mode='sparse')\n",
    "\n",
    "test = datagen.flow_from_directory((dir_path+'/val'),\n",
    "                                            target_size = (IMG_SIZE, IMG_SIZE), batch_size = batch_size, seed=rs, class_mode='sparse')"
   ]
  },
  {
   "cell_type": "markdown",
   "metadata": {},
   "source": [
    "## View some data"
   ]
  },
  {
   "cell_type": "code",
   "execution_count": 5,
   "metadata": {},
   "outputs": [],
   "source": [
    "ACTION_NUM = 2\n",
    "RATE_VECTOR_LEN = 5\n",
    "\n",
    "# Define model layers.\n",
    "input_layer = Input(shape=(IMG_SIZE,IMG_SIZE,3))\n",
    "X = Conv2D(4, 3, padding='same', activation='relu', kernel_regularizer=regularizers.l2(0.001))(input_layer)\n",
    "X = Conv2D(8, 3, padding='same', activation='relu', kernel_regularizer=regularizers.l2(0.001))(X)\n",
    "X = Conv2D(8, 2, padding='same', activation='relu', kernel_regularizer=regularizers.l2(0.001))(X)\n",
    "X = Dropout(0.5)(X)\n",
    "X = Flatten()(X)\n",
    "X = Dense(64, activation='relu', kernel_regularizer=regularizers.l2(0.001))(X)\n",
    "action_output = Dense(ACTION_NUM, activation='softmax', name='action_output')(X)\n",
    "model = Model(inputs=input_layer,outputs=action_output)"
   ]
  },
  {
   "cell_type": "code",
   "execution_count": 6,
   "metadata": {},
   "outputs": [],
   "source": [
    "model.compile(optimizer='adam',\n",
    "              loss=tf.keras.losses.SparseCategoricalCrossentropy(from_logits=True),\n",
    "              metrics=['accuracy'])"
   ]
  },
  {
   "cell_type": "code",
   "execution_count": 7,
   "metadata": {},
   "outputs": [
    {
     "name": "stdout",
     "output_type": "stream",
     "text": [
      "Model: \"model\"\n",
      "_________________________________________________________________\n",
      "Layer (type)                 Output Shape              Param #   \n",
      "=================================================================\n",
      "input_1 (InputLayer)         [(None, 5, 5, 3)]         0         \n",
      "_________________________________________________________________\n",
      "conv2d (Conv2D)              (None, 5, 5, 4)           112       \n",
      "_________________________________________________________________\n",
      "conv2d_1 (Conv2D)            (None, 5, 5, 8)           296       \n",
      "_________________________________________________________________\n",
      "conv2d_2 (Conv2D)            (None, 5, 5, 8)           264       \n",
      "_________________________________________________________________\n",
      "dropout (Dropout)            (None, 5, 5, 8)           0         \n",
      "_________________________________________________________________\n",
      "flatten (Flatten)            (None, 200)               0         \n",
      "_________________________________________________________________\n",
      "dense (Dense)                (None, 64)                12864     \n",
      "_________________________________________________________________\n",
      "action_output (Dense)        (None, 2)                 130       \n",
      "=================================================================\n",
      "Total params: 13,666\n",
      "Trainable params: 13,666\n",
      "Non-trainable params: 0\n",
      "_________________________________________________________________\n"
     ]
    }
   ],
   "source": [
    "model.summary()"
   ]
  },
  {
   "cell_type": "code",
   "execution_count": 8,
   "metadata": {
    "scrolled": true
   },
   "outputs": [
    {
     "name": "stdout",
     "output_type": "stream",
     "text": [
      "Epoch 1/175\n"
     ]
    },
    {
     "name": "stderr",
     "output_type": "stream",
     "text": [
      "/home/ido/anaconda3/envs/tf-gpu/lib/python3.7/site-packages/keras/backend.py:4907: UserWarning: \"`sparse_categorical_crossentropy` received `from_logits=True`, but the `output` argument was produced by a sigmoid or softmax activation and thus does not represent logits. Was this intended?\"\n",
      "  '\"`sparse_categorical_crossentropy` received `from_logits=True`, but '\n"
     ]
    },
    {
     "name": "stdout",
     "output_type": "stream",
     "text": [
      "60/60 [==============================] - 3s 25ms/step - loss: 0.7707 - accuracy: 0.5557 - val_loss: 0.7472 - val_accuracy: 0.5573\n",
      "Epoch 2/175\n",
      "60/60 [==============================] - 2s 25ms/step - loss: 0.7336 - accuracy: 0.5575 - val_loss: 0.7208 - val_accuracy: 0.5588\n",
      "Epoch 3/175\n",
      "60/60 [==============================] - 1s 21ms/step - loss: 0.7156 - accuracy: 0.5586 - val_loss: 0.7096 - val_accuracy: 0.5558\n",
      "Epoch 4/175\n",
      "60/60 [==============================] - 1s 18ms/step - loss: 0.7055 - accuracy: 0.5596 - val_loss: 0.7007 - val_accuracy: 0.5588\n",
      "Epoch 5/175\n",
      "60/60 [==============================] - 1s 21ms/step - loss: 0.6986 - accuracy: 0.5615 - val_loss: 0.6959 - val_accuracy: 0.5774\n",
      "Epoch 6/175\n",
      "60/60 [==============================] - 1s 24ms/step - loss: 0.6925 - accuracy: 0.5699 - val_loss: 0.6884 - val_accuracy: 0.5640\n",
      "Epoch 7/175\n",
      "60/60 [==============================] - 1s 24ms/step - loss: 0.6872 - accuracy: 0.5734 - val_loss: 0.6831 - val_accuracy: 0.5722\n",
      "Epoch 8/175\n",
      "60/60 [==============================] - 1s 20ms/step - loss: 0.6817 - accuracy: 0.5886 - val_loss: 0.6756 - val_accuracy: 0.6027\n",
      "Epoch 9/175\n",
      "60/60 [==============================] - 1s 16ms/step - loss: 0.6775 - accuracy: 0.5857 - val_loss: 0.6716 - val_accuracy: 0.5938\n",
      "Epoch 10/175\n",
      "60/60 [==============================] - 1s 17ms/step - loss: 0.6717 - accuracy: 0.5986 - val_loss: 0.6657 - val_accuracy: 0.6101\n",
      "Epoch 11/175\n",
      "60/60 [==============================] - 1s 17ms/step - loss: 0.6674 - accuracy: 0.6039 - val_loss: 0.6596 - val_accuracy: 0.6213\n",
      "Epoch 12/175\n",
      "60/60 [==============================] - 1s 16ms/step - loss: 0.6616 - accuracy: 0.6171 - val_loss: 0.6527 - val_accuracy: 0.6228\n",
      "Epoch 13/175\n",
      "60/60 [==============================] - 1s 16ms/step - loss: 0.6570 - accuracy: 0.6246 - val_loss: 0.6544 - val_accuracy: 0.6250\n",
      "Epoch 14/175\n",
      "60/60 [==============================] - 1s 16ms/step - loss: 0.6525 - accuracy: 0.6346 - val_loss: 0.6456 - val_accuracy: 0.6339\n",
      "Epoch 15/175\n",
      "60/60 [==============================] - 1s 17ms/step - loss: 0.6491 - accuracy: 0.6359 - val_loss: 0.6369 - val_accuracy: 0.6458\n",
      "Epoch 16/175\n",
      "60/60 [==============================] - 1s 17ms/step - loss: 0.6416 - accuracy: 0.6434 - val_loss: 0.6275 - val_accuracy: 0.6667\n",
      "Epoch 17/175\n",
      "60/60 [==============================] - 1s 16ms/step - loss: 0.6394 - accuracy: 0.6469 - val_loss: 0.6244 - val_accuracy: 0.6592\n",
      "Epoch 18/175\n",
      "60/60 [==============================] - 1s 16ms/step - loss: 0.6313 - accuracy: 0.6596 - val_loss: 0.6206 - val_accuracy: 0.6644\n",
      "Epoch 19/175\n",
      "60/60 [==============================] - 1s 16ms/step - loss: 0.6299 - accuracy: 0.6522 - val_loss: 0.6212 - val_accuracy: 0.6577\n",
      "Epoch 20/175\n",
      "60/60 [==============================] - 1s 17ms/step - loss: 0.6273 - accuracy: 0.6588 - val_loss: 0.6185 - val_accuracy: 0.6682\n",
      "Epoch 21/175\n",
      "60/60 [==============================] - 1s 16ms/step - loss: 0.6276 - accuracy: 0.6571 - val_loss: 0.6162 - val_accuracy: 0.6696\n",
      "Epoch 22/175\n",
      "60/60 [==============================] - 1s 16ms/step - loss: 0.6221 - accuracy: 0.6681 - val_loss: 0.6408 - val_accuracy: 0.6443\n",
      "Epoch 23/175\n",
      "60/60 [==============================] - 1s 17ms/step - loss: 0.6217 - accuracy: 0.6680 - val_loss: 0.6086 - val_accuracy: 0.6868\n",
      "Epoch 24/175\n",
      "60/60 [==============================] - 1s 16ms/step - loss: 0.6180 - accuracy: 0.6740 - val_loss: 0.6076 - val_accuracy: 0.6801\n",
      "Epoch 25/175\n",
      "60/60 [==============================] - 1s 16ms/step - loss: 0.6177 - accuracy: 0.6646 - val_loss: 0.6035 - val_accuracy: 0.6920\n",
      "Epoch 26/175\n",
      "60/60 [==============================] - 1s 16ms/step - loss: 0.6164 - accuracy: 0.6698 - val_loss: 0.6014 - val_accuracy: 0.6994\n",
      "Epoch 27/175\n",
      "60/60 [==============================] - 1s 17ms/step - loss: 0.6141 - accuracy: 0.6736 - val_loss: 0.6053 - val_accuracy: 0.6912\n",
      "Epoch 28/175\n",
      "60/60 [==============================] - 1s 16ms/step - loss: 0.6087 - accuracy: 0.6839 - val_loss: 0.5996 - val_accuracy: 0.7001\n",
      "Epoch 29/175\n",
      "60/60 [==============================] - 1s 16ms/step - loss: 0.6083 - accuracy: 0.6805 - val_loss: 0.6010 - val_accuracy: 0.6912\n",
      "Epoch 30/175\n",
      "60/60 [==============================] - 1s 17ms/step - loss: 0.6071 - accuracy: 0.6826 - val_loss: 0.5977 - val_accuracy: 0.6957\n",
      "Epoch 31/175\n",
      "60/60 [==============================] - 1s 18ms/step - loss: 0.6080 - accuracy: 0.6793 - val_loss: 0.5977 - val_accuracy: 0.7031\n",
      "Epoch 32/175\n",
      "60/60 [==============================] - 1s 17ms/step - loss: 0.6053 - accuracy: 0.6784 - val_loss: 0.5966 - val_accuracy: 0.7046\n",
      "Epoch 33/175\n",
      "60/60 [==============================] - 1s 17ms/step - loss: 0.6056 - accuracy: 0.6793 - val_loss: 0.5948 - val_accuracy: 0.7031\n",
      "Epoch 34/175\n",
      "60/60 [==============================] - 1s 17ms/step - loss: 0.6018 - accuracy: 0.6835 - val_loss: 0.5935 - val_accuracy: 0.6964\n",
      "Epoch 35/175\n",
      "60/60 [==============================] - 1s 17ms/step - loss: 0.6001 - accuracy: 0.6838 - val_loss: 0.5935 - val_accuracy: 0.7031\n",
      "Epoch 36/175\n",
      "60/60 [==============================] - 1s 18ms/step - loss: 0.6013 - accuracy: 0.6899 - val_loss: 0.5900 - val_accuracy: 0.7061\n",
      "Epoch 37/175\n",
      "60/60 [==============================] - 1s 18ms/step - loss: 0.5985 - accuracy: 0.6910 - val_loss: 0.5935 - val_accuracy: 0.6838\n",
      "Epoch 38/175\n",
      "60/60 [==============================] - 1s 18ms/step - loss: 0.5972 - accuracy: 0.6931 - val_loss: 0.5887 - val_accuracy: 0.6994\n",
      "Epoch 39/175\n",
      "60/60 [==============================] - 1s 18ms/step - loss: 0.6007 - accuracy: 0.6884 - val_loss: 0.5929 - val_accuracy: 0.6912\n",
      "Epoch 40/175\n",
      "60/60 [==============================] - 1s 15ms/step - loss: 0.5963 - accuracy: 0.6913 - val_loss: 0.5890 - val_accuracy: 0.6957\n",
      "Epoch 41/175\n",
      "60/60 [==============================] - 1s 15ms/step - loss: 0.5955 - accuracy: 0.6897 - val_loss: 0.6029 - val_accuracy: 0.6808\n",
      "Epoch 42/175\n",
      "60/60 [==============================] - 1s 15ms/step - loss: 0.5906 - accuracy: 0.6997 - val_loss: 0.5911 - val_accuracy: 0.7083\n",
      "Epoch 43/175\n",
      "60/60 [==============================] - 1s 14ms/step - loss: 0.5935 - accuracy: 0.6960 - val_loss: 0.5948 - val_accuracy: 0.6793\n",
      "Epoch 44/175\n",
      "60/60 [==============================] - 1s 15ms/step - loss: 0.5939 - accuracy: 0.6948 - val_loss: 0.5906 - val_accuracy: 0.6964\n",
      "Epoch 45/175\n",
      "60/60 [==============================] - 1s 14ms/step - loss: 0.5886 - accuracy: 0.7010 - val_loss: 0.5871 - val_accuracy: 0.7046\n",
      "Epoch 46/175\n",
      "60/60 [==============================] - 1s 15ms/step - loss: 0.5885 - accuracy: 0.7045 - val_loss: 0.5870 - val_accuracy: 0.7024\n",
      "Epoch 47/175\n",
      "60/60 [==============================] - 1s 15ms/step - loss: 0.5914 - accuracy: 0.6928 - val_loss: 0.5871 - val_accuracy: 0.6994\n",
      "Epoch 48/175\n",
      "60/60 [==============================] - 1s 15ms/step - loss: 0.5873 - accuracy: 0.6982 - val_loss: 0.5847 - val_accuracy: 0.7046\n",
      "Epoch 49/175\n",
      "60/60 [==============================] - 1s 15ms/step - loss: 0.5828 - accuracy: 0.7030 - val_loss: 0.5843 - val_accuracy: 0.6994\n",
      "Epoch 50/175\n",
      "60/60 [==============================] - 1s 14ms/step - loss: 0.5886 - accuracy: 0.6941 - val_loss: 0.5872 - val_accuracy: 0.7076\n",
      "Epoch 51/175\n",
      "60/60 [==============================] - 1s 15ms/step - loss: 0.5819 - accuracy: 0.7027 - val_loss: 0.5894 - val_accuracy: 0.6949\n",
      "Epoch 52/175\n",
      "60/60 [==============================] - 1s 15ms/step - loss: 0.5774 - accuracy: 0.7099 - val_loss: 0.5848 - val_accuracy: 0.7031\n",
      "Epoch 53/175\n",
      "60/60 [==============================] - 1s 15ms/step - loss: 0.5820 - accuracy: 0.7055 - val_loss: 0.5828 - val_accuracy: 0.7091\n",
      "Epoch 54/175\n",
      "60/60 [==============================] - 1s 15ms/step - loss: 0.5807 - accuracy: 0.7052 - val_loss: 0.5869 - val_accuracy: 0.7054\n",
      "Epoch 55/175\n",
      "60/60 [==============================] - 1s 16ms/step - loss: 0.5839 - accuracy: 0.6984 - val_loss: 0.5833 - val_accuracy: 0.7113\n",
      "Epoch 56/175\n",
      "60/60 [==============================] - 1s 15ms/step - loss: 0.5799 - accuracy: 0.7056 - val_loss: 0.5853 - val_accuracy: 0.6994\n",
      "Epoch 57/175\n",
      "60/60 [==============================] - 1s 15ms/step - loss: 0.5812 - accuracy: 0.7081 - val_loss: 0.5874 - val_accuracy: 0.6890\n",
      "Epoch 58/175\n",
      "60/60 [==============================] - 1s 15ms/step - loss: 0.5804 - accuracy: 0.7039 - val_loss: 0.5844 - val_accuracy: 0.6949\n",
      "Epoch 59/175\n",
      "60/60 [==============================] - 1s 15ms/step - loss: 0.5787 - accuracy: 0.7057 - val_loss: 0.5819 - val_accuracy: 0.6979\n",
      "Epoch 60/175\n",
      "60/60 [==============================] - 1s 15ms/step - loss: 0.5719 - accuracy: 0.7123 - val_loss: 0.5869 - val_accuracy: 0.7016\n",
      "Epoch 61/175\n",
      "60/60 [==============================] - 1s 15ms/step - loss: 0.5775 - accuracy: 0.7166 - val_loss: 0.5837 - val_accuracy: 0.7001\n",
      "Epoch 62/175\n",
      "60/60 [==============================] - 1s 15ms/step - loss: 0.5752 - accuracy: 0.7126 - val_loss: 0.5898 - val_accuracy: 0.6957\n",
      "Epoch 63/175\n",
      "60/60 [==============================] - 1s 15ms/step - loss: 0.5763 - accuracy: 0.7039 - val_loss: 0.5856 - val_accuracy: 0.6927\n",
      "Epoch 64/175\n",
      "60/60 [==============================] - 1s 15ms/step - loss: 0.5743 - accuracy: 0.7078 - val_loss: 0.5846 - val_accuracy: 0.7076\n",
      "Epoch 65/175\n",
      "60/60 [==============================] - 1s 15ms/step - loss: 0.5715 - accuracy: 0.7127 - val_loss: 0.5833 - val_accuracy: 0.6964\n",
      "Epoch 66/175\n",
      "60/60 [==============================] - 1s 14ms/step - loss: 0.5707 - accuracy: 0.7156 - val_loss: 0.5871 - val_accuracy: 0.6964\n",
      "Epoch 67/175\n",
      "60/60 [==============================] - 1s 15ms/step - loss: 0.5714 - accuracy: 0.7160 - val_loss: 0.5840 - val_accuracy: 0.7009\n",
      "Epoch 68/175\n",
      "60/60 [==============================] - 1s 15ms/step - loss: 0.5773 - accuracy: 0.7099 - val_loss: 0.5879 - val_accuracy: 0.6830\n",
      "Epoch 69/175\n",
      "60/60 [==============================] - 1s 15ms/step - loss: 0.5716 - accuracy: 0.7133 - val_loss: 0.5811 - val_accuracy: 0.7068\n",
      "Epoch 70/175\n",
      "60/60 [==============================] - 1s 15ms/step - loss: 0.5761 - accuracy: 0.7098 - val_loss: 0.5797 - val_accuracy: 0.7128\n",
      "Epoch 71/175\n",
      "60/60 [==============================] - 1s 15ms/step - loss: 0.5741 - accuracy: 0.7094 - val_loss: 0.5796 - val_accuracy: 0.7091\n",
      "Epoch 72/175\n",
      "60/60 [==============================] - 1s 15ms/step - loss: 0.5745 - accuracy: 0.7061 - val_loss: 0.5810 - val_accuracy: 0.6935\n",
      "Epoch 73/175\n",
      "60/60 [==============================] - 1s 15ms/step - loss: 0.5680 - accuracy: 0.7164 - val_loss: 0.5830 - val_accuracy: 0.7024\n",
      "Epoch 74/175\n",
      "60/60 [==============================] - 1s 15ms/step - loss: 0.5681 - accuracy: 0.7204 - val_loss: 0.5801 - val_accuracy: 0.6964\n",
      "Epoch 75/175\n",
      "60/60 [==============================] - 1s 15ms/step - loss: 0.5667 - accuracy: 0.7166 - val_loss: 0.5825 - val_accuracy: 0.6860\n",
      "Epoch 76/175\n",
      "60/60 [==============================] - 1s 15ms/step - loss: 0.5682 - accuracy: 0.7161 - val_loss: 0.5772 - val_accuracy: 0.7031\n",
      "Epoch 77/175\n",
      "60/60 [==============================] - 1s 15ms/step - loss: 0.5702 - accuracy: 0.7141 - val_loss: 0.5825 - val_accuracy: 0.6972\n",
      "Epoch 78/175\n",
      "60/60 [==============================] - 1s 15ms/step - loss: 0.5672 - accuracy: 0.7174 - val_loss: 0.5865 - val_accuracy: 0.6882\n",
      "Epoch 79/175\n",
      "60/60 [==============================] - 1s 15ms/step - loss: 0.5638 - accuracy: 0.7139 - val_loss: 0.5857 - val_accuracy: 0.6868\n",
      "Epoch 80/175\n",
      "60/60 [==============================] - 1s 15ms/step - loss: 0.5622 - accuracy: 0.7197 - val_loss: 0.5802 - val_accuracy: 0.7031\n",
      "Epoch 81/175\n",
      "60/60 [==============================] - 1s 15ms/step - loss: 0.5661 - accuracy: 0.7197 - val_loss: 0.5887 - val_accuracy: 0.6868\n",
      "Epoch 82/175\n",
      "60/60 [==============================] - 1s 15ms/step - loss: 0.5654 - accuracy: 0.7193 - val_loss: 0.5762 - val_accuracy: 0.7068\n",
      "Epoch 83/175\n",
      "60/60 [==============================] - 1s 15ms/step - loss: 0.5614 - accuracy: 0.7169 - val_loss: 0.5800 - val_accuracy: 0.7039\n",
      "Epoch 84/175\n",
      "60/60 [==============================] - 1s 15ms/step - loss: 0.5653 - accuracy: 0.7193 - val_loss: 0.5804 - val_accuracy: 0.7083\n",
      "Epoch 85/175\n",
      "60/60 [==============================] - 1s 15ms/step - loss: 0.5630 - accuracy: 0.7186 - val_loss: 0.5781 - val_accuracy: 0.6942\n",
      "Epoch 86/175\n",
      "60/60 [==============================] - 1s 15ms/step - loss: 0.5614 - accuracy: 0.7215 - val_loss: 0.5815 - val_accuracy: 0.7009\n",
      "Epoch 87/175\n",
      "60/60 [==============================] - 1s 15ms/step - loss: 0.5619 - accuracy: 0.7241 - val_loss: 0.5839 - val_accuracy: 0.6942\n",
      "Epoch 88/175\n",
      "60/60 [==============================] - 1s 15ms/step - loss: 0.5597 - accuracy: 0.7199 - val_loss: 0.5772 - val_accuracy: 0.7061\n",
      "Epoch 89/175\n",
      "60/60 [==============================] - 1s 15ms/step - loss: 0.5606 - accuracy: 0.7227 - val_loss: 0.5779 - val_accuracy: 0.7024\n",
      "Epoch 90/175\n",
      "60/60 [==============================] - 1s 15ms/step - loss: 0.5642 - accuracy: 0.7173 - val_loss: 0.5882 - val_accuracy: 0.6957\n",
      "Epoch 91/175\n",
      "60/60 [==============================] - 1s 15ms/step - loss: 0.5616 - accuracy: 0.7261 - val_loss: 0.5855 - val_accuracy: 0.6987\n",
      "Epoch 92/175\n",
      "60/60 [==============================] - 1s 15ms/step - loss: 0.5620 - accuracy: 0.7212 - val_loss: 0.5768 - val_accuracy: 0.6994\n",
      "Epoch 93/175\n",
      "60/60 [==============================] - 1s 14ms/step - loss: 0.5610 - accuracy: 0.7252 - val_loss: 0.5792 - val_accuracy: 0.6942\n",
      "Epoch 94/175\n",
      "60/60 [==============================] - 1s 15ms/step - loss: 0.5593 - accuracy: 0.7204 - val_loss: 0.5942 - val_accuracy: 0.6979\n",
      "Epoch 95/175\n",
      "60/60 [==============================] - 1s 15ms/step - loss: 0.5622 - accuracy: 0.7222 - val_loss: 0.5759 - val_accuracy: 0.7076\n",
      "Epoch 96/175\n",
      "60/60 [==============================] - 1s 14ms/step - loss: 0.5601 - accuracy: 0.7253 - val_loss: 0.5807 - val_accuracy: 0.7046\n",
      "Epoch 97/175\n",
      "60/60 [==============================] - 1s 15ms/step - loss: 0.5524 - accuracy: 0.7282 - val_loss: 0.5822 - val_accuracy: 0.6979\n",
      "Epoch 98/175\n",
      "60/60 [==============================] - 1s 14ms/step - loss: 0.5584 - accuracy: 0.7262 - val_loss: 0.5815 - val_accuracy: 0.7046\n",
      "Epoch 99/175\n",
      "60/60 [==============================] - 1s 15ms/step - loss: 0.5554 - accuracy: 0.7241 - val_loss: 0.5754 - val_accuracy: 0.6972\n",
      "Epoch 100/175\n",
      "60/60 [==============================] - 1s 15ms/step - loss: 0.5597 - accuracy: 0.7190 - val_loss: 0.5761 - val_accuracy: 0.6957\n",
      "Epoch 101/175\n",
      "60/60 [==============================] - 1s 15ms/step - loss: 0.5555 - accuracy: 0.7282 - val_loss: 0.5821 - val_accuracy: 0.6890\n",
      "Epoch 102/175\n",
      "60/60 [==============================] - 1s 15ms/step - loss: 0.5621 - accuracy: 0.7286 - val_loss: 0.5786 - val_accuracy: 0.7001\n",
      "Epoch 103/175\n",
      "60/60 [==============================] - 1s 15ms/step - loss: 0.5555 - accuracy: 0.7295 - val_loss: 0.5754 - val_accuracy: 0.6987\n",
      "Epoch 104/175\n",
      "60/60 [==============================] - 1s 15ms/step - loss: 0.5560 - accuracy: 0.7247 - val_loss: 0.5752 - val_accuracy: 0.6994\n",
      "Epoch 105/175\n",
      "60/60 [==============================] - 1s 15ms/step - loss: 0.5566 - accuracy: 0.7260 - val_loss: 0.5783 - val_accuracy: 0.6987\n",
      "Epoch 106/175\n",
      "60/60 [==============================] - 1s 14ms/step - loss: 0.5590 - accuracy: 0.7231 - val_loss: 0.5751 - val_accuracy: 0.6964\n",
      "Epoch 107/175\n",
      "60/60 [==============================] - 1s 14ms/step - loss: 0.5552 - accuracy: 0.7308 - val_loss: 0.5732 - val_accuracy: 0.7009\n",
      "Epoch 108/175\n",
      "60/60 [==============================] - 1s 15ms/step - loss: 0.5538 - accuracy: 0.7258 - val_loss: 0.5825 - val_accuracy: 0.6964\n",
      "Epoch 109/175\n",
      "60/60 [==============================] - 1s 15ms/step - loss: 0.5578 - accuracy: 0.7278 - val_loss: 0.5755 - val_accuracy: 0.7016\n",
      "Epoch 110/175\n",
      "60/60 [==============================] - 1s 15ms/step - loss: 0.5513 - accuracy: 0.7265 - val_loss: 0.5845 - val_accuracy: 0.6935\n",
      "Epoch 111/175\n",
      "60/60 [==============================] - 1s 15ms/step - loss: 0.5529 - accuracy: 0.7283 - val_loss: 0.5736 - val_accuracy: 0.7054\n",
      "Epoch 112/175\n",
      "60/60 [==============================] - 1s 15ms/step - loss: 0.5541 - accuracy: 0.7260 - val_loss: 0.5806 - val_accuracy: 0.7024\n",
      "Epoch 113/175\n",
      "60/60 [==============================] - 1s 15ms/step - loss: 0.5559 - accuracy: 0.7253 - val_loss: 0.5782 - val_accuracy: 0.7031\n",
      "Epoch 114/175\n",
      "60/60 [==============================] - 1s 15ms/step - loss: 0.5526 - accuracy: 0.7299 - val_loss: 0.5775 - val_accuracy: 0.7061\n",
      "Epoch 115/175\n",
      "60/60 [==============================] - 1s 15ms/step - loss: 0.5529 - accuracy: 0.7303 - val_loss: 0.5847 - val_accuracy: 0.6920\n",
      "Epoch 116/175\n",
      "60/60 [==============================] - 1s 15ms/step - loss: 0.5571 - accuracy: 0.7295 - val_loss: 0.5744 - val_accuracy: 0.7024\n",
      "Epoch 117/175\n",
      "60/60 [==============================] - 1s 15ms/step - loss: 0.5560 - accuracy: 0.7273 - val_loss: 0.6053 - val_accuracy: 0.6912\n",
      "Epoch 118/175\n",
      "60/60 [==============================] - 1s 14ms/step - loss: 0.5546 - accuracy: 0.7229 - val_loss: 0.5737 - val_accuracy: 0.7031\n",
      "Epoch 119/175\n",
      "60/60 [==============================] - 1s 15ms/step - loss: 0.5555 - accuracy: 0.7247 - val_loss: 0.5790 - val_accuracy: 0.7009\n",
      "Epoch 120/175\n",
      "60/60 [==============================] - 1s 15ms/step - loss: 0.5530 - accuracy: 0.7331 - val_loss: 0.5754 - val_accuracy: 0.7076\n",
      "Epoch 121/175\n",
      "60/60 [==============================] - 1s 15ms/step - loss: 0.5487 - accuracy: 0.7337 - val_loss: 0.5731 - val_accuracy: 0.7016\n",
      "Epoch 122/175\n",
      "60/60 [==============================] - 1s 15ms/step - loss: 0.5504 - accuracy: 0.7320 - val_loss: 0.5758 - val_accuracy: 0.7039\n",
      "Epoch 123/175\n",
      "60/60 [==============================] - 1s 14ms/step - loss: 0.5514 - accuracy: 0.7306 - val_loss: 0.5770 - val_accuracy: 0.6994\n",
      "Epoch 124/175\n",
      "60/60 [==============================] - 1s 15ms/step - loss: 0.5515 - accuracy: 0.7294 - val_loss: 0.5764 - val_accuracy: 0.7076\n",
      "Epoch 125/175\n",
      "60/60 [==============================] - 1s 15ms/step - loss: 0.5469 - accuracy: 0.7348 - val_loss: 0.5731 - val_accuracy: 0.7001\n",
      "Epoch 126/175\n",
      "60/60 [==============================] - 1s 15ms/step - loss: 0.5485 - accuracy: 0.7270 - val_loss: 0.5865 - val_accuracy: 0.7031\n",
      "Epoch 127/175\n",
      "60/60 [==============================] - 1s 15ms/step - loss: 0.5541 - accuracy: 0.7304 - val_loss: 0.5727 - val_accuracy: 0.7016\n",
      "Epoch 128/175\n",
      "60/60 [==============================] - 1s 15ms/step - loss: 0.5498 - accuracy: 0.7308 - val_loss: 0.5880 - val_accuracy: 0.6830\n",
      "Epoch 129/175\n",
      "60/60 [==============================] - 1s 15ms/step - loss: 0.5497 - accuracy: 0.7346 - val_loss: 0.5736 - val_accuracy: 0.7083\n",
      "Epoch 130/175\n",
      "60/60 [==============================] - 1s 15ms/step - loss: 0.5471 - accuracy: 0.7325 - val_loss: 0.5744 - val_accuracy: 0.7083\n",
      "Epoch 131/175\n",
      "60/60 [==============================] - 1s 15ms/step - loss: 0.5492 - accuracy: 0.7339 - val_loss: 0.5741 - val_accuracy: 0.7098\n",
      "Epoch 132/175\n",
      "60/60 [==============================] - 1s 15ms/step - loss: 0.5486 - accuracy: 0.7340 - val_loss: 0.5742 - val_accuracy: 0.7031\n",
      "Epoch 133/175\n",
      "60/60 [==============================] - 1s 15ms/step - loss: 0.5537 - accuracy: 0.7283 - val_loss: 0.5837 - val_accuracy: 0.6875\n",
      "Epoch 134/175\n",
      "60/60 [==============================] - 1s 15ms/step - loss: 0.5502 - accuracy: 0.7291 - val_loss: 0.5737 - val_accuracy: 0.6972\n",
      "Epoch 135/175\n",
      "60/60 [==============================] - 1s 15ms/step - loss: 0.5521 - accuracy: 0.7278 - val_loss: 0.5713 - val_accuracy: 0.7076\n",
      "Epoch 136/175\n",
      "60/60 [==============================] - 1s 15ms/step - loss: 0.5510 - accuracy: 0.7287 - val_loss: 0.5752 - val_accuracy: 0.6979\n",
      "Epoch 137/175\n",
      "60/60 [==============================] - 1s 15ms/step - loss: 0.5529 - accuracy: 0.7298 - val_loss: 0.5845 - val_accuracy: 0.6949\n",
      "Epoch 138/175\n",
      "60/60 [==============================] - 1s 15ms/step - loss: 0.5476 - accuracy: 0.7366 - val_loss: 0.5707 - val_accuracy: 0.7031\n",
      "Epoch 139/175\n",
      "60/60 [==============================] - 1s 15ms/step - loss: 0.5433 - accuracy: 0.7327 - val_loss: 0.5719 - val_accuracy: 0.7076\n",
      "Epoch 140/175\n",
      "60/60 [==============================] - 1s 15ms/step - loss: 0.5499 - accuracy: 0.7312 - val_loss: 0.5687 - val_accuracy: 0.7054\n",
      "Epoch 141/175\n",
      "60/60 [==============================] - 1s 16ms/step - loss: 0.5477 - accuracy: 0.7335 - val_loss: 0.5727 - val_accuracy: 0.6994\n",
      "Epoch 142/175\n",
      "60/60 [==============================] - 1s 15ms/step - loss: 0.5421 - accuracy: 0.7381 - val_loss: 0.5758 - val_accuracy: 0.6949\n",
      "Epoch 143/175\n",
      "60/60 [==============================] - 1s 15ms/step - loss: 0.5446 - accuracy: 0.7364 - val_loss: 0.5702 - val_accuracy: 0.7121\n",
      "Epoch 144/175\n",
      "60/60 [==============================] - 1s 15ms/step - loss: 0.5438 - accuracy: 0.7356 - val_loss: 0.5689 - val_accuracy: 0.7046\n",
      "Epoch 145/175\n",
      "60/60 [==============================] - 1s 16ms/step - loss: 0.5405 - accuracy: 0.7349 - val_loss: 0.5726 - val_accuracy: 0.6957\n",
      "Epoch 146/175\n",
      "60/60 [==============================] - 1s 15ms/step - loss: 0.5458 - accuracy: 0.7337 - val_loss: 0.5746 - val_accuracy: 0.7024\n",
      "Epoch 147/175\n",
      "60/60 [==============================] - 1s 15ms/step - loss: 0.5488 - accuracy: 0.7362 - val_loss: 0.5727 - val_accuracy: 0.7091\n",
      "Epoch 148/175\n",
      "60/60 [==============================] - 1s 15ms/step - loss: 0.5495 - accuracy: 0.7307 - val_loss: 0.5785 - val_accuracy: 0.7009\n",
      "Epoch 149/175\n",
      "60/60 [==============================] - 1s 15ms/step - loss: 0.5501 - accuracy: 0.7328 - val_loss: 0.5835 - val_accuracy: 0.6912\n",
      "Epoch 150/175\n",
      "60/60 [==============================] - 1s 14ms/step - loss: 0.5422 - accuracy: 0.7375 - val_loss: 0.5730 - val_accuracy: 0.6994\n",
      "Epoch 151/175\n",
      "60/60 [==============================] - 1s 15ms/step - loss: 0.5431 - accuracy: 0.7340 - val_loss: 0.5727 - val_accuracy: 0.6994\n",
      "Epoch 152/175\n",
      "60/60 [==============================] - 1s 15ms/step - loss: 0.5436 - accuracy: 0.7345 - val_loss: 0.5752 - val_accuracy: 0.7001\n",
      "Epoch 153/175\n",
      "60/60 [==============================] - 1s 14ms/step - loss: 0.5414 - accuracy: 0.7415 - val_loss: 0.5737 - val_accuracy: 0.7068\n",
      "Epoch 154/175\n",
      "60/60 [==============================] - 1s 15ms/step - loss: 0.5411 - accuracy: 0.7419 - val_loss: 0.5717 - val_accuracy: 0.7076\n",
      "Epoch 155/175\n",
      "60/60 [==============================] - 1s 15ms/step - loss: 0.5428 - accuracy: 0.7371 - val_loss: 0.5712 - val_accuracy: 0.7054\n",
      "Epoch 156/175\n",
      "60/60 [==============================] - 1s 15ms/step - loss: 0.5438 - accuracy: 0.7344 - val_loss: 0.5731 - val_accuracy: 0.6979\n",
      "Epoch 157/175\n",
      "60/60 [==============================] - 1s 15ms/step - loss: 0.5422 - accuracy: 0.7423 - val_loss: 0.5737 - val_accuracy: 0.7054\n",
      "Epoch 158/175\n",
      "60/60 [==============================] - 1s 15ms/step - loss: 0.5467 - accuracy: 0.7381 - val_loss: 0.5736 - val_accuracy: 0.7024\n",
      "Epoch 159/175\n",
      "60/60 [==============================] - 1s 15ms/step - loss: 0.5415 - accuracy: 0.7360 - val_loss: 0.5853 - val_accuracy: 0.7024\n",
      "Epoch 160/175\n",
      "60/60 [==============================] - 1s 15ms/step - loss: 0.5411 - accuracy: 0.7390 - val_loss: 0.5845 - val_accuracy: 0.7016\n",
      "Epoch 161/175\n",
      "60/60 [==============================] - 1s 14ms/step - loss: 0.5435 - accuracy: 0.7429 - val_loss: 0.5773 - val_accuracy: 0.6957\n",
      "Epoch 162/175\n",
      "60/60 [==============================] - 1s 15ms/step - loss: 0.5436 - accuracy: 0.7378 - val_loss: 0.5693 - val_accuracy: 0.7001\n",
      "Epoch 163/175\n",
      "60/60 [==============================] - 1s 15ms/step - loss: 0.5393 - accuracy: 0.7412 - val_loss: 0.5775 - val_accuracy: 0.6935\n",
      "Epoch 164/175\n",
      "60/60 [==============================] - 1s 15ms/step - loss: 0.5417 - accuracy: 0.7415 - val_loss: 0.5753 - val_accuracy: 0.7009\n",
      "Epoch 165/175\n",
      "60/60 [==============================] - 1s 15ms/step - loss: 0.5425 - accuracy: 0.7383 - val_loss: 0.5728 - val_accuracy: 0.7068\n",
      "Epoch 166/175\n",
      "60/60 [==============================] - 1s 16ms/step - loss: 0.5507 - accuracy: 0.7306 - val_loss: 0.5725 - val_accuracy: 0.7031\n",
      "Epoch 167/175\n",
      "60/60 [==============================] - 1s 15ms/step - loss: 0.5450 - accuracy: 0.7339 - val_loss: 0.5713 - val_accuracy: 0.7076\n",
      "Epoch 168/175\n",
      "60/60 [==============================] - 1s 15ms/step - loss: 0.5492 - accuracy: 0.7279 - val_loss: 0.5868 - val_accuracy: 0.7068\n",
      "Epoch 169/175\n",
      "60/60 [==============================] - 1s 16ms/step - loss: 0.5489 - accuracy: 0.7365 - val_loss: 0.5719 - val_accuracy: 0.6972\n",
      "Epoch 170/175\n",
      "60/60 [==============================] - 1s 15ms/step - loss: 0.5400 - accuracy: 0.7395 - val_loss: 0.5705 - val_accuracy: 0.7061\n",
      "Epoch 171/175\n",
      "60/60 [==============================] - 1s 15ms/step - loss: 0.5427 - accuracy: 0.7373 - val_loss: 0.5824 - val_accuracy: 0.6979\n",
      "Epoch 172/175\n",
      "60/60 [==============================] - 1s 15ms/step - loss: 0.5397 - accuracy: 0.7454 - val_loss: 0.5714 - val_accuracy: 0.7121\n",
      "Epoch 173/175\n",
      "60/60 [==============================] - 1s 15ms/step - loss: 0.5418 - accuracy: 0.7370 - val_loss: 0.5723 - val_accuracy: 0.7046\n",
      "Epoch 174/175\n",
      "60/60 [==============================] - 1s 15ms/step - loss: 0.5407 - accuracy: 0.7402 - val_loss: 0.5717 - val_accuracy: 0.7091\n",
      "Epoch 175/175\n",
      "60/60 [==============================] - 1s 15ms/step - loss: 0.5363 - accuracy: 0.7454 - val_loss: 0.5720 - val_accuracy: 0.7009\n"
     ]
    }
   ],
   "source": [
    "epochs=175\n",
    "history = model.fit(\n",
    "  train,\n",
    "  validation_data=test,\n",
    "  epochs=epochs\n",
    ")"
   ]
  },
  {
   "cell_type": "code",
   "execution_count": 9,
   "metadata": {},
   "outputs": [
    {
     "data": {
      "image/png": "[encoded data removed]",
      "text/plain": [
       "<Figure size 576x576 with 2 Axes>"
      ]
     },
     "metadata": {
      "needs_background": "light"
     },
     "output_type": "display_data"
    }
   ],
   "source": [
    "acc = history.history['accuracy']\n",
    "val_acc = history.history['val_accuracy']\n",
    "\n",
    "loss = history.history['loss']\n",
    "val_loss = history.history['val_loss']\n",
    "\n",
    "epochs_range = range(epochs)\n",
    "\n",
    "plt.figure(figsize=(8, 8))\n",
    "plt.subplot(1, 2, 1)\n",
    "plt.plot(epochs_range, acc, label='Training Accuracy')\n",
    "plt.plot(epochs_range, val_acc, label='Validation Accuracy')\n",
    "plt.legend(loc='lower right')\n",
    "plt.title('Training and Validation Accuracy')\n",
    "\n",
    "plt.subplot(1, 2, 2)\n",
    "plt.plot(epochs_range, loss, label='Training Loss')\n",
    "plt.plot(epochs_range, val_loss, label='Validation Loss')\n",
    "plt.legend(loc='upper right')\n",
    "plt.title('Training and Validation Loss')\n",
    "plt.show()"
   ]
  },
  {
   "cell_type": "code",
   "execution_count": 10,
   "metadata": {},
   "outputs": [
    {
     "name": "stdout",
     "output_type": "stream",
     "text": [
      "11/11 [==============================] - 0s 12ms/step - loss: 0.5720 - accuracy: 0.7009\n",
      "Test accuracy : 0.7008928656578064\n"
     ]
    }
   ],
   "source": [
    "loss, accuracy = model.evaluate(test)\n",
    "print('Test accuracy :', accuracy)"
   ]
  },
  {
   "cell_type": "code",
   "execution_count": 11,
   "metadata": {},
   "outputs": [
    {
     "name": "stdout",
     "output_type": "stream",
     "text": [
      "Precision:  0.6644474\n",
      "Recall:  0.54654986\n"
     ]
    }
   ],
   "source": [
    "y_pred = model.predict(test).argmax(axis=-1)\n",
    "y_true = test.classes\n",
    "\n",
    "m = tf.keras.metrics.Precision()\n",
    "m.update_state(y_pred, y_true)\n",
    "print(\"Precision: \" , m.result().numpy())\n",
    "\n",
    "m = tf.keras.metrics.Recall()\n",
    "m.update_state(y_pred, y_true)\n",
    "print(\"Recall: \" , m.result().numpy())"
   ]
  },
  {
   "cell_type": "code",
   "execution_count": 12,
   "metadata": {},
   "outputs": [
    {
     "data": {
      "text/plain": [
       "<tf.Tensor: shape=(2, 2), dtype=int32, numpy=\n",
       "array([[179, 252],\n",
       "       [414, 499]], dtype=int32)>"
      ]
     },
     "execution_count": 12,
     "metadata": {},
     "output_type": "execute_result"
    }
   ],
   "source": [
    "tf.math.confusion_matrix(y_pred, y_true)"
   ]
  },
  {
   "cell_type": "code",
   "execution_count": 13,
   "metadata": {},
   "outputs": [],
   "source": [
    "# Save the weights model.\n",
    "model.save('./data/humanModel/dropout_model_v2.h5')"
   ]
  },
  {
   "cell_type": "code",
   "execution_count": 14,
   "metadata": {},
   "outputs": [],
   "source": [
    "# save model in js format\n",
    "# import tensorflowjs as tfjs\n",
    "# tfjs.converters.save_keras_model(model, 'data/humanModel/js_model_v0')"
   ]
  },
  {
   "cell_type": "code",
   "execution_count": 15,
   "metadata": {},
   "outputs": [],
   "source": [
    "# new_model = tf.keras.models.load_model('./data/humanModel/mode_v0')\n",
    "\n",
    "# # Check its architecture\n",
    "# new_model.summary()"
   ]
  },
  {
   "cell_type": "markdown",
   "metadata": {},
   "source": [
    "### Predict on new data"
   ]
  },
  {
   "cell_type": "code",
   "execution_count": 16,
   "metadata": {},
   "outputs": [
    {
     "data": {
      "image/png": "[encoded data removed]",
      "text/plain": [
       "<Figure size 432x288 with 1 Axes>"
      ]
     },
     "metadata": {
      "needs_background": "light"
     },
     "output_type": "display_data"
    },
    {
     "name": "stdout",
     "output_type": "stream",
     "text": [
      "This image most likely belongs to closest_bush with a 73.86 percent confidence.\n",
      "True class is closest_bush.\n"
     ]
    }
   ],
   "source": [
    "import glob\n",
    "\n",
    "classes = ['closest_bush', 'follow_stag']\n",
    "random_class = random.choice(classes)\n",
    "\n",
    "path = \"./data/humanModel/dataset_split/val/\"+random_class\n",
    "all_images_path = glob.glob(path + \"/*.png\")\n",
    "random_path = random.choice(all_images_path)\n",
    "\n",
    "import matplotlib.pyplot as plt\n",
    "import matplotlib.image as mpimg\n",
    "img = mpimg.imread(random_path)\n",
    "imgplot = plt.imshow(img)\n",
    "plt.show()\n",
    "\n",
    "img = keras.preprocessing.image.load_img(\n",
    "    random_path, target_size=(IMG_SIZE, IMG_SIZE)\n",
    ")\n",
    "img_array = keras.preprocessing.image.img_to_array(img)\n",
    "img_array = tf.expand_dims(img_array, 0) # Create a batch\n",
    "img_array = img_array/255\n",
    "\n",
    "predictions = model.predict(img_array)[0]\n",
    "\n",
    "\n",
    "print(\n",
    "    \"This image most likely belongs to {} with a {:.2f} percent confidence.\"\n",
    "    .format(classes[np.argmax(predictions)], 100 * np.max(predictions))\n",
    ")\n",
    "print(\"True class is {}.\".format(random_class))"
   ]
  }
 ],
 "metadata": {
  "interpreter": {
   "hash": "ad60775ae12af945b53c5c94c294ef05f229143b8585a0d23625a81e181fdccc"
  },
  "kernelspec": {
   "display_name": "Python 3.7.4 64-bit ('tf-gpu': conda)",
   "name": "python3"
  },
  "language_info": {
   "codemirror_mode": {
    "name": "ipython",
    "version": 3
   },
   "file_extension": ".py",
   "mimetype": "text/x-python",
   "name": "python",
   "nbconvert_exporter": "python",
   "pygments_lexer": "ipython3",
   "version": "3.7.4"
  }
 },
 "nbformat": 4,
 "nbformat_minor": 4
}
