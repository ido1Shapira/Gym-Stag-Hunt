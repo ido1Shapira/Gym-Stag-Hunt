{
 "cells": [
  {
   "cell_type": "code",
   "execution_count": 1,
   "metadata": {},
   "outputs": [],
   "source": [
    "import numpy as np\n",
    "import random\n",
    "import os\n",
    "os.environ['TF_CPP_MIN_LOG_LEVEL'] = '3'\n",
    "# os.environ['CUDA_VISIBLE_DEVICES'] = '-1'\n",
    "\n",
    "import shutil\n",
    "\n",
    "# ! pip install split-folders\n",
    "import splitfolders\n",
    "\n",
    "import tensorflow as tf\n",
    "from tensorflow import keras\n",
    "from tensorflow.keras import layers, regularizers\n",
    "from tensorflow.keras.models import Sequential\n",
    "\n",
    "from tensorflow.keras.preprocessing.image import ImageDataGenerator\n",
    "from tensorflow.keras.preprocessing import image\n",
    "\n",
    "import matplotlib.pyplot as plt\n",
    "\n",
    "rs = 42\n",
    "def reset_random_seeds(rs):\n",
    "   os.environ['PYTHONHASHSEED']=str(rs)\n",
    "   tf.random.set_seed(rs)\n",
    "   np.random.seed(rs)\n",
    "   random.seed(rs)\n",
    "reset_random_seeds(rs)"
   ]
  },
  {
   "cell_type": "markdown",
   "metadata": {},
   "source": [
    "remove prev saved database:"
   ]
  },
  {
   "cell_type": "code",
   "execution_count": 2,
   "metadata": {},
   "outputs": [],
   "source": [
    "dir_path = './data/humanModel/dataset_v0_split'\n",
    "if os.path.exists(dir_path):\n",
    "    shutil.rmtree(dir_path)\n",
    "else:\n",
    "    print(\"File not found in the directory\")"
   ]
  },
  {
   "cell_type": "markdown",
   "metadata": {},
   "source": [
    "# Part 1 - Data Preprocessing"
   ]
  },
  {
   "cell_type": "markdown",
   "metadata": {},
   "source": [
    "## Split into train , test data"
   ]
  },
  {
   "cell_type": "code",
   "execution_count": 3,
   "metadata": {},
   "outputs": [
    {
     "name": "stderr",
     "output_type": "stream",
     "text": [
      "Copying files: 6101 files [00:00, 13766.01 files/s]\n"
     ]
    }
   ],
   "source": [
    "# train, test split\n",
    "splitfolders.ratio('./data/humanModel/dataset_v0/', output=dir_path, ratio=(0.8, 0.2))"
   ]
  },
  {
   "cell_type": "markdown",
   "metadata": {},
   "source": [
    "### Preprocessing the Training set"
   ]
  },
  {
   "cell_type": "code",
   "execution_count": 4,
   "metadata": {},
   "outputs": [
    {
     "name": "stdout",
     "output_type": "stream",
     "text": [
      "Found 4879 images belonging to 4 classes.\n",
      "Found 1222 images belonging to 4 classes.\n"
     ]
    }
   ],
   "source": [
    "batch_size = 64\n",
    "IMG_SIZE = 5\n",
    "\n",
    "datagen = ImageDataGenerator(rescale = 1./255)\n",
    "train = datagen.flow_from_directory((dir_path+'/train'),\n",
    "                                          target_size = (IMG_SIZE,IMG_SIZE), batch_size = batch_size, seed=rs, class_mode='sparse')\n",
    "\n",
    "test = datagen.flow_from_directory((dir_path+'/val'),\n",
    "                                            target_size = (IMG_SIZE, IMG_SIZE), batch_size = batch_size, seed=rs, class_mode='sparse')"
   ]
  },
  {
   "cell_type": "markdown",
   "metadata": {},
   "source": [
    "## View some data"
   ]
  },
  {
   "cell_type": "code",
   "execution_count": 5,
   "metadata": {},
   "outputs": [],
   "source": [
    "num_classes = 4\n",
    "\n",
    "model = Sequential([\n",
    "  layers.Conv2D(4, 3, padding='same', activation='relu', kernel_regularizer=regularizers.l2(0.001), input_shape=[IMG_SIZE,IMG_SIZE,3]),\n",
    "  layers.Conv2D(8, 3, padding='same', activation='relu', kernel_regularizer=regularizers.l2(0.001)),\n",
    "  # layers.MaxPooling2D(),\n",
    "  layers.Conv2D(8, 2, padding='same', activation='relu', kernel_regularizer=regularizers.l2(0.001)),\n",
    "  layers.Dropout(0.5),\n",
    "  layers.Flatten(),\n",
    "  layers.Dense(32, activation='relu', kernel_regularizer=regularizers.l2(0.001)),\n",
    "  layers.Dense(num_classes, activation='softmax')\n",
    "])"
   ]
  },
  {
   "cell_type": "code",
   "execution_count": 6,
   "metadata": {},
   "outputs": [],
   "source": [
    "model.compile(optimizer='adam',\n",
    "              loss=tf.keras.losses.SparseCategoricalCrossentropy(from_logits=False),\n",
    "              metrics=['accuracy'])"
   ]
  },
  {
   "cell_type": "code",
   "execution_count": 7,
   "metadata": {},
   "outputs": [
    {
     "name": "stdout",
     "output_type": "stream",
     "text": [
      "Model: \"sequential\"\n",
      "_________________________________________________________________\n",
      "Layer (type)                 Output Shape              Param #   \n",
      "=================================================================\n",
      "conv2d (Conv2D)              (None, 5, 5, 4)           112       \n",
      "_________________________________________________________________\n",
      "conv2d_1 (Conv2D)            (None, 5, 5, 8)           296       \n",
      "_________________________________________________________________\n",
      "conv2d_2 (Conv2D)            (None, 5, 5, 8)           264       \n",
      "_________________________________________________________________\n",
      "dropout (Dropout)            (None, 5, 5, 8)           0         \n",
      "_________________________________________________________________\n",
      "flatten (Flatten)            (None, 200)               0         \n",
      "_________________________________________________________________\n",
      "dense (Dense)                (None, 32)                6432      \n",
      "_________________________________________________________________\n",
      "dense_1 (Dense)              (None, 4)                 132       \n",
      "=================================================================\n",
      "Total params: 7,236\n",
      "Trainable params: 7,236\n",
      "Non-trainable params: 0\n",
      "_________________________________________________________________\n"
     ]
    }
   ],
   "source": [
    "model.summary()"
   ]
  },
  {
   "cell_type": "code",
   "execution_count": 8,
   "metadata": {
    "scrolled": true
   },
   "outputs": [
    {
     "name": "stdout",
     "output_type": "stream",
     "text": [
      "Epoch 1/150\n",
      "77/77 [==============================] - 2s 12ms/step - loss: 1.4415 - accuracy: 0.2730 - val_loss: 1.4268 - val_accuracy: 0.2684\n",
      "Epoch 2/150\n",
      "77/77 [==============================] - 1s 9ms/step - loss: 1.4132 - accuracy: 0.2900 - val_loss: 1.3939 - val_accuracy: 0.3175\n",
      "Epoch 3/150\n",
      "77/77 [==============================] - 1s 10ms/step - loss: 1.3619 - accuracy: 0.3644 - val_loss: 1.3291 - val_accuracy: 0.3920\n",
      "Epoch 4/150\n",
      "77/77 [==============================] - 1s 10ms/step - loss: 1.3153 - accuracy: 0.4052 - val_loss: 1.3014 - val_accuracy: 0.4133\n",
      "Epoch 5/150\n",
      "77/77 [==============================] - 1s 10ms/step - loss: 1.2976 - accuracy: 0.4193 - val_loss: 1.2912 - val_accuracy: 0.4296\n",
      "Epoch 6/150\n",
      "77/77 [==============================] - 1s 10ms/step - loss: 1.2857 - accuracy: 0.4230 - val_loss: 1.2780 - val_accuracy: 0.4116\n",
      "Epoch 7/150\n",
      "77/77 [==============================] - 1s 10ms/step - loss: 1.2781 - accuracy: 0.4290 - val_loss: 1.2728 - val_accuracy: 0.4313\n",
      "Epoch 8/150\n",
      "77/77 [==============================] - 1s 10ms/step - loss: 1.2693 - accuracy: 0.4386 - val_loss: 1.2654 - val_accuracy: 0.4411\n",
      "Epoch 9/150\n",
      "77/77 [==============================] - 1s 10ms/step - loss: 1.2639 - accuracy: 0.4390 - val_loss: 1.2472 - val_accuracy: 0.4484\n",
      "Epoch 10/150\n",
      "77/77 [==============================] - 1s 10ms/step - loss: 1.2449 - accuracy: 0.4460 - val_loss: 1.2306 - val_accuracy: 0.4566\n",
      "Epoch 11/150\n",
      "77/77 [==============================] - 1s 10ms/step - loss: 1.2377 - accuracy: 0.4515 - val_loss: 1.2317 - val_accuracy: 0.4574\n",
      "Epoch 12/150\n",
      "77/77 [==============================] - 1s 10ms/step - loss: 1.2216 - accuracy: 0.4648 - val_loss: 1.2069 - val_accuracy: 0.4795\n",
      "Epoch 13/150\n",
      "77/77 [==============================] - 1s 10ms/step - loss: 1.2088 - accuracy: 0.4739 - val_loss: 1.1853 - val_accuracy: 0.4820\n",
      "Epoch 14/150\n",
      "77/77 [==============================] - 1s 10ms/step - loss: 1.1896 - accuracy: 0.4810 - val_loss: 1.1733 - val_accuracy: 0.4902\n",
      "Epoch 15/150\n",
      "77/77 [==============================] - 1s 10ms/step - loss: 1.1827 - accuracy: 0.4886 - val_loss: 1.1727 - val_accuracy: 0.4902\n",
      "Epoch 16/150\n",
      "77/77 [==============================] - 1s 10ms/step - loss: 1.1716 - accuracy: 0.4888 - val_loss: 1.1661 - val_accuracy: 0.5065\n",
      "Epoch 17/150\n",
      "77/77 [==============================] - 1s 10ms/step - loss: 1.1625 - accuracy: 0.4985 - val_loss: 1.1560 - val_accuracy: 0.5155\n",
      "Epoch 18/150\n",
      "77/77 [==============================] - 1s 10ms/step - loss: 1.1560 - accuracy: 0.5011 - val_loss: 1.1498 - val_accuracy: 0.5074\n",
      "Epoch 19/150\n",
      "77/77 [==============================] - 1s 10ms/step - loss: 1.1469 - accuracy: 0.5050 - val_loss: 1.1497 - val_accuracy: 0.5196\n",
      "Epoch 20/150\n",
      "77/77 [==============================] - 1s 10ms/step - loss: 1.1411 - accuracy: 0.5188 - val_loss: 1.1449 - val_accuracy: 0.5090\n",
      "Epoch 21/150\n",
      "77/77 [==============================] - 1s 10ms/step - loss: 1.1347 - accuracy: 0.5192 - val_loss: 1.1374 - val_accuracy: 0.5229\n",
      "Epoch 22/150\n",
      "77/77 [==============================] - 1s 10ms/step - loss: 1.1367 - accuracy: 0.5116 - val_loss: 1.1314 - val_accuracy: 0.5205\n",
      "Epoch 23/150\n",
      "77/77 [==============================] - 1s 10ms/step - loss: 1.1269 - accuracy: 0.5177 - val_loss: 1.1311 - val_accuracy: 0.5270\n",
      "Epoch 24/150\n",
      "77/77 [==============================] - 1s 11ms/step - loss: 1.1256 - accuracy: 0.5163 - val_loss: 1.1233 - val_accuracy: 0.5188\n",
      "Epoch 25/150\n",
      "77/77 [==============================] - 1s 10ms/step - loss: 1.1182 - accuracy: 0.5198 - val_loss: 1.1198 - val_accuracy: 0.5237\n",
      "Epoch 26/150\n",
      "77/77 [==============================] - 1s 10ms/step - loss: 1.1118 - accuracy: 0.5341 - val_loss: 1.1159 - val_accuracy: 0.5311\n",
      "Epoch 27/150\n",
      "77/77 [==============================] - 1s 10ms/step - loss: 1.1059 - accuracy: 0.5280 - val_loss: 1.1112 - val_accuracy: 0.5327\n",
      "Epoch 28/150\n",
      "77/77 [==============================] - 1s 10ms/step - loss: 1.1090 - accuracy: 0.5323 - val_loss: 1.1122 - val_accuracy: 0.5352\n",
      "Epoch 29/150\n",
      "77/77 [==============================] - 1s 10ms/step - loss: 1.1017 - accuracy: 0.5366 - val_loss: 1.1169 - val_accuracy: 0.5401\n",
      "Epoch 30/150\n",
      "77/77 [==============================] - 1s 10ms/step - loss: 1.0923 - accuracy: 0.5378 - val_loss: 1.1045 - val_accuracy: 0.5295\n",
      "Epoch 31/150\n",
      "77/77 [==============================] - 1s 10ms/step - loss: 1.0857 - accuracy: 0.5450 - val_loss: 1.1054 - val_accuracy: 0.5327\n",
      "Epoch 32/150\n",
      "77/77 [==============================] - 1s 10ms/step - loss: 1.0861 - accuracy: 0.5483 - val_loss: 1.1086 - val_accuracy: 0.5237\n",
      "Epoch 33/150\n",
      "77/77 [==============================] - 1s 10ms/step - loss: 1.0832 - accuracy: 0.5339 - val_loss: 1.0948 - val_accuracy: 0.5360\n",
      "Epoch 34/150\n",
      "77/77 [==============================] - 1s 10ms/step - loss: 1.0782 - accuracy: 0.5427 - val_loss: 1.1020 - val_accuracy: 0.5327\n",
      "Epoch 35/150\n",
      "77/77 [==============================] - 1s 10ms/step - loss: 1.0701 - accuracy: 0.5532 - val_loss: 1.0882 - val_accuracy: 0.5434\n",
      "Epoch 36/150\n",
      "77/77 [==============================] - 1s 10ms/step - loss: 1.0731 - accuracy: 0.5376 - val_loss: 1.0871 - val_accuracy: 0.5409\n",
      "Epoch 37/150\n",
      "77/77 [==============================] - 1s 10ms/step - loss: 1.0725 - accuracy: 0.5534 - val_loss: 1.0836 - val_accuracy: 0.5450\n",
      "Epoch 38/150\n",
      "77/77 [==============================] - 1s 11ms/step - loss: 1.0641 - accuracy: 0.5540 - val_loss: 1.0866 - val_accuracy: 0.5483\n",
      "Epoch 39/150\n",
      "77/77 [==============================] - 1s 10ms/step - loss: 1.0625 - accuracy: 0.5548 - val_loss: 1.0903 - val_accuracy: 0.5401\n",
      "Epoch 40/150\n",
      "77/77 [==============================] - 1s 10ms/step - loss: 1.0635 - accuracy: 0.5552 - val_loss: 1.0769 - val_accuracy: 0.5516\n",
      "Epoch 41/150\n",
      "77/77 [==============================] - 1s 10ms/step - loss: 1.0537 - accuracy: 0.5595 - val_loss: 1.0790 - val_accuracy: 0.5516\n",
      "Epoch 42/150\n",
      "77/77 [==============================] - 1s 10ms/step - loss: 1.0477 - accuracy: 0.5653 - val_loss: 1.0809 - val_accuracy: 0.5573\n",
      "Epoch 43/150\n",
      "77/77 [==============================] - 1s 10ms/step - loss: 1.0569 - accuracy: 0.5542 - val_loss: 1.0684 - val_accuracy: 0.5540\n",
      "Epoch 44/150\n",
      "77/77 [==============================] - 1s 9ms/step - loss: 1.0477 - accuracy: 0.5610 - val_loss: 1.0704 - val_accuracy: 0.5516\n",
      "Epoch 45/150\n",
      "77/77 [==============================] - 1s 9ms/step - loss: 1.0458 - accuracy: 0.5606 - val_loss: 1.0638 - val_accuracy: 0.5589\n",
      "Epoch 46/150\n",
      "77/77 [==============================] - 1s 9ms/step - loss: 1.0400 - accuracy: 0.5702 - val_loss: 1.0702 - val_accuracy: 0.5524\n",
      "Epoch 47/150\n",
      "77/77 [==============================] - 1s 9ms/step - loss: 1.0363 - accuracy: 0.5669 - val_loss: 1.0637 - val_accuracy: 0.5622\n",
      "Epoch 48/150\n",
      "77/77 [==============================] - 1s 10ms/step - loss: 1.0360 - accuracy: 0.5669 - val_loss: 1.0716 - val_accuracy: 0.5516\n",
      "Epoch 49/150\n",
      "77/77 [==============================] - 1s 9ms/step - loss: 1.0370 - accuracy: 0.5684 - val_loss: 1.0578 - val_accuracy: 0.5646\n",
      "Epoch 50/150\n",
      "77/77 [==============================] - 1s 9ms/step - loss: 1.0363 - accuracy: 0.5720 - val_loss: 1.0647 - val_accuracy: 0.5548\n",
      "Epoch 51/150\n",
      "77/77 [==============================] - 1s 9ms/step - loss: 1.0253 - accuracy: 0.5786 - val_loss: 1.0762 - val_accuracy: 0.5671\n",
      "Epoch 52/150\n",
      "77/77 [==============================] - 1s 9ms/step - loss: 1.0279 - accuracy: 0.5718 - val_loss: 1.0651 - val_accuracy: 0.5638\n",
      "Epoch 53/150\n",
      "77/77 [==============================] - 1s 9ms/step - loss: 1.0272 - accuracy: 0.5725 - val_loss: 1.0600 - val_accuracy: 0.5671\n",
      "Epoch 54/150\n",
      "77/77 [==============================] - 1s 9ms/step - loss: 1.0249 - accuracy: 0.5727 - val_loss: 1.0653 - val_accuracy: 0.5646\n",
      "Epoch 55/150\n",
      "77/77 [==============================] - 1s 9ms/step - loss: 1.0208 - accuracy: 0.5839 - val_loss: 1.0585 - val_accuracy: 0.5720\n",
      "Epoch 56/150\n",
      "77/77 [==============================] - 1s 9ms/step - loss: 1.0148 - accuracy: 0.5784 - val_loss: 1.0521 - val_accuracy: 0.5736\n",
      "Epoch 57/150\n",
      "77/77 [==============================] - 1s 9ms/step - loss: 1.0194 - accuracy: 0.5864 - val_loss: 1.0535 - val_accuracy: 0.5696\n",
      "Epoch 58/150\n",
      "77/77 [==============================] - 1s 9ms/step - loss: 1.0204 - accuracy: 0.5854 - val_loss: 1.0517 - val_accuracy: 0.5753\n",
      "Epoch 59/150\n",
      "77/77 [==============================] - 1s 9ms/step - loss: 1.0137 - accuracy: 0.5788 - val_loss: 1.0541 - val_accuracy: 0.5638\n",
      "Epoch 60/150\n",
      "77/77 [==============================] - 1s 9ms/step - loss: 1.0138 - accuracy: 0.5833 - val_loss: 1.0548 - val_accuracy: 0.5753\n",
      "Epoch 61/150\n",
      "77/77 [==============================] - 1s 9ms/step - loss: 1.0157 - accuracy: 0.5845 - val_loss: 1.0540 - val_accuracy: 0.5679\n",
      "Epoch 62/150\n",
      "77/77 [==============================] - 1s 9ms/step - loss: 1.0092 - accuracy: 0.5925 - val_loss: 1.0442 - val_accuracy: 0.5696\n",
      "Epoch 63/150\n",
      "77/77 [==============================] - 1s 9ms/step - loss: 1.0108 - accuracy: 0.5911 - val_loss: 1.0463 - val_accuracy: 0.5753\n",
      "Epoch 64/150\n",
      "77/77 [==============================] - 1s 9ms/step - loss: 1.0000 - accuracy: 0.5909 - val_loss: 1.0505 - val_accuracy: 0.5769\n",
      "Epoch 65/150\n",
      "77/77 [==============================] - 1s 9ms/step - loss: 0.9991 - accuracy: 0.5960 - val_loss: 1.0467 - val_accuracy: 0.5736\n",
      "Epoch 66/150\n",
      "77/77 [==============================] - 1s 9ms/step - loss: 1.0052 - accuracy: 0.5905 - val_loss: 1.0471 - val_accuracy: 0.5712\n",
      "Epoch 67/150\n",
      "77/77 [==============================] - 1s 9ms/step - loss: 1.0027 - accuracy: 0.5921 - val_loss: 1.0457 - val_accuracy: 0.5810\n",
      "Epoch 68/150\n",
      "77/77 [==============================] - 1s 9ms/step - loss: 1.0017 - accuracy: 0.5993 - val_loss: 1.0569 - val_accuracy: 0.5753\n",
      "Epoch 69/150\n",
      "77/77 [==============================] - 1s 9ms/step - loss: 1.0055 - accuracy: 0.5936 - val_loss: 1.0462 - val_accuracy: 0.5794\n",
      "Epoch 70/150\n",
      "77/77 [==============================] - 1s 9ms/step - loss: 1.0071 - accuracy: 0.5909 - val_loss: 1.0511 - val_accuracy: 0.5867\n",
      "Epoch 71/150\n",
      "77/77 [==============================] - 1s 9ms/step - loss: 0.9933 - accuracy: 0.5913 - val_loss: 1.0563 - val_accuracy: 0.5794\n",
      "Epoch 72/150\n",
      "77/77 [==============================] - 1s 9ms/step - loss: 0.9976 - accuracy: 0.5938 - val_loss: 1.0437 - val_accuracy: 0.5769\n",
      "Epoch 73/150\n",
      "77/77 [==============================] - 1s 9ms/step - loss: 0.9990 - accuracy: 0.5944 - val_loss: 1.0445 - val_accuracy: 0.5745\n",
      "Epoch 74/150\n",
      "77/77 [==============================] - 1s 9ms/step - loss: 0.9954 - accuracy: 0.5952 - val_loss: 1.0335 - val_accuracy: 0.5892\n",
      "Epoch 75/150\n",
      "77/77 [==============================] - 1s 9ms/step - loss: 0.9855 - accuracy: 0.6026 - val_loss: 1.0329 - val_accuracy: 0.5859\n",
      "Epoch 76/150\n",
      "77/77 [==============================] - 1s 9ms/step - loss: 0.9907 - accuracy: 0.5954 - val_loss: 1.0347 - val_accuracy: 0.5843\n",
      "Epoch 77/150\n",
      "77/77 [==============================] - 1s 9ms/step - loss: 0.9824 - accuracy: 0.6001 - val_loss: 1.0409 - val_accuracy: 0.5900\n",
      "Epoch 78/150\n",
      "77/77 [==============================] - 1s 9ms/step - loss: 0.9884 - accuracy: 0.6014 - val_loss: 1.0373 - val_accuracy: 0.5884\n",
      "Epoch 79/150\n",
      "77/77 [==============================] - 1s 9ms/step - loss: 0.9877 - accuracy: 0.6104 - val_loss: 1.0392 - val_accuracy: 0.5802\n",
      "Epoch 80/150\n",
      "77/77 [==============================] - 1s 9ms/step - loss: 0.9853 - accuracy: 0.6104 - val_loss: 1.0342 - val_accuracy: 0.5917\n",
      "Epoch 81/150\n",
      "77/77 [==============================] - 1s 9ms/step - loss: 0.9849 - accuracy: 0.6096 - val_loss: 1.0282 - val_accuracy: 0.5900\n",
      "Epoch 82/150\n",
      "77/77 [==============================] - 1s 10ms/step - loss: 0.9941 - accuracy: 0.6081 - val_loss: 1.0324 - val_accuracy: 0.5810\n",
      "Epoch 83/150\n",
      "77/77 [==============================] - 1s 9ms/step - loss: 0.9867 - accuracy: 0.6028 - val_loss: 1.0365 - val_accuracy: 0.5892\n",
      "Epoch 84/150\n",
      "77/77 [==============================] - 1s 9ms/step - loss: 0.9715 - accuracy: 0.6030 - val_loss: 1.0335 - val_accuracy: 0.5917\n",
      "Epoch 85/150\n",
      "77/77 [==============================] - 1s 9ms/step - loss: 0.9784 - accuracy: 0.6030 - val_loss: 1.0417 - val_accuracy: 0.5835\n",
      "Epoch 86/150\n",
      "77/77 [==============================] - 1s 9ms/step - loss: 0.9747 - accuracy: 0.6122 - val_loss: 1.0347 - val_accuracy: 0.5917\n",
      "Epoch 87/150\n",
      "77/77 [==============================] - 1s 10ms/step - loss: 0.9829 - accuracy: 0.6044 - val_loss: 1.0353 - val_accuracy: 0.5966\n",
      "Epoch 88/150\n",
      "77/77 [==============================] - 1s 9ms/step - loss: 0.9784 - accuracy: 0.6061 - val_loss: 1.0308 - val_accuracy: 0.5867\n",
      "Epoch 89/150\n",
      "77/77 [==============================] - 1s 9ms/step - loss: 0.9756 - accuracy: 0.6077 - val_loss: 1.0301 - val_accuracy: 0.5949\n",
      "Epoch 90/150\n",
      "77/77 [==============================] - 1s 10ms/step - loss: 0.9731 - accuracy: 0.6071 - val_loss: 1.0393 - val_accuracy: 0.5917\n",
      "Epoch 91/150\n",
      "77/77 [==============================] - 1s 9ms/step - loss: 0.9705 - accuracy: 0.6147 - val_loss: 1.0381 - val_accuracy: 0.5949\n",
      "Epoch 92/150\n",
      "77/77 [==============================] - 1s 9ms/step - loss: 0.9753 - accuracy: 0.6061 - val_loss: 1.0345 - val_accuracy: 0.5925\n",
      "Epoch 93/150\n",
      "77/77 [==============================] - 1s 9ms/step - loss: 0.9776 - accuracy: 0.6089 - val_loss: 1.0326 - val_accuracy: 0.5876\n",
      "Epoch 94/150\n",
      "77/77 [==============================] - 1s 9ms/step - loss: 0.9696 - accuracy: 0.6200 - val_loss: 1.0332 - val_accuracy: 0.5933\n",
      "Epoch 95/150\n",
      "77/77 [==============================] - 1s 9ms/step - loss: 0.9710 - accuracy: 0.6116 - val_loss: 1.0308 - val_accuracy: 0.5990\n",
      "Epoch 96/150\n",
      "77/77 [==============================] - 1s 9ms/step - loss: 0.9759 - accuracy: 0.6071 - val_loss: 1.0368 - val_accuracy: 0.5941\n",
      "Epoch 97/150\n",
      "77/77 [==============================] - 1s 9ms/step - loss: 0.9723 - accuracy: 0.6091 - val_loss: 1.0356 - val_accuracy: 0.6023\n",
      "Epoch 98/150\n",
      "77/77 [==============================] - 1s 9ms/step - loss: 0.9754 - accuracy: 0.6110 - val_loss: 1.0318 - val_accuracy: 0.5917\n",
      "Epoch 99/150\n",
      "77/77 [==============================] - 1s 9ms/step - loss: 0.9692 - accuracy: 0.6128 - val_loss: 1.0322 - val_accuracy: 0.5941\n",
      "Epoch 100/150\n",
      "77/77 [==============================] - 1s 9ms/step - loss: 0.9757 - accuracy: 0.6022 - val_loss: 1.0309 - val_accuracy: 0.5859\n",
      "Epoch 101/150\n",
      "77/77 [==============================] - 1s 10ms/step - loss: 0.9627 - accuracy: 0.6151 - val_loss: 1.0336 - val_accuracy: 0.5990\n",
      "Epoch 102/150\n",
      "77/77 [==============================] - 1s 9ms/step - loss: 0.9736 - accuracy: 0.6085 - val_loss: 1.0285 - val_accuracy: 0.5974\n",
      "Epoch 103/150\n",
      "77/77 [==============================] - 1s 9ms/step - loss: 0.9673 - accuracy: 0.6130 - val_loss: 1.0351 - val_accuracy: 0.5925\n",
      "Epoch 104/150\n",
      "77/77 [==============================] - 1s 9ms/step - loss: 0.9680 - accuracy: 0.6112 - val_loss: 1.0277 - val_accuracy: 0.6023\n",
      "Epoch 105/150\n",
      "77/77 [==============================] - 1s 9ms/step - loss: 0.9575 - accuracy: 0.6169 - val_loss: 1.0263 - val_accuracy: 0.6023\n",
      "Epoch 106/150\n",
      "77/77 [==============================] - 1s 9ms/step - loss: 0.9694 - accuracy: 0.6093 - val_loss: 1.0320 - val_accuracy: 0.5966\n",
      "Epoch 107/150\n",
      "77/77 [==============================] - 1s 9ms/step - loss: 0.9621 - accuracy: 0.6194 - val_loss: 1.0286 - val_accuracy: 0.5982\n",
      "Epoch 108/150\n",
      "77/77 [==============================] - 1s 9ms/step - loss: 0.9652 - accuracy: 0.6104 - val_loss: 1.0353 - val_accuracy: 0.5966\n",
      "Epoch 109/150\n",
      "77/77 [==============================] - 1s 9ms/step - loss: 0.9589 - accuracy: 0.6173 - val_loss: 1.0385 - val_accuracy: 0.5941\n",
      "Epoch 110/150\n",
      "77/77 [==============================] - 1s 9ms/step - loss: 0.9660 - accuracy: 0.6169 - val_loss: 1.0319 - val_accuracy: 0.5957\n",
      "Epoch 111/150\n",
      "77/77 [==============================] - 1s 10ms/step - loss: 0.9628 - accuracy: 0.6149 - val_loss: 1.0323 - val_accuracy: 0.5957\n",
      "Epoch 112/150\n",
      "77/77 [==============================] - 1s 9ms/step - loss: 0.9626 - accuracy: 0.6137 - val_loss: 1.0359 - val_accuracy: 0.5941\n",
      "Epoch 113/150\n",
      "77/77 [==============================] - 1s 10ms/step - loss: 0.9608 - accuracy: 0.6122 - val_loss: 1.0366 - val_accuracy: 0.5949\n",
      "Epoch 114/150\n",
      "77/77 [==============================] - 1s 9ms/step - loss: 0.9618 - accuracy: 0.6171 - val_loss: 1.0242 - val_accuracy: 0.6007\n",
      "Epoch 115/150\n",
      "77/77 [==============================] - 1s 9ms/step - loss: 0.9636 - accuracy: 0.6212 - val_loss: 1.0269 - val_accuracy: 0.5998\n",
      "Epoch 116/150\n",
      "77/77 [==============================] - 1s 9ms/step - loss: 0.9543 - accuracy: 0.6206 - val_loss: 1.0289 - val_accuracy: 0.5966\n",
      "Epoch 117/150\n",
      "77/77 [==============================] - 1s 9ms/step - loss: 0.9668 - accuracy: 0.6124 - val_loss: 1.0265 - val_accuracy: 0.5974\n",
      "Epoch 118/150\n",
      "77/77 [==============================] - 1s 10ms/step - loss: 0.9509 - accuracy: 0.6237 - val_loss: 1.0340 - val_accuracy: 0.5990\n",
      "Epoch 119/150\n",
      "77/77 [==============================] - 1s 9ms/step - loss: 0.9601 - accuracy: 0.6177 - val_loss: 1.0314 - val_accuracy: 0.5941\n",
      "Epoch 120/150\n",
      "77/77 [==============================] - 1s 9ms/step - loss: 0.9498 - accuracy: 0.6210 - val_loss: 1.0262 - val_accuracy: 0.6015\n",
      "Epoch 121/150\n",
      "77/77 [==============================] - 1s 9ms/step - loss: 0.9577 - accuracy: 0.6145 - val_loss: 1.0242 - val_accuracy: 0.5949\n",
      "Epoch 122/150\n",
      "77/77 [==============================] - 1s 9ms/step - loss: 0.9555 - accuracy: 0.6221 - val_loss: 1.0396 - val_accuracy: 0.5892\n",
      "Epoch 123/150\n",
      "77/77 [==============================] - 1s 9ms/step - loss: 0.9485 - accuracy: 0.6214 - val_loss: 1.0277 - val_accuracy: 0.5908\n",
      "Epoch 124/150\n",
      "77/77 [==============================] - 1s 9ms/step - loss: 0.9521 - accuracy: 0.6208 - val_loss: 1.0314 - val_accuracy: 0.5998\n",
      "Epoch 125/150\n",
      "77/77 [==============================] - 1s 9ms/step - loss: 0.9446 - accuracy: 0.6282 - val_loss: 1.0405 - val_accuracy: 0.5859\n",
      "Epoch 126/150\n",
      "77/77 [==============================] - 1s 9ms/step - loss: 0.9502 - accuracy: 0.6305 - val_loss: 1.0279 - val_accuracy: 0.6031\n",
      "Epoch 127/150\n",
      "77/77 [==============================] - 1s 9ms/step - loss: 0.9522 - accuracy: 0.6251 - val_loss: 1.0401 - val_accuracy: 0.5982\n",
      "Epoch 128/150\n",
      "77/77 [==============================] - 1s 10ms/step - loss: 0.9555 - accuracy: 0.6212 - val_loss: 1.0362 - val_accuracy: 0.5925\n",
      "Epoch 129/150\n",
      "77/77 [==============================] - 1s 9ms/step - loss: 0.9492 - accuracy: 0.6241 - val_loss: 1.0332 - val_accuracy: 0.6031\n",
      "Epoch 130/150\n",
      "77/77 [==============================] - 1s 9ms/step - loss: 0.9479 - accuracy: 0.6262 - val_loss: 1.0366 - val_accuracy: 0.5957\n",
      "Epoch 131/150\n",
      "77/77 [==============================] - 1s 9ms/step - loss: 0.9527 - accuracy: 0.6216 - val_loss: 1.0273 - val_accuracy: 0.6031\n",
      "Epoch 132/150\n",
      "77/77 [==============================] - 1s 9ms/step - loss: 0.9441 - accuracy: 0.6284 - val_loss: 1.0316 - val_accuracy: 0.5974\n",
      "Epoch 133/150\n",
      "77/77 [==============================] - 1s 9ms/step - loss: 0.9479 - accuracy: 0.6210 - val_loss: 1.0320 - val_accuracy: 0.6023\n",
      "Epoch 134/150\n",
      "77/77 [==============================] - 1s 9ms/step - loss: 0.9494 - accuracy: 0.6274 - val_loss: 1.0294 - val_accuracy: 0.5974\n",
      "Epoch 135/150\n",
      "77/77 [==============================] - 1s 9ms/step - loss: 0.9534 - accuracy: 0.6264 - val_loss: 1.0339 - val_accuracy: 0.5941\n",
      "Epoch 136/150\n",
      "77/77 [==============================] - 1s 9ms/step - loss: 0.9490 - accuracy: 0.6192 - val_loss: 1.0340 - val_accuracy: 0.5966\n",
      "Epoch 137/150\n",
      "77/77 [==============================] - 1s 9ms/step - loss: 0.9476 - accuracy: 0.6239 - val_loss: 1.0395 - val_accuracy: 0.6007\n",
      "Epoch 138/150\n",
      "77/77 [==============================] - 1s 9ms/step - loss: 0.9410 - accuracy: 0.6274 - val_loss: 1.0329 - val_accuracy: 0.5957\n",
      "Epoch 139/150\n",
      "77/77 [==============================] - 1s 9ms/step - loss: 0.9431 - accuracy: 0.6329 - val_loss: 1.0307 - val_accuracy: 0.5925\n",
      "Epoch 140/150\n",
      "77/77 [==============================] - 1s 9ms/step - loss: 0.9523 - accuracy: 0.6247 - val_loss: 1.0303 - val_accuracy: 0.5966\n",
      "Epoch 141/150\n",
      "77/77 [==============================] - 1s 10ms/step - loss: 0.9475 - accuracy: 0.6249 - val_loss: 1.0279 - val_accuracy: 0.5998\n",
      "Epoch 142/150\n",
      "77/77 [==============================] - 1s 9ms/step - loss: 0.9362 - accuracy: 0.6284 - val_loss: 1.0359 - val_accuracy: 0.5990\n",
      "Epoch 143/150\n",
      "77/77 [==============================] - 1s 9ms/step - loss: 0.9434 - accuracy: 0.6313 - val_loss: 1.0395 - val_accuracy: 0.5966\n",
      "Epoch 144/150\n",
      "77/77 [==============================] - 1s 9ms/step - loss: 0.9449 - accuracy: 0.6284 - val_loss: 1.0347 - val_accuracy: 0.5990\n",
      "Epoch 145/150\n",
      "77/77 [==============================] - 1s 9ms/step - loss: 0.9461 - accuracy: 0.6264 - val_loss: 1.0385 - val_accuracy: 0.5998\n",
      "Epoch 146/150\n",
      "77/77 [==============================] - 1s 9ms/step - loss: 0.9434 - accuracy: 0.6239 - val_loss: 1.0535 - val_accuracy: 0.5859\n",
      "Epoch 147/150\n",
      "77/77 [==============================] - 1s 9ms/step - loss: 0.9267 - accuracy: 0.6303 - val_loss: 1.0477 - val_accuracy: 0.5859\n",
      "Epoch 148/150\n",
      "77/77 [==============================] - 1s 9ms/step - loss: 0.9373 - accuracy: 0.6313 - val_loss: 1.0443 - val_accuracy: 0.5908\n",
      "Epoch 149/150\n",
      "77/77 [==============================] - 1s 9ms/step - loss: 0.9373 - accuracy: 0.6282 - val_loss: 1.0427 - val_accuracy: 0.5998\n",
      "Epoch 150/150\n",
      "77/77 [==============================] - 1s 9ms/step - loss: 0.9372 - accuracy: 0.6282 - val_loss: 1.0391 - val_accuracy: 0.6056\n"
     ]
    }
   ],
   "source": [
    "epochs=150\n",
    "history = model.fit(\n",
    "  train,\n",
    "  validation_data=test,\n",
    "  epochs=epochs\n",
    ")"
   ]
  },
  {
   "cell_type": "code",
   "execution_count": 9,
   "metadata": {},
   "outputs": [
    {
     "data": {
      "image/png": "[encoded data removed]",
      "text/plain": [
       "<Figure size 576x576 with 2 Axes>"
      ]
     },
     "metadata": {
      "needs_background": "light"
     },
     "output_type": "display_data"
    }
   ],
   "source": [
    "acc = history.history['accuracy']\n",
    "val_acc = history.history['val_accuracy']\n",
    "\n",
    "loss = history.history['loss']\n",
    "val_loss = history.history['val_loss']\n",
    "\n",
    "epochs_range = range(epochs)\n",
    "\n",
    "plt.figure(figsize=(8, 8))\n",
    "plt.subplot(1, 2, 1)\n",
    "plt.plot(epochs_range, acc, label='Training Accuracy')\n",
    "plt.plot(epochs_range, val_acc, label='Validation Accuracy')\n",
    "plt.legend(loc='lower right')\n",
    "plt.title('Training and Validation Accuracy')\n",
    "\n",
    "plt.subplot(1, 2, 2)\n",
    "plt.plot(epochs_range, loss, label='Training Loss')\n",
    "plt.plot(epochs_range, val_loss, label='Validation Loss')\n",
    "plt.legend(loc='upper right')\n",
    "plt.title('Training and Validation Loss')\n",
    "plt.show()"
   ]
  },
  {
   "cell_type": "code",
   "execution_count": 10,
   "metadata": {},
   "outputs": [
    {
     "name": "stdout",
     "output_type": "stream",
     "text": [
      "20/20 [==============================] - 0s 7ms/step - loss: 1.0391 - accuracy: 0.6056\n",
      "Test accuracy : 0.6055646538734436\n"
     ]
    }
   ],
   "source": [
    "loss, accuracy = model.evaluate(test)\n",
    "print('Test accuracy :', accuracy)"
   ]
  },
  {
   "cell_type": "code",
   "execution_count": 11,
   "metadata": {},
   "outputs": [],
   "source": [
    "# Save the weights model.\n",
    "model.save('./data/humanModel/model_v0.h5')"
   ]
  },
  {
   "cell_type": "code",
   "execution_count": 12,
   "metadata": {},
   "outputs": [],
   "source": [
    "# save model in js format\n",
    "# import tensorflowjs as tfjs\n",
    "# tfjs.converters.save_keras_model(model, 'data/humanModel/js_model_v0')"
   ]
  },
  {
   "cell_type": "code",
   "execution_count": 13,
   "metadata": {},
   "outputs": [],
   "source": [
    "# new_model = tf.keras.models.load_model('./data/humanModel/mode_v0')\n",
    "\n",
    "# # Check its architecture\n",
    "# new_model.summary()"
   ]
  },
  {
   "cell_type": "markdown",
   "metadata": {},
   "source": [
    "### Predict on new data"
   ]
  },
  {
   "cell_type": "code",
   "execution_count": 14,
   "metadata": {},
   "outputs": [
    {
     "ename": "FileNotFoundError",
     "evalue": "[Errno 2] No such file or directory: './data/humanModel_v0_dataset_split/val/38/-Mr4e3Fomo72jz0zfTgB_14.png'",
     "output_type": "error",
     "traceback": [
      "\u001b[0;31m---------------------------------------------------------------------------\u001b[0m",
      "\u001b[0;31mFileNotFoundError\u001b[0m                         Traceback (most recent call last)",
      "\u001b[0;32m/tmp/ipykernel_1700422/1618442636.py\u001b[0m in \u001b[0;36m<module>\u001b[0;34m\u001b[0m\n\u001b[1;32m      2\u001b[0m \u001b[0;34m\u001b[0m\u001b[0m\n\u001b[1;32m      3\u001b[0m img = keras.preprocessing.image.load_img(\n\u001b[0;32m----> 4\u001b[0;31m     \u001b[0mpath\u001b[0m\u001b[0;34m,\u001b[0m \u001b[0mtarget_size\u001b[0m\u001b[0;34m=\u001b[0m\u001b[0;34m(\u001b[0m\u001b[0mIMG_SIZE\u001b[0m\u001b[0;34m,\u001b[0m \u001b[0mIMG_SIZE\u001b[0m\u001b[0;34m)\u001b[0m\u001b[0;34m\u001b[0m\u001b[0;34m\u001b[0m\u001b[0m\n\u001b[0m\u001b[1;32m      5\u001b[0m )\n\u001b[1;32m      6\u001b[0m \u001b[0mimg_array\u001b[0m \u001b[0;34m=\u001b[0m \u001b[0mkeras\u001b[0m\u001b[0;34m.\u001b[0m\u001b[0mpreprocessing\u001b[0m\u001b[0;34m.\u001b[0m\u001b[0mimage\u001b[0m\u001b[0;34m.\u001b[0m\u001b[0mimg_to_array\u001b[0m\u001b[0;34m(\u001b[0m\u001b[0mimg\u001b[0m\u001b[0;34m)\u001b[0m\u001b[0;34m\u001b[0m\u001b[0;34m\u001b[0m\u001b[0m\n",
      "\u001b[0;32m~/anaconda3/envs/tf-gpu/lib/python3.7/site-packages/keras/preprocessing/image.py\u001b[0m in \u001b[0;36mload_img\u001b[0;34m(path, grayscale, color_mode, target_size, interpolation)\u001b[0m\n\u001b[1;32m    312\u001b[0m   \"\"\"\n\u001b[1;32m    313\u001b[0m   return image.load_img(path, grayscale=grayscale, color_mode=color_mode,\n\u001b[0;32m--> 314\u001b[0;31m                         target_size=target_size, interpolation=interpolation)\n\u001b[0m\u001b[1;32m    315\u001b[0m \u001b[0;34m\u001b[0m\u001b[0m\n\u001b[1;32m    316\u001b[0m \u001b[0;34m\u001b[0m\u001b[0m\n",
      "\u001b[0;32m~/anaconda3/envs/tf-gpu/lib/python3.7/site-packages/keras_preprocessing/image/utils.py\u001b[0m in \u001b[0;36mload_img\u001b[0;34m(path, grayscale, color_mode, target_size, interpolation)\u001b[0m\n\u001b[1;32m    111\u001b[0m         raise ImportError('Could not import PIL.Image. '\n\u001b[1;32m    112\u001b[0m                           'The use of `load_img` requires PIL.')\n\u001b[0;32m--> 113\u001b[0;31m     \u001b[0;32mwith\u001b[0m \u001b[0mopen\u001b[0m\u001b[0;34m(\u001b[0m\u001b[0mpath\u001b[0m\u001b[0;34m,\u001b[0m \u001b[0;34m'rb'\u001b[0m\u001b[0;34m)\u001b[0m \u001b[0;32mas\u001b[0m \u001b[0mf\u001b[0m\u001b[0;34m:\u001b[0m\u001b[0;34m\u001b[0m\u001b[0;34m\u001b[0m\u001b[0m\n\u001b[0m\u001b[1;32m    114\u001b[0m         \u001b[0mimg\u001b[0m \u001b[0;34m=\u001b[0m \u001b[0mpil_image\u001b[0m\u001b[0;34m.\u001b[0m\u001b[0mopen\u001b[0m\u001b[0;34m(\u001b[0m\u001b[0mio\u001b[0m\u001b[0;34m.\u001b[0m\u001b[0mBytesIO\u001b[0m\u001b[0;34m(\u001b[0m\u001b[0mf\u001b[0m\u001b[0;34m.\u001b[0m\u001b[0mread\u001b[0m\u001b[0;34m(\u001b[0m\u001b[0;34m)\u001b[0m\u001b[0;34m)\u001b[0m\u001b[0;34m)\u001b[0m\u001b[0;34m\u001b[0m\u001b[0;34m\u001b[0m\u001b[0m\n\u001b[1;32m    115\u001b[0m         \u001b[0;32mif\u001b[0m \u001b[0mcolor_mode\u001b[0m \u001b[0;34m==\u001b[0m \u001b[0;34m'grayscale'\u001b[0m\u001b[0;34m:\u001b[0m\u001b[0;34m\u001b[0m\u001b[0;34m\u001b[0m\u001b[0m\n",
      "\u001b[0;31mFileNotFoundError\u001b[0m: [Errno 2] No such file or directory: './data/humanModel_v0_dataset_split/val/38/-Mr4e3Fomo72jz0zfTgB_14.png'"
     ]
    }
   ],
   "source": [
    "path = \"./data/humanModel_v0_dataset_split/val/38/-Mr4e3Fomo72jz0zfTgB_14.png\"\n",
    "\n",
    "img = keras.preprocessing.image.load_img(\n",
    "    path, target_size=(IMG_SIZE, IMG_SIZE)\n",
    ")\n",
    "img_array = keras.preprocessing.image.img_to_array(img)\n",
    "img_array = tf.expand_dims(img_array, 0) # Create a batch\n",
    "img_array = img_array/255\n",
    "predictions = model.predict(img_array)[0]\n",
    "\n",
    "print(\n",
    "    \"This image most likely belongs to {} with a {:.2f} percent confidence.\"\n",
    "    .format(np.argmax(predictions), 100 * np.max(predictions))\n",
    ")"
   ]
  }
 ],
 "metadata": {
  "interpreter": {
   "hash": "ad60775ae12af945b53c5c94c294ef05f229143b8585a0d23625a81e181fdccc"
  },
  "kernelspec": {
   "display_name": "Python 3.7.4 64-bit ('tf-gpu': conda)",
   "name": "python3"
  },
  "language_info": {
   "codemirror_mode": {
    "name": "ipython",
    "version": 3
   },
   "file_extension": ".py",
   "mimetype": "text/x-python",
   "name": "python",
   "nbconvert_exporter": "python",
   "pygments_lexer": "ipython3",
   "version": "3.7.4"
  }
 },
 "nbformat": 4,
 "nbformat_minor": 4
}
