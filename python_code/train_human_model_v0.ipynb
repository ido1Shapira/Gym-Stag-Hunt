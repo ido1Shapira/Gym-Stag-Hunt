{
 "cells": [
  {
   "cell_type": "code",
   "execution_count": 1,
   "metadata": {},
   "outputs": [],
   "source": [
    "import numpy as np\n",
    "import random\n",
    "import os\n",
    "os.environ['TF_CPP_MIN_LOG_LEVEL'] = '3'\n",
    "os.environ['CUDA_VISIBLE_DEVICES'] = '-1'\n",
    "\n",
    "import shutil\n",
    "\n",
    "# ! pip install split-folders\n",
    "import splitfolders\n",
    "\n",
    "import tensorflow as tf\n",
    "from tensorflow import keras\n",
    "from tensorflow.keras import layers, regularizers\n",
    "from tensorflow.keras.models import Sequential\n",
    "\n",
    "from tensorflow.keras.preprocessing.image import ImageDataGenerator\n",
    "from tensorflow.keras.preprocessing import image\n",
    "\n",
    "import matplotlib.pyplot as plt\n",
    "\n",
    "rs = 42\n",
    "def reset_random_seeds(rs):\n",
    "   os.environ['PYTHONHASHSEED']=str(rs)\n",
    "   tf.random.set_seed(rs)\n",
    "   np.random.seed(rs)\n",
    "   random.seed(rs)\n",
    "reset_random_seeds(rs)"
   ]
  },
  {
   "cell_type": "markdown",
   "metadata": {},
   "source": [
    "remove prev saved database:"
   ]
  },
  {
   "cell_type": "code",
   "execution_count": 2,
   "metadata": {},
   "outputs": [],
   "source": [
    "dir_path = './data/humanModel/dataset_v0_split'\n",
    "if os.path.exists(dir_path):\n",
    "    shutil.rmtree(dir_path)\n",
    "else:\n",
    "    print(\"File not found in the directory\")"
   ]
  },
  {
   "cell_type": "markdown",
   "metadata": {},
   "source": [
    "# Part 1 - Data Preprocessing"
   ]
  },
  {
   "cell_type": "markdown",
   "metadata": {},
   "source": [
    "## Split into train , test data"
   ]
  },
  {
   "cell_type": "code",
   "execution_count": 3,
   "metadata": {},
   "outputs": [
    {
     "name": "stderr",
     "output_type": "stream",
     "text": [
      "Copying files: 2449 files [00:00, 17108.69 files/s]\n"
     ]
    }
   ],
   "source": [
    "# train, test split\n",
    "splitfolders.ratio('./data/humanModel/dataset_v0/', output=dir_path, ratio=(0.8, 0.2))"
   ]
  },
  {
   "cell_type": "markdown",
   "metadata": {},
   "source": [
    "### Preprocessing the Training set"
   ]
  },
  {
   "cell_type": "code",
   "execution_count": 4,
   "metadata": {},
   "outputs": [
    {
     "name": "stdout",
     "output_type": "stream",
     "text": [
      "Found 1957 images belonging to 4 classes.\n",
      "Found 492 images belonging to 4 classes.\n"
     ]
    }
   ],
   "source": [
    "batch_size = 64\n",
    "IMG_SIZE = 5\n",
    "\n",
    "datagen = ImageDataGenerator(rescale = 1./255)\n",
    "train = datagen.flow_from_directory((dir_path+'/train'),\n",
    "                                          target_size = (IMG_SIZE,IMG_SIZE), batch_size = batch_size, seed=rs, class_mode='sparse')\n",
    "\n",
    "test = datagen.flow_from_directory((dir_path+'/val'),\n",
    "                                            target_size = (IMG_SIZE, IMG_SIZE), batch_size = batch_size, seed=rs, class_mode='sparse')"
   ]
  },
  {
   "cell_type": "markdown",
   "metadata": {},
   "source": [
    "## View some data"
   ]
  },
  {
   "cell_type": "code",
   "execution_count": 5,
   "metadata": {},
   "outputs": [],
   "source": [
    "num_classes = 4\n",
    "\n",
    "model = Sequential([\n",
    "  layers.Conv2D(4, 3, padding='same', activation='relu', kernel_regularizer=regularizers.l2(0.001), input_shape=[IMG_SIZE,IMG_SIZE,3]),\n",
    "  layers.Conv2D(8, 3, padding='same', activation='relu', kernel_regularizer=regularizers.l2(0.001)),\n",
    "  # layers.Conv2D(8, 2, padding='same', activation='relu', kernel_regularizer=regularizers.l2(0.001)),\n",
    "  # layers.MaxPooling2D(),\n",
    "  layers.Conv2D(8, 2, padding='same', activation='relu', kernel_regularizer=regularizers.l2(0.001)),\n",
    "  layers.Dropout(0.5),\n",
    "  layers.Flatten(),\n",
    "  # layers.Dense(16, activation='relu', kernel_regularizer=regularizers.l2(0.001)),\n",
    "  layers.Dense(32, activation='relu', kernel_regularizer=regularizers.l2(0.001)),\n",
    "  layers.Dense(num_classes, activation='softmax')\n",
    "])"
   ]
  },
  {
   "cell_type": "code",
   "execution_count": 6,
   "metadata": {},
   "outputs": [],
   "source": [
    "model.compile(optimizer='adam',\n",
    "              loss=tf.keras.losses.SparseCategoricalCrossentropy(from_logits=True),\n",
    "              metrics=['accuracy'])"
   ]
  },
  {
   "cell_type": "code",
   "execution_count": 7,
   "metadata": {},
   "outputs": [
    {
     "name": "stdout",
     "output_type": "stream",
     "text": [
      "Model: \"sequential\"\n",
      "_________________________________________________________________\n",
      "Layer (type)                 Output Shape              Param #   \n",
      "=================================================================\n",
      "conv2d (Conv2D)              (None, 5, 5, 4)           112       \n",
      "_________________________________________________________________\n",
      "conv2d_1 (Conv2D)            (None, 5, 5, 8)           296       \n",
      "_________________________________________________________________\n",
      "conv2d_2 (Conv2D)            (None, 5, 5, 8)           264       \n",
      "_________________________________________________________________\n",
      "dropout (Dropout)            (None, 5, 5, 8)           0         \n",
      "_________________________________________________________________\n",
      "flatten (Flatten)            (None, 200)               0         \n",
      "_________________________________________________________________\n",
      "dense (Dense)                (None, 32)                6432      \n",
      "_________________________________________________________________\n",
      "dense_1 (Dense)              (None, 4)                 132       \n",
      "=================================================================\n",
      "Total params: 7,236\n",
      "Trainable params: 7,236\n",
      "Non-trainable params: 0\n",
      "_________________________________________________________________\n"
     ]
    }
   ],
   "source": [
    "model.summary()"
   ]
  },
  {
   "cell_type": "code",
   "execution_count": 8,
   "metadata": {
    "scrolled": true
   },
   "outputs": [
    {
     "name": "stdout",
     "output_type": "stream",
     "text": [
      "Epoch 1/150\n"
     ]
    },
    {
     "name": "stderr",
     "output_type": "stream",
     "text": [
      "/home/ido/anaconda3/envs/tf-gpu/lib/python3.7/site-packages/keras/backend.py:4907: UserWarning: \"`sparse_categorical_crossentropy` received `from_logits=True`, but the `output` argument was produced by a sigmoid or softmax activation and thus does not represent logits. Was this intended?\"\n",
      "  '\"`sparse_categorical_crossentropy` received `from_logits=True`, but '\n"
     ]
    },
    {
     "name": "stdout",
     "output_type": "stream",
     "text": [
      "31/31 [==============================] - 1s 13ms/step - loss: 1.4535 - accuracy: 0.2591 - val_loss: 1.4410 - val_accuracy: 0.2642\n",
      "Epoch 2/150\n",
      "31/31 [==============================] - 0s 10ms/step - loss: 1.4363 - accuracy: 0.2974 - val_loss: 1.4289 - val_accuracy: 0.2663\n",
      "Epoch 3/150\n",
      "31/31 [==============================] - 0s 9ms/step - loss: 1.4230 - accuracy: 0.2892 - val_loss: 1.4182 - val_accuracy: 0.2622\n",
      "Epoch 4/150\n",
      "31/31 [==============================] - 0s 9ms/step - loss: 1.4096 - accuracy: 0.2974 - val_loss: 1.4018 - val_accuracy: 0.2744\n",
      "Epoch 5/150\n",
      "31/31 [==============================] - 0s 9ms/step - loss: 1.3910 - accuracy: 0.3132 - val_loss: 1.3795 - val_accuracy: 0.2988\n",
      "Epoch 6/150\n",
      "31/31 [==============================] - 0s 9ms/step - loss: 1.3532 - accuracy: 0.3679 - val_loss: 1.3503 - val_accuracy: 0.3476\n",
      "Epoch 7/150\n",
      "31/31 [==============================] - 0s 9ms/step - loss: 1.3274 - accuracy: 0.4108 - val_loss: 1.3411 - val_accuracy: 0.3821\n",
      "Epoch 8/150\n",
      "31/31 [==============================] - 0s 9ms/step - loss: 1.3208 - accuracy: 0.4027 - val_loss: 1.3237 - val_accuracy: 0.3882\n",
      "Epoch 9/150\n",
      "31/31 [==============================] - 0s 9ms/step - loss: 1.3048 - accuracy: 0.4119 - val_loss: 1.3039 - val_accuracy: 0.3943\n",
      "Epoch 10/150\n",
      "31/31 [==============================] - 0s 9ms/step - loss: 1.2941 - accuracy: 0.4338 - val_loss: 1.2949 - val_accuracy: 0.4228\n",
      "Epoch 11/150\n",
      "31/31 [==============================] - 0s 9ms/step - loss: 1.2950 - accuracy: 0.4308 - val_loss: 1.2878 - val_accuracy: 0.4228\n",
      "Epoch 12/150\n",
      "31/31 [==============================] - 0s 9ms/step - loss: 1.2849 - accuracy: 0.4379 - val_loss: 1.2851 - val_accuracy: 0.4370\n",
      "Epoch 13/150\n",
      "31/31 [==============================] - 0s 9ms/step - loss: 1.2804 - accuracy: 0.4369 - val_loss: 1.2770 - val_accuracy: 0.4268\n",
      "Epoch 14/150\n",
      "31/31 [==============================] - 0s 8ms/step - loss: 1.2709 - accuracy: 0.4323 - val_loss: 1.2710 - val_accuracy: 0.4390\n",
      "Epoch 15/150\n",
      "31/31 [==============================] - 0s 9ms/step - loss: 1.2682 - accuracy: 0.4456 - val_loss: 1.2696 - val_accuracy: 0.4309\n",
      "Epoch 16/150\n",
      "31/31 [==============================] - 0s 9ms/step - loss: 1.2670 - accuracy: 0.4374 - val_loss: 1.2662 - val_accuracy: 0.4431\n",
      "Epoch 17/150\n",
      "31/31 [==============================] - 0s 9ms/step - loss: 1.2568 - accuracy: 0.4461 - val_loss: 1.2659 - val_accuracy: 0.4248\n",
      "Epoch 18/150\n",
      "31/31 [==============================] - 0s 9ms/step - loss: 1.2563 - accuracy: 0.4415 - val_loss: 1.2605 - val_accuracy: 0.4350\n",
      "Epoch 19/150\n",
      "31/31 [==============================] - 0s 9ms/step - loss: 1.2568 - accuracy: 0.4348 - val_loss: 1.2598 - val_accuracy: 0.4289\n",
      "Epoch 20/150\n",
      "31/31 [==============================] - 0s 9ms/step - loss: 1.2531 - accuracy: 0.4538 - val_loss: 1.2562 - val_accuracy: 0.4289\n",
      "Epoch 21/150\n",
      "31/31 [==============================] - 0s 9ms/step - loss: 1.2479 - accuracy: 0.4507 - val_loss: 1.2543 - val_accuracy: 0.4411\n",
      "Epoch 22/150\n",
      "31/31 [==============================] - 0s 9ms/step - loss: 1.2356 - accuracy: 0.4757 - val_loss: 1.2549 - val_accuracy: 0.4472\n",
      "Epoch 23/150\n",
      "31/31 [==============================] - 0s 9ms/step - loss: 1.2357 - accuracy: 0.4573 - val_loss: 1.2467 - val_accuracy: 0.4411\n",
      "Epoch 24/150\n",
      "31/31 [==============================] - 0s 9ms/step - loss: 1.2165 - accuracy: 0.4670 - val_loss: 1.2467 - val_accuracy: 0.4411\n",
      "Epoch 25/150\n",
      "31/31 [==============================] - 0s 9ms/step - loss: 1.2148 - accuracy: 0.4798 - val_loss: 1.2409 - val_accuracy: 0.4431\n",
      "Epoch 26/150\n",
      "31/31 [==============================] - 0s 9ms/step - loss: 1.2143 - accuracy: 0.4706 - val_loss: 1.2297 - val_accuracy: 0.4553\n",
      "Epoch 27/150\n",
      "31/31 [==============================] - 0s 9ms/step - loss: 1.2025 - accuracy: 0.4798 - val_loss: 1.2277 - val_accuracy: 0.4492\n",
      "Epoch 28/150\n",
      "31/31 [==============================] - 0s 9ms/step - loss: 1.2020 - accuracy: 0.4829 - val_loss: 1.2234 - val_accuracy: 0.4512\n",
      "Epoch 29/150\n",
      "31/31 [==============================] - 0s 8ms/step - loss: 1.1931 - accuracy: 0.4819 - val_loss: 1.2267 - val_accuracy: 0.4533\n",
      "Epoch 30/150\n",
      "31/31 [==============================] - 0s 9ms/step - loss: 1.1821 - accuracy: 0.4900 - val_loss: 1.2150 - val_accuracy: 0.4695\n",
      "Epoch 31/150\n",
      "31/31 [==============================] - 0s 9ms/step - loss: 1.1832 - accuracy: 0.5018 - val_loss: 1.2145 - val_accuracy: 0.4593\n",
      "Epoch 32/150\n",
      "31/31 [==============================] - 0s 9ms/step - loss: 1.1834 - accuracy: 0.4916 - val_loss: 1.2074 - val_accuracy: 0.4675\n",
      "Epoch 33/150\n",
      "31/31 [==============================] - 0s 9ms/step - loss: 1.1790 - accuracy: 0.4870 - val_loss: 1.2086 - val_accuracy: 0.4492\n",
      "Epoch 34/150\n",
      "31/31 [==============================] - 0s 9ms/step - loss: 1.1679 - accuracy: 0.5003 - val_loss: 1.2195 - val_accuracy: 0.4390\n",
      "Epoch 35/150\n",
      "31/31 [==============================] - 0s 9ms/step - loss: 1.1636 - accuracy: 0.5033 - val_loss: 1.2004 - val_accuracy: 0.4675\n",
      "Epoch 36/150\n",
      "31/31 [==============================] - 0s 9ms/step - loss: 1.1508 - accuracy: 0.4977 - val_loss: 1.1994 - val_accuracy: 0.4614\n",
      "Epoch 37/150\n",
      "31/31 [==============================] - 0s 9ms/step - loss: 1.1570 - accuracy: 0.5003 - val_loss: 1.1920 - val_accuracy: 0.4817\n",
      "Epoch 38/150\n",
      "31/31 [==============================] - 0s 9ms/step - loss: 1.1480 - accuracy: 0.5095 - val_loss: 1.1909 - val_accuracy: 0.4797\n",
      "Epoch 39/150\n",
      "31/31 [==============================] - 0s 9ms/step - loss: 1.1517 - accuracy: 0.5069 - val_loss: 1.1903 - val_accuracy: 0.4776\n",
      "Epoch 40/150\n",
      "31/31 [==============================] - 0s 9ms/step - loss: 1.1445 - accuracy: 0.5069 - val_loss: 1.1976 - val_accuracy: 0.4614\n",
      "Epoch 41/150\n",
      "31/31 [==============================] - 0s 9ms/step - loss: 1.1518 - accuracy: 0.5023 - val_loss: 1.2174 - val_accuracy: 0.4390\n",
      "Epoch 42/150\n",
      "31/31 [==============================] - 0s 9ms/step - loss: 1.1405 - accuracy: 0.5141 - val_loss: 1.1827 - val_accuracy: 0.4715\n",
      "Epoch 43/150\n",
      "31/31 [==============================] - 0s 9ms/step - loss: 1.1317 - accuracy: 0.5084 - val_loss: 1.1776 - val_accuracy: 0.4695\n",
      "Epoch 44/150\n",
      "31/31 [==============================] - 0s 9ms/step - loss: 1.1271 - accuracy: 0.5217 - val_loss: 1.1765 - val_accuracy: 0.4898\n",
      "Epoch 45/150\n",
      "31/31 [==============================] - 0s 9ms/step - loss: 1.1248 - accuracy: 0.5294 - val_loss: 1.1737 - val_accuracy: 0.4776\n",
      "Epoch 46/150\n",
      "31/31 [==============================] - 0s 9ms/step - loss: 1.1310 - accuracy: 0.5192 - val_loss: 1.1745 - val_accuracy: 0.4858\n",
      "Epoch 47/150\n",
      "31/31 [==============================] - 0s 9ms/step - loss: 1.1160 - accuracy: 0.5176 - val_loss: 1.1695 - val_accuracy: 0.4837\n",
      "Epoch 48/150\n",
      "31/31 [==============================] - 0s 9ms/step - loss: 1.1153 - accuracy: 0.5202 - val_loss: 1.1653 - val_accuracy: 0.4634\n",
      "Epoch 49/150\n",
      "31/31 [==============================] - 0s 9ms/step - loss: 1.1133 - accuracy: 0.5350 - val_loss: 1.1642 - val_accuracy: 0.4695\n",
      "Epoch 50/150\n",
      "31/31 [==============================] - 0s 9ms/step - loss: 1.0984 - accuracy: 0.5324 - val_loss: 1.1617 - val_accuracy: 0.4797\n",
      "Epoch 51/150\n",
      "31/31 [==============================] - 0s 9ms/step - loss: 1.1074 - accuracy: 0.5181 - val_loss: 1.1585 - val_accuracy: 0.4776\n",
      "Epoch 52/150\n",
      "31/31 [==============================] - 0s 9ms/step - loss: 1.1039 - accuracy: 0.5294 - val_loss: 1.1586 - val_accuracy: 0.4837\n",
      "Epoch 53/150\n",
      "31/31 [==============================] - 0s 9ms/step - loss: 1.1039 - accuracy: 0.5350 - val_loss: 1.1553 - val_accuracy: 0.4837\n",
      "Epoch 54/150\n",
      "31/31 [==============================] - 0s 9ms/step - loss: 1.0929 - accuracy: 0.5248 - val_loss: 1.1596 - val_accuracy: 0.4878\n",
      "Epoch 55/150\n",
      "31/31 [==============================] - 0s 9ms/step - loss: 1.1029 - accuracy: 0.5416 - val_loss: 1.1702 - val_accuracy: 0.4817\n",
      "Epoch 56/150\n",
      "31/31 [==============================] - 0s 9ms/step - loss: 1.0887 - accuracy: 0.5462 - val_loss: 1.1536 - val_accuracy: 0.4797\n",
      "Epoch 57/150\n",
      "31/31 [==============================] - 0s 9ms/step - loss: 1.0893 - accuracy: 0.5401 - val_loss: 1.1521 - val_accuracy: 0.4756\n",
      "Epoch 58/150\n",
      "31/31 [==============================] - 0s 9ms/step - loss: 1.0962 - accuracy: 0.5304 - val_loss: 1.1553 - val_accuracy: 0.4736\n",
      "Epoch 59/150\n",
      "31/31 [==============================] - 0s 8ms/step - loss: 1.0845 - accuracy: 0.5411 - val_loss: 1.1581 - val_accuracy: 0.4715\n",
      "Epoch 60/150\n",
      "31/31 [==============================] - 0s 9ms/step - loss: 1.0684 - accuracy: 0.5519 - val_loss: 1.1548 - val_accuracy: 0.4654\n",
      "Epoch 61/150\n",
      "31/31 [==============================] - 0s 9ms/step - loss: 1.0962 - accuracy: 0.5365 - val_loss: 1.1563 - val_accuracy: 0.4715\n",
      "Epoch 62/150\n",
      "31/31 [==============================] - 0s 9ms/step - loss: 1.0744 - accuracy: 0.5488 - val_loss: 1.1520 - val_accuracy: 0.4736\n",
      "Epoch 63/150\n",
      "31/31 [==============================] - 0s 9ms/step - loss: 1.0754 - accuracy: 0.5488 - val_loss: 1.1509 - val_accuracy: 0.4837\n",
      "Epoch 64/150\n",
      "31/31 [==============================] - 0s 9ms/step - loss: 1.0706 - accuracy: 0.5570 - val_loss: 1.1471 - val_accuracy: 0.4878\n",
      "Epoch 65/150\n",
      "31/31 [==============================] - 0s 9ms/step - loss: 1.0721 - accuracy: 0.5498 - val_loss: 1.1504 - val_accuracy: 0.4919\n",
      "Epoch 66/150\n",
      "31/31 [==============================] - 0s 9ms/step - loss: 1.0733 - accuracy: 0.5381 - val_loss: 1.1493 - val_accuracy: 0.4715\n",
      "Epoch 67/150\n",
      "31/31 [==============================] - 0s 9ms/step - loss: 1.0570 - accuracy: 0.5457 - val_loss: 1.1542 - val_accuracy: 0.4817\n",
      "Epoch 68/150\n",
      "31/31 [==============================] - 0s 9ms/step - loss: 1.0612 - accuracy: 0.5411 - val_loss: 1.1604 - val_accuracy: 0.4756\n",
      "Epoch 69/150\n",
      "31/31 [==============================] - 0s 9ms/step - loss: 1.0510 - accuracy: 0.5600 - val_loss: 1.1525 - val_accuracy: 0.4919\n",
      "Epoch 70/150\n",
      "31/31 [==============================] - 0s 9ms/step - loss: 1.0607 - accuracy: 0.5595 - val_loss: 1.1494 - val_accuracy: 0.4959\n",
      "Epoch 71/150\n",
      "31/31 [==============================] - 0s 9ms/step - loss: 1.0561 - accuracy: 0.5508 - val_loss: 1.1519 - val_accuracy: 0.4858\n",
      "Epoch 72/150\n",
      "31/31 [==============================] - 0s 9ms/step - loss: 1.0501 - accuracy: 0.5560 - val_loss: 1.1537 - val_accuracy: 0.4898\n",
      "Epoch 73/150\n",
      "31/31 [==============================] - 0s 9ms/step - loss: 1.0495 - accuracy: 0.5692 - val_loss: 1.1541 - val_accuracy: 0.4837\n",
      "Epoch 74/150\n",
      "31/31 [==============================] - 0s 9ms/step - loss: 1.0495 - accuracy: 0.5652 - val_loss: 1.1531 - val_accuracy: 0.4736\n",
      "Epoch 75/150\n",
      "31/31 [==============================] - 0s 9ms/step - loss: 1.0431 - accuracy: 0.5616 - val_loss: 1.1673 - val_accuracy: 0.4817\n",
      "Epoch 76/150\n",
      "31/31 [==============================] - 0s 9ms/step - loss: 1.0439 - accuracy: 0.5590 - val_loss: 1.1563 - val_accuracy: 0.4837\n",
      "Epoch 77/150\n",
      "31/31 [==============================] - 0s 9ms/step - loss: 1.0332 - accuracy: 0.5708 - val_loss: 1.1604 - val_accuracy: 0.4878\n",
      "Epoch 78/150\n",
      "31/31 [==============================] - 0s 9ms/step - loss: 1.0458 - accuracy: 0.5636 - val_loss: 1.1633 - val_accuracy: 0.4837\n",
      "Epoch 79/150\n",
      "31/31 [==============================] - 0s 9ms/step - loss: 1.0392 - accuracy: 0.5687 - val_loss: 1.1605 - val_accuracy: 0.4858\n",
      "Epoch 80/150\n",
      "31/31 [==============================] - 0s 9ms/step - loss: 1.0402 - accuracy: 0.5636 - val_loss: 1.1601 - val_accuracy: 0.4939\n",
      "Epoch 81/150\n",
      "31/31 [==============================] - 0s 9ms/step - loss: 1.0486 - accuracy: 0.5595 - val_loss: 1.1564 - val_accuracy: 0.4959\n",
      "Epoch 82/150\n",
      "31/31 [==============================] - 0s 9ms/step - loss: 1.0316 - accuracy: 0.5789 - val_loss: 1.1509 - val_accuracy: 0.5081\n",
      "Epoch 83/150\n",
      "31/31 [==============================] - 0s 9ms/step - loss: 1.0324 - accuracy: 0.5820 - val_loss: 1.1535 - val_accuracy: 0.4959\n",
      "Epoch 84/150\n",
      "31/31 [==============================] - 0s 9ms/step - loss: 1.0214 - accuracy: 0.5774 - val_loss: 1.1558 - val_accuracy: 0.5061\n",
      "Epoch 85/150\n",
      "31/31 [==============================] - 0s 9ms/step - loss: 1.0228 - accuracy: 0.5774 - val_loss: 1.1480 - val_accuracy: 0.5081\n",
      "Epoch 86/150\n",
      "31/31 [==============================] - 0s 9ms/step - loss: 1.0368 - accuracy: 0.5611 - val_loss: 1.1690 - val_accuracy: 0.4817\n",
      "Epoch 87/150\n",
      "31/31 [==============================] - 0s 9ms/step - loss: 1.0150 - accuracy: 0.5841 - val_loss: 1.1623 - val_accuracy: 0.4858\n",
      "Epoch 88/150\n",
      "31/31 [==============================] - 0s 9ms/step - loss: 1.0057 - accuracy: 0.5846 - val_loss: 1.1506 - val_accuracy: 0.5020\n",
      "Epoch 89/150\n",
      "31/31 [==============================] - 0s 9ms/step - loss: 1.0245 - accuracy: 0.5708 - val_loss: 1.1513 - val_accuracy: 0.4959\n",
      "Epoch 90/150\n",
      "31/31 [==============================] - 0s 9ms/step - loss: 1.0143 - accuracy: 0.5881 - val_loss: 1.1631 - val_accuracy: 0.4898\n",
      "Epoch 91/150\n",
      "31/31 [==============================] - 0s 9ms/step - loss: 1.0087 - accuracy: 0.5805 - val_loss: 1.1675 - val_accuracy: 0.4858\n",
      "Epoch 92/150\n",
      "31/31 [==============================] - 0s 9ms/step - loss: 1.0219 - accuracy: 0.5830 - val_loss: 1.1659 - val_accuracy: 0.4919\n",
      "Epoch 93/150\n",
      "31/31 [==============================] - 0s 9ms/step - loss: 1.0002 - accuracy: 0.5948 - val_loss: 1.1620 - val_accuracy: 0.5041\n",
      "Epoch 94/150\n",
      "31/31 [==============================] - 0s 9ms/step - loss: 1.0237 - accuracy: 0.5703 - val_loss: 1.1730 - val_accuracy: 0.4797\n",
      "Epoch 95/150\n",
      "31/31 [==============================] - 0s 9ms/step - loss: 1.0235 - accuracy: 0.5841 - val_loss: 1.1562 - val_accuracy: 0.4980\n",
      "Epoch 96/150\n",
      "31/31 [==============================] - 0s 9ms/step - loss: 1.0199 - accuracy: 0.5713 - val_loss: 1.1553 - val_accuracy: 0.4939\n",
      "Epoch 97/150\n",
      "31/31 [==============================] - 0s 9ms/step - loss: 1.0062 - accuracy: 0.5927 - val_loss: 1.1530 - val_accuracy: 0.5041\n",
      "Epoch 98/150\n",
      "31/31 [==============================] - 0s 9ms/step - loss: 1.0050 - accuracy: 0.5825 - val_loss: 1.1673 - val_accuracy: 0.4837\n",
      "Epoch 99/150\n",
      "31/31 [==============================] - 0s 9ms/step - loss: 1.0042 - accuracy: 0.6004 - val_loss: 1.1804 - val_accuracy: 0.4858\n",
      "Epoch 100/150\n",
      "31/31 [==============================] - 0s 9ms/step - loss: 1.0054 - accuracy: 0.5866 - val_loss: 1.1686 - val_accuracy: 0.4939\n",
      "Epoch 101/150\n",
      "31/31 [==============================] - 0s 9ms/step - loss: 0.9921 - accuracy: 0.5989 - val_loss: 1.1654 - val_accuracy: 0.5102\n",
      "Epoch 102/150\n",
      "31/31 [==============================] - 0s 9ms/step - loss: 0.9876 - accuracy: 0.6060 - val_loss: 1.1867 - val_accuracy: 0.4837\n",
      "Epoch 103/150\n",
      "31/31 [==============================] - 0s 9ms/step - loss: 1.0021 - accuracy: 0.5902 - val_loss: 1.1698 - val_accuracy: 0.5081\n",
      "Epoch 104/150\n",
      "31/31 [==============================] - 0s 9ms/step - loss: 1.0041 - accuracy: 0.5912 - val_loss: 1.1703 - val_accuracy: 0.4919\n",
      "Epoch 105/150\n",
      "31/31 [==============================] - 0s 9ms/step - loss: 0.9955 - accuracy: 0.6019 - val_loss: 1.1715 - val_accuracy: 0.5081\n",
      "Epoch 106/150\n",
      "31/31 [==============================] - 0s 9ms/step - loss: 0.9857 - accuracy: 0.6065 - val_loss: 1.1664 - val_accuracy: 0.5122\n",
      "Epoch 107/150\n",
      "31/31 [==============================] - 0s 9ms/step - loss: 0.9804 - accuracy: 0.6004 - val_loss: 1.1605 - val_accuracy: 0.5122\n",
      "Epoch 108/150\n",
      "31/31 [==============================] - 0s 9ms/step - loss: 0.9912 - accuracy: 0.5994 - val_loss: 1.1620 - val_accuracy: 0.5081\n",
      "Epoch 109/150\n",
      "31/31 [==============================] - 0s 9ms/step - loss: 0.9741 - accuracy: 0.6168 - val_loss: 1.1675 - val_accuracy: 0.5102\n",
      "Epoch 110/150\n",
      "31/31 [==============================] - 0s 9ms/step - loss: 0.9721 - accuracy: 0.6157 - val_loss: 1.1707 - val_accuracy: 0.5142\n",
      "Epoch 111/150\n",
      "31/31 [==============================] - 0s 9ms/step - loss: 0.9807 - accuracy: 0.6147 - val_loss: 1.1518 - val_accuracy: 0.5224\n",
      "Epoch 112/150\n",
      "31/31 [==============================] - 0s 9ms/step - loss: 0.9750 - accuracy: 0.6137 - val_loss: 1.1627 - val_accuracy: 0.5142\n",
      "Epoch 113/150\n",
      "31/31 [==============================] - 0s 9ms/step - loss: 0.9916 - accuracy: 0.5968 - val_loss: 1.1630 - val_accuracy: 0.5061\n",
      "Epoch 114/150\n",
      "31/31 [==============================] - 0s 9ms/step - loss: 0.9653 - accuracy: 0.6270 - val_loss: 1.1727 - val_accuracy: 0.5081\n",
      "Epoch 115/150\n",
      "31/31 [==============================] - 0s 9ms/step - loss: 0.9677 - accuracy: 0.6224 - val_loss: 1.1755 - val_accuracy: 0.5000\n",
      "Epoch 116/150\n",
      "31/31 [==============================] - 0s 8ms/step - loss: 0.9720 - accuracy: 0.6050 - val_loss: 1.1797 - val_accuracy: 0.4959\n",
      "Epoch 117/150\n",
      "31/31 [==============================] - 0s 9ms/step - loss: 0.9819 - accuracy: 0.6050 - val_loss: 1.1573 - val_accuracy: 0.5102\n",
      "Epoch 118/150\n",
      "31/31 [==============================] - 0s 9ms/step - loss: 0.9713 - accuracy: 0.6096 - val_loss: 1.1742 - val_accuracy: 0.5000\n",
      "Epoch 119/150\n",
      "31/31 [==============================] - 0s 9ms/step - loss: 0.9565 - accuracy: 0.6096 - val_loss: 1.1758 - val_accuracy: 0.5102\n",
      "Epoch 120/150\n",
      "31/31 [==============================] - 0s 9ms/step - loss: 0.9706 - accuracy: 0.6081 - val_loss: 1.1783 - val_accuracy: 0.4898\n",
      "Epoch 121/150\n",
      "31/31 [==============================] - 0s 9ms/step - loss: 0.9558 - accuracy: 0.6234 - val_loss: 1.1652 - val_accuracy: 0.5122\n",
      "Epoch 122/150\n",
      "31/31 [==============================] - 0s 9ms/step - loss: 0.9646 - accuracy: 0.6173 - val_loss: 1.1788 - val_accuracy: 0.4939\n",
      "Epoch 123/150\n",
      "31/31 [==============================] - 0s 9ms/step - loss: 0.9836 - accuracy: 0.6045 - val_loss: 1.1615 - val_accuracy: 0.5102\n",
      "Epoch 124/150\n",
      "31/31 [==============================] - 0s 9ms/step - loss: 0.9671 - accuracy: 0.6280 - val_loss: 1.1670 - val_accuracy: 0.5020\n",
      "Epoch 125/150\n",
      "31/31 [==============================] - 0s 9ms/step - loss: 0.9576 - accuracy: 0.6060 - val_loss: 1.1661 - val_accuracy: 0.5122\n",
      "Epoch 126/150\n",
      "31/31 [==============================] - 0s 9ms/step - loss: 0.9486 - accuracy: 0.6392 - val_loss: 1.1704 - val_accuracy: 0.5122\n",
      "Epoch 127/150\n",
      "31/31 [==============================] - 0s 9ms/step - loss: 0.9613 - accuracy: 0.6101 - val_loss: 1.1742 - val_accuracy: 0.5061\n",
      "Epoch 128/150\n",
      "31/31 [==============================] - 0s 9ms/step - loss: 0.9595 - accuracy: 0.6122 - val_loss: 1.1740 - val_accuracy: 0.4980\n",
      "Epoch 129/150\n",
      "31/31 [==============================] - 0s 9ms/step - loss: 0.9439 - accuracy: 0.6193 - val_loss: 1.1785 - val_accuracy: 0.5081\n",
      "Epoch 130/150\n",
      "31/31 [==============================] - 0s 9ms/step - loss: 0.9550 - accuracy: 0.6249 - val_loss: 1.1673 - val_accuracy: 0.5122\n",
      "Epoch 131/150\n",
      "31/31 [==============================] - 0s 9ms/step - loss: 0.9552 - accuracy: 0.6224 - val_loss: 1.1757 - val_accuracy: 0.5122\n",
      "Epoch 132/150\n",
      "31/31 [==============================] - 0s 9ms/step - loss: 0.9639 - accuracy: 0.6173 - val_loss: 1.1681 - val_accuracy: 0.4898\n",
      "Epoch 133/150\n",
      "31/31 [==============================] - 0s 9ms/step - loss: 0.9281 - accuracy: 0.6387 - val_loss: 1.1687 - val_accuracy: 0.5244\n",
      "Epoch 134/150\n",
      "31/31 [==============================] - 0s 9ms/step - loss: 0.9419 - accuracy: 0.6372 - val_loss: 1.1679 - val_accuracy: 0.5346\n",
      "Epoch 135/150\n",
      "31/31 [==============================] - 0s 9ms/step - loss: 0.9334 - accuracy: 0.6362 - val_loss: 1.1619 - val_accuracy: 0.5285\n",
      "Epoch 136/150\n",
      "31/31 [==============================] - 0s 9ms/step - loss: 0.9560 - accuracy: 0.6326 - val_loss: 1.1526 - val_accuracy: 0.5366\n",
      "Epoch 137/150\n",
      "31/31 [==============================] - 0s 9ms/step - loss: 0.9308 - accuracy: 0.6372 - val_loss: 1.1642 - val_accuracy: 0.5203\n",
      "Epoch 138/150\n",
      "31/31 [==============================] - 0s 9ms/step - loss: 0.9249 - accuracy: 0.6331 - val_loss: 1.1773 - val_accuracy: 0.5203\n",
      "Epoch 139/150\n",
      "31/31 [==============================] - 0s 9ms/step - loss: 0.9526 - accuracy: 0.6280 - val_loss: 1.1649 - val_accuracy: 0.5122\n",
      "Epoch 140/150\n",
      "31/31 [==============================] - 0s 9ms/step - loss: 0.9251 - accuracy: 0.6454 - val_loss: 1.1563 - val_accuracy: 0.5325\n",
      "Epoch 141/150\n",
      "31/31 [==============================] - 0s 9ms/step - loss: 0.9359 - accuracy: 0.6331 - val_loss: 1.1541 - val_accuracy: 0.5224\n",
      "Epoch 142/150\n",
      "31/31 [==============================] - 0s 9ms/step - loss: 0.9350 - accuracy: 0.6464 - val_loss: 1.1562 - val_accuracy: 0.5163\n",
      "Epoch 143/150\n",
      "31/31 [==============================] - 0s 9ms/step - loss: 0.9323 - accuracy: 0.6510 - val_loss: 1.1594 - val_accuracy: 0.5142\n",
      "Epoch 144/150\n",
      "31/31 [==============================] - 0s 9ms/step - loss: 0.9148 - accuracy: 0.6495 - val_loss: 1.1603 - val_accuracy: 0.5041\n",
      "Epoch 145/150\n",
      "31/31 [==============================] - 0s 9ms/step - loss: 0.9406 - accuracy: 0.6249 - val_loss: 1.1766 - val_accuracy: 0.4837\n",
      "Epoch 146/150\n",
      "31/31 [==============================] - 0s 9ms/step - loss: 0.9283 - accuracy: 0.6413 - val_loss: 1.1556 - val_accuracy: 0.5183\n",
      "Epoch 147/150\n",
      "31/31 [==============================] - 0s 9ms/step - loss: 0.9244 - accuracy: 0.6382 - val_loss: 1.1655 - val_accuracy: 0.5203\n",
      "Epoch 148/150\n",
      "31/31 [==============================] - 0s 9ms/step - loss: 0.9311 - accuracy: 0.6311 - val_loss: 1.1654 - val_accuracy: 0.5264\n",
      "Epoch 149/150\n",
      "31/31 [==============================] - 0s 9ms/step - loss: 0.9199 - accuracy: 0.6387 - val_loss: 1.1625 - val_accuracy: 0.5203\n",
      "Epoch 150/150\n",
      "31/31 [==============================] - 0s 9ms/step - loss: 0.9163 - accuracy: 0.6438 - val_loss: 1.1655 - val_accuracy: 0.5203\n"
     ]
    }
   ],
   "source": [
    "epochs=150\n",
    "history = model.fit(\n",
    "  train,\n",
    "  validation_data=test,\n",
    "  epochs=epochs\n",
    ")"
   ]
  },
  {
   "cell_type": "code",
   "execution_count": 9,
   "metadata": {},
   "outputs": [
    {
     "data": {
      "image/png": "[encoded data removed]",
      "text/plain": [
       "<Figure size 576x576 with 2 Axes>"
      ]
     },
     "metadata": {
      "needs_background": "light"
     },
     "output_type": "display_data"
    }
   ],
   "source": [
    "acc = history.history['accuracy']\n",
    "val_acc = history.history['val_accuracy']\n",
    "\n",
    "loss = history.history['loss']\n",
    "val_loss = history.history['val_loss']\n",
    "\n",
    "epochs_range = range(epochs)\n",
    "\n",
    "plt.figure(figsize=(8, 8))\n",
    "plt.subplot(1, 2, 1)\n",
    "plt.plot(epochs_range, acc, label='Training Accuracy')\n",
    "plt.plot(epochs_range, val_acc, label='Validation Accuracy')\n",
    "plt.legend(loc='lower right')\n",
    "plt.title('Training and Validation Accuracy')\n",
    "\n",
    "plt.subplot(1, 2, 2)\n",
    "plt.plot(epochs_range, loss, label='Training Loss')\n",
    "plt.plot(epochs_range, val_loss, label='Validation Loss')\n",
    "plt.legend(loc='upper right')\n",
    "plt.title('Training and Validation Loss')\n",
    "plt.show()"
   ]
  },
  {
   "cell_type": "code",
   "execution_count": 10,
   "metadata": {},
   "outputs": [
    {
     "name": "stdout",
     "output_type": "stream",
     "text": [
      "8/8 [==============================] - 0s 7ms/step - loss: 1.1655 - accuracy: 0.5203\n",
      "Test accuracy : 0.5203251838684082\n"
     ]
    }
   ],
   "source": [
    "loss, accuracy = model.evaluate(test)\n",
    "print('Test accuracy :', accuracy)"
   ]
  },
  {
   "cell_type": "code",
   "execution_count": 11,
   "metadata": {},
   "outputs": [
    {
     "ename": "NameError",
     "evalue": "name 'map_dir' is not defined",
     "output_type": "error",
     "traceback": [
      "\u001b[0;31m---------------------------------------------------------------------------\u001b[0m",
      "\u001b[0;31mNameError\u001b[0m                                 Traceback (most recent call last)",
      "\u001b[0;32m/tmp/ipykernel_2821306/3911623764.py\u001b[0m in \u001b[0;36m<module>\u001b[0;34m\u001b[0m\n\u001b[1;32m      1\u001b[0m \u001b[0;31m# Save the entire model as a SavedModel.\u001b[0m\u001b[0;34m\u001b[0m\u001b[0;34m\u001b[0m\u001b[0;34m\u001b[0m\u001b[0m\n\u001b[1;32m      2\u001b[0m \u001b[0;31m# model.save('./data/humanModel/mode_v0')\u001b[0m\u001b[0;34m\u001b[0m\u001b[0;34m\u001b[0m\u001b[0;34m\u001b[0m\u001b[0m\n\u001b[0;32m----> 3\u001b[0;31m \u001b[0mmodel\u001b[0m\u001b[0;34m.\u001b[0m\u001b[0msave\u001b[0m\u001b[0;34m(\u001b[0m\u001b[0;34m'./data/'\u001b[0m\u001b[0;34m+\u001b[0m\u001b[0mmap_dir\u001b[0m\u001b[0;34m+\u001b[0m\u001b[0;34m'/humanModel_v0.h5'\u001b[0m\u001b[0;34m)\u001b[0m\u001b[0;34m\u001b[0m\u001b[0;34m\u001b[0m\u001b[0m\n\u001b[0m",
      "\u001b[0;31mNameError\u001b[0m: name 'map_dir' is not defined"
     ]
    }
   ],
   "source": [
    "# Save the entire model as a SavedModel.\n",
    "# model.save('./data/humanModel/mode_v0')\n",
    "model.save('./data/'+map_dir+'/humanModel_v0.h5')"
   ]
  },
  {
   "cell_type": "code",
   "execution_count": null,
   "metadata": {},
   "outputs": [],
   "source": [
    "# save model in js format\n",
    "# import tensorflowjs as tfjs\n",
    "# tfjs.converters.save_keras_model(model, 'data/humanModel/js_model_v0')"
   ]
  },
  {
   "cell_type": "code",
   "execution_count": null,
   "metadata": {},
   "outputs": [],
   "source": [
    "# new_model = tf.keras.models.load_model('./data/humanModel/mode_v0')\n",
    "\n",
    "# # Check its architecture\n",
    "# new_model.summary()"
   ]
  },
  {
   "cell_type": "markdown",
   "metadata": {},
   "source": [
    "### Predict on new data"
   ]
  },
  {
   "cell_type": "code",
   "execution_count": null,
   "metadata": {},
   "outputs": [],
   "source": [
    "path = \"./data/humanModel_v0_dataset_split/val/38/-Mr4e3Fomo72jz0zfTgB_14.png\"\n",
    "\n",
    "img = keras.preprocessing.image.load_img(\n",
    "    path, target_size=(IMG_SIZE, IMG_SIZE)\n",
    ")\n",
    "img_array = keras.preprocessing.image.img_to_array(img)\n",
    "img_array = tf.expand_dims(img_array, 0) # Create a batch\n",
    "img_array = img_array/255\n",
    "predictions = model.predict(img_array)[0]\n",
    "\n",
    "print(\n",
    "    \"This image most likely belongs to {} with a {:.2f} percent confidence.\"\n",
    "    .format(np.argmax(predictions), 100 * np.max(predictions))\n",
    ")"
   ]
  }
 ],
 "metadata": {
  "interpreter": {
   "hash": "ad60775ae12af945b53c5c94c294ef05f229143b8585a0d23625a81e181fdccc"
  },
  "kernelspec": {
   "display_name": "Python 3.7.4 64-bit ('tf-gpu': conda)",
   "name": "python3"
  },
  "language_info": {
   "codemirror_mode": {
    "name": "ipython",
    "version": 3
   },
   "file_extension": ".py",
   "mimetype": "text/x-python",
   "name": "python",
   "nbconvert_exporter": "python",
   "pygments_lexer": "ipython3",
   "version": "3.7.4"
  }
 },
 "nbformat": 4,
 "nbformat_minor": 4
}
