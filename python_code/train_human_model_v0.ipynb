{
 "cells": [
  {
   "cell_type": "code",
   "execution_count": 1,
   "metadata": {},
   "outputs": [],
   "source": [
    "import numpy as np\n",
    "import random\n",
    "import os\n",
    "os.environ['TF_CPP_MIN_LOG_LEVEL'] = '3'\n",
    "# os.environ['CUDA_VISIBLE_DEVICES'] = '-1'\n",
    "\n",
    "import shutil\n",
    "\n",
    "# ! pip install split-folders\n",
    "import splitfolders\n",
    "\n",
    "import tensorflow as tf\n",
    "from tensorflow import keras\n",
    "from tensorflow.keras import layers, regularizers\n",
    "from tensorflow.keras.models import Sequential\n",
    "\n",
    "from tensorflow.keras.preprocessing.image import ImageDataGenerator\n",
    "from tensorflow.keras.preprocessing import image\n",
    "\n",
    "import matplotlib.pyplot as plt\n",
    "\n",
    "rs = 42\n",
    "def reset_random_seeds(rs):\n",
    "   os.environ['PYTHONHASHSEED']=str(rs)\n",
    "   tf.random.set_seed(rs)\n",
    "   np.random.seed(rs)\n",
    "   random.seed(rs)\n",
    "reset_random_seeds(rs)"
   ]
  },
  {
   "cell_type": "markdown",
   "metadata": {},
   "source": [
    "remove prev saved database:"
   ]
  },
  {
   "cell_type": "code",
   "execution_count": 2,
   "metadata": {},
   "outputs": [],
   "source": [
    "dir_path = './data/humanModel/dataset_v0_split'\n",
    "if os.path.exists(dir_path):\n",
    "    shutil.rmtree(dir_path)\n",
    "else:\n",
    "    print(\"File not found in the directory\")"
   ]
  },
  {
   "cell_type": "markdown",
   "metadata": {},
   "source": [
    "# Part 1 - Data Preprocessing"
   ]
  },
  {
   "cell_type": "markdown",
   "metadata": {},
   "source": [
    "## Split into train , test data"
   ]
  },
  {
   "cell_type": "code",
   "execution_count": 3,
   "metadata": {},
   "outputs": [
    {
     "name": "stderr",
     "output_type": "stream",
     "text": [
      "Copying files: 6101 files [00:00, 17291.62 files/s]\n"
     ]
    }
   ],
   "source": [
    "# train, test split\n",
    "splitfolders.ratio('./data/humanModel/dataset_v0/', output=dir_path, ratio=(0.8, 0.2))"
   ]
  },
  {
   "cell_type": "markdown",
   "metadata": {},
   "source": [
    "### Preprocessing the Training set"
   ]
  },
  {
   "cell_type": "code",
   "execution_count": 4,
   "metadata": {},
   "outputs": [
    {
     "name": "stdout",
     "output_type": "stream",
     "text": [
      "Found 4879 images belonging to 4 classes.\n",
      "Found 1222 images belonging to 4 classes.\n"
     ]
    }
   ],
   "source": [
    "batch_size = 64\n",
    "IMG_SIZE = 5\n",
    "\n",
    "datagen = ImageDataGenerator(rescale = 1./255)\n",
    "train = datagen.flow_from_directory((dir_path+'/train'),\n",
    "                                          target_size = (IMG_SIZE,IMG_SIZE), batch_size = batch_size, seed=rs, class_mode='sparse')\n",
    "\n",
    "test = datagen.flow_from_directory((dir_path+'/val'),\n",
    "                                            target_size = (IMG_SIZE, IMG_SIZE), batch_size = batch_size, seed=rs, class_mode='sparse')"
   ]
  },
  {
   "cell_type": "markdown",
   "metadata": {},
   "source": [
    "## View some data"
   ]
  },
  {
   "cell_type": "code",
   "execution_count": 5,
   "metadata": {},
   "outputs": [],
   "source": [
    "num_classes = 4\n",
    "\n",
    "model = Sequential([\n",
    "  layers.Conv2D(4, 3, padding='same', activation='relu', kernel_regularizer=regularizers.l2(0.001), input_shape=[IMG_SIZE,IMG_SIZE,3]),\n",
    "  layers.Conv2D(8, 3, padding='same', activation='relu', kernel_regularizer=regularizers.l2(0.001)),\n",
    "  # layers.MaxPooling2D(),\n",
    "  layers.Conv2D(8, 2, padding='same', activation='relu', kernel_regularizer=regularizers.l2(0.001)),\n",
    "  layers.Dropout(0.5),\n",
    "  layers.Flatten(),\n",
    "  layers.Dense(32, activation='relu', kernel_regularizer=regularizers.l2(0.001)),\n",
    "  layers.Dense(num_classes, activation='softmax')\n",
    "])"
   ]
  },
  {
   "cell_type": "code",
   "execution_count": 6,
   "metadata": {},
   "outputs": [],
   "source": [
    "model.compile(optimizer='adam',\n",
    "              loss=tf.keras.losses.SparseCategoricalCrossentropy(from_logits=False),\n",
    "              metrics=['accuracy'])"
   ]
  },
  {
   "cell_type": "code",
   "execution_count": 7,
   "metadata": {},
   "outputs": [
    {
     "name": "stdout",
     "output_type": "stream",
     "text": [
      "Model: \"sequential\"\n",
      "_________________________________________________________________\n",
      "Layer (type)                 Output Shape              Param #   \n",
      "=================================================================\n",
      "conv2d (Conv2D)              (None, 5, 5, 4)           112       \n",
      "_________________________________________________________________\n",
      "conv2d_1 (Conv2D)            (None, 5, 5, 8)           296       \n",
      "_________________________________________________________________\n",
      "conv2d_2 (Conv2D)            (None, 5, 5, 8)           264       \n",
      "_________________________________________________________________\n",
      "dropout (Dropout)            (None, 5, 5, 8)           0         \n",
      "_________________________________________________________________\n",
      "flatten (Flatten)            (None, 200)               0         \n",
      "_________________________________________________________________\n",
      "dense (Dense)                (None, 32)                6432      \n",
      "_________________________________________________________________\n",
      "dense_1 (Dense)              (None, 4)                 132       \n",
      "=================================================================\n",
      "Total params: 7,236\n",
      "Trainable params: 7,236\n",
      "Non-trainable params: 0\n",
      "_________________________________________________________________\n"
     ]
    }
   ],
   "source": [
    "model.summary()"
   ]
  },
  {
   "cell_type": "code",
   "execution_count": 8,
   "metadata": {
    "scrolled": true
   },
   "outputs": [
    {
     "name": "stdout",
     "output_type": "stream",
     "text": [
      "Epoch 1/120\n",
      "77/77 [==============================] - 2s 10ms/step - loss: 1.4416 - accuracy: 0.2751 - val_loss: 1.4267 - val_accuracy: 0.2668\n",
      "Epoch 2/120\n",
      "77/77 [==============================] - 1s 9ms/step - loss: 1.4134 - accuracy: 0.2865 - val_loss: 1.3934 - val_accuracy: 0.3216\n",
      "Epoch 3/120\n",
      "77/77 [==============================] - 1s 9ms/step - loss: 1.3609 - accuracy: 0.3630 - val_loss: 1.3292 - val_accuracy: 0.3961\n",
      "Epoch 4/120\n",
      "77/77 [==============================] - 1s 9ms/step - loss: 1.3139 - accuracy: 0.4079 - val_loss: 1.3022 - val_accuracy: 0.4141\n",
      "Epoch 5/120\n",
      "77/77 [==============================] - 1s 8ms/step - loss: 1.2972 - accuracy: 0.4196 - val_loss: 1.2934 - val_accuracy: 0.4304\n",
      "Epoch 6/120\n",
      "77/77 [==============================] - 1s 8ms/step - loss: 1.2856 - accuracy: 0.4261 - val_loss: 1.2808 - val_accuracy: 0.4157\n",
      "Epoch 7/120\n",
      "77/77 [==============================] - 1s 9ms/step - loss: 1.2780 - accuracy: 0.4286 - val_loss: 1.2754 - val_accuracy: 0.4231\n",
      "Epoch 8/120\n",
      "77/77 [==============================] - 1s 8ms/step - loss: 1.2705 - accuracy: 0.4362 - val_loss: 1.2664 - val_accuracy: 0.4411\n",
      "Epoch 9/120\n",
      "77/77 [==============================] - 1s 9ms/step - loss: 1.2662 - accuracy: 0.4306 - val_loss: 1.2543 - val_accuracy: 0.4493\n",
      "Epoch 10/120\n",
      "77/77 [==============================] - 1s 9ms/step - loss: 1.2489 - accuracy: 0.4476 - val_loss: 1.2383 - val_accuracy: 0.4583\n",
      "Epoch 11/120\n",
      "77/77 [==============================] - 1s 9ms/step - loss: 1.2423 - accuracy: 0.4474 - val_loss: 1.2411 - val_accuracy: 0.4509\n",
      "Epoch 12/120\n",
      "77/77 [==============================] - 1s 9ms/step - loss: 1.2261 - accuracy: 0.4573 - val_loss: 1.2175 - val_accuracy: 0.4574\n",
      "Epoch 13/120\n",
      "77/77 [==============================] - 1s 9ms/step - loss: 1.2152 - accuracy: 0.4698 - val_loss: 1.1961 - val_accuracy: 0.4820\n",
      "Epoch 14/120\n",
      "77/77 [==============================] - 1s 9ms/step - loss: 1.1953 - accuracy: 0.4794 - val_loss: 1.1828 - val_accuracy: 0.4877\n",
      "Epoch 15/120\n",
      "77/77 [==============================] - 1s 8ms/step - loss: 1.1862 - accuracy: 0.4847 - val_loss: 1.1778 - val_accuracy: 0.4926\n",
      "Epoch 16/120\n",
      "77/77 [==============================] - 1s 9ms/step - loss: 1.1732 - accuracy: 0.4896 - val_loss: 1.1706 - val_accuracy: 0.5057\n",
      "Epoch 17/120\n",
      "77/77 [==============================] - 1s 9ms/step - loss: 1.1644 - accuracy: 0.4983 - val_loss: 1.1619 - val_accuracy: 0.5139\n",
      "Epoch 18/120\n",
      "77/77 [==============================] - 1s 8ms/step - loss: 1.1564 - accuracy: 0.5024 - val_loss: 1.1514 - val_accuracy: 0.5057\n",
      "Epoch 19/120\n",
      "77/77 [==============================] - 1s 9ms/step - loss: 1.1476 - accuracy: 0.5048 - val_loss: 1.1537 - val_accuracy: 0.5205\n",
      "Epoch 20/120\n",
      "77/77 [==============================] - 1s 9ms/step - loss: 1.1420 - accuracy: 0.5175 - val_loss: 1.1489 - val_accuracy: 0.5106\n",
      "Epoch 21/120\n",
      "77/77 [==============================] - 1s 8ms/step - loss: 1.1337 - accuracy: 0.5161 - val_loss: 1.1381 - val_accuracy: 0.5237\n",
      "Epoch 22/120\n",
      "77/77 [==============================] - 1s 9ms/step - loss: 1.1367 - accuracy: 0.5122 - val_loss: 1.1337 - val_accuracy: 0.5245\n",
      "Epoch 23/120\n",
      "77/77 [==============================] - 1s 8ms/step - loss: 1.1236 - accuracy: 0.5206 - val_loss: 1.1293 - val_accuracy: 0.5319\n",
      "Epoch 24/120\n",
      "77/77 [==============================] - 1s 9ms/step - loss: 1.1229 - accuracy: 0.5177 - val_loss: 1.1250 - val_accuracy: 0.5196\n",
      "Epoch 25/120\n",
      "77/77 [==============================] - 1s 9ms/step - loss: 1.1174 - accuracy: 0.5212 - val_loss: 1.1202 - val_accuracy: 0.5311\n",
      "Epoch 26/120\n",
      "77/77 [==============================] - 1s 9ms/step - loss: 1.1106 - accuracy: 0.5397 - val_loss: 1.1172 - val_accuracy: 0.5336\n",
      "Epoch 27/120\n",
      "77/77 [==============================] - 1s 8ms/step - loss: 1.1030 - accuracy: 0.5378 - val_loss: 1.1130 - val_accuracy: 0.5344\n",
      "Epoch 28/120\n",
      "77/77 [==============================] - 1s 9ms/step - loss: 1.1094 - accuracy: 0.5356 - val_loss: 1.1140 - val_accuracy: 0.5376\n",
      "Epoch 29/120\n",
      "77/77 [==============================] - 1s 9ms/step - loss: 1.0996 - accuracy: 0.5382 - val_loss: 1.1152 - val_accuracy: 0.5417\n",
      "Epoch 30/120\n",
      "77/77 [==============================] - 1s 8ms/step - loss: 1.0879 - accuracy: 0.5366 - val_loss: 1.1039 - val_accuracy: 0.5303\n",
      "Epoch 31/120\n",
      "77/77 [==============================] - 1s 8ms/step - loss: 1.0840 - accuracy: 0.5417 - val_loss: 1.1054 - val_accuracy: 0.5393\n",
      "Epoch 32/120\n",
      "77/77 [==============================] - 1s 9ms/step - loss: 1.0852 - accuracy: 0.5431 - val_loss: 1.1048 - val_accuracy: 0.5262\n",
      "Epoch 33/120\n",
      "77/77 [==============================] - 1s 9ms/step - loss: 1.0814 - accuracy: 0.5409 - val_loss: 1.0941 - val_accuracy: 0.5393\n",
      "Epoch 34/120\n",
      "77/77 [==============================] - 1s 9ms/step - loss: 1.0779 - accuracy: 0.5436 - val_loss: 1.0991 - val_accuracy: 0.5344\n",
      "Epoch 35/120\n",
      "77/77 [==============================] - 1s 9ms/step - loss: 1.0677 - accuracy: 0.5534 - val_loss: 1.0887 - val_accuracy: 0.5434\n",
      "Epoch 36/120\n",
      "77/77 [==============================] - 1s 8ms/step - loss: 1.0720 - accuracy: 0.5417 - val_loss: 1.0866 - val_accuracy: 0.5417\n",
      "Epoch 37/120\n",
      "77/77 [==============================] - 1s 9ms/step - loss: 1.0720 - accuracy: 0.5515 - val_loss: 1.0814 - val_accuracy: 0.5532\n",
      "Epoch 38/120\n",
      "77/77 [==============================] - 1s 9ms/step - loss: 1.0643 - accuracy: 0.5532 - val_loss: 1.0877 - val_accuracy: 0.5573\n",
      "Epoch 39/120\n",
      "77/77 [==============================] - 1s 9ms/step - loss: 1.0608 - accuracy: 0.5546 - val_loss: 1.0868 - val_accuracy: 0.5556\n",
      "Epoch 40/120\n",
      "77/77 [==============================] - 1s 9ms/step - loss: 1.0632 - accuracy: 0.5522 - val_loss: 1.0780 - val_accuracy: 0.5499\n",
      "Epoch 41/120\n",
      "77/77 [==============================] - 1s 9ms/step - loss: 1.0542 - accuracy: 0.5542 - val_loss: 1.0778 - val_accuracy: 0.5565\n",
      "Epoch 42/120\n",
      "77/77 [==============================] - 1s 8ms/step - loss: 1.0476 - accuracy: 0.5620 - val_loss: 1.0810 - val_accuracy: 0.5499\n",
      "Epoch 43/120\n",
      "77/77 [==============================] - 1s 9ms/step - loss: 1.0581 - accuracy: 0.5554 - val_loss: 1.0675 - val_accuracy: 0.5597\n",
      "Epoch 44/120\n",
      "77/77 [==============================] - 1s 9ms/step - loss: 1.0479 - accuracy: 0.5628 - val_loss: 1.0687 - val_accuracy: 0.5573\n",
      "Epoch 45/120\n",
      "77/77 [==============================] - 1s 9ms/step - loss: 1.0453 - accuracy: 0.5606 - val_loss: 1.0614 - val_accuracy: 0.5655\n",
      "Epoch 46/120\n",
      "77/77 [==============================] - 1s 9ms/step - loss: 1.0390 - accuracy: 0.5745 - val_loss: 1.0701 - val_accuracy: 0.5516\n",
      "Epoch 47/120\n",
      "77/77 [==============================] - 1s 9ms/step - loss: 1.0378 - accuracy: 0.5679 - val_loss: 1.0628 - val_accuracy: 0.5663\n",
      "Epoch 48/120\n",
      "77/77 [==============================] - 1s 9ms/step - loss: 1.0350 - accuracy: 0.5743 - val_loss: 1.0677 - val_accuracy: 0.5712\n",
      "Epoch 49/120\n",
      "77/77 [==============================] - 1s 9ms/step - loss: 1.0349 - accuracy: 0.5729 - val_loss: 1.0564 - val_accuracy: 0.5720\n",
      "Epoch 50/120\n",
      "77/77 [==============================] - 1s 9ms/step - loss: 1.0378 - accuracy: 0.5733 - val_loss: 1.0595 - val_accuracy: 0.5679\n",
      "Epoch 51/120\n",
      "77/77 [==============================] - 1s 9ms/step - loss: 1.0282 - accuracy: 0.5747 - val_loss: 1.0774 - val_accuracy: 0.5573\n",
      "Epoch 52/120\n",
      "77/77 [==============================] - 1s 9ms/step - loss: 1.0275 - accuracy: 0.5706 - val_loss: 1.0622 - val_accuracy: 0.5687\n",
      "Epoch 53/120\n",
      "77/77 [==============================] - 1s 9ms/step - loss: 1.0283 - accuracy: 0.5700 - val_loss: 1.0532 - val_accuracy: 0.5671\n",
      "Epoch 54/120\n",
      "77/77 [==============================] - 1s 9ms/step - loss: 1.0259 - accuracy: 0.5741 - val_loss: 1.0624 - val_accuracy: 0.5638\n",
      "Epoch 55/120\n",
      "77/77 [==============================] - 1s 9ms/step - loss: 1.0206 - accuracy: 0.5813 - val_loss: 1.0482 - val_accuracy: 0.5736\n",
      "Epoch 56/120\n",
      "77/77 [==============================] - 1s 9ms/step - loss: 1.0185 - accuracy: 0.5778 - val_loss: 1.0432 - val_accuracy: 0.5769\n",
      "Epoch 57/120\n",
      "77/77 [==============================] - 1s 9ms/step - loss: 1.0201 - accuracy: 0.5845 - val_loss: 1.0459 - val_accuracy: 0.5655\n",
      "Epoch 58/120\n",
      "77/77 [==============================] - 1s 9ms/step - loss: 1.0225 - accuracy: 0.5831 - val_loss: 1.0466 - val_accuracy: 0.5728\n",
      "Epoch 59/120\n",
      "77/77 [==============================] - 1s 9ms/step - loss: 1.0154 - accuracy: 0.5796 - val_loss: 1.0489 - val_accuracy: 0.5696\n",
      "Epoch 60/120\n",
      "77/77 [==============================] - 1s 9ms/step - loss: 1.0150 - accuracy: 0.5858 - val_loss: 1.0532 - val_accuracy: 0.5745\n",
      "Epoch 61/120\n",
      "77/77 [==============================] - 1s 9ms/step - loss: 1.0170 - accuracy: 0.5825 - val_loss: 1.0489 - val_accuracy: 0.5687\n",
      "Epoch 62/120\n",
      "77/77 [==============================] - 1s 9ms/step - loss: 1.0088 - accuracy: 0.5927 - val_loss: 1.0442 - val_accuracy: 0.5646\n",
      "Epoch 63/120\n",
      "77/77 [==============================] - 1s 9ms/step - loss: 1.0097 - accuracy: 0.5907 - val_loss: 1.0456 - val_accuracy: 0.5696\n",
      "Epoch 64/120\n",
      "77/77 [==============================] - 1s 8ms/step - loss: 0.9995 - accuracy: 0.5854 - val_loss: 1.0447 - val_accuracy: 0.5736\n",
      "Epoch 65/120\n",
      "77/77 [==============================] - 1s 9ms/step - loss: 1.0036 - accuracy: 0.5905 - val_loss: 1.0444 - val_accuracy: 0.5728\n",
      "Epoch 66/120\n",
      "77/77 [==============================] - 1s 9ms/step - loss: 1.0047 - accuracy: 0.6005 - val_loss: 1.0404 - val_accuracy: 0.5745\n",
      "Epoch 67/120\n",
      "77/77 [==============================] - 1s 8ms/step - loss: 1.0057 - accuracy: 0.5919 - val_loss: 1.0404 - val_accuracy: 0.5786\n",
      "Epoch 68/120\n",
      "77/77 [==============================] - 1s 9ms/step - loss: 1.0059 - accuracy: 0.5929 - val_loss: 1.0483 - val_accuracy: 0.5679\n",
      "Epoch 69/120\n",
      "77/77 [==============================] - 1s 9ms/step - loss: 1.0016 - accuracy: 0.5927 - val_loss: 1.0484 - val_accuracy: 0.5794\n",
      "Epoch 70/120\n",
      "77/77 [==============================] - 1s 8ms/step - loss: 1.0053 - accuracy: 0.5927 - val_loss: 1.0497 - val_accuracy: 0.5810\n",
      "Epoch 71/120\n",
      "77/77 [==============================] - 1s 8ms/step - loss: 0.9957 - accuracy: 0.5983 - val_loss: 1.0569 - val_accuracy: 0.5712\n",
      "Epoch 72/120\n",
      "77/77 [==============================] - 1s 9ms/step - loss: 0.9997 - accuracy: 0.5878 - val_loss: 1.0391 - val_accuracy: 0.5843\n",
      "Epoch 73/120\n",
      "77/77 [==============================] - 1s 9ms/step - loss: 1.0027 - accuracy: 0.5927 - val_loss: 1.0456 - val_accuracy: 0.5736\n",
      "Epoch 74/120\n",
      "77/77 [==============================] - 1s 8ms/step - loss: 0.9998 - accuracy: 0.5923 - val_loss: 1.0335 - val_accuracy: 0.5843\n",
      "Epoch 75/120\n",
      "77/77 [==============================] - 1s 9ms/step - loss: 0.9887 - accuracy: 0.6059 - val_loss: 1.0301 - val_accuracy: 0.5925\n",
      "Epoch 76/120\n",
      "77/77 [==============================] - 1s 8ms/step - loss: 0.9915 - accuracy: 0.6009 - val_loss: 1.0333 - val_accuracy: 0.5818\n",
      "Epoch 77/120\n",
      "77/77 [==============================] - 1s 9ms/step - loss: 0.9887 - accuracy: 0.5956 - val_loss: 1.0364 - val_accuracy: 0.5843\n",
      "Epoch 78/120\n",
      "77/77 [==============================] - 1s 9ms/step - loss: 0.9904 - accuracy: 0.5936 - val_loss: 1.0355 - val_accuracy: 0.5925\n",
      "Epoch 79/120\n",
      "77/77 [==============================] - 1s 9ms/step - loss: 0.9887 - accuracy: 0.6018 - val_loss: 1.0374 - val_accuracy: 0.5802\n",
      "Epoch 80/120\n",
      "77/77 [==============================] - 1s 8ms/step - loss: 0.9872 - accuracy: 0.6050 - val_loss: 1.0299 - val_accuracy: 0.5859\n",
      "Epoch 81/120\n",
      "77/77 [==============================] - 1s 9ms/step - loss: 0.9878 - accuracy: 0.6007 - val_loss: 1.0281 - val_accuracy: 0.5876\n",
      "Epoch 82/120\n",
      "77/77 [==============================] - 1s 9ms/step - loss: 0.9974 - accuracy: 0.5999 - val_loss: 1.0287 - val_accuracy: 0.5712\n",
      "Epoch 83/120\n",
      "77/77 [==============================] - 1s 8ms/step - loss: 0.9934 - accuracy: 0.5981 - val_loss: 1.0371 - val_accuracy: 0.5769\n",
      "Epoch 84/120\n",
      "77/77 [==============================] - 1s 9ms/step - loss: 0.9734 - accuracy: 0.6057 - val_loss: 1.0299 - val_accuracy: 0.5810\n",
      "Epoch 85/120\n",
      "77/77 [==============================] - 1s 9ms/step - loss: 0.9827 - accuracy: 0.6032 - val_loss: 1.0348 - val_accuracy: 0.5917\n",
      "Epoch 86/120\n",
      "77/77 [==============================] - 1s 8ms/step - loss: 0.9782 - accuracy: 0.6075 - val_loss: 1.0368 - val_accuracy: 0.5884\n",
      "Epoch 87/120\n",
      "77/77 [==============================] - 1s 9ms/step - loss: 0.9840 - accuracy: 0.6057 - val_loss: 1.0315 - val_accuracy: 0.5876\n",
      "Epoch 88/120\n",
      "77/77 [==============================] - 1s 9ms/step - loss: 0.9847 - accuracy: 0.6065 - val_loss: 1.0338 - val_accuracy: 0.5851\n",
      "Epoch 89/120\n",
      "77/77 [==============================] - 1s 9ms/step - loss: 0.9803 - accuracy: 0.5981 - val_loss: 1.0307 - val_accuracy: 0.5908\n",
      "Epoch 90/120\n",
      "77/77 [==============================] - 1s 9ms/step - loss: 0.9789 - accuracy: 0.5999 - val_loss: 1.0424 - val_accuracy: 0.5818\n",
      "Epoch 91/120\n",
      "77/77 [==============================] - 1s 9ms/step - loss: 0.9754 - accuracy: 0.6075 - val_loss: 1.0352 - val_accuracy: 0.5900\n",
      "Epoch 92/120\n",
      "77/77 [==============================] - 1s 9ms/step - loss: 0.9758 - accuracy: 0.5962 - val_loss: 1.0345 - val_accuracy: 0.5884\n",
      "Epoch 93/120\n",
      "77/77 [==============================] - 1s 9ms/step - loss: 0.9832 - accuracy: 0.5973 - val_loss: 1.0320 - val_accuracy: 0.5818\n",
      "Epoch 94/120\n",
      "77/77 [==============================] - 1s 9ms/step - loss: 0.9747 - accuracy: 0.6124 - val_loss: 1.0318 - val_accuracy: 0.5876\n",
      "Epoch 95/120\n",
      "77/77 [==============================] - 1s 9ms/step - loss: 0.9712 - accuracy: 0.6134 - val_loss: 1.0321 - val_accuracy: 0.5892\n",
      "Epoch 96/120\n",
      "77/77 [==============================] - 1s 8ms/step - loss: 0.9808 - accuracy: 0.5999 - val_loss: 1.0357 - val_accuracy: 0.5843\n",
      "Epoch 97/120\n",
      "77/77 [==============================] - 1s 9ms/step - loss: 0.9725 - accuracy: 0.6077 - val_loss: 1.0357 - val_accuracy: 0.5859\n",
      "Epoch 98/120\n",
      "77/77 [==============================] - 1s 9ms/step - loss: 0.9766 - accuracy: 0.6096 - val_loss: 1.0319 - val_accuracy: 0.5802\n",
      "Epoch 99/120\n",
      "77/77 [==============================] - 1s 9ms/step - loss: 0.9718 - accuracy: 0.6038 - val_loss: 1.0308 - val_accuracy: 0.5753\n",
      "Epoch 100/120\n",
      "77/77 [==============================] - 1s 9ms/step - loss: 0.9812 - accuracy: 0.6001 - val_loss: 1.0384 - val_accuracy: 0.5818\n",
      "Epoch 101/120\n",
      "77/77 [==============================] - 1s 9ms/step - loss: 0.9716 - accuracy: 0.6114 - val_loss: 1.0332 - val_accuracy: 0.5900\n",
      "Epoch 102/120\n",
      "77/77 [==============================] - 1s 9ms/step - loss: 0.9770 - accuracy: 0.6055 - val_loss: 1.0322 - val_accuracy: 0.5851\n",
      "Epoch 103/120\n",
      "77/77 [==============================] - 1s 9ms/step - loss: 0.9732 - accuracy: 0.6007 - val_loss: 1.0322 - val_accuracy: 0.5802\n",
      "Epoch 104/120\n",
      "77/77 [==============================] - 1s 9ms/step - loss: 0.9721 - accuracy: 0.6112 - val_loss: 1.0296 - val_accuracy: 0.5859\n",
      "Epoch 105/120\n",
      "77/77 [==============================] - 1s 9ms/step - loss: 0.9605 - accuracy: 0.6122 - val_loss: 1.0264 - val_accuracy: 0.5900\n",
      "Epoch 106/120\n",
      "77/77 [==============================] - 1s 9ms/step - loss: 0.9736 - accuracy: 0.6001 - val_loss: 1.0322 - val_accuracy: 0.5876\n",
      "Epoch 107/120\n",
      "77/77 [==============================] - 1s 9ms/step - loss: 0.9666 - accuracy: 0.6159 - val_loss: 1.0291 - val_accuracy: 0.5867\n",
      "Epoch 108/120\n",
      "77/77 [==============================] - 1s 9ms/step - loss: 0.9695 - accuracy: 0.6120 - val_loss: 1.0308 - val_accuracy: 0.5835\n",
      "Epoch 109/120\n",
      "77/77 [==============================] - 1s 9ms/step - loss: 0.9703 - accuracy: 0.6063 - val_loss: 1.0376 - val_accuracy: 0.5908\n",
      "Epoch 110/120\n",
      "77/77 [==============================] - 1s 9ms/step - loss: 0.9738 - accuracy: 0.6110 - val_loss: 1.0321 - val_accuracy: 0.5843\n",
      "Epoch 111/120\n",
      "77/77 [==============================] - 1s 9ms/step - loss: 0.9703 - accuracy: 0.6124 - val_loss: 1.0319 - val_accuracy: 0.5835\n",
      "Epoch 112/120\n",
      "77/77 [==============================] - 1s 8ms/step - loss: 0.9609 - accuracy: 0.6116 - val_loss: 1.0405 - val_accuracy: 0.5876\n",
      "Epoch 113/120\n",
      "77/77 [==============================] - 1s 9ms/step - loss: 0.9645 - accuracy: 0.6059 - val_loss: 1.0321 - val_accuracy: 0.5925\n",
      "Epoch 114/120\n",
      "77/77 [==============================] - 1s 9ms/step - loss: 0.9648 - accuracy: 0.6151 - val_loss: 1.0287 - val_accuracy: 0.5892\n",
      "Epoch 115/120\n",
      "77/77 [==============================] - 1s 9ms/step - loss: 0.9678 - accuracy: 0.6128 - val_loss: 1.0260 - val_accuracy: 0.5867\n",
      "Epoch 116/120\n",
      "77/77 [==============================] - 1s 9ms/step - loss: 0.9629 - accuracy: 0.6159 - val_loss: 1.0240 - val_accuracy: 0.5941\n",
      "Epoch 117/120\n",
      "77/77 [==============================] - 1s 9ms/step - loss: 0.9755 - accuracy: 0.6100 - val_loss: 1.0276 - val_accuracy: 0.5876\n",
      "Epoch 118/120\n",
      "77/77 [==============================] - 1s 9ms/step - loss: 0.9566 - accuracy: 0.6208 - val_loss: 1.0301 - val_accuracy: 0.5949\n",
      "Epoch 119/120\n",
      "77/77 [==============================] - 1s 9ms/step - loss: 0.9652 - accuracy: 0.6102 - val_loss: 1.0320 - val_accuracy: 0.5957\n",
      "Epoch 120/120\n",
      "77/77 [==============================] - 1s 9ms/step - loss: 0.9566 - accuracy: 0.6227 - val_loss: 1.0243 - val_accuracy: 0.5957\n"
     ]
    }
   ],
   "source": [
    "epochs=120\n",
    "history = model.fit(\n",
    "  train,\n",
    "  validation_data=test,\n",
    "  epochs=epochs\n",
    ")"
   ]
  },
  {
   "cell_type": "code",
   "execution_count": 9,
   "metadata": {},
   "outputs": [
    {
     "data": {
      "image/png": "[encoded data removed]",
      "text/plain": [
       "<Figure size 576x576 with 2 Axes>"
      ]
     },
     "metadata": {
      "needs_background": "light"
     },
     "output_type": "display_data"
    }
   ],
   "source": [
    "acc = history.history['accuracy']\n",
    "val_acc = history.history['val_accuracy']\n",
    "\n",
    "loss = history.history['loss']\n",
    "val_loss = history.history['val_loss']\n",
    "\n",
    "epochs_range = range(epochs)\n",
    "\n",
    "plt.figure(figsize=(8, 8))\n",
    "plt.subplot(1, 2, 1)\n",
    "plt.plot(epochs_range, acc, label='Training Accuracy')\n",
    "plt.plot(epochs_range, val_acc, label='Validation Accuracy')\n",
    "plt.legend(loc='lower right')\n",
    "plt.title('Training and Validation Accuracy')\n",
    "\n",
    "plt.subplot(1, 2, 2)\n",
    "plt.plot(epochs_range, loss, label='Training Loss')\n",
    "plt.plot(epochs_range, val_loss, label='Validation Loss')\n",
    "plt.legend(loc='upper right')\n",
    "plt.title('Training and Validation Loss')\n",
    "plt.show()"
   ]
  },
  {
   "cell_type": "code",
   "execution_count": 10,
   "metadata": {},
   "outputs": [
    {
     "name": "stdout",
     "output_type": "stream",
     "text": [
      "20/20 [==============================] - 0s 6ms/step - loss: 1.0243 - accuracy: 0.5957\n",
      "Test accuracy : 0.5957446694374084\n"
     ]
    }
   ],
   "source": [
    "loss, accuracy = model.evaluate(test)\n",
    "print('Test accuracy :', accuracy)"
   ]
  },
  {
   "cell_type": "code",
   "execution_count": 11,
   "metadata": {},
   "outputs": [],
   "source": [
    "# Save the weights model.\n",
    "model.save('./data/humanModel/model_v0.h5')"
   ]
  },
  {
   "cell_type": "code",
   "execution_count": 12,
   "metadata": {},
   "outputs": [],
   "source": [
    "# save model in js format\n",
    "# import tensorflowjs as tfjs\n",
    "# tfjs.converters.save_keras_model(model, 'data/humanModel/js_model_v0')"
   ]
  },
  {
   "cell_type": "code",
   "execution_count": 13,
   "metadata": {},
   "outputs": [],
   "source": [
    "# new_model = tf.keras.models.load_model('./data/humanModel/mode_v0')\n",
    "\n",
    "# # Check its architecture\n",
    "# new_model.summary()"
   ]
  },
  {
   "cell_type": "markdown",
   "metadata": {},
   "source": [
    "### Predict on new data"
   ]
  },
  {
   "cell_type": "code",
   "execution_count": 14,
   "metadata": {},
   "outputs": [
    {
     "ename": "FileNotFoundError",
     "evalue": "[Errno 2] No such file or directory: './data/humanModel_v0_dataset_split/val/38/-Mr4e3Fomo72jz0zfTgB_14.png'",
     "output_type": "error",
     "traceback": [
      "\u001b[0;31m---------------------------------------------------------------------------\u001b[0m",
      "\u001b[0;31mFileNotFoundError\u001b[0m                         Traceback (most recent call last)",
      "\u001b[0;32m/tmp/ipykernel_4174076/1618442636.py\u001b[0m in \u001b[0;36m<module>\u001b[0;34m\u001b[0m\n\u001b[1;32m      2\u001b[0m \u001b[0;34m\u001b[0m\u001b[0m\n\u001b[1;32m      3\u001b[0m img = keras.preprocessing.image.load_img(\n\u001b[0;32m----> 4\u001b[0;31m     \u001b[0mpath\u001b[0m\u001b[0;34m,\u001b[0m \u001b[0mtarget_size\u001b[0m\u001b[0;34m=\u001b[0m\u001b[0;34m(\u001b[0m\u001b[0mIMG_SIZE\u001b[0m\u001b[0;34m,\u001b[0m \u001b[0mIMG_SIZE\u001b[0m\u001b[0;34m)\u001b[0m\u001b[0;34m\u001b[0m\u001b[0;34m\u001b[0m\u001b[0m\n\u001b[0m\u001b[1;32m      5\u001b[0m )\n\u001b[1;32m      6\u001b[0m \u001b[0mimg_array\u001b[0m \u001b[0;34m=\u001b[0m \u001b[0mkeras\u001b[0m\u001b[0;34m.\u001b[0m\u001b[0mpreprocessing\u001b[0m\u001b[0;34m.\u001b[0m\u001b[0mimage\u001b[0m\u001b[0;34m.\u001b[0m\u001b[0mimg_to_array\u001b[0m\u001b[0;34m(\u001b[0m\u001b[0mimg\u001b[0m\u001b[0;34m)\u001b[0m\u001b[0;34m\u001b[0m\u001b[0;34m\u001b[0m\u001b[0m\n",
      "\u001b[0;32m~/anaconda3/envs/tf-gpu/lib/python3.7/site-packages/keras/preprocessing/image.py\u001b[0m in \u001b[0;36mload_img\u001b[0;34m(path, grayscale, color_mode, target_size, interpolation)\u001b[0m\n\u001b[1;32m    312\u001b[0m   \"\"\"\n\u001b[1;32m    313\u001b[0m   return image.load_img(path, grayscale=grayscale, color_mode=color_mode,\n\u001b[0;32m--> 314\u001b[0;31m                         target_size=target_size, interpolation=interpolation)\n\u001b[0m\u001b[1;32m    315\u001b[0m \u001b[0;34m\u001b[0m\u001b[0m\n\u001b[1;32m    316\u001b[0m \u001b[0;34m\u001b[0m\u001b[0m\n",
      "\u001b[0;32m~/anaconda3/envs/tf-gpu/lib/python3.7/site-packages/keras_preprocessing/image/utils.py\u001b[0m in \u001b[0;36mload_img\u001b[0;34m(path, grayscale, color_mode, target_size, interpolation)\u001b[0m\n\u001b[1;32m    111\u001b[0m         raise ImportError('Could not import PIL.Image. '\n\u001b[1;32m    112\u001b[0m                           'The use of `load_img` requires PIL.')\n\u001b[0;32m--> 113\u001b[0;31m     \u001b[0;32mwith\u001b[0m \u001b[0mopen\u001b[0m\u001b[0;34m(\u001b[0m\u001b[0mpath\u001b[0m\u001b[0;34m,\u001b[0m \u001b[0;34m'rb'\u001b[0m\u001b[0;34m)\u001b[0m \u001b[0;32mas\u001b[0m \u001b[0mf\u001b[0m\u001b[0;34m:\u001b[0m\u001b[0;34m\u001b[0m\u001b[0;34m\u001b[0m\u001b[0m\n\u001b[0m\u001b[1;32m    114\u001b[0m         \u001b[0mimg\u001b[0m \u001b[0;34m=\u001b[0m \u001b[0mpil_image\u001b[0m\u001b[0;34m.\u001b[0m\u001b[0mopen\u001b[0m\u001b[0;34m(\u001b[0m\u001b[0mio\u001b[0m\u001b[0;34m.\u001b[0m\u001b[0mBytesIO\u001b[0m\u001b[0;34m(\u001b[0m\u001b[0mf\u001b[0m\u001b[0;34m.\u001b[0m\u001b[0mread\u001b[0m\u001b[0;34m(\u001b[0m\u001b[0;34m)\u001b[0m\u001b[0;34m)\u001b[0m\u001b[0;34m)\u001b[0m\u001b[0;34m\u001b[0m\u001b[0;34m\u001b[0m\u001b[0m\n\u001b[1;32m    115\u001b[0m         \u001b[0;32mif\u001b[0m \u001b[0mcolor_mode\u001b[0m \u001b[0;34m==\u001b[0m \u001b[0;34m'grayscale'\u001b[0m\u001b[0;34m:\u001b[0m\u001b[0;34m\u001b[0m\u001b[0;34m\u001b[0m\u001b[0m\n",
      "\u001b[0;31mFileNotFoundError\u001b[0m: [Errno 2] No such file or directory: './data/humanModel_v0_dataset_split/val/38/-Mr4e3Fomo72jz0zfTgB_14.png'"
     ]
    }
   ],
   "source": [
    "path = \"./data/humanModel_v0_dataset_split/val/38/-Mr4e3Fomo72jz0zfTgB_14.png\"\n",
    "\n",
    "img = keras.preprocessing.image.load_img(\n",
    "    path, target_size=(IMG_SIZE, IMG_SIZE)\n",
    ")\n",
    "img_array = keras.preprocessing.image.img_to_array(img)\n",
    "img_array = tf.expand_dims(img_array, 0) # Create a batch\n",
    "img_array = img_array/255\n",
    "predictions = model.predict(img_array)[0]\n",
    "\n",
    "print(\n",
    "    \"This image most likely belongs to {} with a {:.2f} percent confidence.\"\n",
    "    .format(np.argmax(predictions), 100 * np.max(predictions))\n",
    ")"
   ]
  }
 ],
 "metadata": {
  "interpreter": {
   "hash": "ad60775ae12af945b53c5c94c294ef05f229143b8585a0d23625a81e181fdccc"
  },
  "kernelspec": {
   "display_name": "Python 3.7.4 64-bit ('tf-gpu': conda)",
   "name": "python3"
  },
  "language_info": {
   "codemirror_mode": {
    "name": "ipython",
    "version": 3
   },
   "file_extension": ".py",
   "mimetype": "text/x-python",
   "name": "python",
   "nbconvert_exporter": "python",
   "pygments_lexer": "ipython3",
   "version": "3.7.4"
  }
 },
 "nbformat": 4,
 "nbformat_minor": 4
}
