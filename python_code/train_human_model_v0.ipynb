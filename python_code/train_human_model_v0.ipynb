{
 "cells": [
  {
   "cell_type": "code",
   "execution_count": 1,
   "metadata": {},
   "outputs": [],
   "source": [
    "import pandas as pd\n",
    "import numpy as np\n",
    "# Make numpy values easier to read.\n",
    "np.set_printoptions(precision=3, suppress=True)\n",
    "\n",
    "import tensorflow as tf\n",
    "import os\n",
    "os.environ['TF_CPP_MIN_LOG_LEVEL'] = '3'\n",
    "\n",
    "from tensorflow.keras.models import Model\n",
    "from tensorflow.keras.layers import Input, Dense\n",
    "from tensorflow.keras.optimizers import Adam\n",
    "\n",
    "from tensorflow.keras import layers, regularizers\n",
    "\n",
    "from sklearn.model_selection import train_test_split\n",
    "from sklearn.preprocessing import LabelEncoder\n",
    "\n",
    "import matplotlib.pyplot as plt\n",
    "\n",
    "rs = 42\n",
    "def reset_random_seeds(rs):\n",
    "   tf.random.set_seed(rs)\n",
    "   np.random.seed(rs)\n",
    "\n",
    "# reset_random_seeds(rs)\n",
    "\n",
    "dir_path = './data/humanModel/dataset_v0.csv'"
   ]
  },
  {
   "cell_type": "code",
   "execution_count": 2,
   "metadata": {},
   "outputs": [
    {
     "data": {
      "text/html": [
       "<div>\n",
       "<style scoped>\n",
       "    .dataframe tbody tr th:only-of-type {\n",
       "        vertical-align: middle;\n",
       "    }\n",
       "\n",
       "    .dataframe tbody tr th {\n",
       "        vertical-align: top;\n",
       "    }\n",
       "\n",
       "    .dataframe thead th {\n",
       "        text-align: right;\n",
       "    }\n",
       "</style>\n",
       "<table border=\"1\" class=\"dataframe\">\n",
       "  <thead>\n",
       "    <tr style=\"text-align: right;\">\n",
       "      <th></th>\n",
       "      <th>code</th>\n",
       "      <th>step</th>\n",
       "      <th>computer_x</th>\n",
       "      <th>computer_y</th>\n",
       "      <th>human_x</th>\n",
       "      <th>human_y</th>\n",
       "      <th>stag_x</th>\n",
       "      <th>stag_y</th>\n",
       "      <th>shrub1_x</th>\n",
       "      <th>shrub1_y</th>\n",
       "      <th>shrub2_x</th>\n",
       "      <th>shrub2_y</th>\n",
       "      <th>shrub3_x</th>\n",
       "      <th>shrub3_y</th>\n",
       "      <th>human_action</th>\n",
       "    </tr>\n",
       "  </thead>\n",
       "  <tbody>\n",
       "    <tr>\n",
       "      <th>0</th>\n",
       "      <td>-N2gl9wHXMJoXRg5OyiP</td>\n",
       "      <td>1</td>\n",
       "      <td>4</td>\n",
       "      <td>0</td>\n",
       "      <td>0</td>\n",
       "      <td>0</td>\n",
       "      <td>2</td>\n",
       "      <td>2</td>\n",
       "      <td>1</td>\n",
       "      <td>4</td>\n",
       "      <td>3</td>\n",
       "      <td>0</td>\n",
       "      <td>1</td>\n",
       "      <td>2</td>\n",
       "      <td>40</td>\n",
       "    </tr>\n",
       "    <tr>\n",
       "      <th>1</th>\n",
       "      <td>-N2gl9wHXMJoXRg5OyiP</td>\n",
       "      <td>2</td>\n",
       "      <td>4</td>\n",
       "      <td>1</td>\n",
       "      <td>0</td>\n",
       "      <td>1</td>\n",
       "      <td>3</td>\n",
       "      <td>2</td>\n",
       "      <td>1</td>\n",
       "      <td>4</td>\n",
       "      <td>3</td>\n",
       "      <td>0</td>\n",
       "      <td>1</td>\n",
       "      <td>2</td>\n",
       "      <td>39</td>\n",
       "    </tr>\n",
       "    <tr>\n",
       "      <th>2</th>\n",
       "      <td>-N2gl9wHXMJoXRg5OyiP</td>\n",
       "      <td>3</td>\n",
       "      <td>4</td>\n",
       "      <td>2</td>\n",
       "      <td>1</td>\n",
       "      <td>1</td>\n",
       "      <td>3</td>\n",
       "      <td>1</td>\n",
       "      <td>1</td>\n",
       "      <td>4</td>\n",
       "      <td>3</td>\n",
       "      <td>0</td>\n",
       "      <td>1</td>\n",
       "      <td>2</td>\n",
       "      <td>40</td>\n",
       "    </tr>\n",
       "    <tr>\n",
       "      <th>3</th>\n",
       "      <td>-N2gl9wHXMJoXRg5OyiP</td>\n",
       "      <td>4</td>\n",
       "      <td>4</td>\n",
       "      <td>1</td>\n",
       "      <td>1</td>\n",
       "      <td>2</td>\n",
       "      <td>4</td>\n",
       "      <td>1</td>\n",
       "      <td>1</td>\n",
       "      <td>4</td>\n",
       "      <td>3</td>\n",
       "      <td>0</td>\n",
       "      <td>2</td>\n",
       "      <td>2</td>\n",
       "      <td>39</td>\n",
       "    </tr>\n",
       "    <tr>\n",
       "      <th>4</th>\n",
       "      <td>-N2gl9wHXMJoXRg5OyiP</td>\n",
       "      <td>5</td>\n",
       "      <td>4</td>\n",
       "      <td>0</td>\n",
       "      <td>2</td>\n",
       "      <td>2</td>\n",
       "      <td>4</td>\n",
       "      <td>1</td>\n",
       "      <td>1</td>\n",
       "      <td>4</td>\n",
       "      <td>3</td>\n",
       "      <td>0</td>\n",
       "      <td>3</td>\n",
       "      <td>3</td>\n",
       "      <td>39</td>\n",
       "    </tr>\n",
       "  </tbody>\n",
       "</table>\n",
       "</div>"
      ],
      "text/plain": [
       "                   code  step  computer_x  computer_y  human_x  human_y  \\\n",
       "0  -N2gl9wHXMJoXRg5OyiP     1           4           0        0        0   \n",
       "1  -N2gl9wHXMJoXRg5OyiP     2           4           1        0        1   \n",
       "2  -N2gl9wHXMJoXRg5OyiP     3           4           2        1        1   \n",
       "3  -N2gl9wHXMJoXRg5OyiP     4           4           1        1        2   \n",
       "4  -N2gl9wHXMJoXRg5OyiP     5           4           0        2        2   \n",
       "\n",
       "   stag_x  stag_y  shrub1_x  shrub1_y  shrub2_x  shrub2_y  shrub3_x  shrub3_y  \\\n",
       "0       2       2         1         4         3         0         1         2   \n",
       "1       3       2         1         4         3         0         1         2   \n",
       "2       3       1         1         4         3         0         1         2   \n",
       "3       4       1         1         4         3         0         2         2   \n",
       "4       4       1         1         4         3         0         3         3   \n",
       "\n",
       "   human_action  \n",
       "0            40  \n",
       "1            39  \n",
       "2            40  \n",
       "3            39  \n",
       "4            39  "
      ]
     },
     "execution_count": 2,
     "metadata": {},
     "output_type": "execute_result"
    }
   ],
   "source": [
    "data = pd.read_csv(dir_path)\n",
    "data.columns = data.columns.str.replace(' ', '')\n",
    "data.head()"
   ]
  },
  {
   "cell_type": "code",
   "execution_count": 3,
   "metadata": {},
   "outputs": [
    {
     "data": {
      "text/plain": [
       "Index(['code', 'step', 'computer_x', 'computer_y', 'human_x', 'human_y',\n",
       "       'stag_x', 'stag_y', 'shrub1_x', 'shrub1_y', 'shrub2_x', 'shrub2_y',\n",
       "       'shrub3_x', 'shrub3_y', 'human_action'],\n",
       "      dtype='object')"
      ]
     },
     "execution_count": 3,
     "metadata": {},
     "output_type": "execute_result"
    }
   ],
   "source": [
    "data.columns"
   ]
  },
  {
   "cell_type": "markdown",
   "metadata": {},
   "source": [
    "# Split into train, validation and test data"
   ]
  },
  {
   "cell_type": "code",
   "execution_count": 4,
   "metadata": {},
   "outputs": [
    {
     "data": {
      "text/html": [
       "<div>\n",
       "<style scoped>\n",
       "    .dataframe tbody tr th:only-of-type {\n",
       "        vertical-align: middle;\n",
       "    }\n",
       "\n",
       "    .dataframe tbody tr th {\n",
       "        vertical-align: top;\n",
       "    }\n",
       "\n",
       "    .dataframe thead th {\n",
       "        text-align: right;\n",
       "    }\n",
       "</style>\n",
       "<table border=\"1\" class=\"dataframe\">\n",
       "  <thead>\n",
       "    <tr style=\"text-align: right;\">\n",
       "      <th></th>\n",
       "      <th>Training dataset</th>\n",
       "      <th>Test dataset</th>\n",
       "      <th>Total</th>\n",
       "    </tr>\n",
       "  </thead>\n",
       "  <tbody>\n",
       "    <tr>\n",
       "      <th>left</th>\n",
       "      <td>55</td>\n",
       "      <td>21</td>\n",
       "      <td>76</td>\n",
       "    </tr>\n",
       "    <tr>\n",
       "      <th>up</th>\n",
       "      <td>71</td>\n",
       "      <td>15</td>\n",
       "      <td>86</td>\n",
       "    </tr>\n",
       "    <tr>\n",
       "      <th>right</th>\n",
       "      <td>68</td>\n",
       "      <td>18</td>\n",
       "      <td>86</td>\n",
       "    </tr>\n",
       "    <tr>\n",
       "      <th>down</th>\n",
       "      <td>80</td>\n",
       "      <td>15</td>\n",
       "      <td>95</td>\n",
       "    </tr>\n",
       "  </tbody>\n",
       "</table>\n",
       "</div>"
      ],
      "text/plain": [
       "       Training dataset  Test dataset  Total\n",
       "left                 55            21     76\n",
       "up                   71            15     86\n",
       "right                68            18     86\n",
       "down                 80            15     95"
      ]
     },
     "execution_count": 4,
     "metadata": {},
     "output_type": "execute_result"
    }
   ],
   "source": [
    "scaler = LabelEncoder()\n",
    "\n",
    "X = data.iloc[:, 2:-1].values # Drop unused features (\"code\", \"step\").\n",
    "y = scaler.fit_transform(data.iloc[:, -1].values) # Pop the target\n",
    "\n",
    "X_train, X_test, y_train, y_test = train_test_split(X, y, shuffle=True, test_size = 0.2, random_state = rs)\n",
    "\n",
    "freqs = pd.DataFrame({\"Training dataset\": [(y_train == 0).sum(),(y_train == 1).sum(),(y_train == 2).sum(), (y_train == 3).sum()],\n",
    "                      \"Test dataset\": [(y_test == 0).sum(),(y_test == 1).sum(),(y_test == 2).sum(),(y_test == 3).sum()],\n",
    "                      \"Total\": [(y_train == 0).sum()+(y_test == 0).sum(),(y_train == 1).sum()+(y_test == 1).sum(),(y_train == 2).sum()+(y_test == 2).sum(),(y_train == 3).sum()+(y_test == 3).sum()]},\n",
    "                     index=[\"left\", \"up\", \"right\", \"down\"])\n",
    "freqs[[\"Training dataset\", \"Test dataset\", \"Total\"]]"
   ]
  },
  {
   "cell_type": "markdown",
   "metadata": {},
   "source": [
    "# Transform target to one-hot encoding"
   ]
  },
  {
   "cell_type": "code",
   "execution_count": 5,
   "metadata": {},
   "outputs": [],
   "source": [
    "# n_values = np.max(y_train) + 1\n",
    "# y_train = np.eye(n_values)[y_train]\n",
    "\n",
    "# n_values = np.max(y_test) + 1\n",
    "# y_test = np.eye(n_values)[y_test]"
   ]
  },
  {
   "cell_type": "code",
   "execution_count": 6,
   "metadata": {},
   "outputs": [
    {
     "name": "stdout",
     "output_type": "stream",
     "text": [
      "274 training examples\n",
      "69 test examples\n"
     ]
    }
   ],
   "source": [
    "print(len(y_train), 'training examples')\n",
    "print(len(y_test), 'test examples')"
   ]
  },
  {
   "cell_type": "code",
   "execution_count": 7,
   "metadata": {},
   "outputs": [
    {
     "data": {
      "text/plain": [
       "numpy.ndarray"
      ]
     },
     "execution_count": 7,
     "metadata": {},
     "output_type": "execute_result"
    }
   ],
   "source": [
    "type(y_train)"
   ]
  },
  {
   "cell_type": "markdown",
   "metadata": {},
   "source": [
    "# Build the model"
   ]
  },
  {
   "cell_type": "code",
   "execution_count": 8,
   "metadata": {},
   "outputs": [],
   "source": [
    "input_shape = (X_train.shape[1])\n",
    "num_classes = 4\n",
    "\n",
    "X_input = Input(shape=input_shape)\n",
    "X = X_input\n",
    "# X = Dense(128, activation='relu')(X)\n",
    "X = Dense(64, activation='relu')(X)\n",
    "X = Dense(32, activation='relu')(X)\n",
    "X = Dense(16, activation='relu')(X)\n",
    "# Output Layer with # of actions: 4 nodes (left, right, up, down)\n",
    "X = Dense(num_classes, activation=\"softmax\")(X)\n",
    "\n",
    "model = Model(inputs = X_input, outputs = X)"
   ]
  },
  {
   "cell_type": "code",
   "execution_count": 9,
   "metadata": {},
   "outputs": [],
   "source": [
    "model.compile(optimizer='adam',\n",
    "              loss=tf.keras.losses.SparseCategoricalCrossentropy(from_logits=True),\n",
    "              metrics=['accuracy'])"
   ]
  },
  {
   "cell_type": "code",
   "execution_count": 10,
   "metadata": {},
   "outputs": [
    {
     "name": "stdout",
     "output_type": "stream",
     "text": [
      "Model: \"model\"\n",
      "_________________________________________________________________\n",
      "Layer (type)                 Output Shape              Param #   \n",
      "=================================================================\n",
      "input_1 (InputLayer)         [(None, 12)]              0         \n",
      "_________________________________________________________________\n",
      "dense (Dense)                (None, 64)                832       \n",
      "_________________________________________________________________\n",
      "dense_1 (Dense)              (None, 32)                2080      \n",
      "_________________________________________________________________\n",
      "dense_2 (Dense)              (None, 16)                528       \n",
      "_________________________________________________________________\n",
      "dense_3 (Dense)              (None, 4)                 68        \n",
      "=================================================================\n",
      "Total params: 3,508\n",
      "Trainable params: 3,508\n",
      "Non-trainable params: 0\n",
      "_________________________________________________________________\n"
     ]
    }
   ],
   "source": [
    "model.summary()"
   ]
  },
  {
   "cell_type": "code",
   "execution_count": 11,
   "metadata": {},
   "outputs": [
    {
     "data": {
      "image/png": "[encoded data removed]",
      "text/plain": [
       "<IPython.core.display.Image object>"
      ]
     },
     "execution_count": 11,
     "metadata": {},
     "output_type": "execute_result"
    }
   ],
   "source": [
    "# Use `rankdir='LR'` to make the graph horizontal.\n",
    "tf.keras.utils.plot_model(model, show_shapes=True, rankdir=\"LR\")"
   ]
  },
  {
   "cell_type": "markdown",
   "metadata": {},
   "source": [
    "# Train the model"
   ]
  },
  {
   "cell_type": "code",
   "execution_count": 12,
   "metadata": {},
   "outputs": [
    {
     "name": "stdout",
     "output_type": "stream",
     "text": [
      "Epoch 1/80\n"
     ]
    },
    {
     "name": "stderr",
     "output_type": "stream",
     "text": [
      "/home/ido/anaconda3/envs/tf-gpu/lib/python3.7/site-packages/keras/backend.py:4907: UserWarning: \"`sparse_categorical_crossentropy` received `from_logits=True`, but the `output` argument was produced by a sigmoid or softmax activation and thus does not represent logits. Was this intended?\"\n",
      "  '\"`sparse_categorical_crossentropy` received `from_logits=True`, but '\n"
     ]
    },
    {
     "name": "stdout",
     "output_type": "stream",
     "text": [
      "5/5 [==============================] - 0s 24ms/step - loss: 1.4544 - accuracy: 0.2372 - val_loss: 1.4014 - val_accuracy: 0.3043\n",
      "Epoch 2/80\n",
      "5/5 [==============================] - 0s 4ms/step - loss: 1.3913 - accuracy: 0.3029 - val_loss: 1.3873 - val_accuracy: 0.3478\n",
      "Epoch 3/80\n",
      "5/5 [==============================] - 0s 4ms/step - loss: 1.3690 - accuracy: 0.3394 - val_loss: 1.3783 - val_accuracy: 0.3333\n",
      "Epoch 4/80\n",
      "5/5 [==============================] - 0s 4ms/step - loss: 1.3564 - accuracy: 0.3504 - val_loss: 1.3740 - val_accuracy: 0.2899\n",
      "Epoch 5/80\n",
      "5/5 [==============================] - 0s 4ms/step - loss: 1.3438 - accuracy: 0.3723 - val_loss: 1.3718 - val_accuracy: 0.3333\n",
      "Epoch 6/80\n",
      "5/5 [==============================] - 0s 4ms/step - loss: 1.3323 - accuracy: 0.3978 - val_loss: 1.3691 - val_accuracy: 0.3333\n",
      "Epoch 7/80\n",
      "5/5 [==============================] - 0s 4ms/step - loss: 1.3221 - accuracy: 0.4088 - val_loss: 1.3651 - val_accuracy: 0.3333\n",
      "Epoch 8/80\n",
      "5/5 [==============================] - 0s 4ms/step - loss: 1.3111 - accuracy: 0.4270 - val_loss: 1.3597 - val_accuracy: 0.3913\n",
      "Epoch 9/80\n",
      "5/5 [==============================] - 0s 4ms/step - loss: 1.3018 - accuracy: 0.4380 - val_loss: 1.3500 - val_accuracy: 0.3913\n",
      "Epoch 10/80\n",
      "5/5 [==============================] - 0s 4ms/step - loss: 1.2905 - accuracy: 0.4416 - val_loss: 1.3446 - val_accuracy: 0.3913\n",
      "Epoch 11/80\n",
      "5/5 [==============================] - 0s 4ms/step - loss: 1.2785 - accuracy: 0.4380 - val_loss: 1.3413 - val_accuracy: 0.3478\n",
      "Epoch 12/80\n",
      "5/5 [==============================] - 0s 12ms/step - loss: 1.2672 - accuracy: 0.4489 - val_loss: 1.3399 - val_accuracy: 0.3623\n",
      "Epoch 13/80\n",
      "5/5 [==============================] - 0s 3ms/step - loss: 1.2551 - accuracy: 0.4672 - val_loss: 1.3353 - val_accuracy: 0.3623\n",
      "Epoch 14/80\n",
      "5/5 [==============================] - 0s 3ms/step - loss: 1.2425 - accuracy: 0.4818 - val_loss: 1.3293 - val_accuracy: 0.3623\n",
      "Epoch 15/80\n",
      "5/5 [==============================] - 0s 4ms/step - loss: 1.2317 - accuracy: 0.4745 - val_loss: 1.3211 - val_accuracy: 0.3913\n",
      "Epoch 16/80\n",
      "5/5 [==============================] - 0s 4ms/step - loss: 1.2200 - accuracy: 0.4854 - val_loss: 1.3160 - val_accuracy: 0.3913\n",
      "Epoch 17/80\n",
      "5/5 [==============================] - 0s 4ms/step - loss: 1.2063 - accuracy: 0.4854 - val_loss: 1.3132 - val_accuracy: 0.3768\n",
      "Epoch 18/80\n",
      "5/5 [==============================] - 0s 4ms/step - loss: 1.1957 - accuracy: 0.5036 - val_loss: 1.3064 - val_accuracy: 0.3623\n",
      "Epoch 19/80\n",
      "5/5 [==============================] - 0s 4ms/step - loss: 1.1822 - accuracy: 0.5036 - val_loss: 1.2895 - val_accuracy: 0.3768\n",
      "Epoch 20/80\n",
      "5/5 [==============================] - 0s 3ms/step - loss: 1.1691 - accuracy: 0.5182 - val_loss: 1.2771 - val_accuracy: 0.3768\n",
      "Epoch 21/80\n",
      "5/5 [==============================] - 0s 3ms/step - loss: 1.1576 - accuracy: 0.5219 - val_loss: 1.2744 - val_accuracy: 0.3768\n",
      "Epoch 22/80\n",
      "5/5 [==============================] - 0s 4ms/step - loss: 1.1488 - accuracy: 0.5182 - val_loss: 1.2733 - val_accuracy: 0.3768\n",
      "Epoch 23/80\n",
      "5/5 [==============================] - 0s 4ms/step - loss: 1.1341 - accuracy: 0.5146 - val_loss: 1.2628 - val_accuracy: 0.3913\n",
      "Epoch 24/80\n",
      "5/5 [==============================] - 0s 4ms/step - loss: 1.1249 - accuracy: 0.5401 - val_loss: 1.2482 - val_accuracy: 0.4058\n",
      "Epoch 25/80\n",
      "5/5 [==============================] - 0s 4ms/step - loss: 1.1137 - accuracy: 0.5401 - val_loss: 1.2334 - val_accuracy: 0.4493\n",
      "Epoch 26/80\n",
      "5/5 [==============================] - 0s 4ms/step - loss: 1.1037 - accuracy: 0.5474 - val_loss: 1.2366 - val_accuracy: 0.4493\n",
      "Epoch 27/80\n",
      "5/5 [==============================] - 0s 4ms/step - loss: 1.0899 - accuracy: 0.5620 - val_loss: 1.2382 - val_accuracy: 0.4638\n",
      "Epoch 28/80\n",
      "5/5 [==============================] - 0s 3ms/step - loss: 1.0867 - accuracy: 0.5438 - val_loss: 1.2426 - val_accuracy: 0.4638\n",
      "Epoch 29/80\n",
      "5/5 [==============================] - 0s 4ms/step - loss: 1.0725 - accuracy: 0.5620 - val_loss: 1.2343 - val_accuracy: 0.4348\n",
      "Epoch 30/80\n",
      "5/5 [==============================] - 0s 4ms/step - loss: 1.0640 - accuracy: 0.5547 - val_loss: 1.2122 - val_accuracy: 0.4638\n",
      "Epoch 31/80\n",
      "5/5 [==============================] - 0s 3ms/step - loss: 1.0587 - accuracy: 0.5584 - val_loss: 1.2038 - val_accuracy: 0.4928\n",
      "Epoch 32/80\n",
      "5/5 [==============================] - 0s 4ms/step - loss: 1.0458 - accuracy: 0.5511 - val_loss: 1.2107 - val_accuracy: 0.4783\n",
      "Epoch 33/80\n",
      "5/5 [==============================] - 0s 4ms/step - loss: 1.0345 - accuracy: 0.5474 - val_loss: 1.2211 - val_accuracy: 0.4638\n",
      "Epoch 34/80\n",
      "5/5 [==============================] - 0s 4ms/step - loss: 1.0258 - accuracy: 0.5511 - val_loss: 1.2109 - val_accuracy: 0.4783\n",
      "Epoch 35/80\n",
      "5/5 [==============================] - 0s 3ms/step - loss: 1.0223 - accuracy: 0.5730 - val_loss: 1.2163 - val_accuracy: 0.4638\n",
      "Epoch 36/80\n",
      "5/5 [==============================] - 0s 4ms/step - loss: 1.0072 - accuracy: 0.5766 - val_loss: 1.2140 - val_accuracy: 0.4638\n",
      "Epoch 37/80\n",
      "5/5 [==============================] - 0s 4ms/step - loss: 1.0010 - accuracy: 0.5620 - val_loss: 1.2113 - val_accuracy: 0.4783\n",
      "Epoch 38/80\n",
      "5/5 [==============================] - 0s 4ms/step - loss: 0.9875 - accuracy: 0.5949 - val_loss: 1.2035 - val_accuracy: 0.4783\n",
      "Epoch 39/80\n",
      "5/5 [==============================] - 0s 4ms/step - loss: 0.9828 - accuracy: 0.5912 - val_loss: 1.1932 - val_accuracy: 0.4928\n",
      "Epoch 40/80\n",
      "5/5 [==============================] - 0s 4ms/step - loss: 0.9750 - accuracy: 0.5839 - val_loss: 1.1871 - val_accuracy: 0.5217\n",
      "Epoch 41/80\n",
      "5/5 [==============================] - 0s 4ms/step - loss: 0.9719 - accuracy: 0.5839 - val_loss: 1.1804 - val_accuracy: 0.5217\n",
      "Epoch 42/80\n",
      "5/5 [==============================] - 0s 4ms/step - loss: 0.9589 - accuracy: 0.5912 - val_loss: 1.2035 - val_accuracy: 0.4783\n",
      "Epoch 43/80\n",
      "5/5 [==============================] - 0s 3ms/step - loss: 0.9579 - accuracy: 0.5949 - val_loss: 1.2028 - val_accuracy: 0.4783\n",
      "Epoch 44/80\n",
      "5/5 [==============================] - 0s 3ms/step - loss: 0.9471 - accuracy: 0.5912 - val_loss: 1.1937 - val_accuracy: 0.5217\n",
      "Epoch 45/80\n",
      "5/5 [==============================] - 0s 4ms/step - loss: 0.9429 - accuracy: 0.5949 - val_loss: 1.1865 - val_accuracy: 0.5362\n",
      "Epoch 46/80\n",
      "5/5 [==============================] - 0s 4ms/step - loss: 0.9326 - accuracy: 0.5985 - val_loss: 1.1979 - val_accuracy: 0.5217\n",
      "Epoch 47/80\n",
      "5/5 [==============================] - 0s 4ms/step - loss: 0.9296 - accuracy: 0.6058 - val_loss: 1.2087 - val_accuracy: 0.4638\n",
      "Epoch 48/80\n",
      "5/5 [==============================] - 0s 4ms/step - loss: 0.9164 - accuracy: 0.6022 - val_loss: 1.2017 - val_accuracy: 0.5217\n",
      "Epoch 49/80\n",
      "5/5 [==============================] - 0s 4ms/step - loss: 0.9067 - accuracy: 0.6241 - val_loss: 1.1984 - val_accuracy: 0.5217\n",
      "Epoch 50/80\n",
      "5/5 [==============================] - 0s 4ms/step - loss: 0.9019 - accuracy: 0.6168 - val_loss: 1.1960 - val_accuracy: 0.5507\n",
      "Epoch 51/80\n",
      "5/5 [==============================] - 0s 4ms/step - loss: 0.8905 - accuracy: 0.6241 - val_loss: 1.1999 - val_accuracy: 0.5362\n",
      "Epoch 52/80\n",
      "5/5 [==============================] - 0s 4ms/step - loss: 0.8864 - accuracy: 0.6277 - val_loss: 1.1981 - val_accuracy: 0.5217\n",
      "Epoch 53/80\n",
      "5/5 [==============================] - 0s 5ms/step - loss: 0.8758 - accuracy: 0.6204 - val_loss: 1.1955 - val_accuracy: 0.4928\n",
      "Epoch 54/80\n",
      "5/5 [==============================] - 0s 4ms/step - loss: 0.8714 - accuracy: 0.6314 - val_loss: 1.2052 - val_accuracy: 0.4928\n",
      "Epoch 55/80\n",
      "5/5 [==============================] - 0s 4ms/step - loss: 0.8635 - accuracy: 0.6204 - val_loss: 1.2042 - val_accuracy: 0.5362\n",
      "Epoch 56/80\n",
      "5/5 [==============================] - 0s 4ms/step - loss: 0.8581 - accuracy: 0.6314 - val_loss: 1.2026 - val_accuracy: 0.5652\n",
      "Epoch 57/80\n",
      "5/5 [==============================] - 0s 4ms/step - loss: 0.8483 - accuracy: 0.6387 - val_loss: 1.1892 - val_accuracy: 0.5507\n",
      "Epoch 58/80\n",
      "5/5 [==============================] - 0s 4ms/step - loss: 0.8443 - accuracy: 0.6314 - val_loss: 1.1915 - val_accuracy: 0.5797\n",
      "Epoch 59/80\n",
      "5/5 [==============================] - 0s 5ms/step - loss: 0.8381 - accuracy: 0.6460 - val_loss: 1.2135 - val_accuracy: 0.5507\n",
      "Epoch 60/80\n",
      "5/5 [==============================] - 0s 4ms/step - loss: 0.8295 - accuracy: 0.6423 - val_loss: 1.2091 - val_accuracy: 0.5362\n",
      "Epoch 61/80\n",
      "5/5 [==============================] - 0s 4ms/step - loss: 0.8225 - accuracy: 0.6496 - val_loss: 1.2200 - val_accuracy: 0.5652\n",
      "Epoch 62/80\n",
      "5/5 [==============================] - 0s 4ms/step - loss: 0.8130 - accuracy: 0.6387 - val_loss: 1.2319 - val_accuracy: 0.5217\n",
      "Epoch 63/80\n",
      "5/5 [==============================] - 0s 4ms/step - loss: 0.8120 - accuracy: 0.6460 - val_loss: 1.2259 - val_accuracy: 0.5217\n",
      "Epoch 64/80\n",
      "5/5 [==============================] - 0s 5ms/step - loss: 0.7972 - accuracy: 0.6569 - val_loss: 1.2279 - val_accuracy: 0.5507\n",
      "Epoch 65/80\n",
      "5/5 [==============================] - 0s 6ms/step - loss: 0.7975 - accuracy: 0.6569 - val_loss: 1.2318 - val_accuracy: 0.5652\n",
      "Epoch 66/80\n",
      "5/5 [==============================] - 0s 15ms/step - loss: 0.7870 - accuracy: 0.6606 - val_loss: 1.2530 - val_accuracy: 0.5362\n",
      "Epoch 67/80\n",
      "5/5 [==============================] - 0s 4ms/step - loss: 0.7883 - accuracy: 0.6715 - val_loss: 1.2322 - val_accuracy: 0.5217\n",
      "Epoch 68/80\n",
      "5/5 [==============================] - 0s 4ms/step - loss: 0.7748 - accuracy: 0.6679 - val_loss: 1.2355 - val_accuracy: 0.5507\n",
      "Epoch 69/80\n",
      "5/5 [==============================] - 0s 4ms/step - loss: 0.7605 - accuracy: 0.6934 - val_loss: 1.2486 - val_accuracy: 0.5652\n",
      "Epoch 70/80\n",
      "5/5 [==============================] - 0s 4ms/step - loss: 0.7546 - accuracy: 0.6861 - val_loss: 1.2642 - val_accuracy: 0.5362\n",
      "Epoch 71/80\n",
      "5/5 [==============================] - 0s 4ms/step - loss: 0.7462 - accuracy: 0.6825 - val_loss: 1.2630 - val_accuracy: 0.4928\n",
      "Epoch 72/80\n",
      "5/5 [==============================] - 0s 4ms/step - loss: 0.7444 - accuracy: 0.6861 - val_loss: 1.2586 - val_accuracy: 0.4638\n",
      "Epoch 73/80\n",
      "5/5 [==============================] - 0s 4ms/step - loss: 0.7404 - accuracy: 0.7007 - val_loss: 1.2590 - val_accuracy: 0.4928\n",
      "Epoch 74/80\n",
      "5/5 [==============================] - 0s 4ms/step - loss: 0.7275 - accuracy: 0.6934 - val_loss: 1.2905 - val_accuracy: 0.4928\n",
      "Epoch 75/80\n",
      "5/5 [==============================] - 0s 4ms/step - loss: 0.7357 - accuracy: 0.6715 - val_loss: 1.2989 - val_accuracy: 0.4928\n",
      "Epoch 76/80\n",
      "5/5 [==============================] - 0s 4ms/step - loss: 0.7123 - accuracy: 0.7044 - val_loss: 1.2790 - val_accuracy: 0.5217\n",
      "Epoch 77/80\n",
      "5/5 [==============================] - 0s 4ms/step - loss: 0.7090 - accuracy: 0.7117 - val_loss: 1.2893 - val_accuracy: 0.5072\n",
      "Epoch 78/80\n",
      "5/5 [==============================] - 0s 4ms/step - loss: 0.7040 - accuracy: 0.7226 - val_loss: 1.3125 - val_accuracy: 0.4783\n",
      "Epoch 79/80\n",
      "5/5 [==============================] - 0s 4ms/step - loss: 0.6988 - accuracy: 0.7336 - val_loss: 1.2903 - val_accuracy: 0.5072\n",
      "Epoch 80/80\n",
      "5/5 [==============================] - 0s 4ms/step - loss: 0.6808 - accuracy: 0.7153 - val_loss: 1.3231 - val_accuracy: 0.4928\n"
     ]
    }
   ],
   "source": [
    "epochs = 80\n",
    "batch_size = 64\n",
    "history = model.fit(X_train, y_train, validation_data=(X_test, y_test), epochs=epochs, batch_size=batch_size)"
   ]
  },
  {
   "cell_type": "code",
   "execution_count": null,
   "metadata": {},
   "outputs": [],
   "source": []
  },
  {
   "cell_type": "code",
   "execution_count": 13,
   "metadata": {},
   "outputs": [
    {
     "data": {
      "image/png": "[encoded data removed]",
      "text/plain": [
       "<Figure size 576x576 with 2 Axes>"
      ]
     },
     "metadata": {
      "needs_background": "light"
     },
     "output_type": "display_data"
    }
   ],
   "source": [
    "acc = history.history['accuracy']\n",
    "val_acc = history.history['val_accuracy']\n",
    "\n",
    "loss = history.history['loss']\n",
    "val_loss = history.history['val_loss']\n",
    "\n",
    "epochs_range = range(epochs)\n",
    "\n",
    "plt.figure(figsize=(8, 8))\n",
    "plt.subplot(1, 2, 1)\n",
    "plt.plot(epochs_range, acc, label='Training Accuracy')\n",
    "plt.plot(epochs_range, val_acc, label='Validation Accuracy')\n",
    "plt.legend(loc='lower right')\n",
    "plt.title('Training and Validation Accuracy')\n",
    "\n",
    "plt.subplot(1, 2, 2)\n",
    "plt.plot(epochs_range, loss, label='Training Loss')\n",
    "plt.plot(epochs_range, val_loss, label='Validation Loss')\n",
    "plt.legend(loc='upper right')\n",
    "plt.title('Training and Validation Loss')\n",
    "plt.show()"
   ]
  },
  {
   "cell_type": "markdown",
   "metadata": {},
   "source": [
    "# Test the model"
   ]
  },
  {
   "cell_type": "code",
   "execution_count": 14,
   "metadata": {},
   "outputs": [
    {
     "name": "stdout",
     "output_type": "stream",
     "text": [
      "3/3 [==============================] - 0s 1ms/step - loss: 1.3231 - accuracy: 0.4928\n",
      "Test accuracy : 0.49275362491607666\n"
     ]
    }
   ],
   "source": [
    "loss, accuracy = model.evaluate(X_test, y_test)\n",
    "print('Test accuracy :', accuracy)"
   ]
  },
  {
   "cell_type": "markdown",
   "metadata": {},
   "source": [
    "# Save the model"
   ]
  },
  {
   "cell_type": "code",
   "execution_count": 15,
   "metadata": {},
   "outputs": [],
   "source": [
    "# Save the entire model as a SavedModel.\n",
    "# model.save('./data/humanModel/mode_v0')\n",
    "model.save('./data/humanModel/model_v0.h5')"
   ]
  },
  {
   "cell_type": "code",
   "execution_count": 16,
   "metadata": {},
   "outputs": [],
   "source": [
    "# new_model = tf.keras.models.load_model('./data/humanModel/mode_v0')\n",
    "\n",
    "# # Check its architecture\n",
    "# new_model.summary()"
   ]
  },
  {
   "cell_type": "markdown",
   "metadata": {},
   "source": [
    "### Predict on new data"
   ]
  },
  {
   "cell_type": "code",
   "execution_count": 32,
   "metadata": {},
   "outputs": [
    {
     "name": "stdout",
     "output_type": "stream",
     "text": [
      "[0.747 0.182 0.018 0.054]\n",
      "This image most likely belongs to 0 with a 74.67 percent confidence.  True value: [0]\n"
     ]
    }
   ],
   "source": [
    "n=1\n",
    "index = np.random.choice(X_test.shape[0], n, replace=False)\n",
    "example = X_test[index]\n",
    "\n",
    "predictions = model.predict(example)[0]\n",
    "print(predictions)\n",
    "\n",
    "print(\n",
    "    \"This image most likely belongs to {} with a {:.2f} percent confidence.  True value: {}\"\n",
    "    .format(np.argmax(predictions), 100 * np.max(predictions), y_test[index])\n",
    ")"
   ]
  }
 ],
 "metadata": {
  "interpreter": {
   "hash": "ad60775ae12af945b53c5c94c294ef05f229143b8585a0d23625a81e181fdccc"
  },
  "kernelspec": {
   "display_name": "Python 3.7.4 64-bit ('tf-gpu': conda)",
   "name": "python3"
  },
  "language_info": {
   "codemirror_mode": {
    "name": "ipython",
    "version": 3
   },
   "file_extension": ".py",
   "mimetype": "text/x-python",
   "name": "python",
   "nbconvert_exporter": "python",
   "pygments_lexer": "ipython3",
   "version": "3.7.4"
  }
 },
 "nbformat": 4,
 "nbformat_minor": 4
}
