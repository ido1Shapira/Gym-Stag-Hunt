{
 "cells": [
  {
   "cell_type": "code",
   "execution_count": 1,
   "metadata": {},
   "outputs": [],
   "source": [
    "import numpy as np\n",
    "import random\n",
    "import os\n",
    "os.environ['TF_CPP_MIN_LOG_LEVEL'] = '3'\n",
    "# os.environ['CUDA_VISIBLE_DEVICES'] = '-1'\n",
    "\n",
    "import shutil\n",
    "\n",
    "# ! pip install split-folders\n",
    "import splitfolders\n",
    "\n",
    "import tensorflow as tf\n",
    "from tensorflow import keras\n",
    "from tensorflow.keras import layers, regularizers\n",
    "from tensorflow.keras.models import Sequential\n",
    "\n",
    "from tensorflow.keras.preprocessing.image import ImageDataGenerator\n",
    "from tensorflow.keras.preprocessing import image\n",
    "\n",
    "import matplotlib.pyplot as plt\n",
    "\n",
    "rs = 42\n",
    "def reset_random_seeds(rs):\n",
    "   os.environ['PYTHONHASHSEED']=str(rs)\n",
    "   tf.random.set_seed(rs)\n",
    "   np.random.seed(rs)\n",
    "   random.seed(rs)\n",
    "reset_random_seeds(rs)"
   ]
  },
  {
   "cell_type": "markdown",
   "metadata": {},
   "source": [
    "remove prev saved database:"
   ]
  },
  {
   "cell_type": "code",
   "execution_count": 2,
   "metadata": {},
   "outputs": [],
   "source": [
    "dir_path = './data/humanModel/dataset_v0_split'\n",
    "if os.path.exists(dir_path):\n",
    "    shutil.rmtree(dir_path)\n",
    "else:\n",
    "    print(\"File not found in the directory\")"
   ]
  },
  {
   "cell_type": "markdown",
   "metadata": {},
   "source": [
    "# Part 1 - Data Preprocessing"
   ]
  },
  {
   "cell_type": "markdown",
   "metadata": {},
   "source": [
    "## Split into train , test data"
   ]
  },
  {
   "cell_type": "code",
   "execution_count": 3,
   "metadata": {},
   "outputs": [
    {
     "name": "stderr",
     "output_type": "stream",
     "text": [
      "Copying files: 8160 files [00:00, 17413.68 files/s]\n"
     ]
    }
   ],
   "source": [
    "# train, test split\n",
    "splitfolders.ratio('./data/humanModel/dataset_v0/', output=dir_path, ratio=(0.85, 0.15))"
   ]
  },
  {
   "cell_type": "markdown",
   "metadata": {},
   "source": [
    "### Preprocessing the Training set"
   ]
  },
  {
   "cell_type": "code",
   "execution_count": 4,
   "metadata": {},
   "outputs": [
    {
     "name": "stdout",
     "output_type": "stream",
     "text": [
      "Found 6934 images belonging to 4 classes.\n",
      "Found 1226 images belonging to 4 classes.\n"
     ]
    }
   ],
   "source": [
    "batch_size = 128\n",
    "IMG_SIZE = 5\n",
    "\n",
    "datagen = ImageDataGenerator(rescale = 1./255)\n",
    "train = datagen.flow_from_directory((dir_path+'/train'),\n",
    "                                          target_size = (IMG_SIZE,IMG_SIZE), batch_size = batch_size, seed=rs, class_mode='sparse')\n",
    "\n",
    "test = datagen.flow_from_directory((dir_path+'/val'),\n",
    "                                            target_size = (IMG_SIZE, IMG_SIZE), batch_size = batch_size, seed=rs, class_mode='sparse')"
   ]
  },
  {
   "cell_type": "markdown",
   "metadata": {},
   "source": [
    "## View some data"
   ]
  },
  {
   "cell_type": "code",
   "execution_count": 5,
   "metadata": {},
   "outputs": [],
   "source": [
    "num_classes = 4\n",
    "\n",
    "model = Sequential([\n",
    "  layers.Conv2D(4, 3, padding='same', activation='relu', kernel_regularizer=regularizers.l2(0.001), input_shape=[IMG_SIZE,IMG_SIZE,3]),\n",
    "  layers.Conv2D(8, 3, padding='same', activation='relu', kernel_regularizer=regularizers.l2(0.001)),\n",
    "  # layers.MaxPooling2D(),\n",
    "  layers.Conv2D(8, 2, padding='same', activation='relu', kernel_regularizer=regularizers.l2(0.001)),\n",
    "  layers.Dropout(0.5),\n",
    "  layers.Flatten(),\n",
    "  layers.Dense(32, activation='relu', kernel_regularizer=regularizers.l2(0.001)),\n",
    "  layers.Dense(num_classes, activation='softmax')\n",
    "])"
   ]
  },
  {
   "cell_type": "code",
   "execution_count": 6,
   "metadata": {},
   "outputs": [],
   "source": [
    "model.compile(optimizer='adam',\n",
    "              loss=tf.keras.losses.SparseCategoricalCrossentropy(from_logits=False),\n",
    "              metrics=['accuracy'])"
   ]
  },
  {
   "cell_type": "code",
   "execution_count": 7,
   "metadata": {},
   "outputs": [
    {
     "name": "stdout",
     "output_type": "stream",
     "text": [
      "Model: \"sequential\"\n",
      "_________________________________________________________________\n",
      "Layer (type)                 Output Shape              Param #   \n",
      "=================================================================\n",
      "conv2d (Conv2D)              (None, 5, 5, 4)           112       \n",
      "_________________________________________________________________\n",
      "conv2d_1 (Conv2D)            (None, 5, 5, 8)           296       \n",
      "_________________________________________________________________\n",
      "conv2d_2 (Conv2D)            (None, 5, 5, 8)           264       \n",
      "_________________________________________________________________\n",
      "dropout (Dropout)            (None, 5, 5, 8)           0         \n",
      "_________________________________________________________________\n",
      "flatten (Flatten)            (None, 200)               0         \n",
      "_________________________________________________________________\n",
      "dense (Dense)                (None, 32)                6432      \n",
      "_________________________________________________________________\n",
      "dense_1 (Dense)              (None, 4)                 132       \n",
      "=================================================================\n",
      "Total params: 7,236\n",
      "Trainable params: 7,236\n",
      "Non-trainable params: 0\n",
      "_________________________________________________________________\n"
     ]
    }
   ],
   "source": [
    "model.summary()"
   ]
  },
  {
   "cell_type": "code",
   "execution_count": 8,
   "metadata": {
    "scrolled": true
   },
   "outputs": [
    {
     "name": "stdout",
     "output_type": "stream",
     "text": [
      "Epoch 1/150\n",
      "55/55 [==============================] - 2s 18ms/step - loss: 1.4421 - accuracy: 0.2688 - val_loss: 1.4268 - val_accuracy: 0.2814\n",
      "Epoch 2/150\n",
      "55/55 [==============================] - 1s 16ms/step - loss: 1.4148 - accuracy: 0.2880 - val_loss: 1.3921 - val_accuracy: 0.3189\n",
      "Epoch 3/150\n",
      "55/55 [==============================] - 1s 16ms/step - loss: 1.3700 - accuracy: 0.3564 - val_loss: 1.3207 - val_accuracy: 0.4046\n",
      "Epoch 4/150\n",
      "55/55 [==============================] - 1s 16ms/step - loss: 1.3228 - accuracy: 0.4055 - val_loss: 1.2823 - val_accuracy: 0.4225\n",
      "Epoch 5/150\n",
      "55/55 [==============================] - 1s 16ms/step - loss: 1.2999 - accuracy: 0.4237 - val_loss: 1.2741 - val_accuracy: 0.4396\n",
      "Epoch 6/150\n",
      "55/55 [==============================] - 1s 16ms/step - loss: 1.2831 - accuracy: 0.4341 - val_loss: 1.2471 - val_accuracy: 0.4527\n",
      "Epoch 7/150\n",
      "55/55 [==============================] - 1s 16ms/step - loss: 1.2746 - accuracy: 0.4383 - val_loss: 1.2414 - val_accuracy: 0.4445\n",
      "Epoch 8/150\n",
      "55/55 [==============================] - 1s 16ms/step - loss: 1.2663 - accuracy: 0.4378 - val_loss: 1.2225 - val_accuracy: 0.4674\n",
      "Epoch 9/150\n",
      "55/55 [==============================] - 1s 16ms/step - loss: 1.2493 - accuracy: 0.4489 - val_loss: 1.2162 - val_accuracy: 0.4755\n",
      "Epoch 10/150\n",
      "55/55 [==============================] - 1s 16ms/step - loss: 1.2441 - accuracy: 0.4507 - val_loss: 1.2050 - val_accuracy: 0.4780\n",
      "Epoch 11/150\n",
      "55/55 [==============================] - 1s 16ms/step - loss: 1.2330 - accuracy: 0.4612 - val_loss: 1.2047 - val_accuracy: 0.4723\n",
      "Epoch 12/150\n",
      "55/55 [==============================] - 1s 15ms/step - loss: 1.2223 - accuracy: 0.4635 - val_loss: 1.1824 - val_accuracy: 0.4918\n",
      "Epoch 13/150\n",
      "55/55 [==============================] - 1s 16ms/step - loss: 1.2138 - accuracy: 0.4642 - val_loss: 1.1802 - val_accuracy: 0.4804\n",
      "Epoch 14/150\n",
      "55/55 [==============================] - 1s 16ms/step - loss: 1.2068 - accuracy: 0.4775 - val_loss: 1.1639 - val_accuracy: 0.5000\n",
      "Epoch 15/150\n",
      "55/55 [==============================] - 1s 15ms/step - loss: 1.1908 - accuracy: 0.4795 - val_loss: 1.1543 - val_accuracy: 0.4976\n",
      "Epoch 16/150\n",
      "55/55 [==============================] - 1s 16ms/step - loss: 1.1850 - accuracy: 0.4850 - val_loss: 1.1468 - val_accuracy: 0.5114\n",
      "Epoch 17/150\n",
      "55/55 [==============================] - 1s 16ms/step - loss: 1.1718 - accuracy: 0.4900 - val_loss: 1.1403 - val_accuracy: 0.4951\n",
      "Epoch 18/150\n",
      "55/55 [==============================] - 1s 16ms/step - loss: 1.1699 - accuracy: 0.4902 - val_loss: 1.1229 - val_accuracy: 0.5131\n",
      "Epoch 19/150\n",
      "55/55 [==============================] - 1s 15ms/step - loss: 1.1657 - accuracy: 0.4951 - val_loss: 1.1236 - val_accuracy: 0.5098\n",
      "Epoch 20/150\n",
      "55/55 [==============================] - 1s 15ms/step - loss: 1.1508 - accuracy: 0.5012 - val_loss: 1.1112 - val_accuracy: 0.5114\n",
      "Epoch 21/150\n",
      "55/55 [==============================] - 1s 16ms/step - loss: 1.1455 - accuracy: 0.5037 - val_loss: 1.1123 - val_accuracy: 0.5220\n",
      "Epoch 22/150\n",
      "55/55 [==============================] - 1s 16ms/step - loss: 1.1419 - accuracy: 0.5144 - val_loss: 1.1092 - val_accuracy: 0.5179\n",
      "Epoch 23/150\n",
      "55/55 [==============================] - 1s 16ms/step - loss: 1.1386 - accuracy: 0.5118 - val_loss: 1.0907 - val_accuracy: 0.5310\n",
      "Epoch 24/150\n",
      "55/55 [==============================] - 1s 16ms/step - loss: 1.1316 - accuracy: 0.5166 - val_loss: 1.0899 - val_accuracy: 0.5294\n",
      "Epoch 25/150\n",
      "55/55 [==============================] - 1s 16ms/step - loss: 1.1296 - accuracy: 0.5144 - val_loss: 1.0838 - val_accuracy: 0.5392\n",
      "Epoch 26/150\n",
      "55/55 [==============================] - 1s 16ms/step - loss: 1.1215 - accuracy: 0.5251 - val_loss: 1.1089 - val_accuracy: 0.5285\n",
      "Epoch 27/150\n",
      "55/55 [==============================] - 1s 15ms/step - loss: 1.1160 - accuracy: 0.5206 - val_loss: 1.0783 - val_accuracy: 0.5334\n",
      "Epoch 28/150\n",
      "55/55 [==============================] - 1s 16ms/step - loss: 1.1148 - accuracy: 0.5257 - val_loss: 1.0730 - val_accuracy: 0.5457\n",
      "Epoch 29/150\n",
      "55/55 [==============================] - 1s 16ms/step - loss: 1.1091 - accuracy: 0.5274 - val_loss: 1.0762 - val_accuracy: 0.5375\n",
      "Epoch 30/150\n",
      "55/55 [==============================] - 1s 15ms/step - loss: 1.1001 - accuracy: 0.5355 - val_loss: 1.0646 - val_accuracy: 0.5522\n",
      "Epoch 31/150\n",
      "55/55 [==============================] - 1s 16ms/step - loss: 1.1036 - accuracy: 0.5310 - val_loss: 1.0699 - val_accuracy: 0.5432\n",
      "Epoch 32/150\n",
      "55/55 [==============================] - 1s 16ms/step - loss: 1.1000 - accuracy: 0.5372 - val_loss: 1.0589 - val_accuracy: 0.5432\n",
      "Epoch 33/150\n",
      "55/55 [==============================] - 1s 16ms/step - loss: 1.0925 - accuracy: 0.5378 - val_loss: 1.0617 - val_accuracy: 0.5440\n",
      "Epoch 34/150\n",
      "55/55 [==============================] - 1s 16ms/step - loss: 1.0854 - accuracy: 0.5440 - val_loss: 1.0569 - val_accuracy: 0.5440\n",
      "Epoch 35/150\n",
      "55/55 [==============================] - 1s 15ms/step - loss: 1.0858 - accuracy: 0.5440 - val_loss: 1.0504 - val_accuracy: 0.5538\n",
      "Epoch 36/150\n",
      "55/55 [==============================] - 1s 15ms/step - loss: 1.0884 - accuracy: 0.5460 - val_loss: 1.0494 - val_accuracy: 0.5604\n",
      "Epoch 37/150\n",
      "55/55 [==============================] - 1s 15ms/step - loss: 1.0804 - accuracy: 0.5503 - val_loss: 1.0466 - val_accuracy: 0.5628\n",
      "Epoch 38/150\n",
      "55/55 [==============================] - 1s 17ms/step - loss: 1.0692 - accuracy: 0.5534 - val_loss: 1.0415 - val_accuracy: 0.5538\n",
      "Epoch 39/150\n",
      "55/55 [==============================] - 1s 15ms/step - loss: 1.0706 - accuracy: 0.5580 - val_loss: 1.0414 - val_accuracy: 0.5555\n",
      "Epoch 40/150\n",
      "55/55 [==============================] - 1s 16ms/step - loss: 1.0675 - accuracy: 0.5587 - val_loss: 1.0408 - val_accuracy: 0.5620\n",
      "Epoch 41/150\n",
      "55/55 [==============================] - 1s 16ms/step - loss: 1.0662 - accuracy: 0.5554 - val_loss: 1.0398 - val_accuracy: 0.5644\n",
      "Epoch 42/150\n",
      "55/55 [==============================] - 1s 15ms/step - loss: 1.0625 - accuracy: 0.5616 - val_loss: 1.0325 - val_accuracy: 0.5701\n",
      "Epoch 43/150\n",
      "55/55 [==============================] - 1s 16ms/step - loss: 1.0581 - accuracy: 0.5528 - val_loss: 1.0349 - val_accuracy: 0.5669\n",
      "Epoch 44/150\n",
      "55/55 [==============================] - 1s 15ms/step - loss: 1.0588 - accuracy: 0.5596 - val_loss: 1.0303 - val_accuracy: 0.5726\n",
      "Epoch 45/150\n",
      "55/55 [==============================] - 1s 16ms/step - loss: 1.0554 - accuracy: 0.5642 - val_loss: 1.0240 - val_accuracy: 0.5791\n",
      "Epoch 46/150\n",
      "55/55 [==============================] - 1s 16ms/step - loss: 1.0510 - accuracy: 0.5600 - val_loss: 1.0413 - val_accuracy: 0.5669\n",
      "Epoch 47/150\n",
      "55/55 [==============================] - 1s 16ms/step - loss: 1.0458 - accuracy: 0.5663 - val_loss: 1.0274 - val_accuracy: 0.5734\n",
      "Epoch 48/150\n",
      "55/55 [==============================] - 1s 16ms/step - loss: 1.0462 - accuracy: 0.5663 - val_loss: 1.0205 - val_accuracy: 0.5750\n",
      "Epoch 49/150\n",
      "55/55 [==============================] - 1s 15ms/step - loss: 1.0388 - accuracy: 0.5728 - val_loss: 1.0324 - val_accuracy: 0.5775\n",
      "Epoch 50/150\n",
      "55/55 [==============================] - 1s 15ms/step - loss: 1.0411 - accuracy: 0.5702 - val_loss: 1.0266 - val_accuracy: 0.5693\n",
      "Epoch 51/150\n",
      "55/55 [==============================] - 1s 16ms/step - loss: 1.0411 - accuracy: 0.5710 - val_loss: 1.0174 - val_accuracy: 0.5865\n",
      "Epoch 52/150\n",
      "55/55 [==============================] - 1s 15ms/step - loss: 1.0470 - accuracy: 0.5671 - val_loss: 1.0191 - val_accuracy: 0.5783\n",
      "Epoch 53/150\n",
      "55/55 [==============================] - 1s 16ms/step - loss: 1.0371 - accuracy: 0.5681 - val_loss: 1.0171 - val_accuracy: 0.5881\n",
      "Epoch 54/150\n",
      "55/55 [==============================] - 1s 16ms/step - loss: 1.0344 - accuracy: 0.5779 - val_loss: 1.0134 - val_accuracy: 0.5922\n",
      "Epoch 55/150\n",
      "55/55 [==============================] - 1s 15ms/step - loss: 1.0345 - accuracy: 0.5780 - val_loss: 1.0099 - val_accuracy: 0.5856\n",
      "Epoch 56/150\n",
      "55/55 [==============================] - 1s 15ms/step - loss: 1.0282 - accuracy: 0.5774 - val_loss: 1.0098 - val_accuracy: 0.5930\n",
      "Epoch 57/150\n",
      "55/55 [==============================] - 1s 16ms/step - loss: 1.0280 - accuracy: 0.5792 - val_loss: 1.0100 - val_accuracy: 0.5954\n",
      "Epoch 58/150\n",
      "55/55 [==============================] - 1s 16ms/step - loss: 1.0263 - accuracy: 0.5792 - val_loss: 1.0119 - val_accuracy: 0.5873\n",
      "Epoch 59/150\n",
      "55/55 [==============================] - 1s 15ms/step - loss: 1.0304 - accuracy: 0.5727 - val_loss: 1.0111 - val_accuracy: 0.5873\n",
      "Epoch 60/150\n",
      "55/55 [==============================] - 1s 16ms/step - loss: 1.0245 - accuracy: 0.5812 - val_loss: 1.0097 - val_accuracy: 0.5897\n",
      "Epoch 61/150\n",
      "55/55 [==============================] - 1s 15ms/step - loss: 1.0167 - accuracy: 0.5812 - val_loss: 1.0078 - val_accuracy: 0.5905\n",
      "Epoch 62/150\n",
      "55/55 [==============================] - 1s 16ms/step - loss: 1.0259 - accuracy: 0.5821 - val_loss: 1.0053 - val_accuracy: 0.5922\n",
      "Epoch 63/150\n",
      "55/55 [==============================] - 1s 16ms/step - loss: 1.0240 - accuracy: 0.5793 - val_loss: 1.0046 - val_accuracy: 0.5930\n",
      "Epoch 64/150\n",
      "55/55 [==============================] - 1s 15ms/step - loss: 1.0195 - accuracy: 0.5923 - val_loss: 1.0199 - val_accuracy: 0.5791\n",
      "Epoch 65/150\n",
      "55/55 [==============================] - 1s 16ms/step - loss: 1.0223 - accuracy: 0.5873 - val_loss: 1.0002 - val_accuracy: 0.5938\n",
      "Epoch 66/150\n",
      "55/55 [==============================] - 1s 15ms/step - loss: 1.0159 - accuracy: 0.5849 - val_loss: 1.0033 - val_accuracy: 0.5897\n",
      "Epoch 67/150\n",
      "55/55 [==============================] - 1s 15ms/step - loss: 1.0171 - accuracy: 0.5828 - val_loss: 1.0033 - val_accuracy: 0.5962\n",
      "Epoch 68/150\n",
      "55/55 [==============================] - 1s 16ms/step - loss: 1.0131 - accuracy: 0.5913 - val_loss: 1.0045 - val_accuracy: 0.5922\n",
      "Epoch 69/150\n",
      "55/55 [==============================] - 1s 16ms/step - loss: 1.0173 - accuracy: 0.5849 - val_loss: 0.9991 - val_accuracy: 0.5954\n",
      "Epoch 70/150\n",
      "55/55 [==============================] - 1s 16ms/step - loss: 1.0117 - accuracy: 0.5894 - val_loss: 1.0020 - val_accuracy: 0.5832\n",
      "Epoch 71/150\n",
      "55/55 [==============================] - 1s 16ms/step - loss: 1.0180 - accuracy: 0.5823 - val_loss: 0.9989 - val_accuracy: 0.5922\n",
      "Epoch 72/150\n",
      "55/55 [==============================] - 1s 16ms/step - loss: 1.0029 - accuracy: 0.5926 - val_loss: 0.9932 - val_accuracy: 0.5995\n",
      "Epoch 73/150\n",
      "55/55 [==============================] - 1s 15ms/step - loss: 1.0072 - accuracy: 0.5911 - val_loss: 0.9987 - val_accuracy: 0.5930\n",
      "Epoch 74/150\n",
      "55/55 [==============================] - 1s 15ms/step - loss: 1.0117 - accuracy: 0.5860 - val_loss: 1.0134 - val_accuracy: 0.5848\n",
      "Epoch 75/150\n",
      "55/55 [==============================] - 1s 16ms/step - loss: 1.0042 - accuracy: 0.5942 - val_loss: 1.0003 - val_accuracy: 0.5881\n",
      "Epoch 76/150\n",
      "55/55 [==============================] - 1s 15ms/step - loss: 1.0033 - accuracy: 0.5924 - val_loss: 0.9984 - val_accuracy: 0.5971\n",
      "Epoch 77/150\n",
      "55/55 [==============================] - 1s 15ms/step - loss: 1.0086 - accuracy: 0.5950 - val_loss: 1.0090 - val_accuracy: 0.5873\n",
      "Epoch 78/150\n",
      "55/55 [==============================] - 1s 15ms/step - loss: 0.9969 - accuracy: 0.5948 - val_loss: 0.9985 - val_accuracy: 0.5938\n",
      "Epoch 79/150\n",
      "55/55 [==============================] - 1s 16ms/step - loss: 0.9980 - accuracy: 0.5943 - val_loss: 0.9989 - val_accuracy: 0.5905\n",
      "Epoch 80/150\n",
      "55/55 [==============================] - 1s 16ms/step - loss: 1.0001 - accuracy: 0.5943 - val_loss: 0.9946 - val_accuracy: 0.5979\n",
      "Epoch 81/150\n",
      "55/55 [==============================] - 1s 16ms/step - loss: 1.0050 - accuracy: 0.5904 - val_loss: 0.9933 - val_accuracy: 0.5946\n",
      "Epoch 82/150\n",
      "55/55 [==============================] - 1s 16ms/step - loss: 1.0016 - accuracy: 0.5916 - val_loss: 0.9928 - val_accuracy: 0.5954\n",
      "Epoch 83/150\n",
      "55/55 [==============================] - 1s 16ms/step - loss: 0.9984 - accuracy: 0.5946 - val_loss: 1.0014 - val_accuracy: 0.5889\n",
      "Epoch 84/150\n",
      "55/55 [==============================] - 1s 16ms/step - loss: 0.9985 - accuracy: 0.5995 - val_loss: 0.9905 - val_accuracy: 0.5865\n",
      "Epoch 85/150\n",
      "55/55 [==============================] - 1s 17ms/step - loss: 0.9927 - accuracy: 0.6020 - val_loss: 0.9909 - val_accuracy: 0.5962\n",
      "Epoch 86/150\n",
      "55/55 [==============================] - 1s 16ms/step - loss: 1.0001 - accuracy: 0.5966 - val_loss: 0.9910 - val_accuracy: 0.5897\n",
      "Epoch 87/150\n",
      "55/55 [==============================] - 1s 15ms/step - loss: 0.9998 - accuracy: 0.5981 - val_loss: 0.9864 - val_accuracy: 0.5930\n",
      "Epoch 88/150\n",
      "55/55 [==============================] - 1s 15ms/step - loss: 0.9961 - accuracy: 0.5958 - val_loss: 0.9850 - val_accuracy: 0.6028\n",
      "Epoch 89/150\n",
      "55/55 [==============================] - 1s 15ms/step - loss: 0.9858 - accuracy: 0.6054 - val_loss: 0.9881 - val_accuracy: 0.6003\n",
      "Epoch 90/150\n",
      "55/55 [==============================] - 1s 15ms/step - loss: 0.9930 - accuracy: 0.5999 - val_loss: 0.9854 - val_accuracy: 0.6044\n",
      "Epoch 91/150\n",
      "55/55 [==============================] - 1s 16ms/step - loss: 0.9863 - accuracy: 0.5985 - val_loss: 0.9870 - val_accuracy: 0.5995\n",
      "Epoch 92/150\n",
      "55/55 [==============================] - 1s 15ms/step - loss: 0.9940 - accuracy: 0.5986 - val_loss: 0.9968 - val_accuracy: 0.5971\n",
      "Epoch 93/150\n",
      "55/55 [==============================] - 1s 16ms/step - loss: 0.9890 - accuracy: 0.5978 - val_loss: 0.9861 - val_accuracy: 0.5995\n",
      "Epoch 94/150\n",
      "55/55 [==============================] - 1s 16ms/step - loss: 0.9865 - accuracy: 0.6033 - val_loss: 0.9836 - val_accuracy: 0.6003\n",
      "Epoch 95/150\n",
      "55/55 [==============================] - 1s 16ms/step - loss: 0.9853 - accuracy: 0.5958 - val_loss: 0.9940 - val_accuracy: 0.5922\n",
      "Epoch 96/150\n",
      "55/55 [==============================] - 1s 16ms/step - loss: 0.9832 - accuracy: 0.6011 - val_loss: 0.9846 - val_accuracy: 0.5946\n",
      "Epoch 97/150\n",
      "55/55 [==============================] - 1s 16ms/step - loss: 0.9823 - accuracy: 0.6028 - val_loss: 0.9813 - val_accuracy: 0.5987\n",
      "Epoch 98/150\n",
      "55/55 [==============================] - 1s 15ms/step - loss: 0.9827 - accuracy: 0.6022 - val_loss: 0.9811 - val_accuracy: 0.5979\n",
      "Epoch 99/150\n",
      "55/55 [==============================] - 1s 16ms/step - loss: 0.9926 - accuracy: 0.5982 - val_loss: 0.9895 - val_accuracy: 0.5971\n",
      "Epoch 100/150\n",
      "55/55 [==============================] - 1s 15ms/step - loss: 0.9893 - accuracy: 0.5982 - val_loss: 0.9860 - val_accuracy: 0.6020\n",
      "Epoch 101/150\n",
      "55/55 [==============================] - 1s 15ms/step - loss: 0.9825 - accuracy: 0.6040 - val_loss: 0.9867 - val_accuracy: 0.6011\n",
      "Epoch 102/150\n",
      "55/55 [==============================] - 1s 15ms/step - loss: 0.9793 - accuracy: 0.6060 - val_loss: 0.9828 - val_accuracy: 0.5946\n",
      "Epoch 103/150\n",
      "55/55 [==============================] - 1s 16ms/step - loss: 0.9838 - accuracy: 0.6067 - val_loss: 0.9852 - val_accuracy: 0.6003\n",
      "Epoch 104/150\n",
      "55/55 [==============================] - 1s 15ms/step - loss: 0.9813 - accuracy: 0.6043 - val_loss: 0.9814 - val_accuracy: 0.6044\n",
      "Epoch 105/150\n",
      "55/55 [==============================] - 1s 16ms/step - loss: 0.9842 - accuracy: 0.6096 - val_loss: 0.9857 - val_accuracy: 0.6052\n",
      "Epoch 106/150\n",
      "55/55 [==============================] - 1s 15ms/step - loss: 0.9738 - accuracy: 0.6077 - val_loss: 0.9871 - val_accuracy: 0.5922\n",
      "Epoch 107/150\n",
      "55/55 [==============================] - 1s 15ms/step - loss: 0.9863 - accuracy: 0.5988 - val_loss: 0.9907 - val_accuracy: 0.5856\n",
      "Epoch 108/150\n",
      "55/55 [==============================] - 1s 16ms/step - loss: 0.9811 - accuracy: 0.6043 - val_loss: 0.9818 - val_accuracy: 0.5987\n",
      "Epoch 109/150\n",
      "55/55 [==============================] - 1s 15ms/step - loss: 0.9746 - accuracy: 0.6108 - val_loss: 0.9821 - val_accuracy: 0.5962\n",
      "Epoch 110/150\n",
      "55/55 [==============================] - 1s 16ms/step - loss: 0.9858 - accuracy: 0.6054 - val_loss: 0.9766 - val_accuracy: 0.6060\n",
      "Epoch 111/150\n",
      "55/55 [==============================] - 1s 16ms/step - loss: 0.9782 - accuracy: 0.6034 - val_loss: 0.9784 - val_accuracy: 0.6028\n",
      "Epoch 112/150\n",
      "55/55 [==============================] - 1s 16ms/step - loss: 0.9760 - accuracy: 0.6095 - val_loss: 0.9804 - val_accuracy: 0.5995\n",
      "Epoch 113/150\n",
      "55/55 [==============================] - 1s 15ms/step - loss: 0.9786 - accuracy: 0.6087 - val_loss: 0.9791 - val_accuracy: 0.6011\n",
      "Epoch 114/150\n",
      "55/55 [==============================] - 1s 15ms/step - loss: 0.9742 - accuracy: 0.6064 - val_loss: 0.9734 - val_accuracy: 0.6085\n",
      "Epoch 115/150\n",
      "55/55 [==============================] - 1s 16ms/step - loss: 0.9693 - accuracy: 0.6125 - val_loss: 0.9759 - val_accuracy: 0.6069\n",
      "Epoch 116/150\n",
      "55/55 [==============================] - 1s 15ms/step - loss: 0.9722 - accuracy: 0.6100 - val_loss: 0.9765 - val_accuracy: 0.6036\n",
      "Epoch 117/150\n",
      "55/55 [==============================] - 1s 16ms/step - loss: 0.9731 - accuracy: 0.6109 - val_loss: 0.9797 - val_accuracy: 0.6085\n",
      "Epoch 118/150\n",
      "55/55 [==============================] - 1s 16ms/step - loss: 0.9659 - accuracy: 0.6151 - val_loss: 0.9773 - val_accuracy: 0.5987\n",
      "Epoch 119/150\n",
      "55/55 [==============================] - 1s 16ms/step - loss: 0.9661 - accuracy: 0.6160 - val_loss: 0.9811 - val_accuracy: 0.6028\n",
      "Epoch 120/150\n",
      "55/55 [==============================] - 1s 16ms/step - loss: 0.9710 - accuracy: 0.6090 - val_loss: 0.9745 - val_accuracy: 0.6069\n",
      "Epoch 121/150\n",
      "55/55 [==============================] - 1s 15ms/step - loss: 0.9677 - accuracy: 0.6144 - val_loss: 0.9766 - val_accuracy: 0.6117\n",
      "Epoch 122/150\n",
      "55/55 [==============================] - 1s 17ms/step - loss: 0.9703 - accuracy: 0.6151 - val_loss: 0.9778 - val_accuracy: 0.6093\n",
      "Epoch 123/150\n",
      "55/55 [==============================] - 1s 16ms/step - loss: 0.9691 - accuracy: 0.6126 - val_loss: 0.9769 - val_accuracy: 0.6085\n",
      "Epoch 124/150\n",
      "55/55 [==============================] - 1s 15ms/step - loss: 0.9738 - accuracy: 0.6077 - val_loss: 0.9792 - val_accuracy: 0.6085\n",
      "Epoch 125/150\n",
      "55/55 [==============================] - 1s 15ms/step - loss: 0.9759 - accuracy: 0.6113 - val_loss: 0.9818 - val_accuracy: 0.5987\n",
      "Epoch 126/150\n",
      "55/55 [==============================] - 1s 16ms/step - loss: 0.9627 - accuracy: 0.6118 - val_loss: 0.9751 - val_accuracy: 0.6044\n",
      "Epoch 127/150\n",
      "55/55 [==============================] - 1s 16ms/step - loss: 0.9683 - accuracy: 0.6141 - val_loss: 0.9779 - val_accuracy: 0.5995\n",
      "Epoch 128/150\n",
      "55/55 [==============================] - 1s 15ms/step - loss: 0.9637 - accuracy: 0.6211 - val_loss: 0.9891 - val_accuracy: 0.5905\n",
      "Epoch 129/150\n",
      "55/55 [==============================] - 1s 16ms/step - loss: 0.9691 - accuracy: 0.6113 - val_loss: 0.9811 - val_accuracy: 0.6028\n",
      "Epoch 130/150\n",
      "55/55 [==============================] - 1s 15ms/step - loss: 0.9644 - accuracy: 0.6100 - val_loss: 0.9796 - val_accuracy: 0.6126\n",
      "Epoch 131/150\n",
      "55/55 [==============================] - 1s 16ms/step - loss: 0.9626 - accuracy: 0.6171 - val_loss: 0.9770 - val_accuracy: 0.6085\n",
      "Epoch 132/150\n",
      "55/55 [==============================] - 1s 15ms/step - loss: 0.9666 - accuracy: 0.6100 - val_loss: 0.9910 - val_accuracy: 0.6101\n",
      "Epoch 133/150\n",
      "55/55 [==============================] - 1s 16ms/step - loss: 0.9611 - accuracy: 0.6157 - val_loss: 0.9741 - val_accuracy: 0.6101\n",
      "Epoch 134/150\n",
      "55/55 [==============================] - 1s 16ms/step - loss: 0.9671 - accuracy: 0.6141 - val_loss: 0.9784 - val_accuracy: 0.6126\n",
      "Epoch 135/150\n",
      "55/55 [==============================] - 1s 16ms/step - loss: 0.9650 - accuracy: 0.6191 - val_loss: 0.9789 - val_accuracy: 0.5995\n",
      "Epoch 136/150\n",
      "55/55 [==============================] - 1s 16ms/step - loss: 0.9625 - accuracy: 0.6122 - val_loss: 0.9820 - val_accuracy: 0.5905\n",
      "Epoch 137/150\n",
      "55/55 [==============================] - 1s 16ms/step - loss: 0.9611 - accuracy: 0.6152 - val_loss: 0.9740 - val_accuracy: 0.6085\n",
      "Epoch 138/150\n",
      "55/55 [==============================] - 1s 15ms/step - loss: 0.9604 - accuracy: 0.6147 - val_loss: 0.9778 - val_accuracy: 0.5889\n",
      "Epoch 139/150\n",
      "55/55 [==============================] - 1s 16ms/step - loss: 0.9632 - accuracy: 0.6102 - val_loss: 0.9716 - val_accuracy: 0.5971\n",
      "Epoch 140/150\n",
      "55/55 [==============================] - 1s 16ms/step - loss: 0.9658 - accuracy: 0.6138 - val_loss: 0.9675 - val_accuracy: 0.6060\n",
      "Epoch 141/150\n",
      "55/55 [==============================] - 1s 16ms/step - loss: 0.9684 - accuracy: 0.6152 - val_loss: 0.9893 - val_accuracy: 0.5954\n",
      "Epoch 142/150\n",
      "55/55 [==============================] - 1s 15ms/step - loss: 0.9579 - accuracy: 0.6204 - val_loss: 0.9756 - val_accuracy: 0.6020\n",
      "Epoch 143/150\n",
      "55/55 [==============================] - 1s 15ms/step - loss: 0.9671 - accuracy: 0.6132 - val_loss: 0.9886 - val_accuracy: 0.5962\n",
      "Epoch 144/150\n",
      "55/55 [==============================] - 1s 15ms/step - loss: 0.9564 - accuracy: 0.6229 - val_loss: 0.9720 - val_accuracy: 0.6020\n",
      "Epoch 145/150\n",
      "55/55 [==============================] - 1s 15ms/step - loss: 0.9529 - accuracy: 0.6185 - val_loss: 0.9773 - val_accuracy: 0.6028\n",
      "Epoch 146/150\n",
      "55/55 [==============================] - 1s 16ms/step - loss: 0.9566 - accuracy: 0.6162 - val_loss: 0.9697 - val_accuracy: 0.6028\n",
      "Epoch 147/150\n",
      "55/55 [==============================] - 1s 16ms/step - loss: 0.9576 - accuracy: 0.6198 - val_loss: 0.9759 - val_accuracy: 0.6052\n",
      "Epoch 148/150\n",
      "55/55 [==============================] - 1s 15ms/step - loss: 0.9558 - accuracy: 0.6206 - val_loss: 0.9758 - val_accuracy: 0.6036\n",
      "Epoch 149/150\n",
      "55/55 [==============================] - 1s 16ms/step - loss: 0.9597 - accuracy: 0.6239 - val_loss: 0.9703 - val_accuracy: 0.6036\n",
      "Epoch 150/150\n",
      "55/55 [==============================] - 1s 15ms/step - loss: 0.9520 - accuracy: 0.6239 - val_loss: 0.9782 - val_accuracy: 0.6142\n"
     ]
    }
   ],
   "source": [
    "epochs=150\n",
    "history = model.fit(\n",
    "  train,\n",
    "  validation_data=test,\n",
    "  epochs=epochs\n",
    ")"
   ]
  },
  {
   "cell_type": "code",
   "execution_count": 9,
   "metadata": {},
   "outputs": [
    {
     "data": {
      "image/png": "[encoded data removed]",
      "text/plain": [
       "<Figure size 576x576 with 2 Axes>"
      ]
     },
     "metadata": {
      "needs_background": "light"
     },
     "output_type": "display_data"
    }
   ],
   "source": [
    "acc = history.history['accuracy']\n",
    "val_acc = history.history['val_accuracy']\n",
    "\n",
    "loss = history.history['loss']\n",
    "val_loss = history.history['val_loss']\n",
    "\n",
    "epochs_range = range(epochs)\n",
    "\n",
    "plt.figure(figsize=(8, 8))\n",
    "plt.subplot(1, 2, 1)\n",
    "plt.plot(epochs_range, acc, label='Training Accuracy')\n",
    "plt.plot(epochs_range, val_acc, label='Validation Accuracy')\n",
    "plt.legend(loc='lower right')\n",
    "plt.title('Training and Validation Accuracy')\n",
    "\n",
    "plt.subplot(1, 2, 2)\n",
    "plt.plot(epochs_range, loss, label='Training Loss')\n",
    "plt.plot(epochs_range, val_loss, label='Validation Loss')\n",
    "plt.legend(loc='upper right')\n",
    "plt.title('Training and Validation Loss')\n",
    "plt.show()"
   ]
  },
  {
   "cell_type": "code",
   "execution_count": 10,
   "metadata": {},
   "outputs": [
    {
     "name": "stdout",
     "output_type": "stream",
     "text": [
      "10/10 [==============================] - 0s 13ms/step - loss: 0.9782 - accuracy: 0.6142\n",
      "Test accuracy : 0.6141924858093262\n"
     ]
    }
   ],
   "source": [
    "loss, accuracy = model.evaluate(test)\n",
    "print('Test accuracy :', accuracy)"
   ]
  },
  {
   "cell_type": "code",
   "execution_count": 11,
   "metadata": {},
   "outputs": [],
   "source": [
    "# Save the weights model.\n",
    "model.save('./data/humanModel/model_v0.h5')"
   ]
  },
  {
   "cell_type": "code",
   "execution_count": 12,
   "metadata": {},
   "outputs": [],
   "source": [
    "# save model in js format\n",
    "# import tensorflowjs as tfjs\n",
    "# tfjs.converters.save_keras_model(model, 'data/humanModel/js_model_v0')"
   ]
  },
  {
   "cell_type": "code",
   "execution_count": 13,
   "metadata": {},
   "outputs": [],
   "source": [
    "# new_model = tf.keras.models.load_model('./data/humanModel/mode_v0')\n",
    "\n",
    "# # Check its architecture\n",
    "# new_model.summary()"
   ]
  },
  {
   "cell_type": "markdown",
   "metadata": {},
   "source": [
    "### Predict on new data"
   ]
  },
  {
   "cell_type": "code",
   "execution_count": 14,
   "metadata": {},
   "outputs": [
    {
     "ename": "FileNotFoundError",
     "evalue": "[Errno 2] No such file or directory: './data/humanModel_v0_dataset_split/val/38/-Mr4e3Fomo72jz0zfTgB_14.png'",
     "output_type": "error",
     "traceback": [
      "\u001b[0;31m---------------------------------------------------------------------------\u001b[0m",
      "\u001b[0;31mFileNotFoundError\u001b[0m                         Traceback (most recent call last)",
      "\u001b[0;32m/tmp/ipykernel_2600788/1618442636.py\u001b[0m in \u001b[0;36m<module>\u001b[0;34m\u001b[0m\n\u001b[1;32m      2\u001b[0m \u001b[0;34m\u001b[0m\u001b[0m\n\u001b[1;32m      3\u001b[0m img = keras.preprocessing.image.load_img(\n\u001b[0;32m----> 4\u001b[0;31m     \u001b[0mpath\u001b[0m\u001b[0;34m,\u001b[0m \u001b[0mtarget_size\u001b[0m\u001b[0;34m=\u001b[0m\u001b[0;34m(\u001b[0m\u001b[0mIMG_SIZE\u001b[0m\u001b[0;34m,\u001b[0m \u001b[0mIMG_SIZE\u001b[0m\u001b[0;34m)\u001b[0m\u001b[0;34m\u001b[0m\u001b[0;34m\u001b[0m\u001b[0m\n\u001b[0m\u001b[1;32m      5\u001b[0m )\n\u001b[1;32m      6\u001b[0m \u001b[0mimg_array\u001b[0m \u001b[0;34m=\u001b[0m \u001b[0mkeras\u001b[0m\u001b[0;34m.\u001b[0m\u001b[0mpreprocessing\u001b[0m\u001b[0;34m.\u001b[0m\u001b[0mimage\u001b[0m\u001b[0;34m.\u001b[0m\u001b[0mimg_to_array\u001b[0m\u001b[0;34m(\u001b[0m\u001b[0mimg\u001b[0m\u001b[0;34m)\u001b[0m\u001b[0;34m\u001b[0m\u001b[0;34m\u001b[0m\u001b[0m\n",
      "\u001b[0;32m~/anaconda3/envs/tf-gpu/lib/python3.7/site-packages/keras/preprocessing/image.py\u001b[0m in \u001b[0;36mload_img\u001b[0;34m(path, grayscale, color_mode, target_size, interpolation)\u001b[0m\n\u001b[1;32m    312\u001b[0m   \"\"\"\n\u001b[1;32m    313\u001b[0m   return image.load_img(path, grayscale=grayscale, color_mode=color_mode,\n\u001b[0;32m--> 314\u001b[0;31m                         target_size=target_size, interpolation=interpolation)\n\u001b[0m\u001b[1;32m    315\u001b[0m \u001b[0;34m\u001b[0m\u001b[0m\n\u001b[1;32m    316\u001b[0m \u001b[0;34m\u001b[0m\u001b[0m\n",
      "\u001b[0;32m~/anaconda3/envs/tf-gpu/lib/python3.7/site-packages/keras_preprocessing/image/utils.py\u001b[0m in \u001b[0;36mload_img\u001b[0;34m(path, grayscale, color_mode, target_size, interpolation)\u001b[0m\n\u001b[1;32m    111\u001b[0m         raise ImportError('Could not import PIL.Image. '\n\u001b[1;32m    112\u001b[0m                           'The use of `load_img` requires PIL.')\n\u001b[0;32m--> 113\u001b[0;31m     \u001b[0;32mwith\u001b[0m \u001b[0mopen\u001b[0m\u001b[0;34m(\u001b[0m\u001b[0mpath\u001b[0m\u001b[0;34m,\u001b[0m \u001b[0;34m'rb'\u001b[0m\u001b[0;34m)\u001b[0m \u001b[0;32mas\u001b[0m \u001b[0mf\u001b[0m\u001b[0;34m:\u001b[0m\u001b[0;34m\u001b[0m\u001b[0;34m\u001b[0m\u001b[0m\n\u001b[0m\u001b[1;32m    114\u001b[0m         \u001b[0mimg\u001b[0m \u001b[0;34m=\u001b[0m \u001b[0mpil_image\u001b[0m\u001b[0;34m.\u001b[0m\u001b[0mopen\u001b[0m\u001b[0;34m(\u001b[0m\u001b[0mio\u001b[0m\u001b[0;34m.\u001b[0m\u001b[0mBytesIO\u001b[0m\u001b[0;34m(\u001b[0m\u001b[0mf\u001b[0m\u001b[0;34m.\u001b[0m\u001b[0mread\u001b[0m\u001b[0;34m(\u001b[0m\u001b[0;34m)\u001b[0m\u001b[0;34m)\u001b[0m\u001b[0;34m)\u001b[0m\u001b[0;34m\u001b[0m\u001b[0;34m\u001b[0m\u001b[0m\n\u001b[1;32m    115\u001b[0m         \u001b[0;32mif\u001b[0m \u001b[0mcolor_mode\u001b[0m \u001b[0;34m==\u001b[0m \u001b[0;34m'grayscale'\u001b[0m\u001b[0;34m:\u001b[0m\u001b[0;34m\u001b[0m\u001b[0;34m\u001b[0m\u001b[0m\n",
      "\u001b[0;31mFileNotFoundError\u001b[0m: [Errno 2] No such file or directory: './data/humanModel_v0_dataset_split/val/38/-Mr4e3Fomo72jz0zfTgB_14.png'"
     ]
    }
   ],
   "source": [
    "path = \"./data/humanModel_v0_dataset_split/val/38/-Mr4e3Fomo72jz0zfTgB_14.png\"\n",
    "\n",
    "img = keras.preprocessing.image.load_img(\n",
    "    path, target_size=(IMG_SIZE, IMG_SIZE)\n",
    ")\n",
    "img_array = keras.preprocessing.image.img_to_array(img)\n",
    "img_array = tf.expand_dims(img_array, 0) # Create a batch\n",
    "img_array = img_array/255\n",
    "predictions = model.predict(img_array)[0]\n",
    "\n",
    "print(\n",
    "    \"This image most likely belongs to {} with a {:.2f} percent confidence.\"\n",
    "    .format(np.argmax(predictions), 100 * np.max(predictions))\n",
    ")"
   ]
  }
 ],
 "metadata": {
  "interpreter": {
   "hash": "ad60775ae12af945b53c5c94c294ef05f229143b8585a0d23625a81e181fdccc"
  },
  "kernelspec": {
   "display_name": "Python 3.7.4 64-bit ('tf-gpu': conda)",
   "name": "python3"
  },
  "language_info": {
   "codemirror_mode": {
    "name": "ipython",
    "version": 3
   },
   "file_extension": ".py",
   "mimetype": "text/x-python",
   "name": "python",
   "nbconvert_exporter": "python",
   "pygments_lexer": "ipython3",
   "version": "3.7.4"
  }
 },
 "nbformat": 4,
 "nbformat_minor": 4
}
