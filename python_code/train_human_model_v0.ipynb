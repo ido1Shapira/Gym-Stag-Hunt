{
 "cells": [
  {
   "cell_type": "code",
   "execution_count": 1,
   "metadata": {},
   "outputs": [],
   "source": [
    "import numpy as np\n",
    "import random\n",
    "import os\n",
    "os.environ['TF_CPP_MIN_LOG_LEVEL'] = '3'\n",
    "os.environ['CUDA_VISIBLE_DEVICES'] = '-1'\n",
    "\n",
    "import shutil\n",
    "\n",
    "# ! pip install split-folders\n",
    "import splitfolders\n",
    "\n",
    "import tensorflow as tf\n",
    "from tensorflow import keras\n",
    "from tensorflow.keras import layers, regularizers\n",
    "from tensorflow.keras.models import Sequential\n",
    "\n",
    "from tensorflow.keras.preprocessing.image import ImageDataGenerator\n",
    "from tensorflow.keras.preprocessing import image\n",
    "\n",
    "import matplotlib.pyplot as plt\n",
    "\n",
    "rs = 42\n",
    "def reset_random_seeds(rs):\n",
    "   os.environ['PYTHONHASHSEED']=str(rs)\n",
    "   tf.random.set_seed(rs)\n",
    "   np.random.seed(rs)\n",
    "   random.seed(rs)\n",
    "reset_random_seeds(rs)"
   ]
  },
  {
   "cell_type": "markdown",
   "metadata": {},
   "source": [
    "remove prev saved database:"
   ]
  },
  {
   "cell_type": "code",
   "execution_count": 2,
   "metadata": {},
   "outputs": [],
   "source": [
    "dir_path = './data/humanModel/dataset_v0_split'\n",
    "if os.path.exists(dir_path):\n",
    "    shutil.rmtree(dir_path)\n",
    "else:\n",
    "    print(\"File not found in the directory\")"
   ]
  },
  {
   "cell_type": "markdown",
   "metadata": {},
   "source": [
    "# Part 1 - Data Preprocessing"
   ]
  },
  {
   "cell_type": "markdown",
   "metadata": {},
   "source": [
    "## Split into train , test data"
   ]
  },
  {
   "cell_type": "code",
   "execution_count": 3,
   "metadata": {},
   "outputs": [
    {
     "name": "stderr",
     "output_type": "stream",
     "text": [
      "Copying files: 6101 files [00:00, 16909.17 files/s]\n"
     ]
    }
   ],
   "source": [
    "# train, test split\n",
    "splitfolders.ratio('./data/humanModel/dataset_v0/', output=dir_path, ratio=(0.8, 0.2))"
   ]
  },
  {
   "cell_type": "markdown",
   "metadata": {},
   "source": [
    "### Preprocessing the Training set"
   ]
  },
  {
   "cell_type": "code",
   "execution_count": 4,
   "metadata": {},
   "outputs": [
    {
     "name": "stdout",
     "output_type": "stream",
     "text": [
      "Found 4879 images belonging to 4 classes.\n",
      "Found 1222 images belonging to 4 classes.\n"
     ]
    }
   ],
   "source": [
    "batch_size = 64\n",
    "IMG_SIZE = 5\n",
    "\n",
    "datagen = ImageDataGenerator(rescale = 1./255)\n",
    "train = datagen.flow_from_directory((dir_path+'/train'),\n",
    "                                          target_size = (IMG_SIZE,IMG_SIZE), batch_size = batch_size, seed=rs, class_mode='sparse')\n",
    "\n",
    "test = datagen.flow_from_directory((dir_path+'/val'),\n",
    "                                            target_size = (IMG_SIZE, IMG_SIZE), batch_size = batch_size, seed=rs, class_mode='sparse')"
   ]
  },
  {
   "cell_type": "markdown",
   "metadata": {},
   "source": [
    "## View some data"
   ]
  },
  {
   "cell_type": "code",
   "execution_count": 5,
   "metadata": {},
   "outputs": [],
   "source": [
    "num_classes = 4\n",
    "\n",
    "model = Sequential([\n",
    "  layers.Conv2D(4, 3, padding='same', activation='relu', kernel_regularizer=regularizers.l2(0.001), input_shape=[IMG_SIZE,IMG_SIZE,3]),\n",
    "  layers.Conv2D(8, 3, padding='same', activation='relu', kernel_regularizer=regularizers.l2(0.001)),\n",
    "  # layers.Conv2D(8, 2, padding='same', activation='relu', kernel_regularizer=regularizers.l2(0.001)),\n",
    "  # layers.MaxPooling2D(),\n",
    "  layers.Conv2D(8, 2, padding='same', activation='relu', kernel_regularizer=regularizers.l2(0.001)),\n",
    "  layers.Dropout(0.5),\n",
    "  layers.Flatten(),\n",
    "  # layers.Dense(16, activation='relu', kernel_regularizer=regularizers.l2(0.001)),\n",
    "  layers.Dense(32, activation='relu', kernel_regularizer=regularizers.l2(0.001)),\n",
    "  layers.Dense(num_classes, activation='softmax')\n",
    "])"
   ]
  },
  {
   "cell_type": "code",
   "execution_count": 6,
   "metadata": {},
   "outputs": [],
   "source": [
    "model.compile(optimizer='adam',\n",
    "              loss=tf.keras.losses.SparseCategoricalCrossentropy(from_logits=True),\n",
    "              metrics=['accuracy'])"
   ]
  },
  {
   "cell_type": "code",
   "execution_count": 7,
   "metadata": {},
   "outputs": [
    {
     "name": "stdout",
     "output_type": "stream",
     "text": [
      "Model: \"sequential\"\n",
      "_________________________________________________________________\n",
      "Layer (type)                 Output Shape              Param #   \n",
      "=================================================================\n",
      "conv2d (Conv2D)              (None, 5, 5, 4)           112       \n",
      "_________________________________________________________________\n",
      "conv2d_1 (Conv2D)            (None, 5, 5, 8)           296       \n",
      "_________________________________________________________________\n",
      "conv2d_2 (Conv2D)            (None, 5, 5, 8)           264       \n",
      "_________________________________________________________________\n",
      "dropout (Dropout)            (None, 5, 5, 8)           0         \n",
      "_________________________________________________________________\n",
      "flatten (Flatten)            (None, 200)               0         \n",
      "_________________________________________________________________\n",
      "dense (Dense)                (None, 32)                6432      \n",
      "_________________________________________________________________\n",
      "dense_1 (Dense)              (None, 4)                 132       \n",
      "=================================================================\n",
      "Total params: 7,236\n",
      "Trainable params: 7,236\n",
      "Non-trainable params: 0\n",
      "_________________________________________________________________\n"
     ]
    }
   ],
   "source": [
    "model.summary()"
   ]
  },
  {
   "cell_type": "code",
   "execution_count": 8,
   "metadata": {
    "scrolled": true
   },
   "outputs": [
    {
     "name": "stdout",
     "output_type": "stream",
     "text": [
      "Epoch 1/150\n"
     ]
    },
    {
     "name": "stderr",
     "output_type": "stream",
     "text": [
      "/home/ido/anaconda3/envs/tf-gpu/lib/python3.7/site-packages/keras/backend.py:4907: UserWarning: \"`sparse_categorical_crossentropy` received `from_logits=True`, but the `output` argument was produced by a sigmoid or softmax activation and thus does not represent logits. Was this intended?\"\n",
      "  '\"`sparse_categorical_crossentropy` received `from_logits=True`, but '\n"
     ]
    },
    {
     "name": "stdout",
     "output_type": "stream",
     "text": [
      "77/77 [==============================] - 1s 10ms/step - loss: 1.4416 - accuracy: 0.2742 - val_loss: 1.4266 - val_accuracy: 0.2660\n",
      "Epoch 2/150\n",
      "77/77 [==============================] - 1s 9ms/step - loss: 1.4133 - accuracy: 0.2892 - val_loss: 1.3936 - val_accuracy: 0.3126\n",
      "Epoch 3/150\n",
      "77/77 [==============================] - 1s 8ms/step - loss: 1.3615 - accuracy: 0.3618 - val_loss: 1.3293 - val_accuracy: 0.3985\n",
      "Epoch 4/150\n",
      "77/77 [==============================] - 1s 8ms/step - loss: 1.3144 - accuracy: 0.4068 - val_loss: 1.3021 - val_accuracy: 0.4075\n",
      "Epoch 5/150\n",
      "77/77 [==============================] - 1s 8ms/step - loss: 1.2972 - accuracy: 0.4175 - val_loss: 1.2931 - val_accuracy: 0.4296\n",
      "Epoch 6/150\n",
      "77/77 [==============================] - 1s 8ms/step - loss: 1.2855 - accuracy: 0.4257 - val_loss: 1.2802 - val_accuracy: 0.4141\n",
      "Epoch 7/150\n",
      "77/77 [==============================] - 1s 8ms/step - loss: 1.2770 - accuracy: 0.4290 - val_loss: 1.2758 - val_accuracy: 0.4247\n",
      "Epoch 8/150\n",
      "77/77 [==============================] - 1s 8ms/step - loss: 1.2686 - accuracy: 0.4382 - val_loss: 1.2653 - val_accuracy: 0.4362\n",
      "Epoch 9/150\n",
      "77/77 [==============================] - 1s 8ms/step - loss: 1.2634 - accuracy: 0.4372 - val_loss: 1.2492 - val_accuracy: 0.4484\n",
      "Epoch 10/150\n",
      "77/77 [==============================] - 1s 8ms/step - loss: 1.2443 - accuracy: 0.4470 - val_loss: 1.2325 - val_accuracy: 0.4493\n",
      "Epoch 11/150\n",
      "77/77 [==============================] - 1s 8ms/step - loss: 1.2355 - accuracy: 0.4523 - val_loss: 1.2326 - val_accuracy: 0.4591\n",
      "Epoch 12/150\n",
      "77/77 [==============================] - 1s 8ms/step - loss: 1.2183 - accuracy: 0.4646 - val_loss: 1.2084 - val_accuracy: 0.4787\n",
      "Epoch 13/150\n",
      "77/77 [==============================] - 1s 8ms/step - loss: 1.2057 - accuracy: 0.4747 - val_loss: 1.1869 - val_accuracy: 0.4877\n",
      "Epoch 14/150\n",
      "77/77 [==============================] - 1s 8ms/step - loss: 1.1880 - accuracy: 0.4798 - val_loss: 1.1761 - val_accuracy: 0.4943\n",
      "Epoch 15/150\n",
      "77/77 [==============================] - 1s 8ms/step - loss: 1.1786 - accuracy: 0.4892 - val_loss: 1.1705 - val_accuracy: 0.4959\n",
      "Epoch 16/150\n",
      "77/77 [==============================] - 1s 8ms/step - loss: 1.1680 - accuracy: 0.4923 - val_loss: 1.1676 - val_accuracy: 0.5090\n",
      "Epoch 17/150\n",
      "77/77 [==============================] - 1s 8ms/step - loss: 1.1604 - accuracy: 0.4968 - val_loss: 1.1594 - val_accuracy: 0.5147\n",
      "Epoch 18/150\n",
      "77/77 [==============================] - 1s 8ms/step - loss: 1.1529 - accuracy: 0.5071 - val_loss: 1.1477 - val_accuracy: 0.5123\n",
      "Epoch 19/150\n",
      "77/77 [==============================] - 1s 8ms/step - loss: 1.1441 - accuracy: 0.5093 - val_loss: 1.1498 - val_accuracy: 0.5180\n",
      "Epoch 20/150\n",
      "77/77 [==============================] - 1s 8ms/step - loss: 1.1387 - accuracy: 0.5210 - val_loss: 1.1458 - val_accuracy: 0.5123\n",
      "Epoch 21/150\n",
      "77/77 [==============================] - 1s 8ms/step - loss: 1.1308 - accuracy: 0.5177 - val_loss: 1.1358 - val_accuracy: 0.5139\n",
      "Epoch 22/150\n",
      "77/77 [==============================] - 1s 9ms/step - loss: 1.1332 - accuracy: 0.5144 - val_loss: 1.1297 - val_accuracy: 0.5237\n",
      "Epoch 23/150\n",
      "77/77 [==============================] - 1s 8ms/step - loss: 1.1205 - accuracy: 0.5188 - val_loss: 1.1285 - val_accuracy: 0.5319\n",
      "Epoch 24/150\n",
      "77/77 [==============================] - 1s 8ms/step - loss: 1.1208 - accuracy: 0.5210 - val_loss: 1.1246 - val_accuracy: 0.5205\n",
      "Epoch 25/150\n",
      "77/77 [==============================] - 1s 8ms/step - loss: 1.1149 - accuracy: 0.5224 - val_loss: 1.1187 - val_accuracy: 0.5368\n",
      "Epoch 26/150\n",
      "77/77 [==============================] - 1s 8ms/step - loss: 1.1076 - accuracy: 0.5356 - val_loss: 1.1159 - val_accuracy: 0.5409\n",
      "Epoch 27/150\n",
      "77/77 [==============================] - 1s 8ms/step - loss: 1.1019 - accuracy: 0.5327 - val_loss: 1.1129 - val_accuracy: 0.5376\n",
      "Epoch 28/150\n",
      "77/77 [==============================] - 1s 8ms/step - loss: 1.1070 - accuracy: 0.5337 - val_loss: 1.1105 - val_accuracy: 0.5442\n",
      "Epoch 29/150\n",
      "77/77 [==============================] - 1s 8ms/step - loss: 1.0973 - accuracy: 0.5397 - val_loss: 1.1142 - val_accuracy: 0.5458\n",
      "Epoch 30/150\n",
      "77/77 [==============================] - 1s 8ms/step - loss: 1.0870 - accuracy: 0.5405 - val_loss: 1.1020 - val_accuracy: 0.5368\n",
      "Epoch 31/150\n",
      "77/77 [==============================] - 1s 8ms/step - loss: 1.0825 - accuracy: 0.5403 - val_loss: 1.1029 - val_accuracy: 0.5360\n",
      "Epoch 32/150\n",
      "77/77 [==============================] - 1s 8ms/step - loss: 1.0823 - accuracy: 0.5470 - val_loss: 1.1033 - val_accuracy: 0.5270\n",
      "Epoch 33/150\n",
      "77/77 [==============================] - 1s 8ms/step - loss: 1.0794 - accuracy: 0.5339 - val_loss: 1.0920 - val_accuracy: 0.5336\n",
      "Epoch 34/150\n",
      "77/77 [==============================] - 1s 8ms/step - loss: 1.0753 - accuracy: 0.5442 - val_loss: 1.0956 - val_accuracy: 0.5344\n",
      "Epoch 35/150\n",
      "77/77 [==============================] - 1s 8ms/step - loss: 1.0656 - accuracy: 0.5509 - val_loss: 1.0832 - val_accuracy: 0.5507\n",
      "Epoch 36/150\n",
      "77/77 [==============================] - 1s 8ms/step - loss: 1.0702 - accuracy: 0.5415 - val_loss: 1.0814 - val_accuracy: 0.5417\n",
      "Epoch 37/150\n",
      "77/77 [==============================] - 1s 8ms/step - loss: 1.0685 - accuracy: 0.5497 - val_loss: 1.0774 - val_accuracy: 0.5540\n",
      "Epoch 38/150\n",
      "77/77 [==============================] - 1s 8ms/step - loss: 1.0604 - accuracy: 0.5548 - val_loss: 1.0846 - val_accuracy: 0.5458\n",
      "Epoch 39/150\n",
      "77/77 [==============================] - 1s 8ms/step - loss: 1.0590 - accuracy: 0.5569 - val_loss: 1.0839 - val_accuracy: 0.5548\n",
      "Epoch 40/150\n",
      "77/77 [==============================] - 1s 8ms/step - loss: 1.0601 - accuracy: 0.5559 - val_loss: 1.0726 - val_accuracy: 0.5565\n",
      "Epoch 41/150\n",
      "77/77 [==============================] - 1s 8ms/step - loss: 1.0497 - accuracy: 0.5579 - val_loss: 1.0729 - val_accuracy: 0.5458\n",
      "Epoch 42/150\n",
      "77/77 [==============================] - 1s 8ms/step - loss: 1.0451 - accuracy: 0.5694 - val_loss: 1.0773 - val_accuracy: 0.5556\n",
      "Epoch 43/150\n",
      "77/77 [==============================] - 1s 8ms/step - loss: 1.0549 - accuracy: 0.5550 - val_loss: 1.0648 - val_accuracy: 0.5540\n",
      "Epoch 44/150\n",
      "77/77 [==============================] - 1s 8ms/step - loss: 1.0433 - accuracy: 0.5630 - val_loss: 1.0659 - val_accuracy: 0.5622\n",
      "Epoch 45/150\n",
      "77/77 [==============================] - 1s 8ms/step - loss: 1.0426 - accuracy: 0.5624 - val_loss: 1.0582 - val_accuracy: 0.5622\n",
      "Epoch 46/150\n",
      "77/77 [==============================] - 1s 8ms/step - loss: 1.0372 - accuracy: 0.5768 - val_loss: 1.0637 - val_accuracy: 0.5606\n",
      "Epoch 47/150\n",
      "77/77 [==============================] - 1s 8ms/step - loss: 1.0321 - accuracy: 0.5692 - val_loss: 1.0611 - val_accuracy: 0.5646\n",
      "Epoch 48/150\n",
      "77/77 [==============================] - 1s 8ms/step - loss: 1.0310 - accuracy: 0.5706 - val_loss: 1.0644 - val_accuracy: 0.5663\n",
      "Epoch 49/150\n",
      "77/77 [==============================] - 1s 8ms/step - loss: 1.0309 - accuracy: 0.5733 - val_loss: 1.0531 - val_accuracy: 0.5663\n",
      "Epoch 50/150\n",
      "77/77 [==============================] - 1s 8ms/step - loss: 1.0353 - accuracy: 0.5669 - val_loss: 1.0578 - val_accuracy: 0.5614\n",
      "Epoch 51/150\n",
      "77/77 [==============================] - 1s 8ms/step - loss: 1.0237 - accuracy: 0.5782 - val_loss: 1.0711 - val_accuracy: 0.5679\n",
      "Epoch 52/150\n",
      "77/77 [==============================] - 1s 8ms/step - loss: 1.0227 - accuracy: 0.5733 - val_loss: 1.0535 - val_accuracy: 0.5736\n",
      "Epoch 53/150\n",
      "77/77 [==============================] - 1s 8ms/step - loss: 1.0220 - accuracy: 0.5747 - val_loss: 1.0513 - val_accuracy: 0.5745\n",
      "Epoch 54/150\n",
      "77/77 [==============================] - 1s 8ms/step - loss: 1.0226 - accuracy: 0.5716 - val_loss: 1.0571 - val_accuracy: 0.5638\n",
      "Epoch 55/150\n",
      "77/77 [==============================] - 1s 8ms/step - loss: 1.0158 - accuracy: 0.5819 - val_loss: 1.0555 - val_accuracy: 0.5696\n",
      "Epoch 56/150\n",
      "77/77 [==============================] - 1s 8ms/step - loss: 1.0138 - accuracy: 0.5790 - val_loss: 1.0443 - val_accuracy: 0.5827\n",
      "Epoch 57/150\n",
      "77/77 [==============================] - 1s 8ms/step - loss: 1.0168 - accuracy: 0.5856 - val_loss: 1.0449 - val_accuracy: 0.5712\n",
      "Epoch 58/150\n",
      "77/77 [==============================] - 1s 8ms/step - loss: 1.0178 - accuracy: 0.5868 - val_loss: 1.0471 - val_accuracy: 0.5761\n",
      "Epoch 59/150\n",
      "77/77 [==============================] - 1s 8ms/step - loss: 1.0097 - accuracy: 0.5843 - val_loss: 1.0468 - val_accuracy: 0.5646\n",
      "Epoch 60/150\n",
      "77/77 [==============================] - 1s 8ms/step - loss: 1.0100 - accuracy: 0.5843 - val_loss: 1.0529 - val_accuracy: 0.5827\n",
      "Epoch 61/150\n",
      "77/77 [==============================] - 1s 8ms/step - loss: 1.0120 - accuracy: 0.5858 - val_loss: 1.0469 - val_accuracy: 0.5745\n",
      "Epoch 62/150\n",
      "77/77 [==============================] - 1s 9ms/step - loss: 1.0059 - accuracy: 0.5923 - val_loss: 1.0404 - val_accuracy: 0.5687\n",
      "Epoch 63/150\n",
      "77/77 [==============================] - 1s 8ms/step - loss: 1.0056 - accuracy: 0.5927 - val_loss: 1.0392 - val_accuracy: 0.5802\n",
      "Epoch 64/150\n",
      "77/77 [==============================] - 1s 8ms/step - loss: 0.9983 - accuracy: 0.5813 - val_loss: 1.0429 - val_accuracy: 0.5835\n",
      "Epoch 65/150\n",
      "77/77 [==============================] - 1s 8ms/step - loss: 0.9982 - accuracy: 0.5929 - val_loss: 1.0404 - val_accuracy: 0.5728\n",
      "Epoch 66/150\n",
      "77/77 [==============================] - 1s 8ms/step - loss: 1.0047 - accuracy: 0.5950 - val_loss: 1.0414 - val_accuracy: 0.5736\n",
      "Epoch 67/150\n",
      "77/77 [==============================] - 1s 8ms/step - loss: 1.0004 - accuracy: 0.5929 - val_loss: 1.0388 - val_accuracy: 0.5777\n",
      "Epoch 68/150\n",
      "77/77 [==============================] - 1s 8ms/step - loss: 1.0011 - accuracy: 0.5932 - val_loss: 1.0491 - val_accuracy: 0.5736\n",
      "Epoch 69/150\n",
      "77/77 [==============================] - 1s 8ms/step - loss: 1.0007 - accuracy: 0.5938 - val_loss: 1.0435 - val_accuracy: 0.5736\n",
      "Epoch 70/150\n",
      "77/77 [==============================] - 1s 9ms/step - loss: 1.0023 - accuracy: 0.5927 - val_loss: 1.0487 - val_accuracy: 0.5802\n",
      "Epoch 71/150\n",
      "77/77 [==============================] - 1s 8ms/step - loss: 0.9940 - accuracy: 0.5962 - val_loss: 1.0548 - val_accuracy: 0.5777\n",
      "Epoch 72/150\n",
      "77/77 [==============================] - 1s 8ms/step - loss: 0.9974 - accuracy: 0.5919 - val_loss: 1.0355 - val_accuracy: 0.5933\n",
      "Epoch 73/150\n",
      "77/77 [==============================] - 1s 8ms/step - loss: 0.9967 - accuracy: 0.5938 - val_loss: 1.0355 - val_accuracy: 0.5810\n",
      "Epoch 74/150\n",
      "77/77 [==============================] - 1s 8ms/step - loss: 0.9910 - accuracy: 0.5968 - val_loss: 1.0263 - val_accuracy: 0.5884\n",
      "Epoch 75/150\n",
      "77/77 [==============================] - 1s 8ms/step - loss: 0.9840 - accuracy: 0.6032 - val_loss: 1.0253 - val_accuracy: 0.5900\n",
      "Epoch 76/150\n",
      "77/77 [==============================] - 1s 8ms/step - loss: 0.9892 - accuracy: 0.5995 - val_loss: 1.0293 - val_accuracy: 0.5761\n",
      "Epoch 77/150\n",
      "77/77 [==============================] - 1s 8ms/step - loss: 0.9845 - accuracy: 0.5958 - val_loss: 1.0326 - val_accuracy: 0.5827\n",
      "Epoch 78/150\n",
      "77/77 [==============================] - 1s 8ms/step - loss: 0.9846 - accuracy: 0.5938 - val_loss: 1.0330 - val_accuracy: 0.5892\n",
      "Epoch 79/150\n",
      "77/77 [==============================] - 1s 8ms/step - loss: 0.9841 - accuracy: 0.6052 - val_loss: 1.0269 - val_accuracy: 0.5917\n",
      "Epoch 80/150\n",
      "77/77 [==============================] - 1s 8ms/step - loss: 0.9790 - accuracy: 0.6061 - val_loss: 1.0300 - val_accuracy: 0.5933\n",
      "Epoch 81/150\n",
      "77/77 [==============================] - 1s 8ms/step - loss: 0.9832 - accuracy: 0.6071 - val_loss: 1.0241 - val_accuracy: 0.5917\n",
      "Epoch 82/150\n",
      "77/77 [==============================] - 1s 8ms/step - loss: 0.9937 - accuracy: 0.6050 - val_loss: 1.0241 - val_accuracy: 0.5900\n",
      "Epoch 83/150\n",
      "77/77 [==============================] - 1s 8ms/step - loss: 0.9878 - accuracy: 0.5991 - val_loss: 1.0303 - val_accuracy: 0.5908\n",
      "Epoch 84/150\n",
      "77/77 [==============================] - 1s 8ms/step - loss: 0.9699 - accuracy: 0.6032 - val_loss: 1.0274 - val_accuracy: 0.5892\n",
      "Epoch 85/150\n",
      "77/77 [==============================] - 1s 8ms/step - loss: 0.9795 - accuracy: 0.6016 - val_loss: 1.0326 - val_accuracy: 0.5794\n",
      "Epoch 86/150\n",
      "77/77 [==============================] - 1s 8ms/step - loss: 0.9745 - accuracy: 0.6073 - val_loss: 1.0320 - val_accuracy: 0.5859\n",
      "Epoch 87/150\n",
      "77/77 [==============================] - 1s 8ms/step - loss: 0.9786 - accuracy: 0.6052 - val_loss: 1.0249 - val_accuracy: 0.5925\n",
      "Epoch 88/150\n",
      "77/77 [==============================] - 1s 8ms/step - loss: 0.9780 - accuracy: 0.6100 - val_loss: 1.0252 - val_accuracy: 0.5867\n",
      "Epoch 89/150\n",
      "77/77 [==============================] - 1s 8ms/step - loss: 0.9741 - accuracy: 0.6046 - val_loss: 1.0242 - val_accuracy: 0.5966\n",
      "Epoch 90/150\n",
      "77/77 [==============================] - 1s 8ms/step - loss: 0.9745 - accuracy: 0.6063 - val_loss: 1.0348 - val_accuracy: 0.5876\n",
      "Epoch 91/150\n",
      "77/77 [==============================] - 1s 8ms/step - loss: 0.9722 - accuracy: 0.6089 - val_loss: 1.0314 - val_accuracy: 0.5867\n",
      "Epoch 92/150\n",
      "77/77 [==============================] - 1s 8ms/step - loss: 0.9744 - accuracy: 0.6046 - val_loss: 1.0329 - val_accuracy: 0.5900\n",
      "Epoch 93/150\n",
      "77/77 [==============================] - 1s 8ms/step - loss: 0.9784 - accuracy: 0.6032 - val_loss: 1.0264 - val_accuracy: 0.5917\n",
      "Epoch 94/150\n",
      "77/77 [==============================] - 1s 8ms/step - loss: 0.9712 - accuracy: 0.6120 - val_loss: 1.0281 - val_accuracy: 0.5810\n",
      "Epoch 95/150\n",
      "77/77 [==============================] - 1s 8ms/step - loss: 0.9708 - accuracy: 0.6061 - val_loss: 1.0251 - val_accuracy: 0.5982\n",
      "Epoch 96/150\n",
      "77/77 [==============================] - 1s 8ms/step - loss: 0.9775 - accuracy: 0.6042 - val_loss: 1.0350 - val_accuracy: 0.5908\n",
      "Epoch 97/150\n",
      "77/77 [==============================] - 1s 8ms/step - loss: 0.9709 - accuracy: 0.6108 - val_loss: 1.0357 - val_accuracy: 0.5835\n",
      "Epoch 98/150\n",
      "77/77 [==============================] - 1s 8ms/step - loss: 0.9762 - accuracy: 0.6112 - val_loss: 1.0285 - val_accuracy: 0.5949\n",
      "Epoch 99/150\n",
      "77/77 [==============================] - 1s 8ms/step - loss: 0.9654 - accuracy: 0.6100 - val_loss: 1.0289 - val_accuracy: 0.5933\n",
      "Epoch 100/150\n",
      "77/77 [==============================] - 1s 8ms/step - loss: 0.9790 - accuracy: 0.6014 - val_loss: 1.0260 - val_accuracy: 0.5835\n",
      "Epoch 101/150\n",
      "77/77 [==============================] - 1s 8ms/step - loss: 0.9672 - accuracy: 0.6059 - val_loss: 1.0302 - val_accuracy: 0.5908\n",
      "Epoch 102/150\n",
      "77/77 [==============================] - 1s 8ms/step - loss: 0.9785 - accuracy: 0.6048 - val_loss: 1.0257 - val_accuracy: 0.5957\n",
      "Epoch 103/150\n",
      "77/77 [==============================] - 1s 8ms/step - loss: 0.9664 - accuracy: 0.6126 - val_loss: 1.0312 - val_accuracy: 0.5810\n",
      "Epoch 104/150\n",
      "77/77 [==============================] - 1s 8ms/step - loss: 0.9684 - accuracy: 0.6063 - val_loss: 1.0232 - val_accuracy: 0.5941\n",
      "Epoch 105/150\n",
      "77/77 [==============================] - 1s 8ms/step - loss: 0.9579 - accuracy: 0.6143 - val_loss: 1.0233 - val_accuracy: 0.5949\n",
      "Epoch 106/150\n",
      "77/77 [==============================] - 1s 8ms/step - loss: 0.9687 - accuracy: 0.6077 - val_loss: 1.0292 - val_accuracy: 0.5802\n",
      "Epoch 107/150\n",
      "77/77 [==============================] - 1s 8ms/step - loss: 0.9597 - accuracy: 0.6132 - val_loss: 1.0264 - val_accuracy: 0.5949\n",
      "Epoch 108/150\n",
      "77/77 [==============================] - 1s 8ms/step - loss: 0.9704 - accuracy: 0.6055 - val_loss: 1.0273 - val_accuracy: 0.5835\n",
      "Epoch 109/150\n",
      "77/77 [==============================] - 1s 8ms/step - loss: 0.9615 - accuracy: 0.6153 - val_loss: 1.0384 - val_accuracy: 0.5884\n",
      "Epoch 110/150\n",
      "77/77 [==============================] - 1s 8ms/step - loss: 0.9709 - accuracy: 0.6153 - val_loss: 1.0297 - val_accuracy: 0.5908\n",
      "Epoch 111/150\n",
      "77/77 [==============================] - 1s 8ms/step - loss: 0.9669 - accuracy: 0.6175 - val_loss: 1.0265 - val_accuracy: 0.5941\n",
      "Epoch 112/150\n",
      "77/77 [==============================] - 1s 8ms/step - loss: 0.9613 - accuracy: 0.6075 - val_loss: 1.0352 - val_accuracy: 0.5843\n",
      "Epoch 113/150\n",
      "77/77 [==============================] - 1s 8ms/step - loss: 0.9597 - accuracy: 0.6165 - val_loss: 1.0321 - val_accuracy: 0.5884\n",
      "Epoch 114/150\n",
      "77/77 [==============================] - 1s 8ms/step - loss: 0.9600 - accuracy: 0.6153 - val_loss: 1.0265 - val_accuracy: 0.5966\n",
      "Epoch 115/150\n",
      "77/77 [==============================] - 1s 8ms/step - loss: 0.9629 - accuracy: 0.6229 - val_loss: 1.0208 - val_accuracy: 0.5990\n",
      "Epoch 116/150\n",
      "77/77 [==============================] - 1s 8ms/step - loss: 0.9557 - accuracy: 0.6171 - val_loss: 1.0262 - val_accuracy: 0.5966\n",
      "Epoch 117/150\n",
      "77/77 [==============================] - 1s 8ms/step - loss: 0.9680 - accuracy: 0.6116 - val_loss: 1.0236 - val_accuracy: 0.5949\n",
      "Epoch 118/150\n",
      "77/77 [==============================] - 1s 8ms/step - loss: 0.9536 - accuracy: 0.6231 - val_loss: 1.0313 - val_accuracy: 0.5908\n",
      "Epoch 119/150\n",
      "77/77 [==============================] - 1s 8ms/step - loss: 0.9682 - accuracy: 0.6188 - val_loss: 1.0272 - val_accuracy: 0.5900\n",
      "Epoch 120/150\n",
      "77/77 [==============================] - 1s 8ms/step - loss: 0.9514 - accuracy: 0.6225 - val_loss: 1.0270 - val_accuracy: 0.5917\n",
      "Epoch 121/150\n",
      "77/77 [==============================] - 1s 9ms/step - loss: 0.9646 - accuracy: 0.6137 - val_loss: 1.0207 - val_accuracy: 0.5851\n",
      "Epoch 122/150\n",
      "77/77 [==============================] - 1s 9ms/step - loss: 0.9528 - accuracy: 0.6253 - val_loss: 1.0360 - val_accuracy: 0.5884\n",
      "Epoch 123/150\n",
      "77/77 [==============================] - 1s 8ms/step - loss: 0.9496 - accuracy: 0.6259 - val_loss: 1.0236 - val_accuracy: 0.5876\n",
      "Epoch 124/150\n",
      "77/77 [==============================] - 1s 8ms/step - loss: 0.9536 - accuracy: 0.6233 - val_loss: 1.0233 - val_accuracy: 0.5957\n",
      "Epoch 125/150\n",
      "77/77 [==============================] - 1s 9ms/step - loss: 0.9422 - accuracy: 0.6259 - val_loss: 1.0353 - val_accuracy: 0.5827\n",
      "Epoch 126/150\n",
      "77/77 [==============================] - 1s 8ms/step - loss: 0.9546 - accuracy: 0.6198 - val_loss: 1.0262 - val_accuracy: 0.5908\n",
      "Epoch 127/150\n",
      "77/77 [==============================] - 1s 8ms/step - loss: 0.9546 - accuracy: 0.6161 - val_loss: 1.0364 - val_accuracy: 0.5917\n",
      "Epoch 128/150\n",
      "77/77 [==============================] - 1s 8ms/step - loss: 0.9534 - accuracy: 0.6165 - val_loss: 1.0296 - val_accuracy: 0.5957\n",
      "Epoch 129/150\n",
      "77/77 [==============================] - 1s 8ms/step - loss: 0.9518 - accuracy: 0.6196 - val_loss: 1.0263 - val_accuracy: 0.5908\n",
      "Epoch 130/150\n",
      "77/77 [==============================] - 1s 8ms/step - loss: 0.9484 - accuracy: 0.6198 - val_loss: 1.0407 - val_accuracy: 0.5900\n",
      "Epoch 131/150\n",
      "77/77 [==============================] - 1s 8ms/step - loss: 0.9551 - accuracy: 0.6194 - val_loss: 1.0276 - val_accuracy: 0.5957\n",
      "Epoch 132/150\n",
      "77/77 [==============================] - 1s 8ms/step - loss: 0.9467 - accuracy: 0.6235 - val_loss: 1.0271 - val_accuracy: 0.5957\n",
      "Epoch 133/150\n",
      "77/77 [==============================] - 1s 8ms/step - loss: 0.9499 - accuracy: 0.6190 - val_loss: 1.0265 - val_accuracy: 0.5908\n",
      "Epoch 134/150\n",
      "77/77 [==============================] - 1s 8ms/step - loss: 0.9540 - accuracy: 0.6175 - val_loss: 1.0205 - val_accuracy: 0.5917\n",
      "Epoch 135/150\n",
      "77/77 [==============================] - 1s 8ms/step - loss: 0.9543 - accuracy: 0.6192 - val_loss: 1.0248 - val_accuracy: 0.5917\n",
      "Epoch 136/150\n",
      "77/77 [==============================] - 1s 8ms/step - loss: 0.9487 - accuracy: 0.6163 - val_loss: 1.0264 - val_accuracy: 0.5917\n",
      "Epoch 137/150\n",
      "77/77 [==============================] - 1s 8ms/step - loss: 0.9532 - accuracy: 0.6145 - val_loss: 1.0286 - val_accuracy: 0.5900\n",
      "Epoch 138/150\n",
      "77/77 [==============================] - 1s 9ms/step - loss: 0.9446 - accuracy: 0.6286 - val_loss: 1.0255 - val_accuracy: 0.5925\n",
      "Epoch 139/150\n",
      "77/77 [==============================] - 1s 8ms/step - loss: 0.9404 - accuracy: 0.6339 - val_loss: 1.0196 - val_accuracy: 0.5892\n",
      "Epoch 140/150\n",
      "77/77 [==============================] - 1s 8ms/step - loss: 0.9537 - accuracy: 0.6210 - val_loss: 1.0225 - val_accuracy: 0.5859\n",
      "Epoch 141/150\n",
      "77/77 [==============================] - 1s 8ms/step - loss: 0.9497 - accuracy: 0.6262 - val_loss: 1.0165 - val_accuracy: 0.5892\n",
      "Epoch 142/150\n",
      "77/77 [==============================] - 1s 8ms/step - loss: 0.9454 - accuracy: 0.6200 - val_loss: 1.0268 - val_accuracy: 0.5827\n",
      "Epoch 143/150\n",
      "77/77 [==============================] - 1s 8ms/step - loss: 0.9478 - accuracy: 0.6245 - val_loss: 1.0286 - val_accuracy: 0.5876\n",
      "Epoch 144/150\n",
      "77/77 [==============================] - 1s 8ms/step - loss: 0.9423 - accuracy: 0.6315 - val_loss: 1.0301 - val_accuracy: 0.5925\n",
      "Epoch 145/150\n",
      "77/77 [==============================] - 1s 8ms/step - loss: 0.9474 - accuracy: 0.6239 - val_loss: 1.0259 - val_accuracy: 0.5900\n",
      "Epoch 146/150\n",
      "77/77 [==============================] - 1s 8ms/step - loss: 0.9451 - accuracy: 0.6257 - val_loss: 1.0405 - val_accuracy: 0.5777\n",
      "Epoch 147/150\n",
      "77/77 [==============================] - 1s 8ms/step - loss: 0.9299 - accuracy: 0.6321 - val_loss: 1.0292 - val_accuracy: 0.5843\n",
      "Epoch 148/150\n",
      "77/77 [==============================] - 1s 8ms/step - loss: 0.9364 - accuracy: 0.6280 - val_loss: 1.0337 - val_accuracy: 0.5876\n",
      "Epoch 149/150\n",
      "77/77 [==============================] - 1s 8ms/step - loss: 0.9395 - accuracy: 0.6319 - val_loss: 1.0278 - val_accuracy: 0.5933\n",
      "Epoch 150/150\n",
      "77/77 [==============================] - 1s 8ms/step - loss: 0.9391 - accuracy: 0.6253 - val_loss: 1.0258 - val_accuracy: 0.5957\n"
     ]
    }
   ],
   "source": [
    "epochs=150\n",
    "history = model.fit(\n",
    "  train,\n",
    "  validation_data=test,\n",
    "  epochs=epochs\n",
    ")"
   ]
  },
  {
   "cell_type": "code",
   "execution_count": 9,
   "metadata": {},
   "outputs": [
    {
     "data": {
      "image/png": "[encoded data removed]",
      "text/plain": [
       "<Figure size 576x576 with 2 Axes>"
      ]
     },
     "metadata": {
      "needs_background": "light"
     },
     "output_type": "display_data"
    }
   ],
   "source": [
    "acc = history.history['accuracy']\n",
    "val_acc = history.history['val_accuracy']\n",
    "\n",
    "loss = history.history['loss']\n",
    "val_loss = history.history['val_loss']\n",
    "\n",
    "epochs_range = range(epochs)\n",
    "\n",
    "plt.figure(figsize=(8, 8))\n",
    "plt.subplot(1, 2, 1)\n",
    "plt.plot(epochs_range, acc, label='Training Accuracy')\n",
    "plt.plot(epochs_range, val_acc, label='Validation Accuracy')\n",
    "plt.legend(loc='lower right')\n",
    "plt.title('Training and Validation Accuracy')\n",
    "\n",
    "plt.subplot(1, 2, 2)\n",
    "plt.plot(epochs_range, loss, label='Training Loss')\n",
    "plt.plot(epochs_range, val_loss, label='Validation Loss')\n",
    "plt.legend(loc='upper right')\n",
    "plt.title('Training and Validation Loss')\n",
    "plt.show()"
   ]
  },
  {
   "cell_type": "code",
   "execution_count": 10,
   "metadata": {},
   "outputs": [
    {
     "name": "stdout",
     "output_type": "stream",
     "text": [
      "20/20 [==============================] - 0s 6ms/step - loss: 1.0258 - accuracy: 0.5957\n",
      "Test accuracy : 0.5957446694374084\n"
     ]
    }
   ],
   "source": [
    "loss, accuracy = model.evaluate(test)\n",
    "print('Test accuracy :', accuracy)"
   ]
  },
  {
   "cell_type": "code",
   "execution_count": 11,
   "metadata": {},
   "outputs": [],
   "source": [
    "# Save the weights model.\n",
    "model.save('./data/humanModel/model_v0.h5')"
   ]
  },
  {
   "cell_type": "code",
   "execution_count": 12,
   "metadata": {},
   "outputs": [],
   "source": [
    "# save model in js format\n",
    "# import tensorflowjs as tfjs\n",
    "# tfjs.converters.save_keras_model(model, 'data/humanModel/js_model_v0')"
   ]
  },
  {
   "cell_type": "code",
   "execution_count": 13,
   "metadata": {},
   "outputs": [],
   "source": [
    "# new_model = tf.keras.models.load_model('./data/humanModel/mode_v0')\n",
    "\n",
    "# # Check its architecture\n",
    "# new_model.summary()"
   ]
  },
  {
   "cell_type": "markdown",
   "metadata": {},
   "source": [
    "### Predict on new data"
   ]
  },
  {
   "cell_type": "code",
   "execution_count": 14,
   "metadata": {},
   "outputs": [
    {
     "ename": "FileNotFoundError",
     "evalue": "[Errno 2] No such file or directory: './data/humanModel_v0_dataset_split/val/38/-Mr4e3Fomo72jz0zfTgB_14.png'",
     "output_type": "error",
     "traceback": [
      "\u001b[0;31m---------------------------------------------------------------------------\u001b[0m",
      "\u001b[0;31mFileNotFoundError\u001b[0m                         Traceback (most recent call last)",
      "\u001b[0;32m/tmp/ipykernel_3952096/1618442636.py\u001b[0m in \u001b[0;36m<module>\u001b[0;34m\u001b[0m\n\u001b[1;32m      2\u001b[0m \u001b[0;34m\u001b[0m\u001b[0m\n\u001b[1;32m      3\u001b[0m img = keras.preprocessing.image.load_img(\n\u001b[0;32m----> 4\u001b[0;31m     \u001b[0mpath\u001b[0m\u001b[0;34m,\u001b[0m \u001b[0mtarget_size\u001b[0m\u001b[0;34m=\u001b[0m\u001b[0;34m(\u001b[0m\u001b[0mIMG_SIZE\u001b[0m\u001b[0;34m,\u001b[0m \u001b[0mIMG_SIZE\u001b[0m\u001b[0;34m)\u001b[0m\u001b[0;34m\u001b[0m\u001b[0;34m\u001b[0m\u001b[0m\n\u001b[0m\u001b[1;32m      5\u001b[0m )\n\u001b[1;32m      6\u001b[0m \u001b[0mimg_array\u001b[0m \u001b[0;34m=\u001b[0m \u001b[0mkeras\u001b[0m\u001b[0;34m.\u001b[0m\u001b[0mpreprocessing\u001b[0m\u001b[0;34m.\u001b[0m\u001b[0mimage\u001b[0m\u001b[0;34m.\u001b[0m\u001b[0mimg_to_array\u001b[0m\u001b[0;34m(\u001b[0m\u001b[0mimg\u001b[0m\u001b[0;34m)\u001b[0m\u001b[0;34m\u001b[0m\u001b[0;34m\u001b[0m\u001b[0m\n",
      "\u001b[0;32m~/anaconda3/envs/tf-gpu/lib/python3.7/site-packages/keras/preprocessing/image.py\u001b[0m in \u001b[0;36mload_img\u001b[0;34m(path, grayscale, color_mode, target_size, interpolation)\u001b[0m\n\u001b[1;32m    312\u001b[0m   \"\"\"\n\u001b[1;32m    313\u001b[0m   return image.load_img(path, grayscale=grayscale, color_mode=color_mode,\n\u001b[0;32m--> 314\u001b[0;31m                         target_size=target_size, interpolation=interpolation)\n\u001b[0m\u001b[1;32m    315\u001b[0m \u001b[0;34m\u001b[0m\u001b[0m\n\u001b[1;32m    316\u001b[0m \u001b[0;34m\u001b[0m\u001b[0m\n",
      "\u001b[0;32m~/anaconda3/envs/tf-gpu/lib/python3.7/site-packages/keras_preprocessing/image/utils.py\u001b[0m in \u001b[0;36mload_img\u001b[0;34m(path, grayscale, color_mode, target_size, interpolation)\u001b[0m\n\u001b[1;32m    111\u001b[0m         raise ImportError('Could not import PIL.Image. '\n\u001b[1;32m    112\u001b[0m                           'The use of `load_img` requires PIL.')\n\u001b[0;32m--> 113\u001b[0;31m     \u001b[0;32mwith\u001b[0m \u001b[0mopen\u001b[0m\u001b[0;34m(\u001b[0m\u001b[0mpath\u001b[0m\u001b[0;34m,\u001b[0m \u001b[0;34m'rb'\u001b[0m\u001b[0;34m)\u001b[0m \u001b[0;32mas\u001b[0m \u001b[0mf\u001b[0m\u001b[0;34m:\u001b[0m\u001b[0;34m\u001b[0m\u001b[0;34m\u001b[0m\u001b[0m\n\u001b[0m\u001b[1;32m    114\u001b[0m         \u001b[0mimg\u001b[0m \u001b[0;34m=\u001b[0m \u001b[0mpil_image\u001b[0m\u001b[0;34m.\u001b[0m\u001b[0mopen\u001b[0m\u001b[0;34m(\u001b[0m\u001b[0mio\u001b[0m\u001b[0;34m.\u001b[0m\u001b[0mBytesIO\u001b[0m\u001b[0;34m(\u001b[0m\u001b[0mf\u001b[0m\u001b[0;34m.\u001b[0m\u001b[0mread\u001b[0m\u001b[0;34m(\u001b[0m\u001b[0;34m)\u001b[0m\u001b[0;34m)\u001b[0m\u001b[0;34m)\u001b[0m\u001b[0;34m\u001b[0m\u001b[0;34m\u001b[0m\u001b[0m\n\u001b[1;32m    115\u001b[0m         \u001b[0;32mif\u001b[0m \u001b[0mcolor_mode\u001b[0m \u001b[0;34m==\u001b[0m \u001b[0;34m'grayscale'\u001b[0m\u001b[0;34m:\u001b[0m\u001b[0;34m\u001b[0m\u001b[0;34m\u001b[0m\u001b[0m\n",
      "\u001b[0;31mFileNotFoundError\u001b[0m: [Errno 2] No such file or directory: './data/humanModel_v0_dataset_split/val/38/-Mr4e3Fomo72jz0zfTgB_14.png'"
     ]
    }
   ],
   "source": [
    "path = \"./data/humanModel_v0_dataset_split/val/38/-Mr4e3Fomo72jz0zfTgB_14.png\"\n",
    "\n",
    "img = keras.preprocessing.image.load_img(\n",
    "    path, target_size=(IMG_SIZE, IMG_SIZE)\n",
    ")\n",
    "img_array = keras.preprocessing.image.img_to_array(img)\n",
    "img_array = tf.expand_dims(img_array, 0) # Create a batch\n",
    "img_array = img_array/255\n",
    "predictions = model.predict(img_array)[0]\n",
    "\n",
    "print(\n",
    "    \"This image most likely belongs to {} with a {:.2f} percent confidence.\"\n",
    "    .format(np.argmax(predictions), 100 * np.max(predictions))\n",
    ")"
   ]
  }
 ],
 "metadata": {
  "interpreter": {
   "hash": "ad60775ae12af945b53c5c94c294ef05f229143b8585a0d23625a81e181fdccc"
  },
  "kernelspec": {
   "display_name": "Python 3.7.4 64-bit ('tf-gpu': conda)",
   "name": "python3"
  },
  "language_info": {
   "codemirror_mode": {
    "name": "ipython",
    "version": 3
   },
   "file_extension": ".py",
   "mimetype": "text/x-python",
   "name": "python",
   "nbconvert_exporter": "python",
   "pygments_lexer": "ipython3",
   "version": "3.7.4"
  }
 },
 "nbformat": 4,
 "nbformat_minor": 4
}
