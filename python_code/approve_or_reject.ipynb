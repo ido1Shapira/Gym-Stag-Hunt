{
 "cells": [
  {
   "cell_type": "code",
   "execution_count": 1,
   "metadata": {},
   "outputs": [
    {
     "name": "stdout",
     "output_type": "stream",
     "text": [
      "data/workers\\Batch_4746052_batch_results.csv\n",
      "data/workers\\Batch_4747316_batch_results.csv\n",
      "data/workers\\Batch_4755300_batch_results.csv\n",
      "data/workers\\Batch_4773198_batch_results.csv\n",
      "data/workers\\Batch_4785645_batch_results.csv\n",
      "data/workers\\Batch_4798030_batch_results.csv\n",
      "data/workers\\Batch_4800098_batch_results.csv\n"
     ]
    }
   ],
   "source": [
    "import glob\n",
    "import pandas as pd\n",
    "\n",
    "batch_file = 'data/workers\\Batch_4800098_batch_results.csv'\n",
    "\n",
    "path = 'data/workers' # use your path\n",
    "all_files = glob.glob(path + \"/*.csv\")\n",
    "\n",
    "li = []\n",
    "li_new = []\n",
    "for filename in all_files:\n",
    "    print(filename)\n",
    "    fromOne = pd.read_csv(filename, index_col=None, header=0)\n",
    "    fromOne['filename'] = filename\n",
    "    if filename == batch_file:\n",
    "        li_new.append(fromOne)\n",
    "    else:\n",
    "        li.append(fromOne)\n",
    "\n",
    "workers = pd.concat(li, axis=0, ignore_index=True)\n",
    "new_workers = pd.concat(li_new, axis=0, ignore_index=True)"
   ]
  },
  {
   "cell_type": "code",
   "execution_count": null,
   "metadata": {},
   "outputs": [],
   "source": []
  },
  {
   "cell_type": "markdown",
   "metadata": {},
   "source": [
    "### more then once at the last batch:"
   ]
  },
  {
   "cell_type": "code",
   "execution_count": 2,
   "metadata": {},
   "outputs": [
    {
     "data": {
      "text/plain": [
       "WorkerId\n",
       "A20Q74962UTGFP    2\n",
       "A3DFUI6OKBNNGI    2\n",
       "Name: HITId, dtype: int64"
      ]
     },
     "execution_count": 2,
     "metadata": {},
     "output_type": "execute_result"
    }
   ],
   "source": [
    "df_new = new_workers.groupby('WorkerId').count()\n",
    "df_new[df_new['HITId'] > 1]['HITId']"
   ]
  },
  {
   "cell_type": "code",
   "execution_count": 3,
   "metadata": {},
   "outputs": [
    {
     "data": {
      "text/plain": [
       "A3DFUI6OKBNNGI    2\n",
       "A20Q74962UTGFP    2\n",
       "Name: WorkerId, dtype: int64"
      ]
     },
     "execution_count": 3,
     "metadata": {},
     "output_type": "execute_result"
    }
   ],
   "source": [
    "new_workers['WorkerId'].value_counts()[new_workers['WorkerId'].value_counts() > 1]"
   ]
  },
  {
   "cell_type": "markdown",
   "metadata": {},
   "source": [
    "### the last batch against all batches"
   ]
  },
  {
   "cell_type": "code",
   "execution_count": 4,
   "metadata": {},
   "outputs": [
    {
     "data": {
      "text/plain": [
       "WorkerId\n",
       "A13B8594JIUFDF    1\n",
       "A1AOESAIFG8K9Y    1\n",
       "A1FHC4Z6QXDQSS    4\n",
       "A1FYZPVWWC808I    1\n",
       "A1J1NAQ0AMYUKC    2\n",
       "A1LTR868E1EOHC    1\n",
       "A1MRAER66G6Y5S    1\n",
       "A1V3SD73VTZW9L    1\n",
       "A20Q74962UTGFP    2\n",
       "A24GX1OZE6AY04    1\n",
       "A2Z2WC3DJQ38RH    2\n",
       "A35ZVN8ZE9M60P    2\n",
       "A3LZKK0PSS48DA    3\n",
       "A3UJY9UH888AYS    1\n",
       "A45HNDMV9V0NA     1\n",
       "ALYR5CI2SM2JC     1\n",
       "ARCZLTB18LD33     1\n",
       "Name: HITId_left, dtype: int64"
      ]
     },
     "execution_count": 4,
     "metadata": {},
     "output_type": "execute_result"
    }
   ],
   "source": [
    "df = workers.groupby('WorkerId').count()\n",
    "df.join(df_new, on='WorkerId', how='inner', lsuffix='_left', rsuffix='_right')['HITId_left']"
   ]
  },
  {
   "cell_type": "markdown",
   "metadata": {},
   "source": [
    "### more then once at all batches:"
   ]
  },
  {
   "cell_type": "code",
   "execution_count": 5,
   "metadata": {},
   "outputs": [
    {
     "data": {
      "text/plain": [
       "WorkerId\n",
       "A13B8594JIUFDF    2\n",
       "A1AOESAIFG8K9Y    2\n",
       "A1BPU6PHYCXFRT    2\n",
       "A1FHC4Z6QXDQSS    5\n",
       "A1FYZPVWWC808I    2\n",
       "A1J1NAQ0AMYUKC    3\n",
       "A1LTR868E1EOHC    2\n",
       "A1MRAER66G6Y5S    2\n",
       "A1V3SD73VTZW9L    2\n",
       "A20Q74962UTGFP    4\n",
       "A24GX1OZE6AY04    2\n",
       "A2Z2WC3DJQ38RH    3\n",
       "A304UJAE051J89    2\n",
       "A35ZVN8ZE9M60P    3\n",
       "A3DFUI6OKBNNGI    2\n",
       "A3LZKK0PSS48DA    4\n",
       "A3PN17H3QT51O     2\n",
       "A3UJY9UH888AYS    2\n",
       "A45HNDMV9V0NA     2\n",
       "ALETWRY765XRZ     2\n",
       "ALYR5CI2SM2JC     2\n",
       "ANBWJZYU2A68T     2\n",
       "ARCZLTB18LD33     2\n",
       "AXFP50XOZD2NI     3\n",
       "Name: HITId, dtype: int64"
      ]
     },
     "execution_count": 5,
     "metadata": {},
     "output_type": "execute_result"
    }
   ],
   "source": [
    "all_workers = pd.concat([workers, new_workers], axis=0, ignore_index=True)\n",
    "all = all_workers.groupby('WorkerId').count()\n",
    "all[all['HITId'] > 1]['HITId']"
   ]
  }
 ],
 "metadata": {
  "kernelspec": {
   "display_name": "Python 3.7.13 ('stag-hant')",
   "language": "python",
   "name": "python3"
  },
  "language_info": {
   "codemirror_mode": {
    "name": "ipython",
    "version": 3
   },
   "file_extension": ".py",
   "mimetype": "text/x-python",
   "name": "python",
   "nbconvert_exporter": "python",
   "pygments_lexer": "ipython3",
   "version": "3.7.13"
  },
  "orig_nbformat": 4,
  "vscode": {
   "interpreter": {
    "hash": "bd73217b333e8d25e6564ab2716c9d91929b650688d0a29ba1a40e12bb983f93"
   }
  }
 },
 "nbformat": 4,
 "nbformat_minor": 2
}
