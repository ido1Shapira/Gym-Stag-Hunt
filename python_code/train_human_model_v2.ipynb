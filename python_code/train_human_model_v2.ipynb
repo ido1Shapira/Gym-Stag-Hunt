{
 "cells": [
  {
   "cell_type": "code",
   "execution_count": 1,
   "metadata": {},
   "outputs": [],
   "source": [
    "import numpy as np\n",
    "import random\n",
    "import os\n",
    "os.environ['TF_CPP_MIN_LOG_LEVEL'] = '3'\n",
    "# os.environ['CUDA_VISIBLE_DEVICES'] = '-1'\n",
    "\n",
    "import shutil\n",
    "\n",
    "# ! pip install split-folders\n",
    "import splitfolders\n",
    "\n",
    "import tensorflow as tf\n",
    "from tensorflow import keras\n",
    "from tensorflow.keras import layers, regularizers\n",
    "from tensorflow.keras.models import Sequential\n",
    "from tensorflow.keras.optimizers import Adam\n",
    "\n",
    "from tensorflow.keras.preprocessing.image import ImageDataGenerator\n",
    "from tensorflow.keras.preprocessing import image\n",
    "\n",
    "import matplotlib.pyplot as plt\n",
    "\n",
    "rs = 42\n",
    "def reset_random_seeds(rs):\n",
    "   os.environ['PYTHONHASHSEED']=str(rs)\n",
    "   tf.random.set_seed(rs)\n",
    "   np.random.seed(rs)\n",
    "   random.seed(rs)\n",
    "reset_random_seeds(rs)"
   ]
  },
  {
   "cell_type": "markdown",
   "metadata": {},
   "source": [
    "remove prev saved database:"
   ]
  },
  {
   "cell_type": "code",
   "execution_count": 2,
   "metadata": {},
   "outputs": [],
   "source": [
    "dir_path = './data/humanModel/dataset_split'\n",
    "if os.path.exists(dir_path):\n",
    "    shutil.rmtree(dir_path)\n",
    "else:\n",
    "    print(\"File not found in the directory\")"
   ]
  },
  {
   "cell_type": "markdown",
   "metadata": {},
   "source": [
    "# Part 1 - Data Preprocessing"
   ]
  },
  {
   "cell_type": "markdown",
   "metadata": {},
   "source": [
    "## Split into train , test data"
   ]
  },
  {
   "cell_type": "code",
   "execution_count": 3,
   "metadata": {},
   "outputs": [
    {
     "name": "stderr",
     "output_type": "stream",
     "text": [
      "Copying files: 8949 files [00:00, 10339.69 files/s]\n"
     ]
    }
   ],
   "source": [
    "# train, test split\n",
    "splitfolders.ratio('./data/humanModel/dataset/', output=dir_path, ratio=(0.85, 0.15))"
   ]
  },
  {
   "cell_type": "markdown",
   "metadata": {},
   "source": [
    "### Preprocessing the Training set"
   ]
  },
  {
   "cell_type": "code",
   "execution_count": 4,
   "metadata": {},
   "outputs": [
    {
     "name": "stdout",
     "output_type": "stream",
     "text": [
      "Found 7605 images belonging to 2 classes.\n",
      "Found 1344 images belonging to 2 classes.\n"
     ]
    }
   ],
   "source": [
    "batch_size = 128\n",
    "IMG_SIZE = 5\n",
    "\n",
    "datagen = ImageDataGenerator(rescale = 1./255)\n",
    "train = datagen.flow_from_directory((dir_path+'/train'),\n",
    "                                          target_size = (IMG_SIZE,IMG_SIZE), batch_size = batch_size, seed=rs, class_mode='sparse')\n",
    "\n",
    "test = datagen.flow_from_directory((dir_path+'/val'),\n",
    "                                            target_size = (IMG_SIZE, IMG_SIZE), batch_size = batch_size, seed=rs, class_mode='sparse')"
   ]
  },
  {
   "cell_type": "code",
   "execution_count": 5,
   "metadata": {},
   "outputs": [],
   "source": [
    "classes_count = np.bincount(train.classes)"
   ]
  },
  {
   "cell_type": "code",
   "execution_count": 6,
   "metadata": {},
   "outputs": [
    {
     "name": "stdout",
     "output_type": "stream",
     "text": [
      "Weight for class 0: 1.13\n",
      "Weight for class 1: 0.89\n"
     ]
    }
   ],
   "source": [
    "# Scaling by total/2 helps keep the loss to a similar magnitude.\n",
    "# The sum of the weights of all examples stays the same.\n",
    "total = classes_count[0] + classes_count[1]\n",
    "weight_for_0 = (1 / classes_count[0])*(total)/2.0 \n",
    "weight_for_1 = (1 / classes_count[1])*(total)/2.0\n",
    "\n",
    "class_weight = {0: weight_for_0, 1: weight_for_1}\n",
    "\n",
    "print('Weight for class 0: {:.2f}'.format(weight_for_0))\n",
    "print('Weight for class 1: {:.2f}'.format(weight_for_1))"
   ]
  },
  {
   "cell_type": "markdown",
   "metadata": {},
   "source": [
    "## View some data"
   ]
  },
  {
   "cell_type": "code",
   "execution_count": 7,
   "metadata": {},
   "outputs": [],
   "source": [
    "num_classes = 2\n",
    "\n",
    "model = Sequential([\n",
    "  layers.Conv2D(4, 3, padding='same', activation='relu', kernel_regularizer=regularizers.l2(0.001), input_shape=[IMG_SIZE,IMG_SIZE,3]),\n",
    "  layers.Conv2D(8, 3, padding='same', activation='relu', kernel_regularizer=regularizers.l2(0.001)),\n",
    "  layers.Conv2D(16, 3, padding='same', activation='relu', kernel_regularizer=regularizers.l2(0.001)),\n",
    "  # layers.MaxPooling2D(),\n",
    "  layers.Conv2D(8, 2, padding='same', activation='relu', kernel_regularizer=regularizers.l2(0.001)),\n",
    "  layers.Dropout(0.5),\n",
    "  layers.Flatten(),\n",
    "  layers.Dense(64, activation='relu', kernel_regularizer=regularizers.l2(0.001)),\n",
    "  # layers.Dense(32, activation='relu', kernel_regularizer=regularizers.l2(0.001)),\n",
    "  layers.Dense(num_classes, activation='softmax')\n",
    "])"
   ]
  },
  {
   "cell_type": "code",
   "execution_count": 8,
   "metadata": {},
   "outputs": [],
   "source": [
    "model.compile(optimizer=\"adam\",\n",
    "              loss=tf.keras.losses.SparseCategoricalCrossentropy(from_logits=True),\n",
    "              metrics=['accuracy'])"
   ]
  },
  {
   "cell_type": "code",
   "execution_count": 9,
   "metadata": {},
   "outputs": [
    {
     "name": "stdout",
     "output_type": "stream",
     "text": [
      "Model: \"sequential\"\n",
      "_________________________________________________________________\n",
      "Layer (type)                 Output Shape              Param #   \n",
      "=================================================================\n",
      "conv2d (Conv2D)              (None, 5, 5, 4)           112       \n",
      "_________________________________________________________________\n",
      "conv2d_1 (Conv2D)            (None, 5, 5, 8)           296       \n",
      "_________________________________________________________________\n",
      "conv2d_2 (Conv2D)            (None, 5, 5, 16)          1168      \n",
      "_________________________________________________________________\n",
      "conv2d_3 (Conv2D)            (None, 5, 5, 8)           520       \n",
      "_________________________________________________________________\n",
      "dropout (Dropout)            (None, 5, 5, 8)           0         \n",
      "_________________________________________________________________\n",
      "flatten (Flatten)            (None, 200)               0         \n",
      "_________________________________________________________________\n",
      "dense (Dense)                (None, 64)                12864     \n",
      "_________________________________________________________________\n",
      "dense_1 (Dense)              (None, 2)                 130       \n",
      "=================================================================\n",
      "Total params: 15,090\n",
      "Trainable params: 15,090\n",
      "Non-trainable params: 0\n",
      "_________________________________________________________________\n"
     ]
    }
   ],
   "source": [
    "model.summary()"
   ]
  },
  {
   "cell_type": "code",
   "execution_count": 10,
   "metadata": {
    "scrolled": true
   },
   "outputs": [
    {
     "name": "stdout",
     "output_type": "stream",
     "text": [
      "Epoch 1/175\n"
     ]
    },
    {
     "name": "stderr",
     "output_type": "stream",
     "text": [
      "/home/ido/anaconda3/envs/tf-gpu/lib/python3.7/site-packages/keras/backend.py:4907: UserWarning: \"`sparse_categorical_crossentropy` received `from_logits=True`, but the `output` argument was produced by a sigmoid or softmax activation and thus does not represent logits. Was this intended?\"\n",
      "  '\"`sparse_categorical_crossentropy` received `from_logits=True`, but '\n"
     ]
    },
    {
     "name": "stdout",
     "output_type": "stream",
     "text": [
      "60/60 [==============================] - 2s 14ms/step - loss: 0.7824 - accuracy: 0.5206 - val_loss: 0.7549 - val_accuracy: 0.4412\n",
      "Epoch 2/175\n",
      "60/60 [==============================] - 1s 16ms/step - loss: 0.7370 - accuracy: 0.4961 - val_loss: 0.7228 - val_accuracy: 0.5491\n",
      "Epoch 3/175\n",
      "60/60 [==============================] - 1s 16ms/step - loss: 0.7169 - accuracy: 0.5290 - val_loss: 0.7114 - val_accuracy: 0.4814\n",
      "Epoch 4/175\n",
      "60/60 [==============================] - 1s 18ms/step - loss: 0.7069 - accuracy: 0.5120 - val_loss: 0.7025 - val_accuracy: 0.5640\n",
      "Epoch 5/175\n",
      "60/60 [==============================] - 1s 20ms/step - loss: 0.7018 - accuracy: 0.5320 - val_loss: 0.7016 - val_accuracy: 0.5089\n",
      "Epoch 6/175\n",
      "60/60 [==============================] - 1s 20ms/step - loss: 0.6976 - accuracy: 0.5233 - val_loss: 0.6885 - val_accuracy: 0.5647\n",
      "Epoch 7/175\n",
      "60/60 [==============================] - 1s 20ms/step - loss: 0.6956 - accuracy: 0.5314 - val_loss: 0.6876 - val_accuracy: 0.5744\n",
      "Epoch 8/175\n",
      "60/60 [==============================] - 1s 17ms/step - loss: 0.6934 - accuracy: 0.5416 - val_loss: 0.6854 - val_accuracy: 0.5640\n",
      "Epoch 9/175\n",
      "60/60 [==============================] - 1s 16ms/step - loss: 0.6920 - accuracy: 0.5398 - val_loss: 0.6832 - val_accuracy: 0.5588\n",
      "Epoch 10/175\n",
      "60/60 [==============================] - 1s 17ms/step - loss: 0.6877 - accuracy: 0.5569 - val_loss: 0.6859 - val_accuracy: 0.5513\n",
      "Epoch 11/175\n",
      "60/60 [==============================] - 1s 17ms/step - loss: 0.6880 - accuracy: 0.5490 - val_loss: 0.6952 - val_accuracy: 0.5327\n",
      "Epoch 12/175\n",
      "60/60 [==============================] - 1s 17ms/step - loss: 0.6852 - accuracy: 0.5641 - val_loss: 0.6930 - val_accuracy: 0.5461\n",
      "Epoch 13/175\n",
      "60/60 [==============================] - 1s 17ms/step - loss: 0.6815 - accuracy: 0.5708 - val_loss: 0.6669 - val_accuracy: 0.5923\n",
      "Epoch 14/175\n",
      "60/60 [==============================] - 1s 16ms/step - loss: 0.6792 - accuracy: 0.5694 - val_loss: 0.6705 - val_accuracy: 0.5744\n",
      "Epoch 15/175\n",
      "60/60 [==============================] - 1s 17ms/step - loss: 0.6756 - accuracy: 0.5828 - val_loss: 0.6588 - val_accuracy: 0.6101\n",
      "Epoch 16/175\n",
      "60/60 [==============================] - 1s 16ms/step - loss: 0.6692 - accuracy: 0.5964 - val_loss: 0.6509 - val_accuracy: 0.6109\n",
      "Epoch 17/175\n",
      "60/60 [==============================] - 1s 17ms/step - loss: 0.6652 - accuracy: 0.5946 - val_loss: 0.6506 - val_accuracy: 0.6250\n",
      "Epoch 18/175\n",
      "60/60 [==============================] - 1s 16ms/step - loss: 0.6549 - accuracy: 0.6179 - val_loss: 0.6553 - val_accuracy: 0.6086\n",
      "Epoch 19/175\n",
      "60/60 [==============================] - 1s 17ms/step - loss: 0.6517 - accuracy: 0.6193 - val_loss: 0.6405 - val_accuracy: 0.6265\n",
      "Epoch 20/175\n",
      "60/60 [==============================] - 1s 17ms/step - loss: 0.6516 - accuracy: 0.6222 - val_loss: 0.6417 - val_accuracy: 0.6339\n",
      "Epoch 21/175\n",
      "60/60 [==============================] - 1s 16ms/step - loss: 0.6432 - accuracy: 0.6352 - val_loss: 0.6708 - val_accuracy: 0.5938\n",
      "Epoch 22/175\n",
      "60/60 [==============================] - 1s 17ms/step - loss: 0.6367 - accuracy: 0.6497 - val_loss: 0.6521 - val_accuracy: 0.6257\n",
      "Epoch 23/175\n",
      "60/60 [==============================] - 1s 16ms/step - loss: 0.6311 - accuracy: 0.6501 - val_loss: 0.6405 - val_accuracy: 0.6488\n",
      "Epoch 24/175\n",
      "60/60 [==============================] - 1s 17ms/step - loss: 0.6266 - accuracy: 0.6564 - val_loss: 0.6147 - val_accuracy: 0.6659\n",
      "Epoch 25/175\n",
      "60/60 [==============================] - 1s 17ms/step - loss: 0.6220 - accuracy: 0.6597 - val_loss: 0.6217 - val_accuracy: 0.6607\n",
      "Epoch 26/175\n",
      "60/60 [==============================] - 1s 17ms/step - loss: 0.6180 - accuracy: 0.6631 - val_loss: 0.6088 - val_accuracy: 0.6704\n",
      "Epoch 27/175\n",
      "60/60 [==============================] - 1s 16ms/step - loss: 0.6164 - accuracy: 0.6673 - val_loss: 0.6084 - val_accuracy: 0.6667\n",
      "Epoch 28/175\n",
      "60/60 [==============================] - 1s 16ms/step - loss: 0.6136 - accuracy: 0.6756 - val_loss: 0.6118 - val_accuracy: 0.6711\n",
      "Epoch 29/175\n",
      "60/60 [==============================] - 1s 16ms/step - loss: 0.6068 - accuracy: 0.6765 - val_loss: 0.5943 - val_accuracy: 0.6801\n",
      "Epoch 30/175\n",
      "60/60 [==============================] - 1s 17ms/step - loss: 0.6036 - accuracy: 0.6832 - val_loss: 0.5902 - val_accuracy: 0.6823\n",
      "Epoch 31/175\n",
      "60/60 [==============================] - 1s 18ms/step - loss: 0.5974 - accuracy: 0.6885 - val_loss: 0.5894 - val_accuracy: 0.6882\n",
      "Epoch 32/175\n",
      "60/60 [==============================] - 1s 18ms/step - loss: 0.5951 - accuracy: 0.6941 - val_loss: 0.5929 - val_accuracy: 0.6778\n",
      "Epoch 33/175\n",
      "60/60 [==============================] - 1s 17ms/step - loss: 0.5937 - accuracy: 0.6889 - val_loss: 0.5922 - val_accuracy: 0.6793\n",
      "Epoch 34/175\n",
      "60/60 [==============================] - 1s 18ms/step - loss: 0.5919 - accuracy: 0.6874 - val_loss: 0.6131 - val_accuracy: 0.6763\n",
      "Epoch 35/175\n",
      "60/60 [==============================] - 1s 18ms/step - loss: 0.5912 - accuracy: 0.6919 - val_loss: 0.6045 - val_accuracy: 0.6860\n",
      "Epoch 36/175\n",
      "60/60 [==============================] - 1s 18ms/step - loss: 0.5912 - accuracy: 0.6903 - val_loss: 0.5967 - val_accuracy: 0.6927\n",
      "Epoch 37/175\n",
      "60/60 [==============================] - 1s 18ms/step - loss: 0.5886 - accuracy: 0.6980 - val_loss: 0.5781 - val_accuracy: 0.6912\n",
      "Epoch 38/175\n",
      "60/60 [==============================] - 1s 18ms/step - loss: 0.6000 - accuracy: 0.6860 - val_loss: 0.5842 - val_accuracy: 0.6875\n",
      "Epoch 39/175\n",
      "60/60 [==============================] - 1s 18ms/step - loss: 0.5855 - accuracy: 0.7006 - val_loss: 0.5937 - val_accuracy: 0.6897\n",
      "Epoch 40/175\n",
      "60/60 [==============================] - 1s 16ms/step - loss: 0.5830 - accuracy: 0.7024 - val_loss: 0.6019 - val_accuracy: 0.6897\n",
      "Epoch 41/175\n",
      "60/60 [==============================] - 1s 15ms/step - loss: 0.5836 - accuracy: 0.7018 - val_loss: 0.5760 - val_accuracy: 0.6897\n",
      "Epoch 42/175\n",
      "60/60 [==============================] - 1s 16ms/step - loss: 0.5789 - accuracy: 0.7077 - val_loss: 0.6041 - val_accuracy: 0.6897\n",
      "Epoch 43/175\n",
      "60/60 [==============================] - 1s 15ms/step - loss: 0.5775 - accuracy: 0.7080 - val_loss: 0.5764 - val_accuracy: 0.6935\n",
      "Epoch 44/175\n",
      "60/60 [==============================] - 1s 15ms/step - loss: 0.5781 - accuracy: 0.7082 - val_loss: 0.5846 - val_accuracy: 0.6868\n",
      "Epoch 45/175\n",
      "60/60 [==============================] - 1s 15ms/step - loss: 0.5771 - accuracy: 0.7072 - val_loss: 0.5734 - val_accuracy: 0.6935\n",
      "Epoch 46/175\n",
      "60/60 [==============================] - 1s 16ms/step - loss: 0.5767 - accuracy: 0.7103 - val_loss: 0.5745 - val_accuracy: 0.6882\n",
      "Epoch 47/175\n",
      "60/60 [==============================] - 1s 15ms/step - loss: 0.5721 - accuracy: 0.7141 - val_loss: 0.6038 - val_accuracy: 0.6942\n",
      "Epoch 48/175\n",
      "60/60 [==============================] - 1s 15ms/step - loss: 0.5740 - accuracy: 0.7122 - val_loss: 0.5782 - val_accuracy: 0.6972\n",
      "Epoch 49/175\n",
      "60/60 [==============================] - 1s 16ms/step - loss: 0.5726 - accuracy: 0.7143 - val_loss: 0.5791 - val_accuracy: 0.6994\n",
      "Epoch 50/175\n",
      "60/60 [==============================] - 1s 15ms/step - loss: 0.5697 - accuracy: 0.7099 - val_loss: 0.5878 - val_accuracy: 0.6957\n",
      "Epoch 51/175\n",
      "60/60 [==============================] - 1s 15ms/step - loss: 0.5712 - accuracy: 0.7152 - val_loss: 0.5728 - val_accuracy: 0.7009\n",
      "Epoch 52/175\n",
      "60/60 [==============================] - 1s 16ms/step - loss: 0.5697 - accuracy: 0.7160 - val_loss: 0.5726 - val_accuracy: 0.7001\n",
      "Epoch 53/175\n",
      "60/60 [==============================] - 1s 15ms/step - loss: 0.5654 - accuracy: 0.7176 - val_loss: 0.5800 - val_accuracy: 0.6994\n",
      "Epoch 54/175\n",
      "60/60 [==============================] - 1s 15ms/step - loss: 0.5676 - accuracy: 0.7155 - val_loss: 0.5763 - val_accuracy: 0.6897\n",
      "Epoch 55/175\n",
      "60/60 [==============================] - 1s 15ms/step - loss: 0.5748 - accuracy: 0.7116 - val_loss: 0.5874 - val_accuracy: 0.6972\n",
      "Epoch 56/175\n",
      "60/60 [==============================] - 1s 15ms/step - loss: 0.5651 - accuracy: 0.7201 - val_loss: 0.5829 - val_accuracy: 0.6979\n",
      "Epoch 57/175\n",
      "60/60 [==============================] - 1s 16ms/step - loss: 0.5668 - accuracy: 0.7186 - val_loss: 0.5745 - val_accuracy: 0.7031\n",
      "Epoch 58/175\n",
      "60/60 [==============================] - 1s 15ms/step - loss: 0.5655 - accuracy: 0.7141 - val_loss: 0.6044 - val_accuracy: 0.6853\n",
      "Epoch 59/175\n",
      "60/60 [==============================] - 1s 15ms/step - loss: 0.5629 - accuracy: 0.7224 - val_loss: 0.5984 - val_accuracy: 0.6987\n",
      "Epoch 60/175\n",
      "60/60 [==============================] - 1s 15ms/step - loss: 0.5655 - accuracy: 0.7183 - val_loss: 0.5832 - val_accuracy: 0.6994\n",
      "Epoch 61/175\n",
      "60/60 [==============================] - 1s 15ms/step - loss: 0.5609 - accuracy: 0.7233 - val_loss: 0.6067 - val_accuracy: 0.6868\n",
      "Epoch 62/175\n",
      "60/60 [==============================] - 1s 15ms/step - loss: 0.5605 - accuracy: 0.7240 - val_loss: 0.5717 - val_accuracy: 0.6994\n",
      "Epoch 63/175\n",
      "60/60 [==============================] - 1s 15ms/step - loss: 0.5587 - accuracy: 0.7229 - val_loss: 0.6058 - val_accuracy: 0.6920\n",
      "Epoch 64/175\n",
      "60/60 [==============================] - 1s 15ms/step - loss: 0.5618 - accuracy: 0.7216 - val_loss: 0.5720 - val_accuracy: 0.7031\n",
      "Epoch 65/175\n",
      "60/60 [==============================] - 1s 16ms/step - loss: 0.5576 - accuracy: 0.7277 - val_loss: 0.5798 - val_accuracy: 0.7054\n",
      "Epoch 66/175\n",
      "60/60 [==============================] - 1s 15ms/step - loss: 0.5576 - accuracy: 0.7266 - val_loss: 0.5655 - val_accuracy: 0.7046\n",
      "Epoch 67/175\n",
      "60/60 [==============================] - 1s 15ms/step - loss: 0.5581 - accuracy: 0.7283 - val_loss: 0.5751 - val_accuracy: 0.7039\n",
      "Epoch 68/175\n",
      "60/60 [==============================] - 1s 15ms/step - loss: 0.5586 - accuracy: 0.7294 - val_loss: 0.5898 - val_accuracy: 0.6994\n",
      "Epoch 69/175\n",
      "60/60 [==============================] - 1s 15ms/step - loss: 0.5560 - accuracy: 0.7269 - val_loss: 0.5768 - val_accuracy: 0.7031\n",
      "Epoch 70/175\n",
      "60/60 [==============================] - 1s 15ms/step - loss: 0.5556 - accuracy: 0.7257 - val_loss: 0.5670 - val_accuracy: 0.7046\n",
      "Epoch 71/175\n",
      "60/60 [==============================] - 1s 15ms/step - loss: 0.5539 - accuracy: 0.7300 - val_loss: 0.5753 - val_accuracy: 0.7054\n",
      "Epoch 72/175\n",
      "60/60 [==============================] - 1s 15ms/step - loss: 0.5572 - accuracy: 0.7298 - val_loss: 0.5689 - val_accuracy: 0.7091\n",
      "Epoch 73/175\n",
      "60/60 [==============================] - 1s 16ms/step - loss: 0.5537 - accuracy: 0.7298 - val_loss: 0.5686 - val_accuracy: 0.7091\n",
      "Epoch 74/175\n",
      "60/60 [==============================] - 1s 15ms/step - loss: 0.5536 - accuracy: 0.7287 - val_loss: 0.5675 - val_accuracy: 0.7121\n",
      "Epoch 75/175\n",
      "60/60 [==============================] - 1s 15ms/step - loss: 0.5541 - accuracy: 0.7281 - val_loss: 0.5835 - val_accuracy: 0.6994\n",
      "Epoch 76/175\n",
      "60/60 [==============================] - 1s 16ms/step - loss: 0.5528 - accuracy: 0.7293 - val_loss: 0.5902 - val_accuracy: 0.7068\n",
      "Epoch 77/175\n",
      "60/60 [==============================] - 1s 15ms/step - loss: 0.5542 - accuracy: 0.7248 - val_loss: 0.5748 - val_accuracy: 0.7106\n",
      "Epoch 78/175\n",
      "60/60 [==============================] - 1s 15ms/step - loss: 0.5510 - accuracy: 0.7339 - val_loss: 0.5660 - val_accuracy: 0.7188\n",
      "Epoch 79/175\n",
      "60/60 [==============================] - 1s 15ms/step - loss: 0.5545 - accuracy: 0.7318 - val_loss: 0.5655 - val_accuracy: 0.7091\n",
      "Epoch 80/175\n",
      "60/60 [==============================] - 1s 15ms/step - loss: 0.5465 - accuracy: 0.7344 - val_loss: 0.5766 - val_accuracy: 0.7024\n",
      "Epoch 81/175\n",
      "60/60 [==============================] - 1s 15ms/step - loss: 0.5592 - accuracy: 0.7208 - val_loss: 0.5677 - val_accuracy: 0.7083\n",
      "Epoch 82/175\n",
      "60/60 [==============================] - 1s 15ms/step - loss: 0.5484 - accuracy: 0.7320 - val_loss: 0.6001 - val_accuracy: 0.6935\n",
      "Epoch 83/175\n",
      "60/60 [==============================] - 1s 15ms/step - loss: 0.5523 - accuracy: 0.7295 - val_loss: 0.5776 - val_accuracy: 0.7001\n",
      "Epoch 84/175\n",
      "60/60 [==============================] - 1s 15ms/step - loss: 0.5528 - accuracy: 0.7304 - val_loss: 0.6353 - val_accuracy: 0.6778\n",
      "Epoch 85/175\n",
      "60/60 [==============================] - 1s 15ms/step - loss: 0.5475 - accuracy: 0.7345 - val_loss: 0.5664 - val_accuracy: 0.7143\n",
      "Epoch 86/175\n",
      "60/60 [==============================] - 1s 15ms/step - loss: 0.5430 - accuracy: 0.7352 - val_loss: 0.5762 - val_accuracy: 0.7054\n",
      "Epoch 87/175\n",
      "60/60 [==============================] - 1s 15ms/step - loss: 0.5449 - accuracy: 0.7407 - val_loss: 0.5617 - val_accuracy: 0.7217\n",
      "Epoch 88/175\n",
      "60/60 [==============================] - 1s 15ms/step - loss: 0.5491 - accuracy: 0.7291 - val_loss: 0.5653 - val_accuracy: 0.7009\n",
      "Epoch 89/175\n",
      "60/60 [==============================] - 1s 15ms/step - loss: 0.5519 - accuracy: 0.7321 - val_loss: 0.5809 - val_accuracy: 0.6979\n",
      "Epoch 90/175\n",
      "60/60 [==============================] - 1s 15ms/step - loss: 0.5472 - accuracy: 0.7354 - val_loss: 0.5841 - val_accuracy: 0.7024\n",
      "Epoch 91/175\n",
      "60/60 [==============================] - 1s 15ms/step - loss: 0.5483 - accuracy: 0.7344 - val_loss: 0.5630 - val_accuracy: 0.7202\n",
      "Epoch 92/175\n",
      "60/60 [==============================] - 1s 15ms/step - loss: 0.5436 - accuracy: 0.7417 - val_loss: 0.5646 - val_accuracy: 0.7068\n",
      "Epoch 93/175\n",
      "60/60 [==============================] - 1s 15ms/step - loss: 0.5519 - accuracy: 0.7303 - val_loss: 0.5617 - val_accuracy: 0.7158\n",
      "Epoch 94/175\n",
      "60/60 [==============================] - 1s 15ms/step - loss: 0.5455 - accuracy: 0.7410 - val_loss: 0.5804 - val_accuracy: 0.7098\n",
      "Epoch 95/175\n",
      "60/60 [==============================] - 1s 16ms/step - loss: 0.5450 - accuracy: 0.7378 - val_loss: 0.5645 - val_accuracy: 0.7158\n",
      "Epoch 96/175\n",
      "60/60 [==============================] - 1s 15ms/step - loss: 0.5404 - accuracy: 0.7408 - val_loss: 0.5641 - val_accuracy: 0.7217\n",
      "Epoch 97/175\n",
      "60/60 [==============================] - 1s 15ms/step - loss: 0.5458 - accuracy: 0.7368 - val_loss: 0.5624 - val_accuracy: 0.7210\n",
      "Epoch 98/175\n",
      "60/60 [==============================] - 1s 15ms/step - loss: 0.5398 - accuracy: 0.7415 - val_loss: 0.5732 - val_accuracy: 0.7106\n",
      "Epoch 99/175\n",
      "60/60 [==============================] - 1s 15ms/step - loss: 0.5446 - accuracy: 0.7345 - val_loss: 0.5729 - val_accuracy: 0.7150\n",
      "Epoch 100/175\n",
      "60/60 [==============================] - 1s 16ms/step - loss: 0.5488 - accuracy: 0.7331 - val_loss: 0.5636 - val_accuracy: 0.7106\n",
      "Epoch 101/175\n",
      "60/60 [==============================] - 1s 15ms/step - loss: 0.5406 - accuracy: 0.7366 - val_loss: 0.5643 - val_accuracy: 0.7240\n",
      "Epoch 102/175\n",
      "60/60 [==============================] - 1s 15ms/step - loss: 0.5448 - accuracy: 0.7420 - val_loss: 0.5820 - val_accuracy: 0.7098\n",
      "Epoch 103/175\n",
      "60/60 [==============================] - 1s 15ms/step - loss: 0.5395 - accuracy: 0.7419 - val_loss: 0.5991 - val_accuracy: 0.6957\n",
      "Epoch 104/175\n",
      "60/60 [==============================] - 1s 15ms/step - loss: 0.5422 - accuracy: 0.7364 - val_loss: 0.5677 - val_accuracy: 0.7165\n",
      "Epoch 105/175\n",
      "60/60 [==============================] - 1s 15ms/step - loss: 0.5392 - accuracy: 0.7419 - val_loss: 0.5637 - val_accuracy: 0.7098\n",
      "Epoch 106/175\n",
      "60/60 [==============================] - 1s 15ms/step - loss: 0.5442 - accuracy: 0.7386 - val_loss: 0.5699 - val_accuracy: 0.7106\n",
      "Epoch 107/175\n",
      "60/60 [==============================] - 1s 16ms/step - loss: 0.5389 - accuracy: 0.7456 - val_loss: 0.5895 - val_accuracy: 0.7061\n",
      "Epoch 108/175\n",
      "60/60 [==============================] - 1s 15ms/step - loss: 0.5388 - accuracy: 0.7435 - val_loss: 0.5603 - val_accuracy: 0.7262\n",
      "Epoch 109/175\n",
      "60/60 [==============================] - 1s 15ms/step - loss: 0.5347 - accuracy: 0.7471 - val_loss: 0.5732 - val_accuracy: 0.7143\n",
      "Epoch 110/175\n",
      "60/60 [==============================] - 1s 15ms/step - loss: 0.5397 - accuracy: 0.7415 - val_loss: 0.5656 - val_accuracy: 0.7225\n",
      "Epoch 111/175\n",
      "60/60 [==============================] - 1s 15ms/step - loss: 0.5356 - accuracy: 0.7454 - val_loss: 0.5871 - val_accuracy: 0.7054\n",
      "Epoch 112/175\n",
      "60/60 [==============================] - 1s 15ms/step - loss: 0.5353 - accuracy: 0.7471 - val_loss: 0.5599 - val_accuracy: 0.7247\n",
      "Epoch 113/175\n",
      "60/60 [==============================] - 1s 15ms/step - loss: 0.5362 - accuracy: 0.7479 - val_loss: 0.5635 - val_accuracy: 0.7210\n",
      "Epoch 114/175\n",
      "60/60 [==============================] - 1s 15ms/step - loss: 0.5395 - accuracy: 0.7419 - val_loss: 0.5864 - val_accuracy: 0.7091\n",
      "Epoch 115/175\n",
      "60/60 [==============================] - 1s 15ms/step - loss: 0.5337 - accuracy: 0.7477 - val_loss: 0.5724 - val_accuracy: 0.7195\n",
      "Epoch 116/175\n",
      "60/60 [==============================] - 1s 16ms/step - loss: 0.5336 - accuracy: 0.7462 - val_loss: 0.5612 - val_accuracy: 0.7202\n",
      "Epoch 117/175\n",
      "60/60 [==============================] - 1s 15ms/step - loss: 0.5361 - accuracy: 0.7450 - val_loss: 0.5664 - val_accuracy: 0.7180\n",
      "Epoch 118/175\n",
      "60/60 [==============================] - 1s 15ms/step - loss: 0.5402 - accuracy: 0.7433 - val_loss: 0.6221 - val_accuracy: 0.6808\n",
      "Epoch 119/175\n",
      "60/60 [==============================] - 1s 15ms/step - loss: 0.5386 - accuracy: 0.7386 - val_loss: 0.5825 - val_accuracy: 0.7106\n",
      "Epoch 120/175\n",
      "60/60 [==============================] - 1s 15ms/step - loss: 0.5332 - accuracy: 0.7474 - val_loss: 0.5633 - val_accuracy: 0.7225\n",
      "Epoch 121/175\n",
      "60/60 [==============================] - 1s 16ms/step - loss: 0.5358 - accuracy: 0.7450 - val_loss: 0.5688 - val_accuracy: 0.7232\n",
      "Epoch 122/175\n",
      "60/60 [==============================] - 1s 15ms/step - loss: 0.5363 - accuracy: 0.7424 - val_loss: 0.5958 - val_accuracy: 0.6994\n",
      "Epoch 123/175\n",
      "60/60 [==============================] - 1s 15ms/step - loss: 0.5382 - accuracy: 0.7435 - val_loss: 0.5592 - val_accuracy: 0.7195\n",
      "Epoch 124/175\n",
      "60/60 [==============================] - 1s 15ms/step - loss: 0.5329 - accuracy: 0.7503 - val_loss: 0.5578 - val_accuracy: 0.7225\n",
      "Epoch 125/175\n",
      "60/60 [==============================] - 1s 15ms/step - loss: 0.5345 - accuracy: 0.7477 - val_loss: 0.6020 - val_accuracy: 0.6972\n",
      "Epoch 126/175\n",
      "60/60 [==============================] - 1s 15ms/step - loss: 0.5343 - accuracy: 0.7449 - val_loss: 0.5898 - val_accuracy: 0.7083\n",
      "Epoch 127/175\n",
      "60/60 [==============================] - 1s 15ms/step - loss: 0.5405 - accuracy: 0.7368 - val_loss: 0.5727 - val_accuracy: 0.7173\n",
      "Epoch 128/175\n",
      "60/60 [==============================] - 1s 15ms/step - loss: 0.5309 - accuracy: 0.7479 - val_loss: 0.5605 - val_accuracy: 0.7277\n",
      "Epoch 129/175\n",
      "60/60 [==============================] - 1s 15ms/step - loss: 0.5309 - accuracy: 0.7507 - val_loss: 0.5629 - val_accuracy: 0.7240\n",
      "Epoch 130/175\n",
      "60/60 [==============================] - 1s 15ms/step - loss: 0.5317 - accuracy: 0.7500 - val_loss: 0.5657 - val_accuracy: 0.7277\n",
      "Epoch 131/175\n",
      "60/60 [==============================] - 1s 15ms/step - loss: 0.5318 - accuracy: 0.7481 - val_loss: 0.5630 - val_accuracy: 0.7314\n",
      "Epoch 132/175\n",
      "60/60 [==============================] - 1s 16ms/step - loss: 0.5333 - accuracy: 0.7458 - val_loss: 0.6235 - val_accuracy: 0.6830\n",
      "Epoch 133/175\n",
      "60/60 [==============================] - 1s 16ms/step - loss: 0.5344 - accuracy: 0.7474 - val_loss: 0.5674 - val_accuracy: 0.7314\n",
      "Epoch 134/175\n",
      "60/60 [==============================] - 1s 15ms/step - loss: 0.5379 - accuracy: 0.7439 - val_loss: 0.5608 - val_accuracy: 0.7217\n",
      "Epoch 135/175\n",
      "60/60 [==============================] - 1s 16ms/step - loss: 0.5301 - accuracy: 0.7507 - val_loss: 0.5580 - val_accuracy: 0.7254\n",
      "Epoch 136/175\n",
      "60/60 [==============================] - 1s 15ms/step - loss: 0.5282 - accuracy: 0.7517 - val_loss: 0.5702 - val_accuracy: 0.7210\n",
      "Epoch 137/175\n",
      "60/60 [==============================] - 1s 16ms/step - loss: 0.5414 - accuracy: 0.7400 - val_loss: 0.5616 - val_accuracy: 0.7277\n",
      "Epoch 138/175\n",
      "60/60 [==============================] - 1s 15ms/step - loss: 0.5319 - accuracy: 0.7524 - val_loss: 0.5671 - val_accuracy: 0.7277\n",
      "Epoch 139/175\n",
      "60/60 [==============================] - 1s 15ms/step - loss: 0.5290 - accuracy: 0.7471 - val_loss: 0.5622 - val_accuracy: 0.7314\n",
      "Epoch 140/175\n",
      "60/60 [==============================] - 1s 15ms/step - loss: 0.5313 - accuracy: 0.7496 - val_loss: 0.5595 - val_accuracy: 0.7269\n",
      "Epoch 141/175\n",
      "60/60 [==============================] - 1s 16ms/step - loss: 0.5312 - accuracy: 0.7516 - val_loss: 0.5579 - val_accuracy: 0.7225\n",
      "Epoch 142/175\n",
      "60/60 [==============================] - 1s 15ms/step - loss: 0.5328 - accuracy: 0.7446 - val_loss: 0.5601 - val_accuracy: 0.7240\n",
      "Epoch 143/175\n",
      "60/60 [==============================] - 1s 15ms/step - loss: 0.5330 - accuracy: 0.7494 - val_loss: 0.5601 - val_accuracy: 0.7314\n",
      "Epoch 144/175\n",
      "60/60 [==============================] - 1s 15ms/step - loss: 0.5366 - accuracy: 0.7457 - val_loss: 0.5602 - val_accuracy: 0.7329\n",
      "Epoch 145/175\n",
      "60/60 [==============================] - 1s 15ms/step - loss: 0.5265 - accuracy: 0.7542 - val_loss: 0.5674 - val_accuracy: 0.7217\n",
      "Epoch 146/175\n",
      "60/60 [==============================] - 1s 15ms/step - loss: 0.5293 - accuracy: 0.7490 - val_loss: 0.5748 - val_accuracy: 0.7113\n",
      "Epoch 147/175\n",
      "60/60 [==============================] - 1s 15ms/step - loss: 0.5291 - accuracy: 0.7528 - val_loss: 0.5656 - val_accuracy: 0.7269\n",
      "Epoch 148/175\n",
      "60/60 [==============================] - 1s 15ms/step - loss: 0.5294 - accuracy: 0.7531 - val_loss: 0.5706 - val_accuracy: 0.7277\n",
      "Epoch 149/175\n",
      "60/60 [==============================] - 1s 15ms/step - loss: 0.5337 - accuracy: 0.7504 - val_loss: 0.5551 - val_accuracy: 0.7232\n",
      "Epoch 150/175\n",
      "60/60 [==============================] - 1s 15ms/step - loss: 0.5313 - accuracy: 0.7462 - val_loss: 0.5687 - val_accuracy: 0.7254\n",
      "Epoch 151/175\n",
      "60/60 [==============================] - 1s 15ms/step - loss: 0.5272 - accuracy: 0.7500 - val_loss: 0.5606 - val_accuracy: 0.7269\n",
      "Epoch 152/175\n",
      "60/60 [==============================] - 1s 15ms/step - loss: 0.5266 - accuracy: 0.7520 - val_loss: 0.5659 - val_accuracy: 0.7254\n",
      "Epoch 153/175\n",
      "60/60 [==============================] - 1s 15ms/step - loss: 0.5242 - accuracy: 0.7558 - val_loss: 0.5607 - val_accuracy: 0.7292\n",
      "Epoch 154/175\n",
      "60/60 [==============================] - 1s 15ms/step - loss: 0.5228 - accuracy: 0.7560 - val_loss: 0.5728 - val_accuracy: 0.7232\n",
      "Epoch 155/175\n",
      "60/60 [==============================] - 1s 16ms/step - loss: 0.5297 - accuracy: 0.7478 - val_loss: 0.5772 - val_accuracy: 0.7217\n",
      "Epoch 156/175\n",
      "60/60 [==============================] - 1s 15ms/step - loss: 0.5215 - accuracy: 0.7560 - val_loss: 0.5665 - val_accuracy: 0.7232\n",
      "Epoch 157/175\n",
      "60/60 [==============================] - 1s 15ms/step - loss: 0.5272 - accuracy: 0.7541 - val_loss: 0.5660 - val_accuracy: 0.7269\n",
      "Epoch 158/175\n",
      "60/60 [==============================] - 1s 15ms/step - loss: 0.5329 - accuracy: 0.7465 - val_loss: 0.5730 - val_accuracy: 0.7254\n",
      "Epoch 159/175\n",
      "60/60 [==============================] - 1s 15ms/step - loss: 0.5213 - accuracy: 0.7540 - val_loss: 0.5690 - val_accuracy: 0.7225\n",
      "Epoch 160/175\n",
      "60/60 [==============================] - 1s 16ms/step - loss: 0.5259 - accuracy: 0.7542 - val_loss: 0.6122 - val_accuracy: 0.6935\n",
      "Epoch 161/175\n",
      "60/60 [==============================] - 1s 15ms/step - loss: 0.5288 - accuracy: 0.7519 - val_loss: 0.6503 - val_accuracy: 0.6652\n",
      "Epoch 162/175\n",
      "60/60 [==============================] - 1s 15ms/step - loss: 0.5319 - accuracy: 0.7523 - val_loss: 0.5602 - val_accuracy: 0.7269\n",
      "Epoch 163/175\n",
      "60/60 [==============================] - 1s 15ms/step - loss: 0.5260 - accuracy: 0.7536 - val_loss: 0.5612 - val_accuracy: 0.7284\n",
      "Epoch 164/175\n",
      "60/60 [==============================] - 1s 15ms/step - loss: 0.5343 - accuracy: 0.7441 - val_loss: 0.5689 - val_accuracy: 0.7046\n",
      "Epoch 165/175\n",
      "60/60 [==============================] - 1s 15ms/step - loss: 0.5326 - accuracy: 0.7510 - val_loss: 0.5666 - val_accuracy: 0.7217\n",
      "Epoch 166/175\n",
      "60/60 [==============================] - 1s 15ms/step - loss: 0.5308 - accuracy: 0.7507 - val_loss: 0.5701 - val_accuracy: 0.7217\n",
      "Epoch 167/175\n",
      "60/60 [==============================] - 1s 16ms/step - loss: 0.5272 - accuracy: 0.7527 - val_loss: 0.5612 - val_accuracy: 0.7262\n",
      "Epoch 168/175\n",
      "60/60 [==============================] - 1s 15ms/step - loss: 0.5256 - accuracy: 0.7558 - val_loss: 0.5662 - val_accuracy: 0.7225\n",
      "Epoch 169/175\n",
      "60/60 [==============================] - 1s 16ms/step - loss: 0.5252 - accuracy: 0.7552 - val_loss: 0.5654 - val_accuracy: 0.7225\n",
      "Epoch 170/175\n",
      "60/60 [==============================] - 1s 15ms/step - loss: 0.5304 - accuracy: 0.7511 - val_loss: 0.5639 - val_accuracy: 0.7262\n",
      "Epoch 171/175\n",
      "60/60 [==============================] - 1s 15ms/step - loss: 0.5255 - accuracy: 0.7546 - val_loss: 0.5613 - val_accuracy: 0.7210\n",
      "Epoch 172/175\n",
      "60/60 [==============================] - 1s 15ms/step - loss: 0.5182 - accuracy: 0.7644 - val_loss: 0.5607 - val_accuracy: 0.7307\n",
      "Epoch 173/175\n",
      "60/60 [==============================] - 1s 15ms/step - loss: 0.5261 - accuracy: 0.7533 - val_loss: 0.5591 - val_accuracy: 0.7247\n",
      "Epoch 174/175\n",
      "60/60 [==============================] - 1s 15ms/step - loss: 0.5324 - accuracy: 0.7436 - val_loss: 0.5617 - val_accuracy: 0.7307\n",
      "Epoch 175/175\n",
      "60/60 [==============================] - 1s 15ms/step - loss: 0.5211 - accuracy: 0.7579 - val_loss: 0.5656 - val_accuracy: 0.7254\n"
     ]
    }
   ],
   "source": [
    "epochs=175\n",
    "history = model.fit(\n",
    "  train,\n",
    "  validation_data=test,\n",
    "  epochs=epochs,\n",
    "  class_weight=class_weight\n",
    ")"
   ]
  },
  {
   "cell_type": "code",
   "execution_count": 11,
   "metadata": {},
   "outputs": [
    {
     "data": {
      "image/png": "[encoded data removed]",
      "text/plain": [
       "<Figure size 576x576 with 2 Axes>"
      ]
     },
     "metadata": {
      "needs_background": "light"
     },
     "output_type": "display_data"
    }
   ],
   "source": [
    "acc = history.history['accuracy']\n",
    "val_acc = history.history['val_accuracy']\n",
    "\n",
    "loss = history.history['loss']\n",
    "val_loss = history.history['val_loss']\n",
    "\n",
    "epochs_range = range(epochs)\n",
    "\n",
    "plt.figure(figsize=(8, 8))\n",
    "plt.subplot(1, 2, 1)\n",
    "plt.plot(epochs_range, acc, label='Training Accuracy')\n",
    "plt.plot(epochs_range, val_acc, label='Validation Accuracy')\n",
    "plt.legend(loc='lower right')\n",
    "plt.title('Training and Validation Accuracy')\n",
    "\n",
    "plt.subplot(1, 2, 2)\n",
    "plt.plot(epochs_range, loss, label='Training Loss')\n",
    "plt.plot(epochs_range, val_loss, label='Validation Loss')\n",
    "plt.legend(loc='upper right')\n",
    "plt.title('Training and Validation Loss')\n",
    "plt.show()"
   ]
  },
  {
   "cell_type": "code",
   "execution_count": 12,
   "metadata": {},
   "outputs": [
    {
     "name": "stdout",
     "output_type": "stream",
     "text": [
      "11/11 [==============================] - 0s 12ms/step - loss: 0.5656 - accuracy: 0.7254\n",
      "Test accuracy : 0.7254464030265808\n"
     ]
    }
   ],
   "source": [
    "loss, accuracy = model.evaluate(test)\n",
    "print('Test accuracy :', accuracy)"
   ]
  },
  {
   "cell_type": "code",
   "execution_count": 13,
   "metadata": {},
   "outputs": [
    {
     "name": "stdout",
     "output_type": "stream",
     "text": [
      "Precision:  0.60186416\n",
      "Recall:  0.565\n"
     ]
    }
   ],
   "source": [
    "y_pred = model.predict(test).argmax(axis=-1)\n",
    "y_true = test.classes\n",
    "\n",
    "m = tf.keras.metrics.Precision()\n",
    "m.update_state(y_pred, y_true)\n",
    "print(\"Precision: \" , m.result().numpy())\n",
    "\n",
    "m = tf.keras.metrics.Recall()\n",
    "m.update_state(y_pred, y_true)\n",
    "print(\"Recall: \" , m.result().numpy())"
   ]
  },
  {
   "cell_type": "code",
   "execution_count": 14,
   "metadata": {},
   "outputs": [
    {
     "data": {
      "text/plain": [
       "<tf.Tensor: shape=(2, 2), dtype=int32, numpy=\n",
       "array([[245, 299],\n",
       "       [348, 452]], dtype=int32)>"
      ]
     },
     "execution_count": 14,
     "metadata": {},
     "output_type": "execute_result"
    }
   ],
   "source": [
    "tf.math.confusion_matrix(y_pred, y_true)"
   ]
  },
  {
   "cell_type": "code",
   "execution_count": 15,
   "metadata": {},
   "outputs": [],
   "source": [
    "# Save the weights model.\n",
    "model.save('./data/humanModel/model_v2.h5')"
   ]
  },
  {
   "cell_type": "code",
   "execution_count": 16,
   "metadata": {},
   "outputs": [],
   "source": [
    "# save model in js format\n",
    "# import tensorflowjs as tfjs\n",
    "# tfjs.converters.save_keras_model(model, 'data/humanModel/js_model_v0')"
   ]
  },
  {
   "cell_type": "code",
   "execution_count": 17,
   "metadata": {},
   "outputs": [],
   "source": [
    "# new_model = tf.keras.models.load_model('./data/humanModel/mode_v0')\n",
    "\n",
    "# # Check its architecture\n",
    "# new_model.summary()"
   ]
  },
  {
   "cell_type": "markdown",
   "metadata": {},
   "source": [
    "### Predict on new data"
   ]
  },
  {
   "cell_type": "code",
   "execution_count": 18,
   "metadata": {},
   "outputs": [
    {
     "data": {
      "image/png": "[encoded data removed]",
      "text/plain": [
       "<Figure size 432x288 with 1 Axes>"
      ]
     },
     "metadata": {
      "needs_background": "light"
     },
     "output_type": "display_data"
    },
    {
     "name": "stdout",
     "output_type": "stream",
     "text": [
      "This image most likely belongs to closest_bush with a 86.47 percent confidence.\n",
      "True class is closest_bush.\n"
     ]
    }
   ],
   "source": [
    "import glob\n",
    "\n",
    "classes = ['closest_bush', 'follow_stag']\n",
    "random_class = random.choice(classes)\n",
    "\n",
    "path = \"./data/humanModel/dataset_split/val/\"+random_class\n",
    "all_images_path = glob.glob(path + \"/*.png\")\n",
    "random_path = random.choice(all_images_path)\n",
    "\n",
    "import matplotlib.pyplot as plt\n",
    "import matplotlib.image as mpimg\n",
    "img = mpimg.imread(random_path)\n",
    "imgplot = plt.imshow(img)\n",
    "plt.show()\n",
    "\n",
    "img = keras.preprocessing.image.load_img(\n",
    "    random_path, target_size=(IMG_SIZE, IMG_SIZE)\n",
    ")\n",
    "img_array = keras.preprocessing.image.img_to_array(img)\n",
    "img_array = tf.expand_dims(img_array, 0) # Create a batch\n",
    "img_array = img_array/255\n",
    "\n",
    "predictions = model.predict(img_array)[0]\n",
    "\n",
    "\n",
    "print(\n",
    "    \"This image most likely belongs to {} with a {:.2f} percent confidence.\"\n",
    "    .format(classes[np.argmax(predictions)], 100 * np.max(predictions))\n",
    ")\n",
    "print(\"True class is {}.\".format(random_class))"
   ]
  }
 ],
 "metadata": {
  "kernelspec": {
   "display_name": "Python 3.7.4 ('tf-gpu')",
   "language": "python",
   "name": "python3"
  },
  "language_info": {
   "codemirror_mode": {
    "name": "ipython",
    "version": 3
   },
   "file_extension": ".py",
   "mimetype": "text/x-python",
   "name": "python",
   "nbconvert_exporter": "python",
   "pygments_lexer": "ipython3",
   "version": "3.7.4"
  },
  "vscode": {
   "interpreter": {
    "hash": "ad60775ae12af945b53c5c94c294ef05f229143b8585a0d23625a81e181fdccc"
   }
  }
 },
 "nbformat": 4,
 "nbformat_minor": 4
}
