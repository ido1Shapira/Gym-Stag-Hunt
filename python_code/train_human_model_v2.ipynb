{
 "cells": [
  {
   "cell_type": "code",
   "execution_count": 1,
   "metadata": {},
   "outputs": [],
   "source": [
    "import numpy as np\n",
    "import random\n",
    "import os\n",
    "os.environ['TF_CPP_MIN_LOG_LEVEL'] = '3'\n",
    "# os.environ['CUDA_VISIBLE_DEVICES'] = '-1'\n",
    "\n",
    "import shutil\n",
    "\n",
    "# ! pip install split-folders\n",
    "import splitfolders\n",
    "\n",
    "import tensorflow as tf\n",
    "from tensorflow import keras\n",
    "from tensorflow.keras import layers, regularizers\n",
    "from tensorflow.keras.models import Sequential\n",
    "\n",
    "from tensorflow.keras.preprocessing.image import ImageDataGenerator\n",
    "from tensorflow.keras.preprocessing import image\n",
    "\n",
    "import matplotlib.pyplot as plt\n",
    "\n",
    "rs = 42\n",
    "def reset_random_seeds(rs):\n",
    "   os.environ['PYTHONHASHSEED']=str(rs)\n",
    "   tf.random.set_seed(rs)\n",
    "   np.random.seed(rs)\n",
    "   random.seed(rs)\n",
    "reset_random_seeds(rs)"
   ]
  },
  {
   "cell_type": "markdown",
   "metadata": {},
   "source": [
    "remove prev saved database:"
   ]
  },
  {
   "cell_type": "code",
   "execution_count": 2,
   "metadata": {},
   "outputs": [],
   "source": [
    "dir_path = './data/humanModel/dataset_split'\n",
    "if os.path.exists(dir_path):\n",
    "    shutil.rmtree(dir_path)\n",
    "else:\n",
    "    print(\"File not found in the directory\")"
   ]
  },
  {
   "cell_type": "markdown",
   "metadata": {},
   "source": [
    "# Part 1 - Data Preprocessing"
   ]
  },
  {
   "cell_type": "markdown",
   "metadata": {},
   "source": [
    "## Split into train , test data"
   ]
  },
  {
   "cell_type": "code",
   "execution_count": 3,
   "metadata": {},
   "outputs": [
    {
     "name": "stderr",
     "output_type": "stream",
     "text": [
      "Copying files: 8007 files [00:00, 13550.09 files/s]\n"
     ]
    }
   ],
   "source": [
    "# train, test split\n",
    "splitfolders.ratio('./data/humanModel/dataset/', output=dir_path, ratio=(0.85, 0.15))"
   ]
  },
  {
   "cell_type": "markdown",
   "metadata": {},
   "source": [
    "### Preprocessing the Training set"
   ]
  },
  {
   "cell_type": "code",
   "execution_count": 4,
   "metadata": {},
   "outputs": [
    {
     "name": "stdout",
     "output_type": "stream",
     "text": [
      "Found 6805 images belonging to 2 classes.\n",
      "Found 1202 images belonging to 2 classes.\n"
     ]
    }
   ],
   "source": [
    "batch_size = 128\n",
    "IMG_SIZE = 5\n",
    "\n",
    "datagen = ImageDataGenerator(rescale = 1./255)\n",
    "train = datagen.flow_from_directory((dir_path+'/train'),\n",
    "                                          target_size = (IMG_SIZE,IMG_SIZE), batch_size = batch_size, seed=rs, class_mode='sparse')\n",
    "\n",
    "test = datagen.flow_from_directory((dir_path+'/val'),\n",
    "                                            target_size = (IMG_SIZE, IMG_SIZE), batch_size = batch_size, seed=rs, class_mode='sparse')"
   ]
  },
  {
   "cell_type": "code",
   "execution_count": 5,
   "metadata": {},
   "outputs": [],
   "source": [
    "classes_count = np.bincount(train.classes)"
   ]
  },
  {
   "cell_type": "code",
   "execution_count": 6,
   "metadata": {},
   "outputs": [
    {
     "name": "stdout",
     "output_type": "stream",
     "text": [
      "Weight for class 0: 1.11\n",
      "Weight for class 1: 0.91\n"
     ]
    }
   ],
   "source": [
    "# Scaling by total/2 helps keep the loss to a similar magnitude.\n",
    "# The sum of the weights of all examples stays the same.\n",
    "total = classes_count[0] + classes_count[1]\n",
    "weight_for_0 = (1 / classes_count[0])*(total)/2.0 \n",
    "weight_for_1 = (1 / classes_count[1])*(total)/2.0\n",
    "\n",
    "class_weight = {0: weight_for_0, 1: weight_for_1}\n",
    "\n",
    "print('Weight for class 0: {:.2f}'.format(weight_for_0))\n",
    "print('Weight for class 1: {:.2f}'.format(weight_for_1))"
   ]
  },
  {
   "cell_type": "markdown",
   "metadata": {},
   "source": [
    "## View some data"
   ]
  },
  {
   "cell_type": "code",
   "execution_count": 7,
   "metadata": {},
   "outputs": [],
   "source": [
    "num_classes = 4\n",
    "\n",
    "model = Sequential([\n",
    "  layers.Conv2D(4, 3, padding='same', activation='relu', kernel_regularizer=regularizers.l2(0.001), input_shape=[IMG_SIZE,IMG_SIZE,3]),\n",
    "  layers.Conv2D(8, 3, padding='same', activation='relu', kernel_regularizer=regularizers.l2(0.001)),\n",
    "  # layers.MaxPooling2D(),\n",
    "  layers.Conv2D(8, 2, padding='same', activation='relu', kernel_regularizer=regularizers.l2(0.001)),\n",
    "  layers.Dropout(0.5),\n",
    "  layers.Flatten(),\n",
    "  layers.Dense(64, activation='relu', kernel_regularizer=regularizers.l2(0.001)),\n",
    "  layers.Dense(num_classes, activation='softmax')\n",
    "])"
   ]
  },
  {
   "cell_type": "code",
   "execution_count": 8,
   "metadata": {},
   "outputs": [],
   "source": [
    "model.compile(optimizer='adam',\n",
    "              loss=tf.keras.losses.SparseCategoricalCrossentropy(from_logits=False),\n",
    "              metrics=['accuracy'])"
   ]
  },
  {
   "cell_type": "code",
   "execution_count": 9,
   "metadata": {},
   "outputs": [
    {
     "name": "stdout",
     "output_type": "stream",
     "text": [
      "Model: \"sequential\"\n",
      "_________________________________________________________________\n",
      "Layer (type)                 Output Shape              Param #   \n",
      "=================================================================\n",
      "conv2d (Conv2D)              (None, 5, 5, 4)           112       \n",
      "_________________________________________________________________\n",
      "conv2d_1 (Conv2D)            (None, 5, 5, 8)           296       \n",
      "_________________________________________________________________\n",
      "conv2d_2 (Conv2D)            (None, 5, 5, 8)           264       \n",
      "_________________________________________________________________\n",
      "dropout (Dropout)            (None, 5, 5, 8)           0         \n",
      "_________________________________________________________________\n",
      "flatten (Flatten)            (None, 200)               0         \n",
      "_________________________________________________________________\n",
      "dense (Dense)                (None, 64)                12864     \n",
      "_________________________________________________________________\n",
      "dense_1 (Dense)              (None, 4)                 260       \n",
      "=================================================================\n",
      "Total params: 13,796\n",
      "Trainable params: 13,796\n",
      "Non-trainable params: 0\n",
      "_________________________________________________________________\n"
     ]
    }
   ],
   "source": [
    "model.summary()"
   ]
  },
  {
   "cell_type": "code",
   "execution_count": 10,
   "metadata": {
    "scrolled": true
   },
   "outputs": [
    {
     "name": "stdout",
     "output_type": "stream",
     "text": [
      "Epoch 1/175\n",
      "54/54 [==============================] - 2s 15ms/step - loss: 1.0060 - accuracy: 0.4732 - val_loss: 0.7722 - val_accuracy: 0.5499\n",
      "Epoch 2/175\n",
      "54/54 [==============================] - 1s 17ms/step - loss: 0.7851 - accuracy: 0.5036 - val_loss: 0.7621 - val_accuracy: 0.5599\n",
      "Epoch 3/175\n",
      "54/54 [==============================] - 1s 18ms/step - loss: 0.7612 - accuracy: 0.5171 - val_loss: 0.7434 - val_accuracy: 0.5483\n",
      "Epoch 4/175\n",
      "54/54 [==============================] - 1s 19ms/step - loss: 0.7521 - accuracy: 0.5212 - val_loss: 0.7381 - val_accuracy: 0.5466\n",
      "Epoch 5/175\n",
      "54/54 [==============================] - 1s 24ms/step - loss: 0.7451 - accuracy: 0.5223 - val_loss: 0.7356 - val_accuracy: 0.5699\n",
      "Epoch 6/175\n",
      "54/54 [==============================] - 1s 25ms/step - loss: 0.7368 - accuracy: 0.5231 - val_loss: 0.7259 - val_accuracy: 0.5591\n",
      "Epoch 7/175\n",
      "54/54 [==============================] - 1s 25ms/step - loss: 0.7337 - accuracy: 0.5284 - val_loss: 0.7215 - val_accuracy: 0.5458\n",
      "Epoch 8/175\n",
      "54/54 [==============================] - 1s 24ms/step - loss: 0.7294 - accuracy: 0.5280 - val_loss: 0.7177 - val_accuracy: 0.5649\n",
      "Epoch 9/175\n",
      "54/54 [==============================] - 1s 20ms/step - loss: 0.7261 - accuracy: 0.5296 - val_loss: 0.7222 - val_accuracy: 0.5483\n",
      "Epoch 10/175\n",
      "54/54 [==============================] - 1s 18ms/step - loss: 0.7225 - accuracy: 0.5312 - val_loss: 0.7151 - val_accuracy: 0.5632\n",
      "Epoch 11/175\n",
      "54/54 [==============================] - 1s 18ms/step - loss: 0.7192 - accuracy: 0.5402 - val_loss: 0.7154 - val_accuracy: 0.5491\n",
      "Epoch 12/175\n",
      "54/54 [==============================] - 1s 18ms/step - loss: 0.7173 - accuracy: 0.5449 - val_loss: 0.7169 - val_accuracy: 0.5383\n",
      "Epoch 13/175\n",
      "54/54 [==============================] - 1s 17ms/step - loss: 0.7129 - accuracy: 0.5475 - val_loss: 0.7185 - val_accuracy: 0.5341\n",
      "Epoch 14/175\n",
      "54/54 [==============================] - 1s 17ms/step - loss: 0.7127 - accuracy: 0.5437 - val_loss: 0.7063 - val_accuracy: 0.5624\n",
      "Epoch 15/175\n",
      "54/54 [==============================] - 1s 17ms/step - loss: 0.7104 - accuracy: 0.5459 - val_loss: 0.7084 - val_accuracy: 0.5491\n",
      "Epoch 16/175\n",
      "54/54 [==============================] - 1s 17ms/step - loss: 0.7053 - accuracy: 0.5653 - val_loss: 0.7309 - val_accuracy: 0.4967\n",
      "Epoch 17/175\n",
      "54/54 [==============================] - 1s 17ms/step - loss: 0.7067 - accuracy: 0.5449 - val_loss: 0.6991 - val_accuracy: 0.5674\n",
      "Epoch 18/175\n",
      "54/54 [==============================] - 1s 17ms/step - loss: 0.7057 - accuracy: 0.5561 - val_loss: 0.6950 - val_accuracy: 0.5674\n",
      "Epoch 19/175\n",
      "54/54 [==============================] - 1s 17ms/step - loss: 0.7052 - accuracy: 0.5464 - val_loss: 0.6965 - val_accuracy: 0.5699\n",
      "Epoch 20/175\n",
      "54/54 [==============================] - 1s 17ms/step - loss: 0.7036 - accuracy: 0.5555 - val_loss: 0.7048 - val_accuracy: 0.5566\n",
      "Epoch 21/175\n",
      "54/54 [==============================] - 1s 17ms/step - loss: 0.7014 - accuracy: 0.5590 - val_loss: 0.6927 - val_accuracy: 0.5666\n",
      "Epoch 22/175\n",
      "54/54 [==============================] - 1s 17ms/step - loss: 0.6980 - accuracy: 0.5625 - val_loss: 0.6993 - val_accuracy: 0.5624\n",
      "Epoch 23/175\n",
      "54/54 [==============================] - 1s 17ms/step - loss: 0.6977 - accuracy: 0.5608 - val_loss: 0.6952 - val_accuracy: 0.5699\n",
      "Epoch 24/175\n",
      "54/54 [==============================] - 1s 16ms/step - loss: 0.6969 - accuracy: 0.5605 - val_loss: 0.6996 - val_accuracy: 0.5557\n",
      "Epoch 25/175\n",
      "54/54 [==============================] - 1s 16ms/step - loss: 0.6974 - accuracy: 0.5572 - val_loss: 0.6851 - val_accuracy: 0.5616\n",
      "Epoch 26/175\n",
      "54/54 [==============================] - 1s 18ms/step - loss: 0.6928 - accuracy: 0.5708 - val_loss: 0.6942 - val_accuracy: 0.5715\n",
      "Epoch 27/175\n",
      "54/54 [==============================] - 1s 19ms/step - loss: 0.6902 - accuracy: 0.5681 - val_loss: 0.6946 - val_accuracy: 0.5707\n",
      "Epoch 28/175\n",
      "54/54 [==============================] - 1s 19ms/step - loss: 0.6941 - accuracy: 0.5602 - val_loss: 0.6987 - val_accuracy: 0.5516\n",
      "Epoch 29/175\n",
      "54/54 [==============================] - 1s 17ms/step - loss: 0.6936 - accuracy: 0.5565 - val_loss: 0.6944 - val_accuracy: 0.5599\n",
      "Epoch 30/175\n",
      "54/54 [==============================] - 1s 17ms/step - loss: 0.6895 - accuracy: 0.5756 - val_loss: 0.6770 - val_accuracy: 0.5724\n",
      "Epoch 31/175\n",
      "54/54 [==============================] - 1s 17ms/step - loss: 0.6900 - accuracy: 0.5724 - val_loss: 0.6831 - val_accuracy: 0.5965\n",
      "Epoch 32/175\n",
      "54/54 [==============================] - 1s 16ms/step - loss: 0.6884 - accuracy: 0.5662 - val_loss: 0.6784 - val_accuracy: 0.5849\n",
      "Epoch 33/175\n",
      "54/54 [==============================] - 1s 17ms/step - loss: 0.6821 - accuracy: 0.5840 - val_loss: 0.6795 - val_accuracy: 0.5882\n",
      "Epoch 34/175\n",
      "54/54 [==============================] - 1s 16ms/step - loss: 0.6812 - accuracy: 0.5850 - val_loss: 0.6814 - val_accuracy: 0.5807\n",
      "Epoch 35/175\n",
      "54/54 [==============================] - 1s 17ms/step - loss: 0.6823 - accuracy: 0.5777 - val_loss: 0.6795 - val_accuracy: 0.5865\n",
      "Epoch 36/175\n",
      "54/54 [==============================] - 1s 18ms/step - loss: 0.6804 - accuracy: 0.5775 - val_loss: 0.6688 - val_accuracy: 0.5915\n",
      "Epoch 37/175\n",
      "54/54 [==============================] - 1s 18ms/step - loss: 0.6814 - accuracy: 0.5878 - val_loss: 0.6697 - val_accuracy: 0.5899\n",
      "Epoch 38/175\n",
      "54/54 [==============================] - 1s 18ms/step - loss: 0.6793 - accuracy: 0.5900 - val_loss: 0.6653 - val_accuracy: 0.5965\n",
      "Epoch 39/175\n",
      "54/54 [==============================] - 1s 17ms/step - loss: 0.6806 - accuracy: 0.5852 - val_loss: 0.6847 - val_accuracy: 0.5699\n",
      "Epoch 40/175\n",
      "54/54 [==============================] - 1s 18ms/step - loss: 0.6750 - accuracy: 0.5922 - val_loss: 0.6728 - val_accuracy: 0.5957\n",
      "Epoch 41/175\n",
      "54/54 [==============================] - 1s 17ms/step - loss: 0.6759 - accuracy: 0.5924 - val_loss: 0.6616 - val_accuracy: 0.6090\n",
      "Epoch 42/175\n",
      "54/54 [==============================] - 1s 18ms/step - loss: 0.6764 - accuracy: 0.5884 - val_loss: 0.6679 - val_accuracy: 0.5948\n",
      "Epoch 43/175\n",
      "54/54 [==============================] - 1s 18ms/step - loss: 0.6730 - accuracy: 0.5866 - val_loss: 0.6631 - val_accuracy: 0.6023\n",
      "Epoch 44/175\n",
      "54/54 [==============================] - 1s 19ms/step - loss: 0.6707 - accuracy: 0.5950 - val_loss: 0.6623 - val_accuracy: 0.5982\n",
      "Epoch 45/175\n",
      "54/54 [==============================] - 1s 18ms/step - loss: 0.6684 - accuracy: 0.5938 - val_loss: 0.6553 - val_accuracy: 0.6090\n",
      "Epoch 46/175\n",
      "54/54 [==============================] - 1s 18ms/step - loss: 0.6673 - accuracy: 0.6040 - val_loss: 0.6549 - val_accuracy: 0.6190\n",
      "Epoch 47/175\n",
      "54/54 [==============================] - 1s 18ms/step - loss: 0.6654 - accuracy: 0.6122 - val_loss: 0.6541 - val_accuracy: 0.5998\n",
      "Epoch 48/175\n",
      "54/54 [==============================] - 1s 16ms/step - loss: 0.6610 - accuracy: 0.6112 - val_loss: 0.6476 - val_accuracy: 0.6106\n",
      "Epoch 49/175\n",
      "54/54 [==============================] - 1s 15ms/step - loss: 0.6601 - accuracy: 0.6198 - val_loss: 0.6496 - val_accuracy: 0.6106\n",
      "Epoch 50/175\n",
      "54/54 [==============================] - 1s 15ms/step - loss: 0.6569 - accuracy: 0.6206 - val_loss: 0.6643 - val_accuracy: 0.6082\n",
      "Epoch 51/175\n",
      "54/54 [==============================] - 1s 15ms/step - loss: 0.6564 - accuracy: 0.6178 - val_loss: 0.6531 - val_accuracy: 0.6173\n",
      "Epoch 52/175\n",
      "54/54 [==============================] - 1s 15ms/step - loss: 0.6601 - accuracy: 0.6143 - val_loss: 0.6535 - val_accuracy: 0.6181\n",
      "Epoch 53/175\n",
      "54/54 [==============================] - 1s 15ms/step - loss: 0.6530 - accuracy: 0.6319 - val_loss: 0.6398 - val_accuracy: 0.6231\n",
      "Epoch 54/175\n",
      "54/54 [==============================] - 1s 15ms/step - loss: 0.6498 - accuracy: 0.6334 - val_loss: 0.6408 - val_accuracy: 0.6248\n",
      "Epoch 55/175\n",
      "54/54 [==============================] - 1s 15ms/step - loss: 0.6483 - accuracy: 0.6309 - val_loss: 0.6377 - val_accuracy: 0.6173\n",
      "Epoch 56/175\n",
      "54/54 [==============================] - 1s 15ms/step - loss: 0.6446 - accuracy: 0.6406 - val_loss: 0.6473 - val_accuracy: 0.6215\n",
      "Epoch 57/175\n",
      "54/54 [==============================] - 1s 15ms/step - loss: 0.6449 - accuracy: 0.6309 - val_loss: 0.6490 - val_accuracy: 0.6215\n",
      "Epoch 58/175\n",
      "54/54 [==============================] - 1s 15ms/step - loss: 0.6390 - accuracy: 0.6417 - val_loss: 0.6488 - val_accuracy: 0.6156\n",
      "Epoch 59/175\n",
      "54/54 [==============================] - 1s 15ms/step - loss: 0.6392 - accuracy: 0.6438 - val_loss: 0.6659 - val_accuracy: 0.5890\n",
      "Epoch 60/175\n",
      "54/54 [==============================] - 1s 15ms/step - loss: 0.6381 - accuracy: 0.6463 - val_loss: 0.6335 - val_accuracy: 0.6398\n",
      "Epoch 61/175\n",
      "54/54 [==============================] - 1s 15ms/step - loss: 0.6343 - accuracy: 0.6547 - val_loss: 0.6251 - val_accuracy: 0.6481\n",
      "Epoch 62/175\n",
      "54/54 [==============================] - 1s 16ms/step - loss: 0.6381 - accuracy: 0.6416 - val_loss: 0.6286 - val_accuracy: 0.6489\n",
      "Epoch 63/175\n",
      "54/54 [==============================] - 1s 16ms/step - loss: 0.6254 - accuracy: 0.6569 - val_loss: 0.6196 - val_accuracy: 0.6506\n",
      "Epoch 64/175\n",
      "54/54 [==============================] - 1s 16ms/step - loss: 0.6234 - accuracy: 0.6575 - val_loss: 0.6205 - val_accuracy: 0.6539\n",
      "Epoch 65/175\n",
      "54/54 [==============================] - 1s 15ms/step - loss: 0.6217 - accuracy: 0.6538 - val_loss: 0.6259 - val_accuracy: 0.6489\n",
      "Epoch 66/175\n",
      "54/54 [==============================] - 1s 16ms/step - loss: 0.6244 - accuracy: 0.6658 - val_loss: 0.6144 - val_accuracy: 0.6672\n",
      "Epoch 67/175\n",
      "54/54 [==============================] - 1s 15ms/step - loss: 0.6192 - accuracy: 0.6616 - val_loss: 0.6137 - val_accuracy: 0.6547\n",
      "Epoch 68/175\n",
      "54/54 [==============================] - 1s 15ms/step - loss: 0.6205 - accuracy: 0.6707 - val_loss: 0.6164 - val_accuracy: 0.6589\n",
      "Epoch 69/175\n",
      "54/54 [==============================] - 1s 15ms/step - loss: 0.6152 - accuracy: 0.6686 - val_loss: 0.6262 - val_accuracy: 0.6539\n",
      "Epoch 70/175\n",
      "54/54 [==============================] - 1s 15ms/step - loss: 0.6096 - accuracy: 0.6814 - val_loss: 0.6220 - val_accuracy: 0.6547\n",
      "Epoch 71/175\n",
      "54/54 [==============================] - 1s 15ms/step - loss: 0.6174 - accuracy: 0.6664 - val_loss: 0.6133 - val_accuracy: 0.6556\n",
      "Epoch 72/175\n",
      "54/54 [==============================] - 1s 16ms/step - loss: 0.6113 - accuracy: 0.6730 - val_loss: 0.6098 - val_accuracy: 0.6689\n",
      "Epoch 73/175\n",
      "54/54 [==============================] - 1s 15ms/step - loss: 0.6083 - accuracy: 0.6826 - val_loss: 0.6192 - val_accuracy: 0.6614\n",
      "Epoch 74/175\n",
      "54/54 [==============================] - 1s 14ms/step - loss: 0.6106 - accuracy: 0.6763 - val_loss: 0.6046 - val_accuracy: 0.6672\n",
      "Epoch 75/175\n",
      "54/54 [==============================] - 1s 15ms/step - loss: 0.6128 - accuracy: 0.6711 - val_loss: 0.6093 - val_accuracy: 0.6739\n",
      "Epoch 76/175\n",
      "54/54 [==============================] - 1s 15ms/step - loss: 0.6083 - accuracy: 0.6744 - val_loss: 0.6026 - val_accuracy: 0.6764\n",
      "Epoch 77/175\n",
      "54/54 [==============================] - 1s 15ms/step - loss: 0.6078 - accuracy: 0.6755 - val_loss: 0.6135 - val_accuracy: 0.6772\n",
      "Epoch 78/175\n",
      "54/54 [==============================] - 1s 15ms/step - loss: 0.6061 - accuracy: 0.6814 - val_loss: 0.6000 - val_accuracy: 0.6789\n",
      "Epoch 79/175\n",
      "54/54 [==============================] - 1s 15ms/step - loss: 0.6048 - accuracy: 0.6823 - val_loss: 0.6155 - val_accuracy: 0.6681\n",
      "Epoch 80/175\n",
      "54/54 [==============================] - 1s 15ms/step - loss: 0.6072 - accuracy: 0.6823 - val_loss: 0.6121 - val_accuracy: 0.6730\n",
      "Epoch 81/175\n",
      "54/54 [==============================] - 1s 15ms/step - loss: 0.6052 - accuracy: 0.6755 - val_loss: 0.6026 - val_accuracy: 0.6747\n",
      "Epoch 82/175\n",
      "54/54 [==============================] - 1s 15ms/step - loss: 0.6045 - accuracy: 0.6791 - val_loss: 0.6111 - val_accuracy: 0.6772\n",
      "Epoch 83/175\n",
      "54/54 [==============================] - 1s 15ms/step - loss: 0.6017 - accuracy: 0.6860 - val_loss: 0.6060 - val_accuracy: 0.6747\n",
      "Epoch 84/175\n",
      "54/54 [==============================] - 1s 16ms/step - loss: 0.6011 - accuracy: 0.6843 - val_loss: 0.6055 - val_accuracy: 0.6814\n",
      "Epoch 85/175\n",
      "54/54 [==============================] - 1s 15ms/step - loss: 0.5985 - accuracy: 0.6846 - val_loss: 0.6033 - val_accuracy: 0.6755\n",
      "Epoch 86/175\n",
      "54/54 [==============================] - 1s 15ms/step - loss: 0.5999 - accuracy: 0.6843 - val_loss: 0.5993 - val_accuracy: 0.6755\n",
      "Epoch 87/175\n",
      "54/54 [==============================] - 1s 15ms/step - loss: 0.5954 - accuracy: 0.6854 - val_loss: 0.6201 - val_accuracy: 0.6664\n",
      "Epoch 88/175\n",
      "54/54 [==============================] - 1s 15ms/step - loss: 0.5985 - accuracy: 0.6839 - val_loss: 0.6213 - val_accuracy: 0.6581\n",
      "Epoch 89/175\n",
      "54/54 [==============================] - 1s 15ms/step - loss: 0.5993 - accuracy: 0.6835 - val_loss: 0.5944 - val_accuracy: 0.6755\n",
      "Epoch 90/175\n",
      "54/54 [==============================] - 1s 15ms/step - loss: 0.5985 - accuracy: 0.6841 - val_loss: 0.6032 - val_accuracy: 0.6789\n",
      "Epoch 91/175\n",
      "54/54 [==============================] - 1s 15ms/step - loss: 0.5960 - accuracy: 0.6870 - val_loss: 0.5998 - val_accuracy: 0.6830\n",
      "Epoch 92/175\n",
      "54/54 [==============================] - 1s 15ms/step - loss: 0.5951 - accuracy: 0.6864 - val_loss: 0.6201 - val_accuracy: 0.6622\n",
      "Epoch 93/175\n",
      "54/54 [==============================] - 1s 16ms/step - loss: 0.5947 - accuracy: 0.6839 - val_loss: 0.5939 - val_accuracy: 0.6897\n",
      "Epoch 94/175\n",
      "54/54 [==============================] - 1s 15ms/step - loss: 0.5947 - accuracy: 0.6820 - val_loss: 0.5924 - val_accuracy: 0.6814\n",
      "Epoch 95/175\n",
      "54/54 [==============================] - 1s 15ms/step - loss: 0.5909 - accuracy: 0.6902 - val_loss: 0.6034 - val_accuracy: 0.6839\n",
      "Epoch 96/175\n",
      "54/54 [==============================] - 1s 16ms/step - loss: 0.5914 - accuracy: 0.6889 - val_loss: 0.5951 - val_accuracy: 0.6814\n",
      "Epoch 97/175\n",
      "54/54 [==============================] - 1s 15ms/step - loss: 0.5916 - accuracy: 0.6923 - val_loss: 0.5913 - val_accuracy: 0.6855\n",
      "Epoch 98/175\n",
      "54/54 [==============================] - 1s 15ms/step - loss: 0.5947 - accuracy: 0.6870 - val_loss: 0.5938 - val_accuracy: 0.6855\n",
      "Epoch 99/175\n",
      "54/54 [==============================] - 1s 15ms/step - loss: 0.5934 - accuracy: 0.6827 - val_loss: 0.5914 - val_accuracy: 0.6889\n",
      "Epoch 100/175\n",
      "54/54 [==============================] - 1s 15ms/step - loss: 0.5878 - accuracy: 0.6985 - val_loss: 0.5939 - val_accuracy: 0.6905\n",
      "Epoch 101/175\n",
      "54/54 [==============================] - 1s 15ms/step - loss: 0.5904 - accuracy: 0.6889 - val_loss: 0.6002 - val_accuracy: 0.6855\n",
      "Epoch 102/175\n",
      "54/54 [==============================] - 1s 15ms/step - loss: 0.5887 - accuracy: 0.6935 - val_loss: 0.5952 - val_accuracy: 0.6913\n",
      "Epoch 103/175\n",
      "54/54 [==============================] - 1s 15ms/step - loss: 0.5878 - accuracy: 0.6913 - val_loss: 0.5957 - val_accuracy: 0.6913\n",
      "Epoch 104/175\n",
      "54/54 [==============================] - 1s 15ms/step - loss: 0.5923 - accuracy: 0.6874 - val_loss: 0.5921 - val_accuracy: 0.6764\n",
      "Epoch 105/175\n",
      "54/54 [==============================] - 1s 15ms/step - loss: 0.5875 - accuracy: 0.6923 - val_loss: 0.5916 - val_accuracy: 0.6897\n",
      "Epoch 106/175\n",
      "54/54 [==============================] - 1s 15ms/step - loss: 0.5889 - accuracy: 0.6964 - val_loss: 0.5929 - val_accuracy: 0.6789\n",
      "Epoch 107/175\n",
      "54/54 [==============================] - 1s 15ms/step - loss: 0.5871 - accuracy: 0.6938 - val_loss: 0.5923 - val_accuracy: 0.6905\n",
      "Epoch 108/175\n",
      "54/54 [==============================] - 1s 15ms/step - loss: 0.5893 - accuracy: 0.6863 - val_loss: 0.5974 - val_accuracy: 0.6780\n",
      "Epoch 109/175\n",
      "54/54 [==============================] - 1s 15ms/step - loss: 0.5867 - accuracy: 0.6992 - val_loss: 0.6140 - val_accuracy: 0.6681\n",
      "Epoch 110/175\n",
      "54/54 [==============================] - 1s 15ms/step - loss: 0.5861 - accuracy: 0.6979 - val_loss: 0.6014 - val_accuracy: 0.6847\n",
      "Epoch 111/175\n",
      "54/54 [==============================] - 1s 16ms/step - loss: 0.5892 - accuracy: 0.6935 - val_loss: 0.5910 - val_accuracy: 0.6855\n",
      "Epoch 112/175\n",
      "54/54 [==============================] - 1s 15ms/step - loss: 0.5823 - accuracy: 0.6998 - val_loss: 0.5906 - val_accuracy: 0.6805\n",
      "Epoch 113/175\n",
      "54/54 [==============================] - 1s 15ms/step - loss: 0.5854 - accuracy: 0.6935 - val_loss: 0.5942 - val_accuracy: 0.6872\n",
      "Epoch 114/175\n",
      "54/54 [==============================] - 1s 15ms/step - loss: 0.5863 - accuracy: 0.6911 - val_loss: 0.5966 - val_accuracy: 0.6855\n",
      "Epoch 115/175\n",
      "54/54 [==============================] - 1s 15ms/step - loss: 0.5820 - accuracy: 0.7040 - val_loss: 0.5895 - val_accuracy: 0.6872\n",
      "Epoch 116/175\n",
      "54/54 [==============================] - 1s 15ms/step - loss: 0.5871 - accuracy: 0.6893 - val_loss: 0.5915 - val_accuracy: 0.6913\n",
      "Epoch 117/175\n",
      "54/54 [==============================] - 1s 15ms/step - loss: 0.5825 - accuracy: 0.6968 - val_loss: 0.6006 - val_accuracy: 0.6864\n",
      "Epoch 118/175\n",
      "54/54 [==============================] - 1s 15ms/step - loss: 0.5886 - accuracy: 0.6949 - val_loss: 0.6053 - val_accuracy: 0.6739\n",
      "Epoch 119/175\n",
      "54/54 [==============================] - 1s 15ms/step - loss: 0.5847 - accuracy: 0.6911 - val_loss: 0.5867 - val_accuracy: 0.6805\n",
      "Epoch 120/175\n",
      "54/54 [==============================] - 1s 15ms/step - loss: 0.5800 - accuracy: 0.7027 - val_loss: 0.5943 - val_accuracy: 0.6963\n",
      "Epoch 121/175\n",
      "54/54 [==============================] - 1s 15ms/step - loss: 0.5812 - accuracy: 0.6967 - val_loss: 0.5905 - val_accuracy: 0.6922\n",
      "Epoch 122/175\n",
      "54/54 [==============================] - 1s 15ms/step - loss: 0.5742 - accuracy: 0.7037 - val_loss: 0.5978 - val_accuracy: 0.6905\n",
      "Epoch 123/175\n",
      "54/54 [==============================] - 1s 15ms/step - loss: 0.5802 - accuracy: 0.6993 - val_loss: 0.5953 - val_accuracy: 0.6880\n",
      "Epoch 124/175\n",
      "54/54 [==============================] - 1s 15ms/step - loss: 0.5800 - accuracy: 0.7026 - val_loss: 0.5939 - val_accuracy: 0.6855\n",
      "Epoch 125/175\n",
      "54/54 [==============================] - 1s 15ms/step - loss: 0.5839 - accuracy: 0.6951 - val_loss: 0.5935 - val_accuracy: 0.6872\n",
      "Epoch 126/175\n",
      "54/54 [==============================] - 1s 15ms/step - loss: 0.5793 - accuracy: 0.7033 - val_loss: 0.5867 - val_accuracy: 0.6963\n",
      "Epoch 127/175\n",
      "54/54 [==============================] - 1s 15ms/step - loss: 0.5798 - accuracy: 0.7032 - val_loss: 0.5942 - val_accuracy: 0.6955\n",
      "Epoch 128/175\n",
      "54/54 [==============================] - 1s 15ms/step - loss: 0.5781 - accuracy: 0.7027 - val_loss: 0.5871 - val_accuracy: 0.6963\n",
      "Epoch 129/175\n",
      "54/54 [==============================] - 1s 15ms/step - loss: 0.5737 - accuracy: 0.7061 - val_loss: 0.5897 - val_accuracy: 0.6930\n",
      "Epoch 130/175\n",
      "54/54 [==============================] - 1s 15ms/step - loss: 0.5758 - accuracy: 0.7035 - val_loss: 0.5930 - val_accuracy: 0.6789\n",
      "Epoch 131/175\n",
      "54/54 [==============================] - 1s 15ms/step - loss: 0.5799 - accuracy: 0.6974 - val_loss: 0.6034 - val_accuracy: 0.6855\n",
      "Epoch 132/175\n",
      "54/54 [==============================] - 1s 16ms/step - loss: 0.5728 - accuracy: 0.7065 - val_loss: 0.5890 - val_accuracy: 0.6922\n",
      "Epoch 133/175\n",
      "54/54 [==============================] - 1s 16ms/step - loss: 0.5804 - accuracy: 0.7043 - val_loss: 0.5953 - val_accuracy: 0.6897\n",
      "Epoch 134/175\n",
      "54/54 [==============================] - 1s 15ms/step - loss: 0.5741 - accuracy: 0.7089 - val_loss: 0.5907 - val_accuracy: 0.6938\n",
      "Epoch 135/175\n",
      "54/54 [==============================] - 1s 16ms/step - loss: 0.5731 - accuracy: 0.7055 - val_loss: 0.5966 - val_accuracy: 0.6938\n",
      "Epoch 136/175\n",
      "54/54 [==============================] - 1s 15ms/step - loss: 0.5745 - accuracy: 0.7029 - val_loss: 0.5861 - val_accuracy: 0.6997\n",
      "Epoch 137/175\n",
      "54/54 [==============================] - 1s 16ms/step - loss: 0.5799 - accuracy: 0.7001 - val_loss: 0.6030 - val_accuracy: 0.6839\n",
      "Epoch 138/175\n",
      "54/54 [==============================] - 1s 16ms/step - loss: 0.5817 - accuracy: 0.6999 - val_loss: 0.6024 - val_accuracy: 0.6864\n",
      "Epoch 139/175\n",
      "54/54 [==============================] - 1s 15ms/step - loss: 0.5724 - accuracy: 0.7043 - val_loss: 0.5853 - val_accuracy: 0.7055\n",
      "Epoch 140/175\n",
      "54/54 [==============================] - 1s 16ms/step - loss: 0.5760 - accuracy: 0.7032 - val_loss: 0.5846 - val_accuracy: 0.6972\n",
      "Epoch 141/175\n",
      "54/54 [==============================] - 1s 15ms/step - loss: 0.5815 - accuracy: 0.7029 - val_loss: 0.5838 - val_accuracy: 0.6997\n",
      "Epoch 142/175\n",
      "54/54 [==============================] - 1s 15ms/step - loss: 0.5717 - accuracy: 0.7142 - val_loss: 0.5947 - val_accuracy: 0.7038\n",
      "Epoch 143/175\n",
      "54/54 [==============================] - 1s 15ms/step - loss: 0.5735 - accuracy: 0.7120 - val_loss: 0.5857 - val_accuracy: 0.6972\n",
      "Epoch 144/175\n",
      "54/54 [==============================] - 1s 15ms/step - loss: 0.5722 - accuracy: 0.7043 - val_loss: 0.5872 - val_accuracy: 0.6880\n",
      "Epoch 145/175\n",
      "54/54 [==============================] - 1s 15ms/step - loss: 0.5747 - accuracy: 0.7008 - val_loss: 0.5855 - val_accuracy: 0.6938\n",
      "Epoch 146/175\n",
      "54/54 [==============================] - 1s 15ms/step - loss: 0.5769 - accuracy: 0.7061 - val_loss: 0.5858 - val_accuracy: 0.6897\n",
      "Epoch 147/175\n",
      "54/54 [==============================] - 1s 16ms/step - loss: 0.5734 - accuracy: 0.7055 - val_loss: 0.6027 - val_accuracy: 0.6905\n",
      "Epoch 148/175\n",
      "54/54 [==============================] - 1s 15ms/step - loss: 0.5745 - accuracy: 0.7120 - val_loss: 0.5874 - val_accuracy: 0.6997\n",
      "Epoch 149/175\n",
      "54/54 [==============================] - 1s 15ms/step - loss: 0.5745 - accuracy: 0.7055 - val_loss: 0.5855 - val_accuracy: 0.6930\n",
      "Epoch 150/175\n",
      "54/54 [==============================] - 1s 15ms/step - loss: 0.5681 - accuracy: 0.7152 - val_loss: 0.5878 - val_accuracy: 0.6980\n",
      "Epoch 151/175\n",
      "54/54 [==============================] - 1s 15ms/step - loss: 0.5768 - accuracy: 0.7077 - val_loss: 0.5844 - val_accuracy: 0.7105\n",
      "Epoch 152/175\n",
      "54/54 [==============================] - 1s 16ms/step - loss: 0.5719 - accuracy: 0.7086 - val_loss: 0.5873 - val_accuracy: 0.6988\n",
      "Epoch 153/175\n",
      "54/54 [==============================] - 1s 15ms/step - loss: 0.5715 - accuracy: 0.7108 - val_loss: 0.5863 - val_accuracy: 0.6847\n",
      "Epoch 154/175\n",
      "54/54 [==============================] - 1s 15ms/step - loss: 0.5717 - accuracy: 0.7139 - val_loss: 0.5855 - val_accuracy: 0.6922\n",
      "Epoch 155/175\n",
      "54/54 [==============================] - 1s 15ms/step - loss: 0.5703 - accuracy: 0.7145 - val_loss: 0.5863 - val_accuracy: 0.6897\n",
      "Epoch 156/175\n",
      "54/54 [==============================] - 1s 15ms/step - loss: 0.5648 - accuracy: 0.7123 - val_loss: 0.5823 - val_accuracy: 0.6947\n",
      "Epoch 157/175\n",
      "54/54 [==============================] - 1s 15ms/step - loss: 0.5698 - accuracy: 0.7133 - val_loss: 0.5815 - val_accuracy: 0.6947\n",
      "Epoch 158/175\n",
      "54/54 [==============================] - 1s 15ms/step - loss: 0.5772 - accuracy: 0.7045 - val_loss: 0.5822 - val_accuracy: 0.7005\n",
      "Epoch 159/175\n",
      "54/54 [==============================] - 1s 15ms/step - loss: 0.5681 - accuracy: 0.7107 - val_loss: 0.5983 - val_accuracy: 0.7047\n",
      "Epoch 160/175\n",
      "54/54 [==============================] - 1s 16ms/step - loss: 0.5678 - accuracy: 0.7137 - val_loss: 0.6165 - val_accuracy: 0.6830\n",
      "Epoch 161/175\n",
      "54/54 [==============================] - 1s 15ms/step - loss: 0.5724 - accuracy: 0.7117 - val_loss: 0.5975 - val_accuracy: 0.6988\n",
      "Epoch 162/175\n",
      "54/54 [==============================] - 1s 15ms/step - loss: 0.5724 - accuracy: 0.7027 - val_loss: 0.6127 - val_accuracy: 0.6839\n",
      "Epoch 163/175\n",
      "54/54 [==============================] - 1s 15ms/step - loss: 0.5730 - accuracy: 0.7071 - val_loss: 0.5929 - val_accuracy: 0.6913\n",
      "Epoch 164/175\n",
      "54/54 [==============================] - 1s 15ms/step - loss: 0.5708 - accuracy: 0.7134 - val_loss: 0.5968 - val_accuracy: 0.7038\n",
      "Epoch 165/175\n",
      "54/54 [==============================] - 1s 15ms/step - loss: 0.5717 - accuracy: 0.7139 - val_loss: 0.5872 - val_accuracy: 0.7063\n",
      "Epoch 166/175\n",
      "54/54 [==============================] - 1s 16ms/step - loss: 0.5672 - accuracy: 0.7136 - val_loss: 0.5835 - val_accuracy: 0.6938\n",
      "Epoch 167/175\n",
      "54/54 [==============================] - 1s 15ms/step - loss: 0.5701 - accuracy: 0.7177 - val_loss: 0.5883 - val_accuracy: 0.7005\n",
      "Epoch 168/175\n",
      "54/54 [==============================] - 1s 15ms/step - loss: 0.5670 - accuracy: 0.7154 - val_loss: 0.5824 - val_accuracy: 0.7063\n",
      "Epoch 169/175\n",
      "54/54 [==============================] - 1s 15ms/step - loss: 0.5664 - accuracy: 0.7127 - val_loss: 0.5811 - val_accuracy: 0.7030\n",
      "Epoch 170/175\n",
      "54/54 [==============================] - 1s 15ms/step - loss: 0.5648 - accuracy: 0.7152 - val_loss: 0.6037 - val_accuracy: 0.6963\n",
      "Epoch 171/175\n",
      "54/54 [==============================] - 1s 15ms/step - loss: 0.5657 - accuracy: 0.7143 - val_loss: 0.5974 - val_accuracy: 0.6980\n",
      "Epoch 172/175\n",
      "54/54 [==============================] - 1s 14ms/step - loss: 0.5666 - accuracy: 0.7104 - val_loss: 0.5884 - val_accuracy: 0.7047\n",
      "Epoch 173/175\n",
      "54/54 [==============================] - 1s 15ms/step - loss: 0.5676 - accuracy: 0.7152 - val_loss: 0.5898 - val_accuracy: 0.6988\n",
      "Epoch 174/175\n",
      "54/54 [==============================] - 1s 14ms/step - loss: 0.5690 - accuracy: 0.7140 - val_loss: 0.5857 - val_accuracy: 0.6830\n",
      "Epoch 175/175\n",
      "54/54 [==============================] - 1s 15ms/step - loss: 0.5670 - accuracy: 0.7183 - val_loss: 0.5936 - val_accuracy: 0.7038\n"
     ]
    }
   ],
   "source": [
    "epochs=175\n",
    "history = model.fit(\n",
    "  train,\n",
    "  validation_data=test,\n",
    "  epochs=epochs,\n",
    "  class_weight=class_weight\n",
    ")"
   ]
  },
  {
   "cell_type": "code",
   "execution_count": 11,
   "metadata": {},
   "outputs": [
    {
     "data": {
      "image/png": "[encoded data removed]",
      "text/plain": [
       "<Figure size 576x576 with 2 Axes>"
      ]
     },
     "metadata": {
      "needs_background": "light"
     },
     "output_type": "display_data"
    }
   ],
   "source": [
    "acc = history.history['accuracy']\n",
    "val_acc = history.history['val_accuracy']\n",
    "\n",
    "loss = history.history['loss']\n",
    "val_loss = history.history['val_loss']\n",
    "\n",
    "epochs_range = range(epochs)\n",
    "\n",
    "plt.figure(figsize=(8, 8))\n",
    "plt.subplot(1, 2, 1)\n",
    "plt.plot(epochs_range, acc, label='Training Accuracy')\n",
    "plt.plot(epochs_range, val_acc, label='Validation Accuracy')\n",
    "plt.legend(loc='lower right')\n",
    "plt.title('Training and Validation Accuracy')\n",
    "\n",
    "plt.subplot(1, 2, 2)\n",
    "plt.plot(epochs_range, loss, label='Training Loss')\n",
    "plt.plot(epochs_range, val_loss, label='Validation Loss')\n",
    "plt.legend(loc='upper right')\n",
    "plt.title('Training and Validation Loss')\n",
    "plt.show()"
   ]
  },
  {
   "cell_type": "code",
   "execution_count": 12,
   "metadata": {},
   "outputs": [
    {
     "name": "stdout",
     "output_type": "stream",
     "text": [
      "10/10 [==============================] - 0s 12ms/step - loss: 0.5936 - accuracy: 0.7038\n",
      "Test accuracy : 0.7038269639015198\n"
     ]
    }
   ],
   "source": [
    "loss, accuracy = model.evaluate(test)\n",
    "print('Test accuracy :', accuracy)"
   ]
  },
  {
   "cell_type": "code",
   "execution_count": 13,
   "metadata": {},
   "outputs": [
    {
     "name": "stdout",
     "output_type": "stream",
     "text": [
      "Precision:  0.45234492\n",
      "Recall:  0.5446266\n"
     ]
    }
   ],
   "source": [
    "y_pred = model.predict(test).argmax(axis=-1)\n",
    "y_true = test.classes\n",
    "\n",
    "m = tf.keras.metrics.Precision()\n",
    "m.update_state(y_pred, y_true)\n",
    "print(\"Precision: \" , m.result().numpy())\n",
    "\n",
    "m = tf.keras.metrics.Recall()\n",
    "m.update_state(y_pred, y_true)\n",
    "print(\"Recall: \" , m.result().numpy())"
   ]
  },
  {
   "cell_type": "code",
   "execution_count": 14,
   "metadata": {},
   "outputs": [
    {
     "data": {
      "text/plain": [
       "<tf.Tensor: shape=(2, 2), dtype=int32, numpy=\n",
       "array([[291, 362],\n",
       "       [250, 299]], dtype=int32)>"
      ]
     },
     "execution_count": 14,
     "metadata": {},
     "output_type": "execute_result"
    }
   ],
   "source": [
    "tf.math.confusion_matrix(y_pred, y_true)"
   ]
  },
  {
   "cell_type": "code",
   "execution_count": 15,
   "metadata": {},
   "outputs": [],
   "source": [
    "# Save the weights model.\n",
    "model.save('./data/humanModel/model_v2.h5')"
   ]
  },
  {
   "cell_type": "code",
   "execution_count": 16,
   "metadata": {},
   "outputs": [],
   "source": [
    "# save model in js format\n",
    "# import tensorflowjs as tfjs\n",
    "# tfjs.converters.save_keras_model(model, 'data/humanModel/js_model_v0')"
   ]
  },
  {
   "cell_type": "code",
   "execution_count": 17,
   "metadata": {},
   "outputs": [],
   "source": [
    "# new_model = tf.keras.models.load_model('./data/humanModel/mode_v0')\n",
    "\n",
    "# # Check its architecture\n",
    "# new_model.summary()"
   ]
  },
  {
   "cell_type": "markdown",
   "metadata": {},
   "source": [
    "### Predict on new data"
   ]
  },
  {
   "cell_type": "code",
   "execution_count": 18,
   "metadata": {},
   "outputs": [
    {
     "ename": "FileNotFoundError",
     "evalue": "[Errno 2] No such file or directory: './data/humanModel_dataset_split/val/38/-Mr4e3Fomo72jz0zfTgB_14.png'",
     "output_type": "error",
     "traceback": [
      "\u001b[0;31m---------------------------------------------------------------------------\u001b[0m",
      "\u001b[0;31mFileNotFoundError\u001b[0m                         Traceback (most recent call last)",
      "\u001b[0;32m/tmp/ipykernel_335661/230040765.py\u001b[0m in \u001b[0;36m<module>\u001b[0;34m\u001b[0m\n\u001b[1;32m      2\u001b[0m \u001b[0;34m\u001b[0m\u001b[0m\n\u001b[1;32m      3\u001b[0m img = keras.preprocessing.image.load_img(\n\u001b[0;32m----> 4\u001b[0;31m     \u001b[0mpath\u001b[0m\u001b[0;34m,\u001b[0m \u001b[0mtarget_size\u001b[0m\u001b[0;34m=\u001b[0m\u001b[0;34m(\u001b[0m\u001b[0mIMG_SIZE\u001b[0m\u001b[0;34m,\u001b[0m \u001b[0mIMG_SIZE\u001b[0m\u001b[0;34m)\u001b[0m\u001b[0;34m\u001b[0m\u001b[0;34m\u001b[0m\u001b[0m\n\u001b[0m\u001b[1;32m      5\u001b[0m )\n\u001b[1;32m      6\u001b[0m \u001b[0mimg_array\u001b[0m \u001b[0;34m=\u001b[0m \u001b[0mkeras\u001b[0m\u001b[0;34m.\u001b[0m\u001b[0mpreprocessing\u001b[0m\u001b[0;34m.\u001b[0m\u001b[0mimage\u001b[0m\u001b[0;34m.\u001b[0m\u001b[0mimg_to_array\u001b[0m\u001b[0;34m(\u001b[0m\u001b[0mimg\u001b[0m\u001b[0;34m)\u001b[0m\u001b[0;34m\u001b[0m\u001b[0;34m\u001b[0m\u001b[0m\n",
      "\u001b[0;32m~/anaconda3/envs/tf-gpu/lib/python3.7/site-packages/keras/preprocessing/image.py\u001b[0m in \u001b[0;36mload_img\u001b[0;34m(path, grayscale, color_mode, target_size, interpolation)\u001b[0m\n\u001b[1;32m    312\u001b[0m   \"\"\"\n\u001b[1;32m    313\u001b[0m   return image.load_img(path, grayscale=grayscale, color_mode=color_mode,\n\u001b[0;32m--> 314\u001b[0;31m                         target_size=target_size, interpolation=interpolation)\n\u001b[0m\u001b[1;32m    315\u001b[0m \u001b[0;34m\u001b[0m\u001b[0m\n\u001b[1;32m    316\u001b[0m \u001b[0;34m\u001b[0m\u001b[0m\n",
      "\u001b[0;32m~/anaconda3/envs/tf-gpu/lib/python3.7/site-packages/keras_preprocessing/image/utils.py\u001b[0m in \u001b[0;36mload_img\u001b[0;34m(path, grayscale, color_mode, target_size, interpolation)\u001b[0m\n\u001b[1;32m    111\u001b[0m         raise ImportError('Could not import PIL.Image. '\n\u001b[1;32m    112\u001b[0m                           'The use of `load_img` requires PIL.')\n\u001b[0;32m--> 113\u001b[0;31m     \u001b[0;32mwith\u001b[0m \u001b[0mopen\u001b[0m\u001b[0;34m(\u001b[0m\u001b[0mpath\u001b[0m\u001b[0;34m,\u001b[0m \u001b[0;34m'rb'\u001b[0m\u001b[0;34m)\u001b[0m \u001b[0;32mas\u001b[0m \u001b[0mf\u001b[0m\u001b[0;34m:\u001b[0m\u001b[0;34m\u001b[0m\u001b[0;34m\u001b[0m\u001b[0m\n\u001b[0m\u001b[1;32m    114\u001b[0m         \u001b[0mimg\u001b[0m \u001b[0;34m=\u001b[0m \u001b[0mpil_image\u001b[0m\u001b[0;34m.\u001b[0m\u001b[0mopen\u001b[0m\u001b[0;34m(\u001b[0m\u001b[0mio\u001b[0m\u001b[0;34m.\u001b[0m\u001b[0mBytesIO\u001b[0m\u001b[0;34m(\u001b[0m\u001b[0mf\u001b[0m\u001b[0;34m.\u001b[0m\u001b[0mread\u001b[0m\u001b[0;34m(\u001b[0m\u001b[0;34m)\u001b[0m\u001b[0;34m)\u001b[0m\u001b[0;34m)\u001b[0m\u001b[0;34m\u001b[0m\u001b[0;34m\u001b[0m\u001b[0m\n\u001b[1;32m    115\u001b[0m         \u001b[0;32mif\u001b[0m \u001b[0mcolor_mode\u001b[0m \u001b[0;34m==\u001b[0m \u001b[0;34m'grayscale'\u001b[0m\u001b[0;34m:\u001b[0m\u001b[0;34m\u001b[0m\u001b[0;34m\u001b[0m\u001b[0m\n",
      "\u001b[0;31mFileNotFoundError\u001b[0m: [Errno 2] No such file or directory: './data/humanModel_dataset_split/val/38/-Mr4e3Fomo72jz0zfTgB_14.png'"
     ]
    }
   ],
   "source": [
    "path = \"./data/humanModel_dataset_split/val/38/-Mr4e3Fomo72jz0zfTgB_14.png\"\n",
    "\n",
    "img = keras.preprocessing.image.load_img(\n",
    "    path, target_size=(IMG_SIZE, IMG_SIZE)\n",
    ")\n",
    "img_array = keras.preprocessing.image.img_to_array(img)\n",
    "img_array = tf.expand_dims(img_array, 0) # Create a batch\n",
    "img_array = img_array/255\n",
    "predictions = model.predict(img_array)[0]\n",
    "\n",
    "print(\n",
    "    \"This image most likely belongs to {} with a {:.2f} percent confidence.\"\n",
    "    .format(np.argmax(predictions), 100 * np.max(predictions))\n",
    ")"
   ]
  }
 ],
 "metadata": {
  "kernelspec": {
   "display_name": "Python 3.7.4 ('tf-gpu')",
   "language": "python",
   "name": "python3"
  },
  "language_info": {
   "codemirror_mode": {
    "name": "ipython",
    "version": 3
   },
   "file_extension": ".py",
   "mimetype": "text/x-python",
   "name": "python",
   "nbconvert_exporter": "python",
   "pygments_lexer": "ipython3",
   "version": "3.7.4"
  },
  "vscode": {
   "interpreter": {
    "hash": "ad60775ae12af945b53c5c94c294ef05f229143b8585a0d23625a81e181fdccc"
   }
  }
 },
 "nbformat": 4,
 "nbformat_minor": 4
}
