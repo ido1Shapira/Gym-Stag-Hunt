{
 "cells": [
  {
   "cell_type": "code",
   "execution_count": 1,
   "metadata": {},
   "outputs": [],
   "source": [
    "import numpy as np\n",
    "import random\n",
    "import os\n",
    "os.environ['TF_CPP_MIN_LOG_LEVEL'] = '3'\n",
    "# os.environ['CUDA_VISIBLE_DEVICES'] = '-1'\n",
    "\n",
    "import shutil\n",
    "\n",
    "# ! pip install split-folders\n",
    "import splitfolders\n",
    "\n",
    "import tensorflow as tf\n",
    "from tensorflow import keras\n",
    "from tensorflow.keras import layers, regularizers\n",
    "from tensorflow.keras.models import Sequential\n",
    "from tensorflow.keras.optimizers import Adam\n",
    "\n",
    "from tensorflow.keras.preprocessing.image import ImageDataGenerator\n",
    "from tensorflow.keras.preprocessing import image\n",
    "\n",
    "import matplotlib.pyplot as plt\n",
    "\n",
    "rs = 42\n",
    "def reset_random_seeds(rs):\n",
    "   os.environ['PYTHONHASHSEED']=str(rs)\n",
    "   tf.random.set_seed(rs)\n",
    "   np.random.seed(rs)\n",
    "   random.seed(rs)\n",
    "reset_random_seeds(rs)"
   ]
  },
  {
   "cell_type": "markdown",
   "metadata": {},
   "source": [
    "remove prev saved database:"
   ]
  },
  {
   "cell_type": "code",
   "execution_count": 2,
   "metadata": {},
   "outputs": [],
   "source": [
    "dir_path = './data/humanModel/dataset_split'\n",
    "if os.path.exists(dir_path):\n",
    "    shutil.rmtree(dir_path)\n",
    "else:\n",
    "    print(\"File not found in the directory\")"
   ]
  },
  {
   "cell_type": "markdown",
   "metadata": {},
   "source": [
    "# Part 1 - Data Preprocessing"
   ]
  },
  {
   "cell_type": "markdown",
   "metadata": {},
   "source": [
    "## Split into train , test data"
   ]
  },
  {
   "cell_type": "code",
   "execution_count": 3,
   "metadata": {},
   "outputs": [
    {
     "name": "stderr",
     "output_type": "stream",
     "text": [
      "Copying files: 8949 files [00:00, 12938.23 files/s]\n"
     ]
    }
   ],
   "source": [
    "# train, test split\n",
    "splitfolders.ratio('./data/humanModel/dataset/', output=dir_path, ratio=(0.85, 0.15))"
   ]
  },
  {
   "cell_type": "markdown",
   "metadata": {},
   "source": [
    "### Preprocessing the Training set"
   ]
  },
  {
   "cell_type": "code",
   "execution_count": 4,
   "metadata": {},
   "outputs": [
    {
     "name": "stdout",
     "output_type": "stream",
     "text": [
      "Found 7605 images belonging to 2 classes.\n",
      "Found 1344 images belonging to 2 classes.\n"
     ]
    }
   ],
   "source": [
    "batch_size = 128\n",
    "IMG_SIZE = 5\n",
    "\n",
    "datagen = ImageDataGenerator(rescale = 1./255)\n",
    "train = datagen.flow_from_directory((dir_path+'/train'),\n",
    "                                          target_size = (IMG_SIZE,IMG_SIZE), batch_size = batch_size, seed=rs, class_mode='sparse')\n",
    "\n",
    "test = datagen.flow_from_directory((dir_path+'/val'),\n",
    "                                            target_size = (IMG_SIZE, IMG_SIZE), batch_size = batch_size, seed=rs, class_mode='sparse')"
   ]
  },
  {
   "cell_type": "code",
   "execution_count": 5,
   "metadata": {},
   "outputs": [],
   "source": [
    "classes_count = np.bincount(train.classes)"
   ]
  },
  {
   "cell_type": "code",
   "execution_count": 6,
   "metadata": {},
   "outputs": [
    {
     "name": "stdout",
     "output_type": "stream",
     "text": [
      "Weight for class 0: 1.13\n",
      "Weight for class 1: 0.89\n"
     ]
    }
   ],
   "source": [
    "# Scaling by total/2 helps keep the loss to a similar magnitude.\n",
    "# The sum of the weights of all examples stays the same.\n",
    "total = classes_count[0] + classes_count[1]\n",
    "weight_for_0 = (1 / classes_count[0])*(total)/2.0 \n",
    "weight_for_1 = (1 / classes_count[1])*(total)/2.0\n",
    "\n",
    "class_weight = {0: weight_for_0, 1: weight_for_1}\n",
    "\n",
    "print('Weight for class 0: {:.2f}'.format(weight_for_0))\n",
    "print('Weight for class 1: {:.2f}'.format(weight_for_1))"
   ]
  },
  {
   "cell_type": "markdown",
   "metadata": {},
   "source": [
    "## View some data"
   ]
  },
  {
   "cell_type": "code",
   "execution_count": 7,
   "metadata": {},
   "outputs": [],
   "source": [
    "num_classes = 4\n",
    "\n",
    "model = Sequential([\n",
    "  layers.Conv2D(4, 3, padding='same', activation='relu', kernel_regularizer=regularizers.l2(0.001), input_shape=[IMG_SIZE,IMG_SIZE,3]),\n",
    "  layers.Conv2D(8, 3, padding='same', activation='relu', kernel_regularizer=regularizers.l2(0.001)),\n",
    "  layers.Conv2D(16, 3, padding='same', activation='relu', kernel_regularizer=regularizers.l2(0.001)),\n",
    "  # layers.MaxPooling2D(),\n",
    "  layers.Conv2D(8, 2, padding='same', activation='relu', kernel_regularizer=regularizers.l2(0.001)),\n",
    "  layers.Dropout(0.5),\n",
    "  layers.Flatten(),\n",
    "  layers.Dense(64, activation='relu', kernel_regularizer=regularizers.l2(0.001)),\n",
    "  # layers.Dense(32, activation='relu', kernel_regularizer=regularizers.l2(0.001)),\n",
    "  layers.Dense(num_classes, activation='softmax')\n",
    "])"
   ]
  },
  {
   "cell_type": "code",
   "execution_count": 8,
   "metadata": {},
   "outputs": [],
   "source": [
    "model.compile(optimizer=Adam(learning_rate=0.0005),\n",
    "              loss=tf.keras.losses.SparseCategoricalCrossentropy(from_logits=False),\n",
    "              metrics=['accuracy'])"
   ]
  },
  {
   "cell_type": "code",
   "execution_count": 9,
   "metadata": {},
   "outputs": [
    {
     "name": "stdout",
     "output_type": "stream",
     "text": [
      "Model: \"sequential\"\n",
      "_________________________________________________________________\n",
      "Layer (type)                 Output Shape              Param #   \n",
      "=================================================================\n",
      "conv2d (Conv2D)              (None, 5, 5, 4)           112       \n",
      "_________________________________________________________________\n",
      "conv2d_1 (Conv2D)            (None, 5, 5, 8)           296       \n",
      "_________________________________________________________________\n",
      "conv2d_2 (Conv2D)            (None, 5, 5, 16)          1168      \n",
      "_________________________________________________________________\n",
      "conv2d_3 (Conv2D)            (None, 5, 5, 8)           520       \n",
      "_________________________________________________________________\n",
      "dropout (Dropout)            (None, 5, 5, 8)           0         \n",
      "_________________________________________________________________\n",
      "flatten (Flatten)            (None, 200)               0         \n",
      "_________________________________________________________________\n",
      "dense (Dense)                (None, 64)                12864     \n",
      "_________________________________________________________________\n",
      "dense_1 (Dense)              (None, 4)                 260       \n",
      "=================================================================\n",
      "Total params: 15,220\n",
      "Trainable params: 15,220\n",
      "Non-trainable params: 0\n",
      "_________________________________________________________________\n"
     ]
    }
   ],
   "source": [
    "model.summary()"
   ]
  },
  {
   "cell_type": "code",
   "execution_count": 10,
   "metadata": {
    "scrolled": true
   },
   "outputs": [
    {
     "name": "stdout",
     "output_type": "stream",
     "text": [
      "Epoch 1/175\n",
      "60/60 [==============================] - 2s 14ms/step - loss: 1.0650 - accuracy: 0.4643 - val_loss: 0.8080 - val_accuracy: 0.4598\n",
      "Epoch 2/175\n",
      "60/60 [==============================] - 1s 16ms/step - loss: 0.8121 - accuracy: 0.5002 - val_loss: 0.7817 - val_accuracy: 0.5565\n",
      "Epoch 3/175\n",
      "60/60 [==============================] - 1s 16ms/step - loss: 0.7891 - accuracy: 0.5037 - val_loss: 0.7706 - val_accuracy: 0.5469\n",
      "Epoch 4/175\n",
      "60/60 [==============================] - 1s 16ms/step - loss: 0.7746 - accuracy: 0.5111 - val_loss: 0.7630 - val_accuracy: 0.5446\n",
      "Epoch 5/175\n",
      "60/60 [==============================] - 1s 16ms/step - loss: 0.7629 - accuracy: 0.5218 - val_loss: 0.7656 - val_accuracy: 0.4427\n",
      "Epoch 6/175\n",
      "60/60 [==============================] - 1s 16ms/step - loss: 0.7587 - accuracy: 0.5019 - val_loss: 0.7439 - val_accuracy: 0.5588\n",
      "Epoch 7/175\n",
      "60/60 [==============================] - 1s 16ms/step - loss: 0.7518 - accuracy: 0.5203 - val_loss: 0.7393 - val_accuracy: 0.5565\n",
      "Epoch 8/175\n",
      "60/60 [==============================] - 1s 16ms/step - loss: 0.7470 - accuracy: 0.5219 - val_loss: 0.7382 - val_accuracy: 0.5655\n",
      "Epoch 9/175\n",
      "60/60 [==============================] - 1s 16ms/step - loss: 0.7454 - accuracy: 0.5158 - val_loss: 0.7357 - val_accuracy: 0.5692\n",
      "Epoch 10/175\n",
      "60/60 [==============================] - 1s 16ms/step - loss: 0.7407 - accuracy: 0.5235 - val_loss: 0.7332 - val_accuracy: 0.5692\n",
      "Epoch 11/175\n",
      "60/60 [==============================] - 1s 17ms/step - loss: 0.7354 - accuracy: 0.5361 - val_loss: 0.7394 - val_accuracy: 0.5045\n",
      "Epoch 12/175\n",
      "60/60 [==============================] - 1s 16ms/step - loss: 0.7321 - accuracy: 0.5415 - val_loss: 0.7324 - val_accuracy: 0.5246\n",
      "Epoch 13/175\n",
      "60/60 [==============================] - 1s 16ms/step - loss: 0.7303 - accuracy: 0.5343 - val_loss: 0.7213 - val_accuracy: 0.5588\n",
      "Epoch 14/175\n",
      "60/60 [==============================] - 1s 16ms/step - loss: 0.7311 - accuracy: 0.5403 - val_loss: 0.7426 - val_accuracy: 0.4613\n",
      "Epoch 15/175\n",
      "60/60 [==============================] - 1s 16ms/step - loss: 0.7265 - accuracy: 0.5456 - val_loss: 0.7245 - val_accuracy: 0.5528\n",
      "Epoch 16/175\n",
      "60/60 [==============================] - 1s 16ms/step - loss: 0.7233 - accuracy: 0.5462 - val_loss: 0.7303 - val_accuracy: 0.5201\n",
      "Epoch 17/175\n",
      "60/60 [==============================] - 1s 16ms/step - loss: 0.7222 - accuracy: 0.5396 - val_loss: 0.7143 - val_accuracy: 0.5536\n",
      "Epoch 18/175\n",
      "60/60 [==============================] - 1s 17ms/step - loss: 0.7192 - accuracy: 0.5521 - val_loss: 0.7196 - val_accuracy: 0.5491\n",
      "Epoch 19/175\n",
      "60/60 [==============================] - 1s 16ms/step - loss: 0.7176 - accuracy: 0.5507 - val_loss: 0.7163 - val_accuracy: 0.5476\n",
      "Epoch 20/175\n",
      "60/60 [==============================] - 1s 16ms/step - loss: 0.7167 - accuracy: 0.5558 - val_loss: 0.7227 - val_accuracy: 0.5439\n",
      "Epoch 21/175\n",
      "60/60 [==============================] - 1s 16ms/step - loss: 0.7143 - accuracy: 0.5540 - val_loss: 0.7157 - val_accuracy: 0.5565\n",
      "Epoch 22/175\n",
      "60/60 [==============================] - 1s 16ms/step - loss: 0.7100 - accuracy: 0.5646 - val_loss: 0.7436 - val_accuracy: 0.4970\n",
      "Epoch 23/175\n",
      "60/60 [==============================] - 1s 16ms/step - loss: 0.7107 - accuracy: 0.5602 - val_loss: 0.7065 - val_accuracy: 0.5588\n",
      "Epoch 24/175\n",
      "60/60 [==============================] - 1s 16ms/step - loss: 0.7064 - accuracy: 0.5677 - val_loss: 0.7074 - val_accuracy: 0.5655\n",
      "Epoch 25/175\n",
      "60/60 [==============================] - 1s 17ms/step - loss: 0.7023 - accuracy: 0.5669 - val_loss: 0.7082 - val_accuracy: 0.5543\n",
      "Epoch 26/175\n",
      "60/60 [==============================] - 1s 16ms/step - loss: 0.7019 - accuracy: 0.5653 - val_loss: 0.6945 - val_accuracy: 0.5707\n",
      "Epoch 27/175\n",
      "60/60 [==============================] - 1s 16ms/step - loss: 0.7015 - accuracy: 0.5621 - val_loss: 0.6908 - val_accuracy: 0.5811\n",
      "Epoch 28/175\n",
      "60/60 [==============================] - 1s 16ms/step - loss: 0.7006 - accuracy: 0.5704 - val_loss: 0.6948 - val_accuracy: 0.5781\n",
      "Epoch 29/175\n",
      "60/60 [==============================] - 1s 16ms/step - loss: 0.6952 - accuracy: 0.5721 - val_loss: 0.6910 - val_accuracy: 0.5774\n",
      "Epoch 30/175\n",
      "60/60 [==============================] - 1s 15ms/step - loss: 0.6937 - accuracy: 0.5775 - val_loss: 0.6922 - val_accuracy: 0.5670\n",
      "Epoch 31/175\n",
      "60/60 [==============================] - 1s 15ms/step - loss: 0.6913 - accuracy: 0.5769 - val_loss: 0.6820 - val_accuracy: 0.5826\n",
      "Epoch 32/175\n",
      "60/60 [==============================] - 1s 15ms/step - loss: 0.6918 - accuracy: 0.5702 - val_loss: 0.6813 - val_accuracy: 0.5938\n",
      "Epoch 33/175\n",
      "60/60 [==============================] - 1s 15ms/step - loss: 0.6915 - accuracy: 0.5711 - val_loss: 0.7095 - val_accuracy: 0.5290\n",
      "Epoch 34/175\n",
      "60/60 [==============================] - 1s 15ms/step - loss: 0.6933 - accuracy: 0.5736 - val_loss: 0.6827 - val_accuracy: 0.5923\n",
      "Epoch 35/175\n",
      "60/60 [==============================] - 1s 15ms/step - loss: 0.6889 - accuracy: 0.5746 - val_loss: 0.6878 - val_accuracy: 0.5722\n",
      "Epoch 36/175\n",
      "60/60 [==============================] - 1s 15ms/step - loss: 0.6853 - accuracy: 0.5786 - val_loss: 0.6868 - val_accuracy: 0.5714\n",
      "Epoch 37/175\n",
      "60/60 [==============================] - 1s 14ms/step - loss: 0.6840 - accuracy: 0.5821 - val_loss: 0.6746 - val_accuracy: 0.6012\n",
      "Epoch 38/175\n",
      "60/60 [==============================] - 1s 15ms/step - loss: 0.6832 - accuracy: 0.5807 - val_loss: 0.6804 - val_accuracy: 0.5833\n",
      "Epoch 39/175\n",
      "60/60 [==============================] - 1s 15ms/step - loss: 0.6814 - accuracy: 0.5871 - val_loss: 0.6708 - val_accuracy: 0.5900\n",
      "Epoch 40/175\n",
      "60/60 [==============================] - 1s 15ms/step - loss: 0.6789 - accuracy: 0.5853 - val_loss: 0.6700 - val_accuracy: 0.5975\n",
      "Epoch 41/175\n",
      "60/60 [==============================] - 1s 15ms/step - loss: 0.6773 - accuracy: 0.5918 - val_loss: 0.6642 - val_accuracy: 0.6220\n",
      "Epoch 42/175\n",
      "60/60 [==============================] - 1s 15ms/step - loss: 0.6789 - accuracy: 0.5930 - val_loss: 0.6778 - val_accuracy: 0.5908\n",
      "Epoch 43/175\n",
      "60/60 [==============================] - 1s 15ms/step - loss: 0.6744 - accuracy: 0.5872 - val_loss: 0.6624 - val_accuracy: 0.6146\n",
      "Epoch 44/175\n",
      "60/60 [==============================] - 1s 15ms/step - loss: 0.6728 - accuracy: 0.5992 - val_loss: 0.6624 - val_accuracy: 0.6131\n",
      "Epoch 45/175\n",
      "60/60 [==============================] - 1s 15ms/step - loss: 0.6737 - accuracy: 0.5993 - val_loss: 0.6660 - val_accuracy: 0.6049\n",
      "Epoch 46/175\n",
      "60/60 [==============================] - 1s 14ms/step - loss: 0.6693 - accuracy: 0.6013 - val_loss: 0.6629 - val_accuracy: 0.6131\n",
      "Epoch 47/175\n",
      "60/60 [==============================] - 1s 15ms/step - loss: 0.6683 - accuracy: 0.6067 - val_loss: 0.6580 - val_accuracy: 0.6183\n",
      "Epoch 48/175\n",
      "60/60 [==============================] - 1s 15ms/step - loss: 0.6667 - accuracy: 0.6083 - val_loss: 0.6592 - val_accuracy: 0.6124\n",
      "Epoch 49/175\n",
      "60/60 [==============================] - 1s 15ms/step - loss: 0.6657 - accuracy: 0.6042 - val_loss: 0.6517 - val_accuracy: 0.6220\n",
      "Epoch 50/175\n",
      "60/60 [==============================] - 1s 14ms/step - loss: 0.6669 - accuracy: 0.6076 - val_loss: 0.6532 - val_accuracy: 0.6161\n",
      "Epoch 51/175\n",
      "60/60 [==============================] - 1s 15ms/step - loss: 0.6578 - accuracy: 0.6150 - val_loss: 0.6451 - val_accuracy: 0.6280\n",
      "Epoch 52/175\n",
      "60/60 [==============================] - 1s 15ms/step - loss: 0.6562 - accuracy: 0.6171 - val_loss: 0.6568 - val_accuracy: 0.6220\n",
      "Epoch 53/175\n",
      "60/60 [==============================] - 1s 15ms/step - loss: 0.6590 - accuracy: 0.6221 - val_loss: 0.6494 - val_accuracy: 0.6295\n",
      "Epoch 54/175\n",
      "60/60 [==============================] - 1s 15ms/step - loss: 0.6546 - accuracy: 0.6317 - val_loss: 0.6412 - val_accuracy: 0.6406\n",
      "Epoch 55/175\n",
      "60/60 [==============================] - 1s 15ms/step - loss: 0.6557 - accuracy: 0.6255 - val_loss: 0.6460 - val_accuracy: 0.6280\n",
      "Epoch 56/175\n",
      "60/60 [==============================] - 1s 15ms/step - loss: 0.6512 - accuracy: 0.6304 - val_loss: 0.6450 - val_accuracy: 0.6250\n",
      "Epoch 57/175\n",
      "60/60 [==============================] - 1s 15ms/step - loss: 0.6538 - accuracy: 0.6189 - val_loss: 0.6329 - val_accuracy: 0.6577\n",
      "Epoch 58/175\n",
      "60/60 [==============================] - 1s 15ms/step - loss: 0.6464 - accuracy: 0.6366 - val_loss: 0.6411 - val_accuracy: 0.6332\n",
      "Epoch 59/175\n",
      "60/60 [==============================] - 1s 15ms/step - loss: 0.6468 - accuracy: 0.6359 - val_loss: 0.6429 - val_accuracy: 0.6369\n",
      "Epoch 60/175\n",
      "60/60 [==============================] - 1s 15ms/step - loss: 0.6431 - accuracy: 0.6356 - val_loss: 0.6338 - val_accuracy: 0.6473\n",
      "Epoch 61/175\n",
      "60/60 [==============================] - 1s 15ms/step - loss: 0.6441 - accuracy: 0.6448 - val_loss: 0.6293 - val_accuracy: 0.6548\n",
      "Epoch 62/175\n",
      "60/60 [==============================] - 1s 15ms/step - loss: 0.6408 - accuracy: 0.6492 - val_loss: 0.6255 - val_accuracy: 0.6637\n",
      "Epoch 63/175\n",
      "60/60 [==============================] - 1s 15ms/step - loss: 0.6408 - accuracy: 0.6451 - val_loss: 0.6309 - val_accuracy: 0.6570\n",
      "Epoch 64/175\n",
      "60/60 [==============================] - 1s 14ms/step - loss: 0.6380 - accuracy: 0.6463 - val_loss: 0.6304 - val_accuracy: 0.6540\n",
      "Epoch 65/175\n",
      "60/60 [==============================] - 1s 15ms/step - loss: 0.6407 - accuracy: 0.6446 - val_loss: 0.6206 - val_accuracy: 0.6793\n",
      "Epoch 66/175\n",
      "60/60 [==============================] - 1s 14ms/step - loss: 0.6345 - accuracy: 0.6512 - val_loss: 0.6173 - val_accuracy: 0.6793\n",
      "Epoch 67/175\n",
      "60/60 [==============================] - 1s 15ms/step - loss: 0.6392 - accuracy: 0.6494 - val_loss: 0.6363 - val_accuracy: 0.6533\n",
      "Epoch 68/175\n",
      "60/60 [==============================] - 1s 15ms/step - loss: 0.6360 - accuracy: 0.6515 - val_loss: 0.6144 - val_accuracy: 0.6868\n",
      "Epoch 69/175\n",
      "60/60 [==============================] - 1s 15ms/step - loss: 0.6320 - accuracy: 0.6586 - val_loss: 0.6250 - val_accuracy: 0.6607\n",
      "Epoch 70/175\n",
      "60/60 [==============================] - 1s 15ms/step - loss: 0.6346 - accuracy: 0.6508 - val_loss: 0.6219 - val_accuracy: 0.6629\n",
      "Epoch 71/175\n",
      "60/60 [==============================] - 1s 15ms/step - loss: 0.6272 - accuracy: 0.6600 - val_loss: 0.6115 - val_accuracy: 0.6853\n",
      "Epoch 72/175\n",
      "60/60 [==============================] - 1s 15ms/step - loss: 0.6265 - accuracy: 0.6592 - val_loss: 0.6169 - val_accuracy: 0.6756\n",
      "Epoch 73/175\n",
      "60/60 [==============================] - 1s 15ms/step - loss: 0.6271 - accuracy: 0.6607 - val_loss: 0.6227 - val_accuracy: 0.6711\n",
      "Epoch 74/175\n",
      "60/60 [==============================] - 1s 15ms/step - loss: 0.6298 - accuracy: 0.6596 - val_loss: 0.6259 - val_accuracy: 0.6615\n",
      "Epoch 75/175\n",
      "60/60 [==============================] - 1s 15ms/step - loss: 0.6224 - accuracy: 0.6660 - val_loss: 0.6111 - val_accuracy: 0.6868\n",
      "Epoch 76/175\n",
      "60/60 [==============================] - 1s 14ms/step - loss: 0.6256 - accuracy: 0.6698 - val_loss: 0.6125 - val_accuracy: 0.6793\n",
      "Epoch 77/175\n",
      "60/60 [==============================] - 1s 15ms/step - loss: 0.6224 - accuracy: 0.6642 - val_loss: 0.6056 - val_accuracy: 0.6935\n",
      "Epoch 78/175\n",
      "60/60 [==============================] - 1s 15ms/step - loss: 0.6189 - accuracy: 0.6715 - val_loss: 0.6021 - val_accuracy: 0.6972\n",
      "Epoch 79/175\n",
      "60/60 [==============================] - 1s 15ms/step - loss: 0.6191 - accuracy: 0.6743 - val_loss: 0.6065 - val_accuracy: 0.6853\n",
      "Epoch 80/175\n",
      "60/60 [==============================] - 1s 15ms/step - loss: 0.6180 - accuracy: 0.6755 - val_loss: 0.6115 - val_accuracy: 0.6830\n",
      "Epoch 81/175\n",
      "60/60 [==============================] - 1s 14ms/step - loss: 0.6156 - accuracy: 0.6753 - val_loss: 0.6030 - val_accuracy: 0.6957\n",
      "Epoch 82/175\n",
      "60/60 [==============================] - 1s 15ms/step - loss: 0.6190 - accuracy: 0.6771 - val_loss: 0.6040 - val_accuracy: 0.6935\n",
      "Epoch 83/175\n",
      "60/60 [==============================] - 1s 15ms/step - loss: 0.6153 - accuracy: 0.6684 - val_loss: 0.6082 - val_accuracy: 0.6860\n",
      "Epoch 84/175\n",
      "60/60 [==============================] - 1s 14ms/step - loss: 0.6138 - accuracy: 0.6822 - val_loss: 0.6349 - val_accuracy: 0.6682\n",
      "Epoch 85/175\n",
      "60/60 [==============================] - 1s 15ms/step - loss: 0.6151 - accuracy: 0.6813 - val_loss: 0.5999 - val_accuracy: 0.6912\n",
      "Epoch 86/175\n",
      "60/60 [==============================] - 1s 15ms/step - loss: 0.6142 - accuracy: 0.6780 - val_loss: 0.6382 - val_accuracy: 0.6585\n",
      "Epoch 87/175\n",
      "60/60 [==============================] - 1s 14ms/step - loss: 0.6112 - accuracy: 0.6751 - val_loss: 0.5958 - val_accuracy: 0.7016\n",
      "Epoch 88/175\n",
      "60/60 [==============================] - 1s 15ms/step - loss: 0.6101 - accuracy: 0.6784 - val_loss: 0.5980 - val_accuracy: 0.6964\n",
      "Epoch 89/175\n",
      "60/60 [==============================] - 1s 15ms/step - loss: 0.6078 - accuracy: 0.6874 - val_loss: 0.6198 - val_accuracy: 0.6808\n",
      "Epoch 90/175\n",
      "60/60 [==============================] - 1s 14ms/step - loss: 0.6095 - accuracy: 0.6827 - val_loss: 0.5951 - val_accuracy: 0.7001\n",
      "Epoch 91/175\n",
      "60/60 [==============================] - 1s 15ms/step - loss: 0.6083 - accuracy: 0.6877 - val_loss: 0.5970 - val_accuracy: 0.6994\n",
      "Epoch 92/175\n",
      "60/60 [==============================] - 1s 14ms/step - loss: 0.6065 - accuracy: 0.6824 - val_loss: 0.5943 - val_accuracy: 0.6949\n",
      "Epoch 93/175\n",
      "60/60 [==============================] - 1s 15ms/step - loss: 0.6048 - accuracy: 0.6865 - val_loss: 0.5933 - val_accuracy: 0.7031\n",
      "Epoch 94/175\n",
      "60/60 [==============================] - 1s 15ms/step - loss: 0.6069 - accuracy: 0.6878 - val_loss: 0.6540 - val_accuracy: 0.6592\n",
      "Epoch 95/175\n",
      "60/60 [==============================] - 1s 15ms/step - loss: 0.6090 - accuracy: 0.6827 - val_loss: 0.5988 - val_accuracy: 0.6949\n",
      "Epoch 96/175\n",
      "60/60 [==============================] - 1s 15ms/step - loss: 0.6038 - accuracy: 0.6839 - val_loss: 0.5997 - val_accuracy: 0.6949\n",
      "Epoch 97/175\n",
      "60/60 [==============================] - 1s 15ms/step - loss: 0.6019 - accuracy: 0.6859 - val_loss: 0.5921 - val_accuracy: 0.6987\n",
      "Epoch 98/175\n",
      "60/60 [==============================] - 1s 15ms/step - loss: 0.6020 - accuracy: 0.6892 - val_loss: 0.6141 - val_accuracy: 0.6905\n",
      "Epoch 99/175\n",
      "60/60 [==============================] - 1s 15ms/step - loss: 0.6020 - accuracy: 0.6865 - val_loss: 0.6001 - val_accuracy: 0.6949\n",
      "Epoch 100/175\n",
      "60/60 [==============================] - 1s 15ms/step - loss: 0.6017 - accuracy: 0.6872 - val_loss: 0.5991 - val_accuracy: 0.7001\n",
      "Epoch 101/175\n",
      "60/60 [==============================] - 1s 15ms/step - loss: 0.5995 - accuracy: 0.6924 - val_loss: 0.5896 - val_accuracy: 0.7016\n",
      "Epoch 102/175\n",
      "60/60 [==============================] - 1s 15ms/step - loss: 0.6004 - accuracy: 0.6901 - val_loss: 0.6058 - val_accuracy: 0.6994\n",
      "Epoch 103/175\n",
      "60/60 [==============================] - 1s 15ms/step - loss: 0.5993 - accuracy: 0.6913 - val_loss: 0.5965 - val_accuracy: 0.6994\n",
      "Epoch 104/175\n",
      "60/60 [==============================] - 1s 15ms/step - loss: 0.5965 - accuracy: 0.6927 - val_loss: 0.5940 - val_accuracy: 0.7001\n",
      "Epoch 105/175\n",
      "60/60 [==============================] - 1s 15ms/step - loss: 0.5982 - accuracy: 0.6943 - val_loss: 0.5939 - val_accuracy: 0.7039\n",
      "Epoch 106/175\n",
      "60/60 [==============================] - 1s 15ms/step - loss: 0.5971 - accuracy: 0.6939 - val_loss: 0.5982 - val_accuracy: 0.7024\n",
      "Epoch 107/175\n",
      "60/60 [==============================] - 1s 15ms/step - loss: 0.5971 - accuracy: 0.6952 - val_loss: 0.5936 - val_accuracy: 0.6987\n",
      "Epoch 108/175\n",
      "60/60 [==============================] - 1s 14ms/step - loss: 0.5913 - accuracy: 0.6991 - val_loss: 0.5845 - val_accuracy: 0.7039\n",
      "Epoch 109/175\n",
      "60/60 [==============================] - 1s 15ms/step - loss: 0.5938 - accuracy: 0.6957 - val_loss: 0.5856 - val_accuracy: 0.7024\n",
      "Epoch 110/175\n",
      "60/60 [==============================] - 1s 15ms/step - loss: 0.5928 - accuracy: 0.6997 - val_loss: 0.5846 - val_accuracy: 0.7039\n",
      "Epoch 111/175\n",
      "60/60 [==============================] - 1s 15ms/step - loss: 0.5919 - accuracy: 0.6974 - val_loss: 0.6049 - val_accuracy: 0.7009\n",
      "Epoch 112/175\n",
      "60/60 [==============================] - 1s 15ms/step - loss: 0.5929 - accuracy: 0.7007 - val_loss: 0.5836 - val_accuracy: 0.7061\n",
      "Epoch 113/175\n",
      "60/60 [==============================] - 1s 15ms/step - loss: 0.5957 - accuracy: 0.6953 - val_loss: 0.6179 - val_accuracy: 0.6964\n",
      "Epoch 114/175\n",
      "60/60 [==============================] - 1s 15ms/step - loss: 0.5894 - accuracy: 0.7037 - val_loss: 0.5877 - val_accuracy: 0.7039\n",
      "Epoch 115/175\n",
      "60/60 [==============================] - 1s 15ms/step - loss: 0.5890 - accuracy: 0.7018 - val_loss: 0.5839 - val_accuracy: 0.6994\n",
      "Epoch 116/175\n",
      "60/60 [==============================] - 1s 15ms/step - loss: 0.5876 - accuracy: 0.7039 - val_loss: 0.5842 - val_accuracy: 0.7009\n",
      "Epoch 117/175\n",
      "60/60 [==============================] - 1s 15ms/step - loss: 0.5942 - accuracy: 0.6960 - val_loss: 0.6366 - val_accuracy: 0.6682\n",
      "Epoch 118/175\n",
      "60/60 [==============================] - 1s 15ms/step - loss: 0.5887 - accuracy: 0.7035 - val_loss: 0.5905 - val_accuracy: 0.7039\n",
      "Epoch 119/175\n",
      "60/60 [==============================] - 1s 15ms/step - loss: 0.5873 - accuracy: 0.7006 - val_loss: 0.5846 - val_accuracy: 0.7068\n",
      "Epoch 120/175\n",
      "60/60 [==============================] - 1s 15ms/step - loss: 0.5888 - accuracy: 0.6981 - val_loss: 0.5935 - val_accuracy: 0.7083\n",
      "Epoch 121/175\n",
      "60/60 [==============================] - 1s 15ms/step - loss: 0.5822 - accuracy: 0.7086 - val_loss: 0.5846 - val_accuracy: 0.7046\n",
      "Epoch 122/175\n",
      "60/60 [==============================] - 1s 15ms/step - loss: 0.5852 - accuracy: 0.7055 - val_loss: 0.5885 - val_accuracy: 0.7076\n",
      "Epoch 123/175\n",
      "60/60 [==============================] - 1s 15ms/step - loss: 0.5901 - accuracy: 0.7012 - val_loss: 0.5848 - val_accuracy: 0.7076\n",
      "Epoch 124/175\n",
      "60/60 [==============================] - 1s 15ms/step - loss: 0.5817 - accuracy: 0.7087 - val_loss: 0.5875 - val_accuracy: 0.7076\n",
      "Epoch 125/175\n",
      "60/60 [==============================] - 1s 15ms/step - loss: 0.5836 - accuracy: 0.7064 - val_loss: 0.5852 - val_accuracy: 0.7121\n",
      "Epoch 126/175\n",
      "60/60 [==============================] - 1s 15ms/step - loss: 0.5839 - accuracy: 0.7045 - val_loss: 0.6065 - val_accuracy: 0.7076\n",
      "Epoch 127/175\n",
      "60/60 [==============================] - 1s 15ms/step - loss: 0.5794 - accuracy: 0.7085 - val_loss: 0.5928 - val_accuracy: 0.7113\n",
      "Epoch 128/175\n",
      "60/60 [==============================] - 1s 14ms/step - loss: 0.5806 - accuracy: 0.7085 - val_loss: 0.5784 - val_accuracy: 0.7046\n",
      "Epoch 129/175\n",
      "60/60 [==============================] - 1s 15ms/step - loss: 0.5825 - accuracy: 0.7101 - val_loss: 0.5821 - val_accuracy: 0.7121\n",
      "Epoch 130/175\n",
      "60/60 [==============================] - 1s 15ms/step - loss: 0.5799 - accuracy: 0.7132 - val_loss: 0.5773 - val_accuracy: 0.7113\n",
      "Epoch 131/175\n",
      "60/60 [==============================] - 1s 15ms/step - loss: 0.5800 - accuracy: 0.7118 - val_loss: 0.5920 - val_accuracy: 0.7076\n",
      "Epoch 132/175\n",
      "60/60 [==============================] - 1s 15ms/step - loss: 0.5813 - accuracy: 0.7059 - val_loss: 0.5786 - val_accuracy: 0.7083\n",
      "Epoch 133/175\n",
      "60/60 [==============================] - 1s 15ms/step - loss: 0.5814 - accuracy: 0.7074 - val_loss: 0.5777 - val_accuracy: 0.7098\n",
      "Epoch 134/175\n",
      "60/60 [==============================] - 1s 15ms/step - loss: 0.5809 - accuracy: 0.7085 - val_loss: 0.5836 - val_accuracy: 0.7128\n",
      "Epoch 135/175\n",
      "60/60 [==============================] - 1s 15ms/step - loss: 0.5788 - accuracy: 0.7131 - val_loss: 0.5782 - val_accuracy: 0.7158\n",
      "Epoch 136/175\n",
      "60/60 [==============================] - 1s 15ms/step - loss: 0.5808 - accuracy: 0.7106 - val_loss: 0.5775 - val_accuracy: 0.7091\n",
      "Epoch 137/175\n",
      "60/60 [==============================] - 1s 15ms/step - loss: 0.5849 - accuracy: 0.7068 - val_loss: 0.5775 - val_accuracy: 0.7098\n",
      "Epoch 138/175\n",
      "60/60 [==============================] - 1s 15ms/step - loss: 0.5789 - accuracy: 0.7126 - val_loss: 0.5788 - val_accuracy: 0.7083\n",
      "Epoch 139/175\n",
      "60/60 [==============================] - 1s 15ms/step - loss: 0.5711 - accuracy: 0.7136 - val_loss: 0.5771 - val_accuracy: 0.7091\n",
      "Epoch 140/175\n",
      "60/60 [==============================] - 1s 16ms/step - loss: 0.5753 - accuracy: 0.7107 - val_loss: 0.5815 - val_accuracy: 0.7158\n",
      "Epoch 141/175\n",
      "60/60 [==============================] - 1s 16ms/step - loss: 0.5721 - accuracy: 0.7156 - val_loss: 0.5773 - val_accuracy: 0.7121\n",
      "Epoch 142/175\n",
      "60/60 [==============================] - 1s 16ms/step - loss: 0.5721 - accuracy: 0.7135 - val_loss: 0.5769 - val_accuracy: 0.7180\n",
      "Epoch 143/175\n",
      "60/60 [==============================] - 1s 15ms/step - loss: 0.5735 - accuracy: 0.7173 - val_loss: 0.5790 - val_accuracy: 0.7143\n",
      "Epoch 144/175\n",
      "60/60 [==============================] - 1s 17ms/step - loss: 0.5706 - accuracy: 0.7232 - val_loss: 0.5826 - val_accuracy: 0.7061\n",
      "Epoch 145/175\n",
      "60/60 [==============================] - 1s 15ms/step - loss: 0.5727 - accuracy: 0.7194 - val_loss: 0.5801 - val_accuracy: 0.7121\n",
      "Epoch 146/175\n",
      "60/60 [==============================] - 1s 17ms/step - loss: 0.5747 - accuracy: 0.7122 - val_loss: 0.5781 - val_accuracy: 0.7106\n",
      "Epoch 147/175\n",
      "60/60 [==============================] - 1s 16ms/step - loss: 0.5722 - accuracy: 0.7169 - val_loss: 0.5896 - val_accuracy: 0.7039\n",
      "Epoch 148/175\n",
      "60/60 [==============================] - 1s 15ms/step - loss: 0.5736 - accuracy: 0.7149 - val_loss: 0.5771 - val_accuracy: 0.7158\n",
      "Epoch 149/175\n",
      "60/60 [==============================] - 1s 15ms/step - loss: 0.5751 - accuracy: 0.7156 - val_loss: 0.5745 - val_accuracy: 0.7188\n",
      "Epoch 150/175\n",
      "60/60 [==============================] - 1s 15ms/step - loss: 0.5726 - accuracy: 0.7122 - val_loss: 0.5738 - val_accuracy: 0.7188\n",
      "Epoch 151/175\n",
      "60/60 [==============================] - 1s 14ms/step - loss: 0.5729 - accuracy: 0.7174 - val_loss: 0.5859 - val_accuracy: 0.7083\n",
      "Epoch 152/175\n",
      "60/60 [==============================] - 1s 15ms/step - loss: 0.5718 - accuracy: 0.7198 - val_loss: 0.5869 - val_accuracy: 0.7046\n",
      "Epoch 153/175\n",
      "60/60 [==============================] - 1s 15ms/step - loss: 0.5687 - accuracy: 0.7194 - val_loss: 0.5804 - val_accuracy: 0.7091\n",
      "Epoch 154/175\n",
      "60/60 [==============================] - 1s 15ms/step - loss: 0.5687 - accuracy: 0.7224 - val_loss: 0.5933 - val_accuracy: 0.7098\n",
      "Epoch 155/175\n",
      "60/60 [==============================] - 1s 15ms/step - loss: 0.5705 - accuracy: 0.7202 - val_loss: 0.5840 - val_accuracy: 0.7076\n",
      "Epoch 156/175\n",
      "60/60 [==============================] - 1s 15ms/step - loss: 0.5696 - accuracy: 0.7172 - val_loss: 0.5869 - val_accuracy: 0.7143\n",
      "Epoch 157/175\n",
      "60/60 [==============================] - 1s 15ms/step - loss: 0.5682 - accuracy: 0.7198 - val_loss: 0.5834 - val_accuracy: 0.7128\n",
      "Epoch 158/175\n",
      "60/60 [==============================] - 1s 15ms/step - loss: 0.5727 - accuracy: 0.7152 - val_loss: 0.5778 - val_accuracy: 0.7165\n",
      "Epoch 159/175\n",
      "60/60 [==============================] - 1s 15ms/step - loss: 0.5692 - accuracy: 0.7195 - val_loss: 0.5749 - val_accuracy: 0.7210\n",
      "Epoch 160/175\n",
      "60/60 [==============================] - 1s 15ms/step - loss: 0.5675 - accuracy: 0.7206 - val_loss: 0.6297 - val_accuracy: 0.6756\n",
      "Epoch 161/175\n",
      "60/60 [==============================] - 1s 14ms/step - loss: 0.5686 - accuracy: 0.7236 - val_loss: 0.5772 - val_accuracy: 0.7128\n",
      "Epoch 162/175\n",
      "60/60 [==============================] - 1s 14ms/step - loss: 0.5679 - accuracy: 0.7243 - val_loss: 0.5752 - val_accuracy: 0.7202\n",
      "Epoch 163/175\n",
      "60/60 [==============================] - 1s 15ms/step - loss: 0.5670 - accuracy: 0.7233 - val_loss: 0.5764 - val_accuracy: 0.7180\n",
      "Epoch 164/175\n",
      "60/60 [==============================] - 1s 14ms/step - loss: 0.5654 - accuracy: 0.7249 - val_loss: 0.5785 - val_accuracy: 0.7135\n",
      "Epoch 165/175\n",
      "60/60 [==============================] - 1s 15ms/step - loss: 0.5627 - accuracy: 0.7258 - val_loss: 0.5965 - val_accuracy: 0.7061\n",
      "Epoch 166/175\n",
      "60/60 [==============================] - 1s 15ms/step - loss: 0.5690 - accuracy: 0.7241 - val_loss: 0.5951 - val_accuracy: 0.7046\n",
      "Epoch 167/175\n",
      "60/60 [==============================] - 1s 15ms/step - loss: 0.5627 - accuracy: 0.7215 - val_loss: 0.5766 - val_accuracy: 0.7165\n",
      "Epoch 168/175\n",
      "60/60 [==============================] - 1s 15ms/step - loss: 0.5674 - accuracy: 0.7228 - val_loss: 0.6057 - val_accuracy: 0.6920\n",
      "Epoch 169/175\n",
      "60/60 [==============================] - 1s 15ms/step - loss: 0.5622 - accuracy: 0.7253 - val_loss: 0.5823 - val_accuracy: 0.7143\n",
      "Epoch 170/175\n",
      "60/60 [==============================] - 1s 15ms/step - loss: 0.5643 - accuracy: 0.7237 - val_loss: 0.5731 - val_accuracy: 0.7165\n",
      "Epoch 171/175\n",
      "60/60 [==============================] - 1s 15ms/step - loss: 0.5645 - accuracy: 0.7262 - val_loss: 0.5739 - val_accuracy: 0.7158\n",
      "Epoch 172/175\n",
      "60/60 [==============================] - 1s 15ms/step - loss: 0.5599 - accuracy: 0.7311 - val_loss: 0.5799 - val_accuracy: 0.7113\n",
      "Epoch 173/175\n",
      "60/60 [==============================] - 1s 15ms/step - loss: 0.5637 - accuracy: 0.7250 - val_loss: 0.5749 - val_accuracy: 0.7180\n",
      "Epoch 174/175\n",
      "60/60 [==============================] - 1s 15ms/step - loss: 0.5625 - accuracy: 0.7244 - val_loss: 0.5845 - val_accuracy: 0.7143\n",
      "Epoch 175/175\n",
      "60/60 [==============================] - 1s 15ms/step - loss: 0.5611 - accuracy: 0.7206 - val_loss: 0.5741 - val_accuracy: 0.7247\n"
     ]
    }
   ],
   "source": [
    "epochs=175\n",
    "history = model.fit(\n",
    "  train,\n",
    "  validation_data=test,\n",
    "  epochs=epochs,\n",
    "  class_weight=class_weight\n",
    ")"
   ]
  },
  {
   "cell_type": "code",
   "execution_count": 11,
   "metadata": {},
   "outputs": [
    {
     "data": {
      "image/png": "[encoded data removed]",
      "text/plain": [
       "<Figure size 576x576 with 2 Axes>"
      ]
     },
     "metadata": {
      "needs_background": "light"
     },
     "output_type": "display_data"
    }
   ],
   "source": [
    "acc = history.history['accuracy']\n",
    "val_acc = history.history['val_accuracy']\n",
    "\n",
    "loss = history.history['loss']\n",
    "val_loss = history.history['val_loss']\n",
    "\n",
    "epochs_range = range(epochs)\n",
    "\n",
    "plt.figure(figsize=(8, 8))\n",
    "plt.subplot(1, 2, 1)\n",
    "plt.plot(epochs_range, acc, label='Training Accuracy')\n",
    "plt.plot(epochs_range, val_acc, label='Validation Accuracy')\n",
    "plt.legend(loc='lower right')\n",
    "plt.title('Training and Validation Accuracy')\n",
    "\n",
    "plt.subplot(1, 2, 2)\n",
    "plt.plot(epochs_range, loss, label='Training Loss')\n",
    "plt.plot(epochs_range, val_loss, label='Validation Loss')\n",
    "plt.legend(loc='upper right')\n",
    "plt.title('Training and Validation Loss')\n",
    "plt.show()"
   ]
  },
  {
   "cell_type": "code",
   "execution_count": 12,
   "metadata": {},
   "outputs": [
    {
     "name": "stdout",
     "output_type": "stream",
     "text": [
      "11/11 [==============================] - 0s 12ms/step - loss: 0.5741 - accuracy: 0.7247\n",
      "Test accuracy : 0.7247023582458496\n"
     ]
    }
   ],
   "source": [
    "loss, accuracy = model.evaluate(test)\n",
    "print('Test accuracy :', accuracy)"
   ]
  },
  {
   "cell_type": "code",
   "execution_count": 13,
   "metadata": {},
   "outputs": [
    {
     "name": "stdout",
     "output_type": "stream",
     "text": [
      "Precision:  0.6258322\n",
      "Recall:  0.5601907\n"
     ]
    }
   ],
   "source": [
    "y_pred = model.predict(test).argmax(axis=-1)\n",
    "y_true = test.classes\n",
    "\n",
    "m = tf.keras.metrics.Precision()\n",
    "m.update_state(y_pred, y_true)\n",
    "print(\"Precision: \" , m.result().numpy())\n",
    "\n",
    "m = tf.keras.metrics.Recall()\n",
    "m.update_state(y_pred, y_true)\n",
    "print(\"Recall: \" , m.result().numpy())"
   ]
  },
  {
   "cell_type": "code",
   "execution_count": 14,
   "metadata": {},
   "outputs": [
    {
     "data": {
      "text/plain": [
       "<tf.Tensor: shape=(2, 2), dtype=int32, numpy=\n",
       "array([[224, 281],\n",
       "       [369, 470]], dtype=int32)>"
      ]
     },
     "execution_count": 14,
     "metadata": {},
     "output_type": "execute_result"
    }
   ],
   "source": [
    "tf.math.confusion_matrix(y_pred, y_true)"
   ]
  },
  {
   "cell_type": "code",
   "execution_count": 15,
   "metadata": {},
   "outputs": [],
   "source": [
    "# Save the weights model.\n",
    "model.save('./data/humanModel/model_v2.h5')"
   ]
  },
  {
   "cell_type": "code",
   "execution_count": 16,
   "metadata": {},
   "outputs": [],
   "source": [
    "# save model in js format\n",
    "# import tensorflowjs as tfjs\n",
    "# tfjs.converters.save_keras_model(model, 'data/humanModel/js_model_v0')"
   ]
  },
  {
   "cell_type": "code",
   "execution_count": 17,
   "metadata": {},
   "outputs": [],
   "source": [
    "# new_model = tf.keras.models.load_model('./data/humanModel/mode_v0')\n",
    "\n",
    "# # Check its architecture\n",
    "# new_model.summary()"
   ]
  },
  {
   "cell_type": "markdown",
   "metadata": {},
   "source": [
    "### Predict on new data"
   ]
  },
  {
   "cell_type": "code",
   "execution_count": 52,
   "metadata": {},
   "outputs": [
    {
     "data": {
      "image/png": "[encoded data removed]",
      "text/plain": [
       "<Figure size 432x288 with 1 Axes>"
      ]
     },
     "metadata": {
      "needs_background": "light"
     },
     "output_type": "display_data"
    },
    {
     "name": "stdout",
     "output_type": "stream",
     "text": [
      "This image most likely belongs to closest_bush with a 53.05 percent confidence.\n",
      "True class is follow_stag.\n"
     ]
    }
   ],
   "source": [
    "import glob\n",
    "\n",
    "classes = ['closest_bush', 'follow_stag']\n",
    "random_class = random.choice(classes)\n",
    "\n",
    "path = \"./data/humanModel/dataset_split/val/\"+random_class\n",
    "all_images_path = glob.glob(path + \"/*.png\")\n",
    "random_path = random.choice(all_images_path)\n",
    "\n",
    "import matplotlib.pyplot as plt\n",
    "import matplotlib.image as mpimg\n",
    "img = mpimg.imread(random_path)\n",
    "imgplot = plt.imshow(img)\n",
    "plt.show()\n",
    "\n",
    "img = keras.preprocessing.image.load_img(\n",
    "    random_path, target_size=(IMG_SIZE, IMG_SIZE)\n",
    ")\n",
    "img_array = keras.preprocessing.image.img_to_array(img)\n",
    "img_array = tf.expand_dims(img_array, 0) # Create a batch\n",
    "img_array = img_array/255\n",
    "\n",
    "predictions = model.predict(img_array)[0]\n",
    "\n",
    "\n",
    "print(\n",
    "    \"This image most likely belongs to {} with a {:.2f} percent confidence.\"\n",
    "    .format(classes[np.argmax(predictions)], 100 * np.max(predictions))\n",
    ")\n",
    "print(\"True class is {}.\".format(random_class))"
   ]
  }
 ],
 "metadata": {
  "kernelspec": {
   "display_name": "Python 3.7.4 ('tf-gpu')",
   "language": "python",
   "name": "python3"
  },
  "language_info": {
   "codemirror_mode": {
    "name": "ipython",
    "version": 3
   },
   "file_extension": ".py",
   "mimetype": "text/x-python",
   "name": "python",
   "nbconvert_exporter": "python",
   "pygments_lexer": "ipython3",
   "version": "3.7.4"
  },
  "vscode": {
   "interpreter": {
    "hash": "ad60775ae12af945b53c5c94c294ef05f229143b8585a0d23625a81e181fdccc"
   }
  }
 },
 "nbformat": 4,
 "nbformat_minor": 4
}
